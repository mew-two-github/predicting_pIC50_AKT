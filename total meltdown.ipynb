{
 "cells": [
  {
   "cell_type": "code",
   "execution_count": 37,
   "metadata": {},
   "outputs": [],
   "source": [
    "import pandas as pd\n",
    "import numpy as np\n",
    "import matplotlib.pyplot as plt\n",
    "from rdkit import Chem\n",
    "from sklearn.model_selection import train_test_split,GridSearchCV, KFold\n",
    "from sklearn.linear_model import LinearRegression, Ridge, Lasso, LassoLarsCV, ElasticNetCV\n",
    "from sklearn.metrics import mean_squared_error\n",
    "from sklearn.preprocessing import StandardScaler\n",
    "from sklearn.ensemble import RandomForestRegressor, ExtraTreesRegressor\n",
    "from sklearn.feature_selection import SelectKBest, mutual_info_regression, RFECV, SelectFromModel\n",
    "import pickle as pkl\n",
    "import seaborn as sns\n",
    "import xgboost as xgb\n",
    "from scipy.stats import uniform, randint\n",
    "import subprocess"
   ]
  },
  {
   "cell_type": "code",
   "execution_count": 16,
   "metadata": {},
   "outputs": [],
   "source": [
    "def split_data(X_new):\n",
    "    X_final, validate = np.split(X_new.sample(frac=1), [int(.8*len(X_new))])\n",
    "    X_train, X_test, y_train, y_test = train_test_split(X_final.drop(columns=['pChemBL'],inplace=False), X_final['pChemBL'], test_size=0.2, random_state=42)\n",
    "    X_validate = validate.drop(columns='pChemBL',inplace=False).copy()\n",
    "    y_validate = validate['pChemBL']\n",
    "    return X_train, X_test, X_validate, y_train, y_test, y_validate\n",
    "def train_RFR(X_train, X_test, X_validate, y_train, y_test, y_validate,estimators=150):\n",
    "    model2 = RandomForestRegressor(n_estimators=estimators)\n",
    "    model2.fit(X_train,y_train)\n",
    "    r_square = model2.score(X_train,y_train)\n",
    "    rmse = np.sqrt(mean_squared_error(model2.predict(X_train),y_train))\n",
    "    print('Number of estimators = {}'.format(estimators))\n",
    "    print(\"Training set results:\\nRMSE = {}\\t R^2 = {}\".format(rmse,r_square))\n",
    "    q_square = model2.score(X_test,y_test)\n",
    "    rmse = np.sqrt(mean_squared_error(model2.predict(X_test),y_test))\n",
    "    print(\"Test set results\\nRMSE = {}\\t Q^2 = {}\".format(rmse,q_square))\n",
    "    q_square = model2.score(X_validate,y_validate)\n",
    "    rmse = np.sqrt(mean_squared_error(y_validate,model2.predict(X_validate)))\n",
    "    print(\"Validation set results\\nRMSE = {}\\t Q^2 = {}\".format(rmse,q_square))    \n",
    "    return model2\n",
    "def split_train(X,estimators=150):\n",
    "    X_train, X_test, X_validate, y_train, y_test, y_validate = split_data(X)\n",
    "    model = train_RFR(X_train, X_test, X_validate, y_train, y_test, y_validate,estimators)\n",
    "    return model\n",
    "def get_cols(n):\n",
    "    cols = []\n",
    "    for i in range(n):\n",
    "        cols.append('component'+str(i+1))\n",
    "    return cols\n",
    "def scores(y_test,predictions):\n",
    "    mse=mean_squared_error(predictions,y_test)\n",
    "    y_mean = np.full(shape=y_test.shape,fill_value=y_test.mean())\n",
    "    mse_ = mean_squared_error(y_mean,y_test)\n",
    "    print(\"RMSE = \",np.sqrt(mse))\n",
    "    print(\"Q^2 = \",1-(mse/mse_))"
   ]
  },
  {
   "cell_type": "code",
   "execution_count": 7,
   "metadata": {},
   "outputs": [
    {
     "name": "stdout",
     "output_type": "stream",
     "text": [
      "naAromAtom   1\n",
      "nAromBond   1\n",
      "BCUTc-1l   12\n",
      "BCUTc-1h   12\n",
      "BCUTp-1h   12\n",
      "SpMin1_Bhm   6\n",
      "SpMin2_Bhm   6\n",
      "SpMin3_Bhm   6\n",
      "SpMin4_Bhm   6\n",
      "SpMax1_Bhv   6\n",
      "SpMax2_Bhv   6\n",
      "SpMin1_Bhv   6\n",
      "SpMax1_Bhe   6\n",
      "SpMax3_Bhe   6\n",
      "SpMin1_Bhe   6\n",
      "SpMin2_Bhe   6\n",
      "SpMin4_Bhe   6\n",
      "SpMin6_Bhe   6\n",
      "SpMax1_Bhp   6\n",
      "SpMax2_Bhp   6\n",
      "SpMax3_Bhp   6\n",
      "SpMin1_Bhp   6\n",
      "SpMax1_Bhi   6\n",
      "SpMin1_Bhi   6\n",
      "SpMin2_Bhi   6\n",
      "SCH-6   2737\n",
      "VCH-5   2737\n",
      "SpMAD_Dt   332\n",
      "SHaaCH   10\n",
      "SaaN   10\n",
      "minHBa   10\n",
      "maxaaN   10\n",
      "hmin   10\n",
      "MDEC-33   2\n",
      "MDEN-22   2\n",
      "MDEN-23   2\n",
      "MLFER_A   1573\n",
      "MLFER_BH   1573\n",
      "piPC5   1\n",
      "piPC7   1\n",
      "piPC8   1\n",
      "piPC9   1\n",
      "piPC10   1\n",
      "TpiPC   1\n",
      "R_TpiPCTPC   1\n",
      "nTRing   4\n",
      "WTPT-4   796\n",
      "WTPT-5   796\n"
     ]
    }
   ],
   "source": [
    "xg2 = pd.read_csv('xgd2.csv')\n",
    "with open('./saved_models/xgreqd_cols.pkl','rb') as f:\n",
    "    cols = pkl.load(f)\n",
    "for col in cols:\n",
    "    count = xg2[col].isna().sum()\n",
    "    if count:\n",
    "        print(col,\" \",count)"
   ]
  },
  {
   "cell_type": "code",
   "execution_count": 8,
   "metadata": {},
   "outputs": [],
   "source": [
    "bad_cols = ['WTPT-4',\"WTPT-5\",\"SpMAD_Dt\",\"MLFER_A\",\"MLFER_BH\",\"SCH-6\",\"VCH-5\"]"
   ]
  },
  {
   "cell_type": "code",
   "execution_count": 9,
   "metadata": {},
   "outputs": [],
   "source": [
    "rfsk = pd.read_csv('./data/rfecvskb.csv')\n",
    "rfsk.drop(columns=bad_cols,inplace=True)"
   ]
  },
  {
   "cell_type": "code",
   "execution_count": 12,
   "metadata": {},
   "outputs": [],
   "source": [
    "reg = xgb.XGBRegressor()\n",
    "reg.load_model('./saved_models/xg_final.model')"
   ]
  },
  {
   "cell_type": "code",
   "execution_count": 13,
   "metadata": {},
   "outputs": [],
   "source": [
    "X_train, X_test, X_validate, y_train, y_test, y_validate = split_data(rfsk)"
   ]
  },
  {
   "cell_type": "code",
   "execution_count": 17,
   "metadata": {},
   "outputs": [
    {
     "name": "stdout",
     "output_type": "stream",
     "text": [
      "RMSE =  0.7264129551692743\n",
      "Q^2 =  0.5841899518051463\n"
     ]
    }
   ],
   "source": [
    "reg.fit(X_train,y_train)\n",
    "predictions = reg.predict(X_test)\n",
    "scores(y_test,predictions)"
   ]
  },
  {
   "cell_type": "code",
   "execution_count": 18,
   "metadata": {},
   "outputs": [
    {
     "name": "stdout",
     "output_type": "stream",
     "text": [
      "RMSE =  0.7120686989419284\n",
      "Q^2 =  0.6195444768615059\n"
     ]
    }
   ],
   "source": [
    "predictions = reg.predict(X_validate)\n",
    "scores(y_validate,predictions)"
   ]
  },
  {
   "cell_type": "markdown",
   "metadata": {},
   "source": [
    "<h1>38 descriptors"
   ]
  },
  {
   "cell_type": "code",
   "execution_count": 29,
   "metadata": {},
   "outputs": [],
   "source": [
    "second_chance = rfsk.drop(columns=[\"SHaaCH\",\"SaaN\",\"minHBa\",\"maxaaN\",\"hmin\"],inplace=False).copy()"
   ]
  },
  {
   "cell_type": "code",
   "execution_count": 30,
   "metadata": {},
   "outputs": [
    {
     "name": "stdout",
     "output_type": "stream",
     "text": [
      "Fitting 5 folds for each of 12 candidates, totalling 60 fits\n"
     ]
    },
    {
     "name": "stderr",
     "output_type": "stream",
     "text": [
      "[Parallel(n_jobs=-1)]: Using backend LokyBackend with 8 concurrent workers.\n",
      "[Parallel(n_jobs=-1)]: Done  34 tasks      | elapsed:  1.9min\n",
      "[Parallel(n_jobs=-1)]: Done  60 out of  60 | elapsed:  3.6min finished\n"
     ]
    },
    {
     "data": {
      "text/plain": [
       "GridSearchCV(cv=5,\n",
       "             estimator=XGBRegressor(alpha=0.4, colsample_bytree=0.6,\n",
       "                                    learning_rate=0.01, max_depth=7,\n",
       "                                    min_child_weight=7, n_estimators=1000,\n",
       "                                    seed=27, subsample=0.8),\n",
       "             n_jobs=-1,\n",
       "             param_grid={'max_depth': range(5, 11, 2),\n",
       "                         'min_child_weight': [5, 7, 9, 11]},\n",
       "             scoring='neg_mean_squared_error', verbose=1)"
      ]
     },
     "execution_count": 30,
     "metadata": {},
     "output_type": "execute_result"
    }
   ],
   "source": [
    "X_train, X_test, y_train, y_test = train_test_split(second_chance.drop(columns='pChemBL'),second_chance['pChemBL'],test_size=0.1,random_state=42)\n",
    "reg = xgb.XGBRegressor(alpha=0.4, colsample_bytree=0.6, max_depth=7, min_child_weight=7,\n",
    "             n_estimators=1000, seed=27, subsample=0.8,learning_rate=0.01)\n",
    "param_test = {\n",
    " 'max_depth':range(5,11,2),\n",
    " 'min_child_weight':[5,7,9,11]\n",
    "}\n",
    "gsearch1 = GridSearchCV(estimator = reg,param_grid = param_test, scoring='neg_mean_squared_error',n_jobs=-1, cv=5,verbose=1)\n",
    "gsearch1.fit(X_train,y_train)"
   ]
  },
  {
   "cell_type": "code",
   "execution_count": 31,
   "metadata": {},
   "outputs": [
    {
     "name": "stdout",
     "output_type": "stream",
     "text": [
      "0.6559508772995691\n",
      "{'max_depth': 9, 'min_child_weight': 5}\n",
      "RMSE =  0.5974416428566585\n",
      "Q^2 =  0.7424214409982084\n"
     ]
    }
   ],
   "source": [
    "print(np.sqrt(0-gsearch1.best_score_))\n",
    "best38 = gsearch1.best_estimator_\n",
    "print(gsearch1.best_params_)\n",
    "preds = best38.predict(X_test)\n",
    "scores(y_test,preds)\n",
    "best38.save_model('./saved_models/best_from_gs38.model')"
   ]
  },
  {
   "cell_type": "code",
   "execution_count": 32,
   "metadata": {},
   "outputs": [
    {
     "name": "stdout",
     "output_type": "stream",
     "text": [
      "RMSE =  0.22097044933258972\n",
      "Q^2 =  0.9639602803066302\n"
     ]
    }
   ],
   "source": [
    "preds = best38.predict(X_train)\n",
    "scores(y_train,preds)"
   ]
  },
  {
   "cell_type": "code",
   "execution_count": 86,
   "metadata": {},
   "outputs": [
    {
     "name": "stdout",
     "output_type": "stream",
     "text": [
      "RMSE =  0.636264995258674\n",
      "Q^2 =  0.6873094497129433\n",
      "RMSE =  0.6191679058652316\n",
      "Q^2 =  0.749216606239191\n"
     ]
    }
   ],
   "source": [
    "reg = xgb.XGBRegressor(alpha=0.4, colsample_bytree=0.6,\n",
    "                                    learning_rate=0.01, max_depth=9,\n",
    "                                    min_child_weight=5, n_estimators=1000,\n",
    "                                    seed=27, subsample=0.8)\n",
    "X_train, X_test, X_validate, y_train, y_test, y_validate = split_data(second_chance)\n",
    "reg.fit(X_train,y_train)\n",
    "predictions = reg.predict(X_test)\n",
    "scores(y_test,predictions)\n",
    "predictions = reg.predict(X_validate)\n",
    "scores(y_validate,predictions)"
   ]
  },
  {
   "cell_type": "code",
   "execution_count": 87,
   "metadata": {},
   "outputs": [],
   "source": [
    "reg.save_model('./saved_models/xg38.model')"
   ]
  },
  {
   "cell_type": "markdown",
   "metadata": {},
   "source": [
    "<h1>43 descriptors"
   ]
  },
  {
   "cell_type": "code",
   "execution_count": 26,
   "metadata": {},
   "outputs": [
    {
     "name": "stdout",
     "output_type": "stream",
     "text": [
      "Fitting 5 folds for each of 12 candidates, totalling 60 fits\n"
     ]
    },
    {
     "name": "stderr",
     "output_type": "stream",
     "text": [
      "[Parallel(n_jobs=-1)]: Using backend LokyBackend with 8 concurrent workers.\n",
      "[Parallel(n_jobs=-1)]: Done  34 tasks      | elapsed:  2.3min\n",
      "[Parallel(n_jobs=-1)]: Done  60 out of  60 | elapsed:  4.4min finished\n"
     ]
    },
    {
     "data": {
      "text/plain": [
       "GridSearchCV(cv=5,\n",
       "             estimator=XGBRegressor(alpha=0.4, colsample_bytree=0.6,\n",
       "                                    learning_rate=0.01, max_depth=7,\n",
       "                                    min_child_weight=7, n_estimators=1000,\n",
       "                                    seed=27, subsample=0.8),\n",
       "             n_jobs=-1,\n",
       "             param_grid={'max_depth': range(5, 11, 2),\n",
       "                         'min_child_weight': [5, 7, 9, 11]},\n",
       "             scoring='neg_mean_squared_error', verbose=1)"
      ]
     },
     "execution_count": 26,
     "metadata": {},
     "output_type": "execute_result"
    }
   ],
   "source": [
    "X_train, X_test, y_train, y_test = train_test_split(rfsk.drop(columns='pChemBL'),rfsk['pChemBL'],test_size=0.1,random_state=42)\n",
    "reg = xgb.XGBRegressor(alpha=0.4, colsample_bytree=0.6, max_depth=7, min_child_weight=7,\n",
    "             n_estimators=1000, seed=27, subsample=0.8,learning_rate=0.01)\n",
    "param_test = {\n",
    " 'max_depth':range(5,11,2),\n",
    " 'min_child_weight':[5,7,9,11]\n",
    "}\n",
    "gsearch1 = GridSearchCV(estimator = reg, \n",
    " param_grid = param_test, scoring='neg_mean_squared_error',n_jobs=-1, cv=5,verbose=1)\n",
    "gsearch1.fit(X_train,y_train)"
   ]
  },
  {
   "cell_type": "code",
   "execution_count": 27,
   "metadata": {},
   "outputs": [
    {
     "name": "stdout",
     "output_type": "stream",
     "text": [
      "0.6491103160677638\n",
      "{'max_depth': 9, 'min_child_weight': 7}\n",
      "RMSE =  0.6107028774694965\n",
      "Q^2 =  0.7308597442202267\n"
     ]
    }
   ],
   "source": [
    "print(np.sqrt(0-gsearch1.best_score_))\n",
    "best = gsearch1.best_estimator_\n",
    "print(gsearch1.best_params_)\n",
    "preds = best.predict(X_test)\n",
    "scores(y_test,preds)\n",
    "best.save_model('./saved_models/best_from_gs.model')"
   ]
  },
  {
   "cell_type": "code",
   "execution_count": null,
   "metadata": {},
   "outputs": [],
   "source": []
  },
  {
   "cell_type": "code",
   "execution_count": 24,
   "metadata": {},
   "outputs": [],
   "source": [
    "best.save_model('./saved_models/best43.model')"
   ]
  },
  {
   "cell_type": "code",
   "execution_count": 25,
   "metadata": {},
   "outputs": [
    {
     "name": "stdout",
     "output_type": "stream",
     "text": [
      "RMSE =  0.6555279773133559\n",
      "Q^2 =  0.6747132687649459\n",
      "RMSE =  0.6160835524226539\n",
      "Q^2 =  0.7143639904362038\n"
     ]
    }
   ],
   "source": [
    "reg = xgb.XGBRegressor(alpha=0.4, colsample_bytree=0.6,\n",
    "                                    learning_rate=0.01, max_depth=9,\n",
    "                                    min_child_weight=7, n_estimators=1000,\n",
    "                                    seed=27, subsample=0.8)\n",
    "X_train, X_test, X_validate, y_train, y_test, y_validate = split_data(rfsk)\n",
    "reg.fit(X_train,y_train)\n",
    "predictions = reg.predict(X_test)\n",
    "scores(y_test,predictions)\n",
    "predictions = reg.predict(X_validate)\n",
    "scores(y_validate,predictions)"
   ]
  },
  {
   "cell_type": "markdown",
   "metadata": {},
   "source": [
    "<h1>Verification"
   ]
  },
  {
   "cell_type": "code",
   "execution_count": 40,
   "metadata": {},
   "outputs": [],
   "source": [
    "def get_padel(mol_folder_path,file_path,max_time='1500'):\n",
    "    Padel_path = 'C:\\\\Users\\\\HP\\\\PaDEL-Descriptor\\\\PaDEL-Descriptor.jar'\n",
    "    cmd_list = ['java','-jar',Padel_path, '-dir', mol_folder_path, '-2d','-file', file_path,'-maxruntime', max_time,\"-descriptortypes\", 'xg_desc3.xml','-usefilenameasmolname']\n",
    "    out = subprocess.Popen(cmd_list, \n",
    "           stdout=subprocess.PIPE, \n",
    "           stderr=subprocess.STDOUT)\n",
    "    stdout,stderr = out.communicate()\n",
    "    stdout = stdout.decode('utf-8')\n",
    "    with open('./Padel.txt','a') as f:\n",
    "        f.write(stdout)\n",
    "get_padel(r'C:\\Users\\HP\\AZC_Internship\\jupyter notebooks\\mol','./xgdesc100.csv')"
   ]
  },
  {
   "cell_type": "code",
   "execution_count": 42,
   "metadata": {},
   "outputs": [
    {
     "name": "stdout",
     "output_type": "stream",
     "text": [
      "pChemBL\n"
     ]
    }
   ],
   "source": [
    "desc100 = pd.read_csv('./xgdesc100.csv')\n",
    "bad = []\n",
    "for col in desc100.columns:\n",
    "    if col not in second_chance.columns:\n",
    "        bad.append(col)\n",
    "for col in second_chance.columns:\n",
    "    if col not in desc100.columns:\n",
    "        print(col)"
   ]
  },
  {
   "cell_type": "code",
   "execution_count": 43,
   "metadata": {},
   "outputs": [],
   "source": [
    "desc100.drop(columns=bad,inplace=True)"
   ]
  },
  {
   "cell_type": "code",
   "execution_count": 74,
   "metadata": {
    "scrolled": true
   },
   "outputs": [
    {
     "data": {
      "text/plain": [
       "naAromAtom    0\n",
       "nAromBond     0\n",
       "BCUTc-1l      3\n",
       "BCUTc-1h      3\n",
       "BCUTp-1h      3\n",
       "nBondsM       0\n",
       "SpMin1_Bhm    1\n",
       "SpMin2_Bhm    1\n",
       "SpMin3_Bhm    1\n",
       "SpMin4_Bhm    1\n",
       "SpMax1_Bhv    1\n",
       "SpMax2_Bhv    1\n",
       "SpMin1_Bhv    1\n",
       "SpMax1_Bhe    1\n",
       "SpMax3_Bhe    1\n",
       "SpMin1_Bhe    1\n",
       "SpMin2_Bhe    1\n",
       "SpMin4_Bhe    1\n",
       "SpMin6_Bhe    1\n",
       "SpMax1_Bhp    1\n",
       "SpMax2_Bhp    1\n",
       "SpMax3_Bhp    1\n",
       "SpMin1_Bhp    1\n",
       "SpMax1_Bhi    1\n",
       "SpMin1_Bhi    1\n",
       "SpMin2_Bhi    1\n",
       "nAtomP        0\n",
       "MDEC-33       1\n",
       "MDEN-22       1\n",
       "MDEN-23       1\n",
       "piPC5         0\n",
       "piPC7         0\n",
       "piPC8         0\n",
       "piPC9         0\n",
       "piPC10        0\n",
       "TpiPC         0\n",
       "R_TpiPCTPC    0\n",
       "nTRing        0\n",
       "dtype: int64"
      ]
     },
     "execution_count": 74,
     "metadata": {},
     "output_type": "execute_result"
    }
   ],
   "source": [
    "desc100.isna().sum()"
   ]
  },
  {
   "cell_type": "markdown",
   "metadata": {},
   "source": [
    "<h2>Re-evaluating those molecules</h2> - 100,10 and 11"
   ]
  },
  {
   "cell_type": "code",
   "execution_count": 79,
   "metadata": {
    "scrolled": true
   },
   "outputs": [
    {
     "data": {
      "text/plain": [
       "naAromAtom    0\n",
       "nAromBond     0\n",
       "BCUTc-1l      0\n",
       "BCUTc-1h      0\n",
       "BCUTp-1h      0\n",
       "nBondsM       0\n",
       "SpMin1_Bhm    0\n",
       "SpMin2_Bhm    0\n",
       "SpMin3_Bhm    0\n",
       "SpMin4_Bhm    0\n",
       "SpMax1_Bhv    0\n",
       "SpMax2_Bhv    0\n",
       "SpMin1_Bhv    0\n",
       "SpMax1_Bhe    0\n",
       "SpMax3_Bhe    0\n",
       "SpMin1_Bhe    0\n",
       "SpMin2_Bhe    0\n",
       "SpMin4_Bhe    0\n",
       "SpMin6_Bhe    0\n",
       "SpMax1_Bhp    0\n",
       "SpMax2_Bhp    0\n",
       "SpMax3_Bhp    0\n",
       "SpMin1_Bhp    0\n",
       "SpMax1_Bhi    0\n",
       "SpMin1_Bhi    0\n",
       "SpMin2_Bhi    0\n",
       "nAtomP        0\n",
       "MDEC-33       0\n",
       "MDEN-22       0\n",
       "MDEN-23       0\n",
       "piPC5         0\n",
       "piPC7         0\n",
       "piPC8         0\n",
       "piPC9         0\n",
       "piPC10        0\n",
       "TpiPC         0\n",
       "R_TpiPCTPC    0\n",
       "nTRing        0\n",
       "dtype: int64"
      ]
     },
     "execution_count": 79,
     "metadata": {},
     "output_type": "execute_result"
    }
   ],
   "source": [
    "get_padel(r'C:\\Users\\HP\\AZC_Internship\\jupyter notebooks\\unevalmol','./xgdesc3.csv','-1')\n",
    "desc3 = pd.read_csv('./xgdesc3.csv')\n",
    "bad = []\n",
    "for col in desc3.columns:\n",
    "    if col not in second_chance.columns:\n",
    "        bad.append(col)\n",
    "desc3.drop(columns=bad,inplace=True)\n",
    "desc3.isna().sum()"
   ]
  },
  {
   "cell_type": "markdown",
   "metadata": {},
   "source": [
    "<b>Conclusion:</b>Upon re-evaluation, sometimes it gives NaN, other times it works perfectly."
   ]
  },
  {
   "cell_type": "markdown",
   "metadata": {},
   "source": [
    "<h1> Using the models on X_main"
   ]
  },
  {
   "cell_type": "code",
   "execution_count": 59,
   "metadata": {},
   "outputs": [],
   "source": [
    "X_main = pd.read_csv('./no_zeros_no_chembl.csv')\n",
    "y = X_main['pChemBL']\n",
    "bad = []\n",
    "for col in X_main.columns:\n",
    "    if col not in second_chance.columns:\n",
    "        bad.append(col)\n",
    "X_main.drop(columns=bad,inplace=True)"
   ]
  },
  {
   "cell_type": "code",
   "execution_count": 60,
   "metadata": {},
   "outputs": [],
   "source": [
    "X_main.drop(columns='pChemBL',inplace=True)"
   ]
  },
  {
   "cell_type": "code",
   "execution_count": 61,
   "metadata": {},
   "outputs": [
    {
     "name": "stdout",
     "output_type": "stream",
     "text": [
      "Index(['naAromAtom', 'nAromBond', 'BCUTc-1l', 'BCUTc-1h', 'BCUTp-1h',\n",
      "       'nBondsM', 'SpMin1_Bhm', 'SpMin2_Bhm', 'SpMin3_Bhm', 'SpMin4_Bhm',\n",
      "       'SpMax1_Bhv', 'SpMax2_Bhv', 'SpMin1_Bhv', 'SpMax1_Bhe', 'SpMax3_Bhe',\n",
      "       'SpMin1_Bhe', 'SpMin2_Bhe', 'SpMin4_Bhe', 'SpMin6_Bhe', 'SpMax1_Bhp',\n",
      "       'SpMax2_Bhp', 'SpMax3_Bhp', 'SpMin1_Bhp', 'SpMax1_Bhi', 'SpMin1_Bhi',\n",
      "       'SpMin2_Bhi', 'nAtomP', 'MDEC-33', 'MDEN-22', 'MDEN-23', 'piPC5',\n",
      "       'piPC7', 'piPC8', 'piPC9', 'piPC10', 'TpiPC', 'R_TpiPCTPC', 'nTRing'],\n",
      "      dtype='object')\n"
     ]
    }
   ],
   "source": [
    "print(X_main.columns)"
   ]
  },
  {
   "cell_type": "code",
   "execution_count": 128,
   "metadata": {},
   "outputs": [
    {
     "data": {
      "text/html": [
       "<div>\n",
       "<style scoped>\n",
       "    .dataframe tbody tr th:only-of-type {\n",
       "        vertical-align: middle;\n",
       "    }\n",
       "\n",
       "    .dataframe tbody tr th {\n",
       "        vertical-align: top;\n",
       "    }\n",
       "\n",
       "    .dataframe thead th {\n",
       "        text-align: right;\n",
       "    }\n",
       "</style>\n",
       "<table border=\"1\" class=\"dataframe\">\n",
       "  <thead>\n",
       "    <tr style=\"text-align: right;\">\n",
       "      <th></th>\n",
       "      <th>naAromAtom</th>\n",
       "      <th>nAromBond</th>\n",
       "      <th>BCUTc-1l</th>\n",
       "      <th>BCUTc-1h</th>\n",
       "      <th>BCUTp-1h</th>\n",
       "      <th>nBondsM</th>\n",
       "      <th>SpMin1_Bhm</th>\n",
       "      <th>SpMin2_Bhm</th>\n",
       "      <th>SpMin3_Bhm</th>\n",
       "      <th>SpMin4_Bhm</th>\n",
       "      <th>...</th>\n",
       "      <th>MDEN-22</th>\n",
       "      <th>MDEN-23</th>\n",
       "      <th>piPC5</th>\n",
       "      <th>piPC7</th>\n",
       "      <th>piPC8</th>\n",
       "      <th>piPC9</th>\n",
       "      <th>piPC10</th>\n",
       "      <th>TpiPC</th>\n",
       "      <th>R_TpiPCTPC</th>\n",
       "      <th>nTRing</th>\n",
       "    </tr>\n",
       "  </thead>\n",
       "  <tbody>\n",
       "    <tr>\n",
       "      <th>0</th>\n",
       "      <td>16</td>\n",
       "      <td>18</td>\n",
       "      <td>-0.395197</td>\n",
       "      <td>0.211821</td>\n",
       "      <td>11.049269</td>\n",
       "      <td>18</td>\n",
       "      <td>2.082894</td>\n",
       "      <td>1.917433</td>\n",
       "      <td>1.844178</td>\n",
       "      <td>1.750754</td>\n",
       "      <td>...</td>\n",
       "      <td>1.190551</td>\n",
       "      <td>2.121320</td>\n",
       "      <td>6.437201</td>\n",
       "      <td>7.481230</td>\n",
       "      <td>7.991362</td>\n",
       "      <td>8.528420</td>\n",
       "      <td>8.939872</td>\n",
       "      <td>9.888853</td>\n",
       "      <td>11.822704</td>\n",
       "      <td>6</td>\n",
       "    </tr>\n",
       "    <tr>\n",
       "      <th>1</th>\n",
       "      <td>18</td>\n",
       "      <td>20</td>\n",
       "      <td>-0.324459</td>\n",
       "      <td>0.303911</td>\n",
       "      <td>11.858839</td>\n",
       "      <td>23</td>\n",
       "      <td>2.141224</td>\n",
       "      <td>2.023361</td>\n",
       "      <td>1.870068</td>\n",
       "      <td>1.784411</td>\n",
       "      <td>...</td>\n",
       "      <td>1.105209</td>\n",
       "      <td>1.190551</td>\n",
       "      <td>6.583841</td>\n",
       "      <td>7.714060</td>\n",
       "      <td>8.241999</td>\n",
       "      <td>8.756425</td>\n",
       "      <td>9.193246</td>\n",
       "      <td>10.122678</td>\n",
       "      <td>14.083920</td>\n",
       "      <td>9</td>\n",
       "    </tr>\n",
       "    <tr>\n",
       "      <th>2</th>\n",
       "      <td>27</td>\n",
       "      <td>29</td>\n",
       "      <td>-0.291902</td>\n",
       "      <td>0.416960</td>\n",
       "      <td>10.455854</td>\n",
       "      <td>30</td>\n",
       "      <td>2.049118</td>\n",
       "      <td>1.945557</td>\n",
       "      <td>1.911229</td>\n",
       "      <td>1.769681</td>\n",
       "      <td>...</td>\n",
       "      <td>2.576756</td>\n",
       "      <td>1.374730</td>\n",
       "      <td>6.481625</td>\n",
       "      <td>7.342774</td>\n",
       "      <td>7.783045</td>\n",
       "      <td>8.171347</td>\n",
       "      <td>8.584202</td>\n",
       "      <td>9.627425</td>\n",
       "      <td>11.948270</td>\n",
       "      <td>6</td>\n",
       "    </tr>\n",
       "    <tr>\n",
       "      <th>3</th>\n",
       "      <td>6</td>\n",
       "      <td>6</td>\n",
       "      <td>-0.386199</td>\n",
       "      <td>0.226178</td>\n",
       "      <td>11.054526</td>\n",
       "      <td>15</td>\n",
       "      <td>1.972555</td>\n",
       "      <td>1.908991</td>\n",
       "      <td>1.879489</td>\n",
       "      <td>1.851109</td>\n",
       "      <td>...</td>\n",
       "      <td>2.658167</td>\n",
       "      <td>0.927030</td>\n",
       "      <td>5.546397</td>\n",
       "      <td>5.544933</td>\n",
       "      <td>5.816739</td>\n",
       "      <td>5.858647</td>\n",
       "      <td>5.889570</td>\n",
       "      <td>7.770856</td>\n",
       "      <td>1.761710</td>\n",
       "      <td>2</td>\n",
       "    </tr>\n",
       "    <tr>\n",
       "      <th>4</th>\n",
       "      <td>21</td>\n",
       "      <td>23</td>\n",
       "      <td>-0.386171</td>\n",
       "      <td>0.198694</td>\n",
       "      <td>11.877160</td>\n",
       "      <td>25</td>\n",
       "      <td>2.019523</td>\n",
       "      <td>1.963038</td>\n",
       "      <td>1.877156</td>\n",
       "      <td>1.633266</td>\n",
       "      <td>...</td>\n",
       "      <td>0.000000</td>\n",
       "      <td>0.000000</td>\n",
       "      <td>6.608338</td>\n",
       "      <td>7.610075</td>\n",
       "      <td>8.146986</td>\n",
       "      <td>8.569907</td>\n",
       "      <td>8.994672</td>\n",
       "      <td>9.976050</td>\n",
       "      <td>14.000126</td>\n",
       "      <td>7</td>\n",
       "    </tr>\n",
       "  </tbody>\n",
       "</table>\n",
       "<p>5 rows × 38 columns</p>\n",
       "</div>"
      ],
      "text/plain": [
       "   naAromAtom  nAromBond  BCUTc-1l  BCUTc-1h   BCUTp-1h  nBondsM  SpMin1_Bhm  \\\n",
       "0          16         18 -0.395197  0.211821  11.049269       18    2.082894   \n",
       "1          18         20 -0.324459  0.303911  11.858839       23    2.141224   \n",
       "2          27         29 -0.291902  0.416960  10.455854       30    2.049118   \n",
       "3           6          6 -0.386199  0.226178  11.054526       15    1.972555   \n",
       "4          21         23 -0.386171  0.198694  11.877160       25    2.019523   \n",
       "\n",
       "   SpMin2_Bhm  SpMin3_Bhm  SpMin4_Bhm  ...   MDEN-22   MDEN-23     piPC5  \\\n",
       "0    1.917433    1.844178    1.750754  ...  1.190551  2.121320  6.437201   \n",
       "1    2.023361    1.870068    1.784411  ...  1.105209  1.190551  6.583841   \n",
       "2    1.945557    1.911229    1.769681  ...  2.576756  1.374730  6.481625   \n",
       "3    1.908991    1.879489    1.851109  ...  2.658167  0.927030  5.546397   \n",
       "4    1.963038    1.877156    1.633266  ...  0.000000  0.000000  6.608338   \n",
       "\n",
       "      piPC7     piPC8     piPC9    piPC10      TpiPC  R_TpiPCTPC  nTRing  \n",
       "0  7.481230  7.991362  8.528420  8.939872   9.888853   11.822704       6  \n",
       "1  7.714060  8.241999  8.756425  9.193246  10.122678   14.083920       9  \n",
       "2  7.342774  7.783045  8.171347  8.584202   9.627425   11.948270       6  \n",
       "3  5.544933  5.816739  5.858647  5.889570   7.770856    1.761710       2  \n",
       "4  7.610075  8.146986  8.569907  8.994672   9.976050   14.000126       7  \n",
       "\n",
       "[5 rows x 38 columns]"
      ]
     },
     "execution_count": 128,
     "metadata": {},
     "output_type": "execute_result"
    }
   ],
   "source": [
    "X_main.head()"
   ]
  },
  {
   "cell_type": "code",
   "execution_count": 89,
   "metadata": {},
   "outputs": [
    {
     "name": "stdout",
     "output_type": "stream",
     "text": [
      "RMSE =  0.28237514151854454\n",
      "Q^2 =  0.9412880184367602\n"
     ]
    }
   ],
   "source": [
    "preds=best38.predict(X_main)\n",
    "scores(y,preds)"
   ]
  },
  {
   "cell_type": "code",
   "execution_count": 88,
   "metadata": {},
   "outputs": [
    {
     "data": {
      "image/png": "[encoded data removed]",
      "text/plain": [
       "<Figure size 432x288 with 1 Axes>"
      ]
     },
     "metadata": {
      "needs_background": "light"
     },
     "output_type": "display_data"
    }
   ],
   "source": [
    "bins=np.linspace(4,10,7)\n",
    "plt.hist(reg.predict(X_main),alpha=0.5,label='preds',bins=bins)\n",
    "plt.hist(y,alpha=0.5,label='actual',bins=bins)\n",
    "plt.legend(loc='upper right')\n",
    "plt.show()"
   ]
  },
  {
   "cell_type": "code",
   "execution_count": 90,
   "metadata": {},
   "outputs": [
    {
     "data": {
      "image/png": "[encoded data removed]",
      "text/plain": [
       "<Figure size 432x288 with 1 Axes>"
      ]
     },
     "metadata": {
      "needs_background": "light"
     },
     "output_type": "display_data"
    }
   ],
   "source": [
    "bins=np.linspace(4,10,7)\n",
    "plt.hist(preds,alpha=0.5,label='preds',bins=bins)\n",
    "plt.hist(y,alpha=0.5,label='actual',bins=bins)\n",
    "plt.legend(loc='upper right')\n",
    "plt.show()"
   ]
  },
  {
   "cell_type": "markdown",
   "metadata": {},
   "source": [
    "<b> Both models perform well. In terms of statistics, best38 is better but by the looks of it, reg tends to predict the values outside the peak better"
   ]
  },
  {
   "cell_type": "markdown",
   "metadata": {},
   "source": [
    "<h2>Scaling"
   ]
  },
  {
   "cell_type": "code",
   "execution_count": 80,
   "metadata": {},
   "outputs": [],
   "source": [
    "scaling = StandardScaler()\n",
    "scaling.fit(X_main)\n",
    "da = scaling.transform(X_main)\n",
    "X_scaled = pd.DataFrame(data=da,columns=X_main.columns)"
   ]
  },
  {
   "cell_type": "code",
   "execution_count": 84,
   "metadata": {},
   "outputs": [
    {
     "name": "stdout",
     "output_type": "stream",
     "text": [
      "RMSE =  0.6678130296505691\n",
      "Q^2 =  0.6758148938639155\n",
      "RMSE =  0.641277694458705\n",
      "Q^2 =  0.690643713297785\n"
     ]
    }
   ],
   "source": [
    "X_scaled['pChemBL'] = y\n",
    "reg_scaled = xgb.XGBRegressor(alpha=0.4, colsample_bytree=0.6,\n",
    "                                    learning_rate=0.01, max_depth=9,\n",
    "                                    min_child_weight=7, n_estimators=1000,\n",
    "                                    seed=27, subsample=0.8)\n",
    "X_train, X_test, X_validate, y_train, y_test, y_validate = split_data(X_scaled)\n",
    "reg_scaled.fit(X_train,y_train)\n",
    "predictions = reg_scaled.predict(X_test)\n",
    "scores(y_test,predictions)\n",
    "predictions = reg_scaled.predict(X_validate)\n",
    "scores(y_validate,predictions)"
   ]
  },
  {
   "cell_type": "markdown",
   "metadata": {},
   "source": [
    "I tried twice, scaling offers <b>no major improvement</b>"
   ]
  },
  {
   "cell_type": "markdown",
   "metadata": {},
   "source": [
    "<b>Conclusion</b> Going to use best38(38 features without scaling)"
   ]
  },
  {
   "cell_type": "markdown",
   "metadata": {},
   "source": [
    "<h1>Final padel verification"
   ]
  },
  {
   "cell_type": "code",
   "execution_count": 91,
   "metadata": {
    "scrolled": true
   },
   "outputs": [
    {
     "name": "stdout",
     "output_type": "stream",
     "text": [
      "257\n"
     ]
    },
    {
     "data": {
      "text/plain": [
       "naAromAtom    0\n",
       "nAromBond     0\n",
       "BCUTc-1l      4\n",
       "BCUTc-1h      4\n",
       "BCUTp-1h      4\n",
       "nBondsM       0\n",
       "SpMin1_Bhm    5\n",
       "SpMin2_Bhm    5\n",
       "SpMin3_Bhm    5\n",
       "SpMin4_Bhm    5\n",
       "SpMax1_Bhv    5\n",
       "SpMax2_Bhv    5\n",
       "SpMin1_Bhv    5\n",
       "SpMax1_Bhe    5\n",
       "SpMax3_Bhe    5\n",
       "SpMin1_Bhe    5\n",
       "SpMin2_Bhe    5\n",
       "SpMin4_Bhe    5\n",
       "SpMin6_Bhe    5\n",
       "SpMax1_Bhp    5\n",
       "SpMax2_Bhp    5\n",
       "SpMax3_Bhp    5\n",
       "SpMin1_Bhp    5\n",
       "SpMax1_Bhi    5\n",
       "SpMin1_Bhi    5\n",
       "SpMin2_Bhi    5\n",
       "nAtomP        0\n",
       "MDEC-33       0\n",
       "MDEN-22       0\n",
       "MDEN-23       0\n",
       "piPC5         0\n",
       "piPC7         0\n",
       "piPC8         0\n",
       "piPC9         0\n",
       "piPC10        0\n",
       "TpiPC         0\n",
       "R_TpiPCTPC    0\n",
       "nTRing        0\n",
       "dtype: int64"
      ]
     },
     "execution_count": 91,
     "metadata": {},
     "output_type": "execute_result"
    }
   ],
   "source": [
    "get_padel(r'C:\\Users\\HP\\AZC_Internship\\Data\\molecular data\\AKT_mol','./xgall.csv')\n",
    "xg_all = pd.read_csv('./xgall.csv')\n",
    "bad = []\n",
    "print(len(xg_all.columns))\n",
    "for col in xg_all.columns:\n",
    "    if col not in second_chance.columns:\n",
    "        bad.append(col)\n",
    "xg_all.drop(columns=bad,inplace=True)\n",
    "xg_all.isna().sum()"
   ]
  },
  {
   "cell_type": "code",
   "execution_count": 99,
   "metadata": {},
   "outputs": [
    {
     "data": {
      "text/html": [
       "<div>\n",
       "<style scoped>\n",
       "    .dataframe tbody tr th:only-of-type {\n",
       "        vertical-align: middle;\n",
       "    }\n",
       "\n",
       "    .dataframe tbody tr th {\n",
       "        vertical-align: top;\n",
       "    }\n",
       "\n",
       "    .dataframe thead th {\n",
       "        text-align: right;\n",
       "    }\n",
       "</style>\n",
       "<table border=\"1\" class=\"dataframe\">\n",
       "  <thead>\n",
       "    <tr style=\"text-align: right;\">\n",
       "      <th></th>\n",
       "      <th>naAromAtom</th>\n",
       "      <th>nAromBond</th>\n",
       "      <th>BCUTc-1l</th>\n",
       "      <th>BCUTc-1h</th>\n",
       "      <th>BCUTp-1h</th>\n",
       "      <th>nBondsM</th>\n",
       "      <th>SpMin1_Bhm</th>\n",
       "      <th>SpMin2_Bhm</th>\n",
       "      <th>SpMin3_Bhm</th>\n",
       "      <th>SpMin4_Bhm</th>\n",
       "      <th>...</th>\n",
       "      <th>MDEN-22</th>\n",
       "      <th>MDEN-23</th>\n",
       "      <th>piPC5</th>\n",
       "      <th>piPC7</th>\n",
       "      <th>piPC8</th>\n",
       "      <th>piPC9</th>\n",
       "      <th>piPC10</th>\n",
       "      <th>TpiPC</th>\n",
       "      <th>R_TpiPCTPC</th>\n",
       "      <th>nTRing</th>\n",
       "    </tr>\n",
       "  </thead>\n",
       "  <tbody>\n",
       "    <tr>\n",
       "      <th>254</th>\n",
       "      <td>0</td>\n",
       "      <td>0</td>\n",
       "      <td>-0.361008</td>\n",
       "      <td>0.227780</td>\n",
       "      <td>11.069613</td>\n",
       "      <td>13.0</td>\n",
       "      <td>NaN</td>\n",
       "      <td>NaN</td>\n",
       "      <td>NaN</td>\n",
       "      <td>NaN</td>\n",
       "      <td>...</td>\n",
       "      <td>2.658167</td>\n",
       "      <td>1.584761</td>\n",
       "      <td>5.541264</td>\n",
       "      <td>5.549076</td>\n",
       "      <td>5.789960</td>\n",
       "      <td>5.799093</td>\n",
       "      <td>5.786897</td>\n",
       "      <td>7.760041</td>\n",
       "      <td>1.630042</td>\n",
       "      <td>1.0</td>\n",
       "    </tr>\n",
       "    <tr>\n",
       "      <th>258</th>\n",
       "      <td>0</td>\n",
       "      <td>0</td>\n",
       "      <td>-0.361007</td>\n",
       "      <td>0.227721</td>\n",
       "      <td>11.070508</td>\n",
       "      <td>13.0</td>\n",
       "      <td>NaN</td>\n",
       "      <td>NaN</td>\n",
       "      <td>NaN</td>\n",
       "      <td>NaN</td>\n",
       "      <td>...</td>\n",
       "      <td>2.658167</td>\n",
       "      <td>1.584761</td>\n",
       "      <td>5.541264</td>\n",
       "      <td>5.556828</td>\n",
       "      <td>5.777652</td>\n",
       "      <td>5.783825</td>\n",
       "      <td>5.780744</td>\n",
       "      <td>7.754910</td>\n",
       "      <td>1.635344</td>\n",
       "      <td>1.0</td>\n",
       "    </tr>\n",
       "    <tr>\n",
       "      <th>259</th>\n",
       "      <td>0</td>\n",
       "      <td>0</td>\n",
       "      <td>-0.361010</td>\n",
       "      <td>0.227819</td>\n",
       "      <td>11.070312</td>\n",
       "      <td>13.0</td>\n",
       "      <td>NaN</td>\n",
       "      <td>NaN</td>\n",
       "      <td>NaN</td>\n",
       "      <td>NaN</td>\n",
       "      <td>...</td>\n",
       "      <td>2.658167</td>\n",
       "      <td>1.584761</td>\n",
       "      <td>5.549076</td>\n",
       "      <td>5.568345</td>\n",
       "      <td>5.796058</td>\n",
       "      <td>5.811141</td>\n",
       "      <td>5.799093</td>\n",
       "      <td>7.771067</td>\n",
       "      <td>1.622177</td>\n",
       "      <td>1.0</td>\n",
       "    </tr>\n",
       "    <tr>\n",
       "      <th>260</th>\n",
       "      <td>0</td>\n",
       "      <td>0</td>\n",
       "      <td>-0.361012</td>\n",
       "      <td>0.227868</td>\n",
       "      <td>11.070661</td>\n",
       "      <td>13.0</td>\n",
       "      <td>NaN</td>\n",
       "      <td>NaN</td>\n",
       "      <td>NaN</td>\n",
       "      <td>NaN</td>\n",
       "      <td>...</td>\n",
       "      <td>2.658167</td>\n",
       "      <td>1.584761</td>\n",
       "      <td>5.552960</td>\n",
       "      <td>5.583496</td>\n",
       "      <td>5.811141</td>\n",
       "      <td>5.817111</td>\n",
       "      <td>5.811141</td>\n",
       "      <td>7.780721</td>\n",
       "      <td>1.615800</td>\n",
       "      <td>1.0</td>\n",
       "    </tr>\n",
       "    <tr>\n",
       "      <th>265</th>\n",
       "      <td>0</td>\n",
       "      <td>0</td>\n",
       "      <td>-0.360993</td>\n",
       "      <td>0.272152</td>\n",
       "      <td>11.070794</td>\n",
       "      <td>14.0</td>\n",
       "      <td>NaN</td>\n",
       "      <td>NaN</td>\n",
       "      <td>NaN</td>\n",
       "      <td>NaN</td>\n",
       "      <td>...</td>\n",
       "      <td>3.991560</td>\n",
       "      <td>2.230292</td>\n",
       "      <td>5.587249</td>\n",
       "      <td>5.634790</td>\n",
       "      <td>5.874931</td>\n",
       "      <td>5.902633</td>\n",
       "      <td>5.899897</td>\n",
       "      <td>7.837949</td>\n",
       "      <td>1.598738</td>\n",
       "      <td>2.0</td>\n",
       "    </tr>\n",
       "    <tr>\n",
       "      <th>918</th>\n",
       "      <td>0</td>\n",
       "      <td>0</td>\n",
       "      <td>NaN</td>\n",
       "      <td>NaN</td>\n",
       "      <td>NaN</td>\n",
       "      <td>12.0</td>\n",
       "      <td>1.937836</td>\n",
       "      <td>1.911127</td>\n",
       "      <td>1.734987</td>\n",
       "      <td>1.689721</td>\n",
       "      <td>...</td>\n",
       "      <td>2.406843</td>\n",
       "      <td>3.256602</td>\n",
       "      <td>6.021023</td>\n",
       "      <td>6.783325</td>\n",
       "      <td>7.199678</td>\n",
       "      <td>7.529943</td>\n",
       "      <td>7.913887</td>\n",
       "      <td>9.041567</td>\n",
       "      <td>4.172925</td>\n",
       "      <td>9.0</td>\n",
       "    </tr>\n",
       "    <tr>\n",
       "      <th>1504</th>\n",
       "      <td>0</td>\n",
       "      <td>0</td>\n",
       "      <td>NaN</td>\n",
       "      <td>NaN</td>\n",
       "      <td>NaN</td>\n",
       "      <td>16.0</td>\n",
       "      <td>1.982088</td>\n",
       "      <td>1.918229</td>\n",
       "      <td>1.895995</td>\n",
       "      <td>1.854072</td>\n",
       "      <td>...</td>\n",
       "      <td>3.952490</td>\n",
       "      <td>2.524153</td>\n",
       "      <td>6.381816</td>\n",
       "      <td>7.126891</td>\n",
       "      <td>7.558517</td>\n",
       "      <td>7.974877</td>\n",
       "      <td>8.348301</td>\n",
       "      <td>9.429877</td>\n",
       "      <td>5.447944</td>\n",
       "      <td>15.0</td>\n",
       "    </tr>\n",
       "    <tr>\n",
       "      <th>1568</th>\n",
       "      <td>0</td>\n",
       "      <td>0</td>\n",
       "      <td>NaN</td>\n",
       "      <td>NaN</td>\n",
       "      <td>NaN</td>\n",
       "      <td>16.0</td>\n",
       "      <td>1.983144</td>\n",
       "      <td>1.933389</td>\n",
       "      <td>1.902282</td>\n",
       "      <td>1.870293</td>\n",
       "      <td>...</td>\n",
       "      <td>3.151584</td>\n",
       "      <td>2.163019</td>\n",
       "      <td>6.381816</td>\n",
       "      <td>7.126891</td>\n",
       "      <td>7.558517</td>\n",
       "      <td>7.974877</td>\n",
       "      <td>8.348301</td>\n",
       "      <td>9.429877</td>\n",
       "      <td>5.447944</td>\n",
       "      <td>15.0</td>\n",
       "    </tr>\n",
       "    <tr>\n",
       "      <th>1636</th>\n",
       "      <td>0</td>\n",
       "      <td>0</td>\n",
       "      <td>NaN</td>\n",
       "      <td>NaN</td>\n",
       "      <td>NaN</td>\n",
       "      <td>16.0</td>\n",
       "      <td>2.041661</td>\n",
       "      <td>1.926463</td>\n",
       "      <td>1.918223</td>\n",
       "      <td>1.848555</td>\n",
       "      <td>...</td>\n",
       "      <td>2.114371</td>\n",
       "      <td>1.654588</td>\n",
       "      <td>6.369901</td>\n",
       "      <td>7.105786</td>\n",
       "      <td>7.520235</td>\n",
       "      <td>7.980366</td>\n",
       "      <td>8.362409</td>\n",
       "      <td>9.426177</td>\n",
       "      <td>5.712707</td>\n",
       "      <td>14.0</td>\n",
       "    </tr>\n",
       "  </tbody>\n",
       "</table>\n",
       "<p>9 rows × 38 columns</p>\n",
       "</div>"
      ],
      "text/plain": [
       "      naAromAtom  nAromBond  BCUTc-1l  BCUTc-1h   BCUTp-1h  nBondsM  \\\n",
       "254            0          0 -0.361008  0.227780  11.069613     13.0   \n",
       "258            0          0 -0.361007  0.227721  11.070508     13.0   \n",
       "259            0          0 -0.361010  0.227819  11.070312     13.0   \n",
       "260            0          0 -0.361012  0.227868  11.070661     13.0   \n",
       "265            0          0 -0.360993  0.272152  11.070794     14.0   \n",
       "918            0          0       NaN       NaN        NaN     12.0   \n",
       "1504           0          0       NaN       NaN        NaN     16.0   \n",
       "1568           0          0       NaN       NaN        NaN     16.0   \n",
       "1636           0          0       NaN       NaN        NaN     16.0   \n",
       "\n",
       "      SpMin1_Bhm  SpMin2_Bhm  SpMin3_Bhm  SpMin4_Bhm  ...   MDEN-22   MDEN-23  \\\n",
       "254          NaN         NaN         NaN         NaN  ...  2.658167  1.584761   \n",
       "258          NaN         NaN         NaN         NaN  ...  2.658167  1.584761   \n",
       "259          NaN         NaN         NaN         NaN  ...  2.658167  1.584761   \n",
       "260          NaN         NaN         NaN         NaN  ...  2.658167  1.584761   \n",
       "265          NaN         NaN         NaN         NaN  ...  3.991560  2.230292   \n",
       "918     1.937836    1.911127    1.734987    1.689721  ...  2.406843  3.256602   \n",
       "1504    1.982088    1.918229    1.895995    1.854072  ...  3.952490  2.524153   \n",
       "1568    1.983144    1.933389    1.902282    1.870293  ...  3.151584  2.163019   \n",
       "1636    2.041661    1.926463    1.918223    1.848555  ...  2.114371  1.654588   \n",
       "\n",
       "         piPC5     piPC7     piPC8     piPC9    piPC10     TpiPC  R_TpiPCTPC  \\\n",
       "254   5.541264  5.549076  5.789960  5.799093  5.786897  7.760041    1.630042   \n",
       "258   5.541264  5.556828  5.777652  5.783825  5.780744  7.754910    1.635344   \n",
       "259   5.549076  5.568345  5.796058  5.811141  5.799093  7.771067    1.622177   \n",
       "260   5.552960  5.583496  5.811141  5.817111  5.811141  7.780721    1.615800   \n",
       "265   5.587249  5.634790  5.874931  5.902633  5.899897  7.837949    1.598738   \n",
       "918   6.021023  6.783325  7.199678  7.529943  7.913887  9.041567    4.172925   \n",
       "1504  6.381816  7.126891  7.558517  7.974877  8.348301  9.429877    5.447944   \n",
       "1568  6.381816  7.126891  7.558517  7.974877  8.348301  9.429877    5.447944   \n",
       "1636  6.369901  7.105786  7.520235  7.980366  8.362409  9.426177    5.712707   \n",
       "\n",
       "      nTRing  \n",
       "254      1.0  \n",
       "258      1.0  \n",
       "259      1.0  \n",
       "260      1.0  \n",
       "265      2.0  \n",
       "918      9.0  \n",
       "1504    15.0  \n",
       "1568    15.0  \n",
       "1636    14.0  \n",
       "\n",
       "[9 rows x 38 columns]"
      ]
     },
     "execution_count": 99,
     "metadata": {},
     "output_type": "execute_result"
    }
   ],
   "source": [
    "xg_all[pd.isnull(xg_all).any(axis=1)]"
   ]
  },
  {
   "cell_type": "code",
   "execution_count": 100,
   "metadata": {},
   "outputs": [],
   "source": [
    "files=['CHEMBL1800267','CHEMBL1800388','CHEMBL1800386','CHEMBL1800390','CHEMBL1800402','CHEMBL2386853','CHEMBL3684373','CHEMBL3684439','CHEMBL3684507']"
   ]
  },
  {
   "cell_type": "code",
   "execution_count": 104,
   "metadata": {},
   "outputs": [],
   "source": [
    "mol= []\n",
    "from rdkit import Chem\n",
    "for file in files:\n",
    "    m = Chem.MolFromMolFile('C:\\\\Users\\\\HP\\\\AZC_Internship\\\\Data\\\\molecular data\\\\AKT_mol\\\\'+str(file)+'.mol')\n",
    "    mol.append(m)\n"
   ]
  },
  {
   "cell_type": "code",
   "execution_count": 108,
   "metadata": {},
   "outputs": [],
   "source": [
    "\n",
    "i = 0\n",
    "folder_path = './unevalmol/'\n",
    "for m in mol:\n",
    "    print(Chem.MolToMolBlock((m)),file=open(str(folder_path)+str(files[i])+'.mol','w'))\n",
    "    i = i +1"
   ]
  },
  {
   "cell_type": "code",
   "execution_count": 109,
   "metadata": {},
   "outputs": [],
   "source": [
    "get_padel(r'C:\\Users\\HP\\AZC_Internship\\jupyter notebooks\\unevalmol','./uneval_desc.csv','-1')"
   ]
  },
  {
   "cell_type": "code",
   "execution_count": 112,
   "metadata": {},
   "outputs": [
    {
     "name": "stdout",
     "output_type": "stream",
     "text": [
      "257\n"
     ]
    },
    {
     "data": {
      "text/plain": [
       "0    0\n",
       "1    0\n",
       "2    0\n",
       "3    0\n",
       "4    0\n",
       "5    0\n",
       "6    0\n",
       "7    0\n",
       "8    0\n",
       "dtype: int64"
      ]
     },
     "execution_count": 112,
     "metadata": {},
     "output_type": "execute_result"
    }
   ],
   "source": [
    "unevalmol = pd.read_csv('./uneval_desc.csv')\n",
    "bad = []\n",
    "print(len(unevalmol.columns))\n",
    "for col in unevalmol.columns:\n",
    "    if col not in second_chance.columns:\n",
    "        bad.append(col)\n",
    "unevalmol.drop(columns=bad,inplace=True)\n",
    "unevalmol.isna().sum(axis=1)"
   ]
  },
  {
   "cell_type": "code",
   "execution_count": 114,
   "metadata": {},
   "outputs": [
    {
     "data": {
      "text/plain": [
       "2861"
      ]
     },
     "execution_count": 114,
     "metadata": {},
     "output_type": "execute_result"
    }
   ],
   "source": [
    "xg_all_all = pd.concat([xg_all,unevalmol])\n",
    "xg_all_all.dropna(inplace=True)\n",
    "len(xg_all_all)"
   ]
  },
  {
   "cell_type": "code",
   "execution_count": 119,
   "metadata": {},
   "outputs": [
    {
     "data": {
      "text/plain": [
       "(array([149., 453., 876., 825., 490.,  53.]),\n",
       " array([ 4.,  5.,  6.,  7.,  8.,  9., 10.]),\n",
       " <a list of 6 Patch objects>)"
      ]
     },
     "execution_count": 119,
     "metadata": {},
     "output_type": "execute_result"
    },
    {
     "data": {
      "image/png": "[encoded data removed]",
      "text/plain": [
       "<Figure size 432x288 with 1 Axes>"
      ]
     },
     "metadata": {
      "needs_background": "light"
     },
     "output_type": "display_data"
    }
   ],
   "source": [
    "preds = reg.predict(xg_all_all)\n",
    "bins=np.linspace(4,10,7)\n",
    "plt.hist(preds,bins=bins,alpha=0.5,color='red')\n",
    "plt.hist(y,bins=bins,alpha=0.5,color='green')"
   ]
  },
  {
   "cell_type": "code",
   "execution_count": 127,
   "metadata": {},
   "outputs": [
    {
     "data": {
      "text/plain": [
       "True"
      ]
     },
     "execution_count": 127,
     "metadata": {},
     "output_type": "execute_result"
    }
   ],
   "source": [
    "(second_chance.drop(columns='pChemBL',inplace=False).columns == xg_all_all.columns).all()"
   ]
  },
  {
   "cell_type": "code",
   "execution_count": 125,
   "metadata": {},
   "outputs": [
    {
     "ename": "SyntaxError",
     "evalue": "invalid syntax (<ipython-input-125-c1457ecd3f8d>, line 1)",
     "output_type": "error",
     "traceback": [
      "\u001b[1;36m  File \u001b[1;32m\"<ipython-input-125-c1457ecd3f8d>\"\u001b[1;36m, line \u001b[1;32m1\u001b[0m\n\u001b[1;33m    second_chance.(drop(columns='pChemBL'),inplace=False).columns\u001b[0m\n\u001b[1;37m                  ^\u001b[0m\n\u001b[1;31mSyntaxError\u001b[0m\u001b[1;31m:\u001b[0m invalid syntax\n"
     ]
    }
   ],
   "source": [
    "second_chance"
   ]
  },
  {
   "cell_type": "code",
   "execution_count": 130,
   "metadata": {
    "scrolled": true
   },
   "outputs": [
    {
     "data": {
      "text/plain": [
       "naAromAtom    True\n",
       "nAromBond     True\n",
       "BCUTc-1l      True\n",
       "BCUTc-1h      True\n",
       "BCUTp-1h      True\n",
       "nBondsM       True\n",
       "SpMin1_Bhm    True\n",
       "SpMin2_Bhm    True\n",
       "SpMin3_Bhm    True\n",
       "SpMin4_Bhm    True\n",
       "SpMax1_Bhv    True\n",
       "SpMax2_Bhv    True\n",
       "SpMin1_Bhv    True\n",
       "SpMax1_Bhe    True\n",
       "SpMax3_Bhe    True\n",
       "SpMin1_Bhe    True\n",
       "SpMin2_Bhe    True\n",
       "SpMin4_Bhe    True\n",
       "SpMin6_Bhe    True\n",
       "SpMax1_Bhp    True\n",
       "SpMax2_Bhp    True\n",
       "SpMax3_Bhp    True\n",
       "SpMin1_Bhp    True\n",
       "SpMax1_Bhi    True\n",
       "SpMin1_Bhi    True\n",
       "SpMin2_Bhi    True\n",
       "nAtomP        True\n",
       "MDEC-33       True\n",
       "MDEN-22       True\n",
       "MDEN-23       True\n",
       "piPC5         True\n",
       "piPC7         True\n",
       "piPC8         True\n",
       "piPC9         True\n",
       "piPC10        True\n",
       "TpiPC         True\n",
       "R_TpiPCTPC    True\n",
       "nTRing        True\n",
       "dtype: bool"
      ]
     },
     "execution_count": 130,
     "metadata": {},
     "output_type": "execute_result"
    }
   ],
   "source": [
    "(X_main == second_chance.drop(columns='pChemBL',inplace=False)).all()"
   ]
  },
  {
   "cell_type": "markdown",
   "metadata": {},
   "source": [
    "conclusion: Model is fine"
   ]
  },
  {
   "cell_type": "code",
   "execution_count": 134,
   "metadata": {},
   "outputs": [
    {
     "data": {
      "text/plain": [
       "38"
      ]
     },
     "execution_count": 134,
     "metadata": {},
     "output_type": "execute_result"
    }
   ],
   "source": [
    "cols = X_main.columns\n",
    "len(cols)"
   ]
  },
  {
   "cell_type": "code",
   "execution_count": 137,
   "metadata": {},
   "outputs": [],
   "source": [
    "with open('./saved_models/good_columns','wb') as f:\n",
    "    pkl.dump(cols,f)"
   ]
  },
  {
   "cell_type": "code",
   "execution_count": 148,
   "metadata": {},
   "outputs": [
    {
     "name": "stdout",
     "output_type": "stream",
     "text": [
      "0    0\n",
      "1    0\n",
      "2    0\n",
      "3    0\n",
      "4    0\n",
      "5    0\n",
      "6    0\n",
      "7    0\n",
      "8    0\n",
      "dtype: int64\n"
     ]
    }
   ],
   "source": [
    "get_padel(r'.\\mol','./descriptors.csv')\n",
    "\n",
    "xg_all = pd.read_csv('./descriptors.csv')\n",
    "\n",
    "names = xg_all['Name']\n",
    "\n",
    "bad = []\n",
    "with open('./saved_models/good_columns','rb') as f:\n",
    "    cols = pkl.load(f)\n",
    "for col in xg_all.columns:\n",
    "    if col not in cols:\n",
    "        bad.append(col)\n",
    "xg_all.drop(columns=bad,inplace=True)\n",
    "\n",
    "xg_all['Name'] = names\n",
    "\n",
    "files = xg_all[pd.isnull(xg_all).any(axis=1)]['Name']\n",
    "xg_all.dropna(inplace=True)\n",
    "mol= []\n",
    "for file in files:\n",
    "    m = Chem.MolFromMolFile('C:\\\\Users\\\\HP\\\\AZC_Internship\\\\Data\\\\molecular data\\\\AKT_mol\\\\'+str(file)+'.mol')\n",
    "    mol.append(m)\n",
    "\n",
    "i = 0\n",
    "folder_path = './unevalmol/'\n",
    "for m in mol:\n",
    "    print(Chem.MolToMolBlock((m)),file=open(str(folder_path)+str(files[i])+'.mol','w'))\n",
    "    i = i +1\n",
    "get_padel(r'C:\\Users\\HP\\AZC_Internship\\jupyter notebooks\\unevalmol','./uneval_desc.csv','-1')\n",
    "unevalmol = pd.read_csv('./uneval_desc.csv')\n",
    "\n",
    "\n",
    "unevalmol.drop(columns=bad,inplace=True)\n",
    "print(unevalmol.isna().sum(axis=1))\n",
    "\n",
    "regressor = xgb.XGBRegressor()\n",
    "regressor.load_model('./saved_models/best_from_gs38.model')\n"
   ]
  },
  {
   "cell_type": "code",
   "execution_count": 150,
   "metadata": {
    "scrolled": true
   },
   "outputs": [
    {
     "data": {
      "text/plain": [
       "(array([ 0.,  6., 66., 25.,  0.,  0.]),\n",
       " array([ 4.,  5.,  6.,  7.,  8.,  9., 10.]),\n",
       " <a list of 6 Patch objects>)"
      ]
     },
     "execution_count": 150,
     "metadata": {},
     "output_type": "execute_result"
    },
    {
     "data": {
      "image/png": "[encoded data removed]",
      "text/plain": [
       "<Figure size 432x288 with 1 Axes>"
      ]
     },
     "metadata": {
      "needs_background": "light"
     },
     "output_type": "display_data"
    }
   ],
   "source": [
    "xg_all_all = pd.concat([xg_all,unevalmol])\n",
    "xg_all_all.sort_values(by='Name',inplace=True)\n",
    "xg_all_all.drop(columns='Name',inplace=True)\n",
    "preds = reg.predict(xg_all_all)\n",
    "\n",
    "bins=np.linspace(4,10,7)\n",
    "plt.hist(preds,bins=bins,alpha=0.5,color='red')"
   ]
  },
  {
   "cell_type": "code",
   "execution_count": 152,
   "metadata": {},
   "outputs": [
    {
     "data": {
      "text/plain": [
       "38"
      ]
     },
     "execution_count": 152,
     "metadata": {},
     "output_type": "execute_result"
    }
   ],
   "source": [
    "len(unevalmol.columns)"
   ]
  },
  {
   "cell_type": "markdown",
   "metadata": {},
   "source": [
    "<h1>Complete"
   ]
  },
  {
   "cell_type": "code",
   "execution_count": null,
   "metadata": {},
   "outputs": [],
   "source": []
  }
 ],
 "metadata": {
  "kernelspec": {
   "display_name": "Python 3",
   "language": "python",
   "name": "python3"
  },
  "language_info": {
   "codemirror_mode": {
    "name": "ipython",
    "version": 3
   },
   "file_extension": ".py",
   "mimetype": "text/x-python",
   "name": "python",
   "nbconvert_exporter": "python",
   "pygments_lexer": "ipython3",
   "version": "3.7.3"
  }
 },
 "nbformat": 4,
 "nbformat_minor": 4
}
