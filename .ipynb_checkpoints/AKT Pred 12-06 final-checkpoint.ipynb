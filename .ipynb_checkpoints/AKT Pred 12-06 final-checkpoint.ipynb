{
 "cells": [
  {
   "cell_type": "code",
   "execution_count": 1,
   "metadata": {},
   "outputs": [
    {
     "name": "stderr",
     "output_type": "stream",
     "text": [
      "RDKit WARNING: [14:17:50] Enabling RDKit 2019.09.3 jupyter extensions\n"
     ]
    }
   ],
   "source": [
    "import pandas as pd\n",
    "import numpy as np\n",
    "import matplotlib.pyplot as plt\n",
    "from rdkit import Chem as ch\n",
    "import tensorflow as tf\n",
    "from sklearn.metrics import mean_squared_error\n",
    "from sklearn.linear_model import LinearRegression\n",
    "from sklearn.model_selection import train_test_split\n",
    "from sklearn.preprocessing import StandardScaler, MinMaxScaler\n",
    "from sklearn.ensemble import RandomForestRegressor\n",
    "import pickle"
   ]
  },
  {
   "cell_type": "code",
   "execution_count": null,
   "metadata": {},
   "outputs": [],
   "source": [
    "Pkl_Filename = \"Pickle_RL_Model.pkl\"  \n",
    "\n",
    "with open(Pkl_Filename, 'wb') as file:  \n",
    "    pickle.dump(LR_Model, file)\n",
    "with open(Pkl_Filename, 'rb') as file:  \n",
    "    Pickled_LR_Model = pickle.load(file)"
   ]
  },
  {
   "cell_type": "code",
   "execution_count": null,
   "metadata": {},
   "outputs": [],
   "source": [
    "import os\n",
    "os.system('java -jar PaDEL-Descriptor.jar -dir \"C:/Users/HP/AZC_Internship/jupyter notebooks/lol\" -2d -file \"C:/Users/HP/AZC_Internship/jupyter notebooks/trail2.csv\" -usefilenameasmolname')"
   ]
  },
  {
   "cell_type": "code",
   "execution_count": null,
   "metadata": {},
   "outputs": [],
   "source": [
    "string = 'java -jar C:\\\\Users\\HP\\\\PaDEL-Descriptor\\\\PaDEL-Descriptor.jar -dir \"C:/Users/HP/AZC_Internship/jupyter notebooks/lol\" -2d -file \"C:/Users/HP/AZC_Internship/jupyter notebooks/trail2.csv\" -usefilenameasmolname'\n",
    "cmd_list = string.split(' ')\n",
    "cmd_list"
   ]
  },
  {
   "cell_type": "code",
   "execution_count": 33,
   "metadata": {},
   "outputs": [
    {
     "data": {
      "text/plain": [
       "['java',\n",
       " '-jar',\n",
       " 'C:\\\\Users\\\\HP\\\\PaDEL-Descriptor\\\\PaDEL-Descriptor.jar',\n",
       " '-dir',\n",
       " 'C:\\\\Users\\\\HP/AZC_Internship/jupyter notebooks/lol',\n",
       " '-2d',\n",
       " '-file',\n",
       " 'C:/Users/HP/AZC_Internship/jupyter notebooks/trail2.csv',\n",
       " '-maxruntime',\n",
       " '900',\n",
       " '-usefilenameasmolname']"
      ]
     },
     "execution_count": 33,
     "metadata": {},
     "output_type": "execute_result"
    }
   ],
   "source": [
    "cmd_list = ['java',\n",
    " '-jar',\n",
    " 'C:\\\\Users\\\\HP\\\\PaDEL-Descriptor\\\\PaDEL-Descriptor.jar',\n",
    " '-dir',\n",
    " 'C:\\\\Users\\\\HP/AZC_Internship/jupyter notebooks/lol',\n",
    " '-2d',\n",
    " '-file',\n",
    " 'C:/Users/HP/AZC_Internship/jupyter notebooks/trail2.csv',\n",
    "'-maxruntime', '3000'\n",
    " '-usefilenameasmolname'\n",
    " ]\n",
    "cmd_list"
   ]
  },
  {
   "cell_type": "code",
   "execution_count": 37,
   "metadata": {},
   "outputs": [],
   "source": [
    "import subprocess\n",
    "out = subprocess.Popen(cmd_list, \n",
    "           stdout=subprocess.PIPE, \n",
    "           stderr=subprocess.STDOUT)"
   ]
  },
  {
   "cell_type": "code",
   "execution_count": 38,
   "metadata": {},
   "outputs": [
    {
     "name": "stdout",
     "output_type": "stream",
     "text": [
      "(b'Descriptor calculation completed in 0.788 secs . Average speed: 0.79 s/mol.\\r\\n', None)\n",
      "None\n"
     ]
    }
   ],
   "source": [
    "stdout,stderr = out.communicate()\n",
    "print(stdout)\n",
    "print(stderr)"
   ]
  },
  {
   "cell_type": "code",
   "execution_count": 26,
   "metadata": {},
   "outputs": [
    {
     "data": {
      "text/plain": [
       "str"
      ]
     },
     "execution_count": 26,
     "metadata": {},
     "output_type": "execute_result"
    }
   ],
   "source": [
    "stdout = stdout.decode('utf-8')\n",
    "type(stdout)"
   ]
  },
  {
   "cell_type": "code",
   "execution_count": 2,
   "metadata": {},
   "outputs": [
    {
     "ename": "NameError",
     "evalue": "name 'bad_cols' is not defined",
     "output_type": "error",
     "traceback": [
      "\u001b[1;31m---------------------------------------------------------------------------\u001b[0m",
      "\u001b[1;31mNameError\u001b[0m                                 Traceback (most recent call last)",
      "\u001b[1;32m<ipython-input-2-22fd811c47d7>\u001b[0m in \u001b[0;36m<module>\u001b[1;34m\u001b[0m\n\u001b[0;32m      4\u001b[0m \u001b[0mX\u001b[0m\u001b[1;33m.\u001b[0m\u001b[0mhead\u001b[0m\u001b[1;33m(\u001b[0m\u001b[1;33m)\u001b[0m\u001b[1;33m\u001b[0m\u001b[1;33m\u001b[0m\u001b[0m\n\u001b[0;32m      5\u001b[0m \u001b[1;32mwith\u001b[0m \u001b[0mopen\u001b[0m\u001b[1;33m(\u001b[0m\u001b[1;34m'./saved_models/drop1.txt'\u001b[0m\u001b[1;33m,\u001b[0m\u001b[1;34m'wb'\u001b[0m\u001b[1;33m)\u001b[0m \u001b[1;32mas\u001b[0m \u001b[0mfp\u001b[0m\u001b[1;33m:\u001b[0m\u001b[1;33m\u001b[0m\u001b[1;33m\u001b[0m\u001b[0m\n\u001b[1;32m----> 6\u001b[1;33m     \u001b[0mpickle\u001b[0m\u001b[1;33m.\u001b[0m\u001b[0mdump\u001b[0m\u001b[1;33m(\u001b[0m\u001b[0mbad_cols\u001b[0m\u001b[1;33m,\u001b[0m\u001b[0mfp\u001b[0m\u001b[1;33m)\u001b[0m\u001b[1;33m\u001b[0m\u001b[1;33m\u001b[0m\u001b[0m\n\u001b[0m\u001b[0;32m      7\u001b[0m \u001b[1;32mwith\u001b[0m \u001b[0mopen\u001b[0m\u001b[1;33m(\u001b[0m\u001b[1;34m'./saved_models/drop1.txt'\u001b[0m\u001b[1;33m,\u001b[0m\u001b[1;34m'rb'\u001b[0m\u001b[1;33m)\u001b[0m \u001b[1;32mas\u001b[0m \u001b[0mfp\u001b[0m\u001b[1;33m:\u001b[0m\u001b[1;33m\u001b[0m\u001b[1;33m\u001b[0m\u001b[0m\n\u001b[0;32m      8\u001b[0m     \u001b[0mb\u001b[0m \u001b[1;33m=\u001b[0m \u001b[0mpickle\u001b[0m\u001b[1;33m.\u001b[0m\u001b[0mload\u001b[0m\u001b[1;33m(\u001b[0m\u001b[0mfp\u001b[0m\u001b[1;33m)\u001b[0m\u001b[1;33m\u001b[0m\u001b[1;33m\u001b[0m\u001b[0m\n",
      "\u001b[1;31mNameError\u001b[0m: name 'bad_cols' is not defined"
     ]
    }
   ],
   "source": [
    "import pickle\n",
    "with open('./saved_models/drop1.txt','wb') as fp:\n",
    "    pickle.dump(bad_cols,fp)\n",
    "with open('./saved_models/drop1.txt','rb') as fp:\n",
    "    b = pickle.load(fp)"
   ]
  },
  {
   "cell_type": "code",
   "execution_count": null,
   "metadata": {},
   "outputs": [],
   "source": [
    "b == bad_cols"
   ]
  },
  {
   "cell_type": "code",
   "execution_count": 8,
   "metadata": {},
   "outputs": [
    {
     "name": "stderr",
     "output_type": "stream",
     "text": [
      "C:\\Users\\HP\\Anaconda3\\lib\\site-packages\\ipykernel_launcher.py:8: DataConversionWarning: Data with input dtype int64, float64 were all converted to float64 by StandardScaler.\n",
      "  \n"
     ]
    },
    {
     "data": {
      "text/html": [
       "<div>\n",
       "<style scoped>\n",
       "    .dataframe tbody tr th:only-of-type {\n",
       "        vertical-align: middle;\n",
       "    }\n",
       "\n",
       "    .dataframe tbody tr th {\n",
       "        vertical-align: top;\n",
       "    }\n",
       "\n",
       "    .dataframe thead th {\n",
       "        text-align: right;\n",
       "    }\n",
       "</style>\n",
       "<table border=\"1\" class=\"dataframe\">\n",
       "  <thead>\n",
       "    <tr style=\"text-align: right;\">\n",
       "      <th></th>\n",
       "      <th>nAcid</th>\n",
       "      <th>ALogP</th>\n",
       "      <th>ALogp2</th>\n",
       "      <th>AMR</th>\n",
       "      <th>apol</th>\n",
       "      <th>naAromAtom</th>\n",
       "      <th>nAromBond</th>\n",
       "      <th>nAtom</th>\n",
       "      <th>nHeavyAtom</th>\n",
       "      <th>nH</th>\n",
       "      <th>...</th>\n",
       "      <th>AMW</th>\n",
       "      <th>WTPT-1</th>\n",
       "      <th>WTPT-2</th>\n",
       "      <th>WTPT-3</th>\n",
       "      <th>WTPT-4</th>\n",
       "      <th>WTPT-5</th>\n",
       "      <th>WPATH</th>\n",
       "      <th>WPOL</th>\n",
       "      <th>XLogP</th>\n",
       "      <th>Zagreb</th>\n",
       "    </tr>\n",
       "  </thead>\n",
       "  <tbody>\n",
       "    <tr>\n",
       "      <th>0</th>\n",
       "      <td>-0.144994</td>\n",
       "      <td>1.843406</td>\n",
       "      <td>0.059879</td>\n",
       "      <td>1.52971</td>\n",
       "      <td>-1.092956</td>\n",
       "      <td>-2.509253</td>\n",
       "      <td>-2.374302</td>\n",
       "      <td>-1.060352</td>\n",
       "      <td>-0.883322</td>\n",
       "      <td>-1.117241</td>\n",
       "      <td>...</td>\n",
       "      <td>1.762918</td>\n",
       "      <td>-0.995279</td>\n",
       "      <td>-1.544535</td>\n",
       "      <td>-0.383895</td>\n",
       "      <td>-0.241307</td>\n",
       "      <td>-1.323837</td>\n",
       "      <td>-0.540236</td>\n",
       "      <td>-0.979008</td>\n",
       "      <td>-0.486992</td>\n",
       "      <td>-0.901938</td>\n",
       "    </tr>\n",
       "  </tbody>\n",
       "</table>\n",
       "<p>1 rows × 1208 columns</p>\n",
       "</div>"
      ],
      "text/plain": [
       "      nAcid     ALogP    ALogp2      AMR      apol  naAromAtom  nAromBond  \\\n",
       "0 -0.144994  1.843406  0.059879  1.52971 -1.092956   -2.509253  -2.374302   \n",
       "\n",
       "      nAtom  nHeavyAtom        nH  ...       AMW    WTPT-1    WTPT-2  \\\n",
       "0 -1.060352   -0.883322 -1.117241  ...  1.762918 -0.995279 -1.544535   \n",
       "\n",
       "     WTPT-3    WTPT-4    WTPT-5     WPATH      WPOL     XLogP    Zagreb  \n",
       "0 -0.383895 -0.241307 -1.323837 -0.540236 -0.979008 -0.486992 -0.901938  \n",
       "\n",
       "[1 rows x 1208 columns]"
      ]
     },
     "execution_count": 8,
     "metadata": {},
     "output_type": "execute_result"
    }
   ],
   "source": [
    "X = pd.read_csv('./trail2.csv')\n",
    "with open('./saved_models/drop1.txt','rb') as fp:\n",
    "    bad_cols = pickle.load(fp)\n",
    "X.drop(columns=bad_cols,inplace=True)\n",
    "X.drop(columns='Name',inplace=True)\n",
    "with open('./saved_models/scaler.pkl','rb') as fp:\n",
    "    scaler = pickle.load(fp)\n",
    "X2 = scaler.transform(X)\n",
    "X = pd.DataFrame(data=X2,columns=X.columns)\n",
    "X.head()"
   ]
  },
  {
   "cell_type": "code",
   "execution_count": 11,
   "metadata": {},
   "outputs": [],
   "source": [
    "with open('./saved_models/drop2.txt','rb') as fp:\n",
    "    bad_cols = pickle.load(fp)\n",
    "X.drop(columns=bad_cols,inplace=True)"
   ]
  },
  {
   "cell_type": "code",
   "execution_count": 12,
   "metadata": {},
   "outputs": [
    {
     "data": {
      "text/html": [
       "<div>\n",
       "<style scoped>\n",
       "    .dataframe tbody tr th:only-of-type {\n",
       "        vertical-align: middle;\n",
       "    }\n",
       "\n",
       "    .dataframe tbody tr th {\n",
       "        vertical-align: top;\n",
       "    }\n",
       "\n",
       "    .dataframe thead th {\n",
       "        text-align: right;\n",
       "    }\n",
       "</style>\n",
       "<table border=\"1\" class=\"dataframe\">\n",
       "  <thead>\n",
       "    <tr style=\"text-align: right;\">\n",
       "      <th></th>\n",
       "      <th>nAcid</th>\n",
       "      <th>ALogP</th>\n",
       "      <th>ALogp2</th>\n",
       "      <th>nN</th>\n",
       "      <th>nO</th>\n",
       "      <th>nP</th>\n",
       "      <th>AATS1m</th>\n",
       "      <th>AATS5m</th>\n",
       "      <th>AATS6m</th>\n",
       "      <th>AATS1v</th>\n",
       "      <th>...</th>\n",
       "      <th>SRW4</th>\n",
       "      <th>SRW6</th>\n",
       "      <th>SRW8</th>\n",
       "      <th>SRW10</th>\n",
       "      <th>TSRW</th>\n",
       "      <th>WTPT-2</th>\n",
       "      <th>WTPT-4</th>\n",
       "      <th>WTPT-5</th>\n",
       "      <th>WPATH</th>\n",
       "      <th>XLogP</th>\n",
       "    </tr>\n",
       "  </thead>\n",
       "  <tbody>\n",
       "    <tr>\n",
       "      <th>0</th>\n",
       "      <td>-0.144994</td>\n",
       "      <td>1.843406</td>\n",
       "      <td>0.059879</td>\n",
       "      <td>-1.227463</td>\n",
       "      <td>-0.110849</td>\n",
       "      <td>-0.097607</td>\n",
       "      <td>2.47341</td>\n",
       "      <td>0.568963</td>\n",
       "      <td>2.078253</td>\n",
       "      <td>1.497761</td>\n",
       "      <td>...</td>\n",
       "      <td>-0.896763</td>\n",
       "      <td>-0.743888</td>\n",
       "      <td>-0.673486</td>\n",
       "      <td>-0.644734</td>\n",
       "      <td>-0.650316</td>\n",
       "      <td>-1.544535</td>\n",
       "      <td>-0.241307</td>\n",
       "      <td>-1.323837</td>\n",
       "      <td>-0.540236</td>\n",
       "      <td>-0.486992</td>\n",
       "    </tr>\n",
       "  </tbody>\n",
       "</table>\n",
       "<p>1 rows × 451 columns</p>\n",
       "</div>"
      ],
      "text/plain": [
       "      nAcid     ALogP    ALogp2        nN        nO        nP   AATS1m  \\\n",
       "0 -0.144994  1.843406  0.059879 -1.227463 -0.110849 -0.097607  2.47341   \n",
       "\n",
       "     AATS5m    AATS6m    AATS1v  ...      SRW4      SRW6      SRW8     SRW10  \\\n",
       "0  0.568963  2.078253  1.497761  ... -0.896763 -0.743888 -0.673486 -0.644734   \n",
       "\n",
       "       TSRW    WTPT-2    WTPT-4    WTPT-5     WPATH     XLogP  \n",
       "0 -0.650316 -1.544535 -0.241307 -1.323837 -0.540236 -0.486992  \n",
       "\n",
       "[1 rows x 451 columns]"
      ]
     },
     "execution_count": 12,
     "metadata": {},
     "output_type": "execute_result"
    }
   ],
   "source": [
    "X.head()"
   ]
  },
  {
   "cell_type": "code",
   "execution_count": 16,
   "metadata": {},
   "outputs": [
    {
     "data": {
      "text/html": [
       "<div>\n",
       "<style scoped>\n",
       "    .dataframe tbody tr th:only-of-type {\n",
       "        vertical-align: middle;\n",
       "    }\n",
       "\n",
       "    .dataframe tbody tr th {\n",
       "        vertical-align: top;\n",
       "    }\n",
       "\n",
       "    .dataframe thead th {\n",
       "        text-align: right;\n",
       "    }\n",
       "</style>\n",
       "<table border=\"1\" class=\"dataframe\">\n",
       "  <thead>\n",
       "    <tr style=\"text-align: right;\">\n",
       "      <th></th>\n",
       "      <th>comp1</th>\n",
       "      <th>comp2</th>\n",
       "      <th>comp3</th>\n",
       "      <th>comp4</th>\n",
       "      <th>comp5</th>\n",
       "      <th>comp6</th>\n",
       "      <th>comp7</th>\n",
       "      <th>comp8</th>\n",
       "      <th>comp9</th>\n",
       "      <th>comp10</th>\n",
       "      <th>...</th>\n",
       "      <th>comp51</th>\n",
       "      <th>comp52</th>\n",
       "      <th>comp53</th>\n",
       "      <th>comp54</th>\n",
       "      <th>comp55</th>\n",
       "      <th>comp56</th>\n",
       "      <th>comp57</th>\n",
       "      <th>comp58</th>\n",
       "      <th>comp59</th>\n",
       "      <th>comp60</th>\n",
       "    </tr>\n",
       "  </thead>\n",
       "  <tbody>\n",
       "    <tr>\n",
       "      <th>0</th>\n",
       "      <td>-9.106822</td>\n",
       "      <td>8.963985</td>\n",
       "      <td>7.494816</td>\n",
       "      <td>-0.909403</td>\n",
       "      <td>3.096837</td>\n",
       "      <td>-8.911748</td>\n",
       "      <td>-1.978995</td>\n",
       "      <td>12.41061</td>\n",
       "      <td>-0.67315</td>\n",
       "      <td>2.1844</td>\n",
       "      <td>...</td>\n",
       "      <td>4.67498</td>\n",
       "      <td>2.490114</td>\n",
       "      <td>-0.649474</td>\n",
       "      <td>-2.096191</td>\n",
       "      <td>1.755488</td>\n",
       "      <td>2.007437</td>\n",
       "      <td>2.253845</td>\n",
       "      <td>2.086251</td>\n",
       "      <td>1.722187</td>\n",
       "      <td>0.993697</td>\n",
       "    </tr>\n",
       "  </tbody>\n",
       "</table>\n",
       "<p>1 rows × 60 columns</p>\n",
       "</div>"
      ],
      "text/plain": [
       "      comp1     comp2     comp3     comp4     comp5     comp6     comp7  \\\n",
       "0 -9.106822  8.963985  7.494816 -0.909403  3.096837 -8.911748 -1.978995   \n",
       "\n",
       "      comp8    comp9  comp10  ...   comp51    comp52    comp53    comp54  \\\n",
       "0  12.41061 -0.67315  2.1844  ...  4.67498  2.490114 -0.649474 -2.096191   \n",
       "\n",
       "     comp55    comp56    comp57    comp58    comp59    comp60  \n",
       "0  1.755488  2.007437  2.253845  2.086251  1.722187  0.993697  \n",
       "\n",
       "[1 rows x 60 columns]"
      ]
     },
     "execution_count": 16,
     "metadata": {},
     "output_type": "execute_result"
    }
   ],
   "source": [
    "with open('./saved_models/pca.pkl','rb') as fp:\n",
    "    pca = pickle.load(fp)\n",
    "cols = []\n",
    "for i in range(pca.n_components):\n",
    "    cols.append('comp'+str(i+1))\n",
    "principalComponents= pca.transform(X)\n",
    "X_red = pd.DataFrame(data=principalComponents, columns=cols)\n",
    "X_red.head()"
   ]
  },
  {
   "cell_type": "code",
   "execution_count": 18,
   "metadata": {},
   "outputs": [],
   "source": [
    "with open('./saved_models/predictor.pkl','rb') as fp:\n",
    "    pp = pickle.load(fp)\n",
    "prediction = pp.predict(X_red)"
   ]
  },
  {
   "cell_type": "code",
   "execution_count": 19,
   "metadata": {},
   "outputs": [
    {
     "data": {
      "text/plain": [
       "array([5.88227952])"
      ]
     },
     "execution_count": 19,
     "metadata": {},
     "output_type": "execute_result"
    }
   ],
   "source": [
    "prediction"
   ]
  },
  {
   "cell_type": "code",
   "execution_count": 3,
   "metadata": {},
   "outputs": [
    {
     "data": {
      "text/html": [
       "<div>\n",
       "<style scoped>\n",
       "    .dataframe tbody tr th:only-of-type {\n",
       "        vertical-align: middle;\n",
       "    }\n",
       "\n",
       "    .dataframe tbody tr th {\n",
       "        vertical-align: top;\n",
       "    }\n",
       "\n",
       "    .dataframe thead th {\n",
       "        text-align: right;\n",
       "    }\n",
       "</style>\n",
       "<table border=\"1\" class=\"dataframe\">\n",
       "  <thead>\n",
       "    <tr style=\"text-align: right;\">\n",
       "      <th></th>\n",
       "      <th>Sno</th>\n",
       "      <th>ChEMBL_ID</th>\n",
       "      <th>Smiles</th>\n",
       "      <th>Standard_Value</th>\n",
       "      <th>Standard_Units</th>\n",
       "      <th>pChEMBL_Value</th>\n",
       "      <th>Class</th>\n",
       "    </tr>\n",
       "  </thead>\n",
       "  <tbody>\n",
       "    <tr>\n",
       "      <th>0</th>\n",
       "      <td>1</td>\n",
       "      <td>CHEMBL3403664</td>\n",
       "      <td>C[C@H](Nc1ncnc(N)c1C#N)c1nc2ccc(F)cc2c(S(C)(=O...</td>\n",
       "      <td>0.10</td>\n",
       "      <td>nM</td>\n",
       "      <td>10.00</td>\n",
       "      <td>1</td>\n",
       "    </tr>\n",
       "    <tr>\n",
       "      <th>1</th>\n",
       "      <td>2</td>\n",
       "      <td>CHEMBL3899716</td>\n",
       "      <td>Cc1cc(-c2cn(CCN3CCC3)c(C3CCN(c4ncnc(N)c4Br)CC3...</td>\n",
       "      <td>0.10</td>\n",
       "      <td>nM</td>\n",
       "      <td>10.00</td>\n",
       "      <td>1</td>\n",
       "    </tr>\n",
       "    <tr>\n",
       "      <th>2</th>\n",
       "      <td>3</td>\n",
       "      <td>CHEMBL3966806</td>\n",
       "      <td>CC(C)c1cc(-c2cn(CCN3CCC3)c(C3CCN(c4ncnc(N)c4Br...</td>\n",
       "      <td>0.15</td>\n",
       "      <td>nM</td>\n",
       "      <td>9.82</td>\n",
       "      <td>1</td>\n",
       "    </tr>\n",
       "    <tr>\n",
       "      <th>3</th>\n",
       "      <td>4</td>\n",
       "      <td>CHEMBL379300</td>\n",
       "      <td>Cc1n[nH]c2ccc(-c3cncc(OC[C@@H](N)Cc4c[nH]c5ccc...</td>\n",
       "      <td>0.16</td>\n",
       "      <td>nM</td>\n",
       "      <td>9.80</td>\n",
       "      <td>1</td>\n",
       "    </tr>\n",
       "    <tr>\n",
       "      <th>4</th>\n",
       "      <td>5</td>\n",
       "      <td>CHEMBL573326</td>\n",
       "      <td>N[C@H](COc1cncc(-c2ccc3c(c2)C(c2ccco2)C(=O)N3)...</td>\n",
       "      <td>0.17</td>\n",
       "      <td>nM</td>\n",
       "      <td>9.77</td>\n",
       "      <td>1</td>\n",
       "    </tr>\n",
       "  </tbody>\n",
       "</table>\n",
       "</div>"
      ],
      "text/plain": [
       "   Sno      ChEMBL_ID                                             Smiles  \\\n",
       "0    1  CHEMBL3403664  C[C@H](Nc1ncnc(N)c1C#N)c1nc2ccc(F)cc2c(S(C)(=O...   \n",
       "1    2  CHEMBL3899716  Cc1cc(-c2cn(CCN3CCC3)c(C3CCN(c4ncnc(N)c4Br)CC3...   \n",
       "2    3  CHEMBL3966806  CC(C)c1cc(-c2cn(CCN3CCC3)c(C3CCN(c4ncnc(N)c4Br...   \n",
       "3    4   CHEMBL379300  Cc1n[nH]c2ccc(-c3cncc(OC[C@@H](N)Cc4c[nH]c5ccc...   \n",
       "4    5   CHEMBL573326  N[C@H](COc1cncc(-c2ccc3c(c2)C(c2ccco2)C(=O)N3)...   \n",
       "\n",
       "   Standard_Value Standard_Units  pChEMBL_Value  Class  \n",
       "0            0.10             nM          10.00      1  \n",
       "1            0.10             nM          10.00      1  \n",
       "2            0.15             nM           9.82      1  \n",
       "3            0.16             nM           9.80      1  \n",
       "4            0.17             nM           9.77      1  "
      ]
     },
     "execution_count": 3,
     "metadata": {},
     "output_type": "execute_result"
    }
   ],
   "source": [
    "df = pd.read_excel('C:\\\\Users\\\\HP\\\\AZC_Internship\\\\Data\\\\ChemBL\\\\AKT-binding_simplified.xlsx',sheet_name='Step3')\n",
    "df.head()"
   ]
  },
  {
   "cell_type": "code",
   "execution_count": 5,
   "metadata": {},
   "outputs": [],
   "source": [
    "df.drop(columns=['Sno','ChEMBL_ID','Standard_Value','Standard_Units','Class'],inplace=True)"
   ]
  },
  {
   "cell_type": "code",
   "execution_count": 7,
   "metadata": {},
   "outputs": [
    {
     "data": {
      "text/html": [
       "<div>\n",
       "<style scoped>\n",
       "    .dataframe tbody tr th:only-of-type {\n",
       "        vertical-align: middle;\n",
       "    }\n",
       "\n",
       "    .dataframe tbody tr th {\n",
       "        vertical-align: top;\n",
       "    }\n",
       "\n",
       "    .dataframe thead th {\n",
       "        text-align: right;\n",
       "    }\n",
       "</style>\n",
       "<table border=\"1\" class=\"dataframe\">\n",
       "  <thead>\n",
       "    <tr style=\"text-align: right;\">\n",
       "      <th></th>\n",
       "      <th>Smiles</th>\n",
       "      <th>pChEMBL_Value</th>\n",
       "    </tr>\n",
       "  </thead>\n",
       "  <tbody>\n",
       "    <tr>\n",
       "      <th>0</th>\n",
       "      <td>C[C@H](Nc1ncnc(N)c1C#N)c1nc2ccc(F)cc2c(S(C)(=O...</td>\n",
       "      <td>10.00</td>\n",
       "    </tr>\n",
       "    <tr>\n",
       "      <th>1</th>\n",
       "      <td>Cc1cc(-c2cn(CCN3CCC3)c(C3CCN(c4ncnc(N)c4Br)CC3...</td>\n",
       "      <td>10.00</td>\n",
       "    </tr>\n",
       "    <tr>\n",
       "      <th>2</th>\n",
       "      <td>CC(C)c1cc(-c2cn(CCN3CCC3)c(C3CCN(c4ncnc(N)c4Br...</td>\n",
       "      <td>9.82</td>\n",
       "    </tr>\n",
       "    <tr>\n",
       "      <th>3</th>\n",
       "      <td>Cc1n[nH]c2ccc(-c3cncc(OC[C@@H](N)Cc4c[nH]c5ccc...</td>\n",
       "      <td>9.80</td>\n",
       "    </tr>\n",
       "    <tr>\n",
       "      <th>4</th>\n",
       "      <td>N[C@H](COc1cncc(-c2ccc3c(c2)C(c2ccco2)C(=O)N3)...</td>\n",
       "      <td>9.77</td>\n",
       "    </tr>\n",
       "  </tbody>\n",
       "</table>\n",
       "</div>"
      ],
      "text/plain": [
       "                                              Smiles  pChEMBL_Value\n",
       "0  C[C@H](Nc1ncnc(N)c1C#N)c1nc2ccc(F)cc2c(S(C)(=O...          10.00\n",
       "1  Cc1cc(-c2cn(CCN3CCC3)c(C3CCN(c4ncnc(N)c4Br)CC3...          10.00\n",
       "2  CC(C)c1cc(-c2cn(CCN3CCC3)c(C3CCN(c4ncnc(N)c4Br...           9.82\n",
       "3  Cc1n[nH]c2ccc(-c3cncc(OC[C@@H](N)Cc4c[nH]c5ccc...           9.80\n",
       "4  N[C@H](COc1cncc(-c2ccc3c(c2)C(c2ccco2)C(=O)N3)...           9.77"
      ]
     },
     "execution_count": 7,
     "metadata": {},
     "output_type": "execute_result"
    }
   ],
   "source": [
    "df.head()"
   ]
  },
  {
   "cell_type": "code",
   "execution_count": 19,
   "metadata": {},
   "outputs": [],
   "source": [
    "df2 = df.sample(frac=(600/2861))"
   ]
  },
  {
   "cell_type": "code",
   "execution_count": 20,
   "metadata": {},
   "outputs": [
    {
     "data": {
      "text/html": [
       "<div>\n",
       "<style scoped>\n",
       "    .dataframe tbody tr th:only-of-type {\n",
       "        vertical-align: middle;\n",
       "    }\n",
       "\n",
       "    .dataframe tbody tr th {\n",
       "        vertical-align: top;\n",
       "    }\n",
       "\n",
       "    .dataframe thead th {\n",
       "        text-align: right;\n",
       "    }\n",
       "</style>\n",
       "<table border=\"1\" class=\"dataframe\">\n",
       "  <thead>\n",
       "    <tr style=\"text-align: right;\">\n",
       "      <th></th>\n",
       "      <th>Smiles</th>\n",
       "      <th>pChEMBL_Value</th>\n",
       "    </tr>\n",
       "  </thead>\n",
       "  <tbody>\n",
       "    <tr>\n",
       "      <th>919</th>\n",
       "      <td>CCc1c(N)ncnc1N1CCC(c2nc(-c3cncc(Cl)c3)cn2CCN2C...</td>\n",
       "      <td>7.51</td>\n",
       "    </tr>\n",
       "    <tr>\n",
       "      <th>1601</th>\n",
       "      <td>Cc1nc(NC(=O)N2CC[C@H](O)[C@H]2C(N)=O)sc1-c1csc...</td>\n",
       "      <td>6.75</td>\n",
       "    </tr>\n",
       "    <tr>\n",
       "      <th>2457</th>\n",
       "      <td>CCCN(C)Cc1ccc(-c2nnc3n2-c2cccnc2Nc2ccccc2-3)cc1</td>\n",
       "      <td>5.60</td>\n",
       "    </tr>\n",
       "    <tr>\n",
       "      <th>455</th>\n",
       "      <td>C[C@@H]1Cc2ccccc2N1C(=O)Cc1nc(N2CCOCC2)cc(=S)[...</td>\n",
       "      <td>8.10</td>\n",
       "    </tr>\n",
       "    <tr>\n",
       "      <th>1224</th>\n",
       "      <td>Cc1nc(N)nc(-c2c(Nc3cc[nH]n3)nc3ccc(-c4cccc(F)c...</td>\n",
       "      <td>7.14</td>\n",
       "    </tr>\n",
       "  </tbody>\n",
       "</table>\n",
       "</div>"
      ],
      "text/plain": [
       "                                                 Smiles  pChEMBL_Value\n",
       "919   CCc1c(N)ncnc1N1CCC(c2nc(-c3cncc(Cl)c3)cn2CCN2C...           7.51\n",
       "1601  Cc1nc(NC(=O)N2CC[C@H](O)[C@H]2C(N)=O)sc1-c1csc...           6.75\n",
       "2457    CCCN(C)Cc1ccc(-c2nnc3n2-c2cccnc2Nc2ccccc2-3)cc1           5.60\n",
       "455   C[C@@H]1Cc2ccccc2N1C(=O)Cc1nc(N2CCOCC2)cc(=S)[...           8.10\n",
       "1224  Cc1nc(N)nc(-c2c(Nc3cc[nH]n3)nc3ccc(-c4cccc(F)c...           7.14"
      ]
     },
     "execution_count": 20,
     "metadata": {},
     "output_type": "execute_result"
    }
   ],
   "source": [
    "df2.head()"
   ]
  },
  {
   "cell_type": "code",
   "execution_count": 21,
   "metadata": {},
   "outputs": [
    {
     "data": {
      "text/html": [
       "<div>\n",
       "<style scoped>\n",
       "    .dataframe tbody tr th:only-of-type {\n",
       "        vertical-align: middle;\n",
       "    }\n",
       "\n",
       "    .dataframe tbody tr th {\n",
       "        vertical-align: top;\n",
       "    }\n",
       "\n",
       "    .dataframe thead th {\n",
       "        text-align: right;\n",
       "    }\n",
       "</style>\n",
       "<table border=\"1\" class=\"dataframe\">\n",
       "  <thead>\n",
       "    <tr style=\"text-align: right;\">\n",
       "      <th></th>\n",
       "      <th>Smiles</th>\n",
       "      <th>pChEMBL_Value</th>\n",
       "    </tr>\n",
       "  </thead>\n",
       "  <tbody>\n",
       "    <tr>\n",
       "      <th>2860</th>\n",
       "      <td>CC(=O)NCC(=O)N[C@@H](CCCNC(=N)N)C(=O)N1CCC[C@H...</td>\n",
       "      <td>2.617983</td>\n",
       "    </tr>\n",
       "    <tr>\n",
       "      <th>2857</th>\n",
       "      <td>CC(C)[C@H](NC(=O)c1ccc(NC(=O)CCCCNC(=N)N)cc1)C...</td>\n",
       "      <td>2.714443</td>\n",
       "    </tr>\n",
       "    <tr>\n",
       "      <th>2845</th>\n",
       "      <td>O=C(CSc1nnc(COc2ccc3c(c2)CCCC3)o1)Nc1nc2ccc(F)...</td>\n",
       "      <td>4.010000</td>\n",
       "    </tr>\n",
       "    <tr>\n",
       "      <th>2839</th>\n",
       "      <td>CC(C)[C@H](NC(=O)c1ccc(NC(=N)N)cc1)C(=O)N[C@@H...</td>\n",
       "      <td>4.110000</td>\n",
       "    </tr>\n",
       "    <tr>\n",
       "      <th>2837</th>\n",
       "      <td>Cc1cc(/N=N/c2ccc(/N=N/c3ccc(O)c(C(=O)O)c3)cc2)...</td>\n",
       "      <td>4.160000</td>\n",
       "    </tr>\n",
       "  </tbody>\n",
       "</table>\n",
       "</div>"
      ],
      "text/plain": [
       "                                                 Smiles  pChEMBL_Value\n",
       "2860  CC(=O)NCC(=O)N[C@@H](CCCNC(=N)N)C(=O)N1CCC[C@H...       2.617983\n",
       "2857  CC(C)[C@H](NC(=O)c1ccc(NC(=O)CCCCNC(=N)N)cc1)C...       2.714443\n",
       "2845  O=C(CSc1nnc(COc2ccc3c(c2)CCCC3)o1)Nc1nc2ccc(F)...       4.010000\n",
       "2839  CC(C)[C@H](NC(=O)c1ccc(NC(=N)N)cc1)C(=O)N[C@@H...       4.110000\n",
       "2837  Cc1cc(/N=N/c2ccc(/N=N/c3ccc(O)c(C(=O)O)c3)cc2)...       4.160000"
      ]
     },
     "execution_count": 21,
     "metadata": {},
     "output_type": "execute_result"
    }
   ],
   "source": [
    "df2.sort_values(by=['pChEMBL_Value'],inplace=False).head()"
   ]
  },
  {
   "cell_type": "code",
   "execution_count": 22,
   "metadata": {},
   "outputs": [
    {
     "data": {
      "text/plain": [
       "(array([  2.,   0.,  20.,  49.,  75., 129., 136., 106.,  65.,  18.]),\n",
       " array([2.61798296, 3.30318466, 3.98838637, 4.67358807, 5.35878977,\n",
       "        6.04399148, 6.72919318, 7.41439489, 8.09959659, 8.7847983 ,\n",
       "        9.47      ]),\n",
       " <a list of 10 Patch objects>)"
      ]
     },
     "execution_count": 22,
     "metadata": {},
     "output_type": "execute_result"
    },
    {
     "data": {
      "image/png": "[encoded data removed]",
      "text/plain": [
       "<Figure size 432x288 with 1 Axes>"
      ]
     },
     "metadata": {
      "needs_background": "light"
     },
     "output_type": "display_data"
    }
   ],
   "source": [
    "plt.hist(df2['pChEMBL_Value'])"
   ]
  },
  {
   "cell_type": "code",
   "execution_count": 23,
   "metadata": {},
   "outputs": [
    {
     "data": {
      "text/html": [
       "<div>\n",
       "<style scoped>\n",
       "    .dataframe tbody tr th:only-of-type {\n",
       "        vertical-align: middle;\n",
       "    }\n",
       "\n",
       "    .dataframe tbody tr th {\n",
       "        vertical-align: top;\n",
       "    }\n",
       "\n",
       "    .dataframe thead th {\n",
       "        text-align: right;\n",
       "    }\n",
       "</style>\n",
       "<table border=\"1\" class=\"dataframe\">\n",
       "  <thead>\n",
       "    <tr style=\"text-align: right;\">\n",
       "      <th></th>\n",
       "      <th>pChEMBL_Value</th>\n",
       "    </tr>\n",
       "  </thead>\n",
       "  <tbody>\n",
       "    <tr>\n",
       "      <th>count</th>\n",
       "      <td>600.000000</td>\n",
       "    </tr>\n",
       "    <tr>\n",
       "      <th>mean</th>\n",
       "      <td>6.815821</td>\n",
       "    </tr>\n",
       "    <tr>\n",
       "      <th>std</th>\n",
       "      <td>1.146750</td>\n",
       "    </tr>\n",
       "    <tr>\n",
       "      <th>min</th>\n",
       "      <td>2.617983</td>\n",
       "    </tr>\n",
       "    <tr>\n",
       "      <th>25%</th>\n",
       "      <td>6.105000</td>\n",
       "    </tr>\n",
       "    <tr>\n",
       "      <th>50%</th>\n",
       "      <td>6.865000</td>\n",
       "    </tr>\n",
       "    <tr>\n",
       "      <th>75%</th>\n",
       "      <td>7.660000</td>\n",
       "    </tr>\n",
       "    <tr>\n",
       "      <th>max</th>\n",
       "      <td>9.470000</td>\n",
       "    </tr>\n",
       "  </tbody>\n",
       "</table>\n",
       "</div>"
      ],
      "text/plain": [
       "       pChEMBL_Value\n",
       "count     600.000000\n",
       "mean        6.815821\n",
       "std         1.146750\n",
       "min         2.617983\n",
       "25%         6.105000\n",
       "50%         6.865000\n",
       "75%         7.660000\n",
       "max         9.470000"
      ]
     },
     "execution_count": 23,
     "metadata": {},
     "output_type": "execute_result"
    }
   ],
   "source": [
    "df2.describe()"
   ]
  },
  {
   "cell_type": "code",
   "execution_count": 24,
   "metadata": {},
   "outputs": [],
   "source": [
    "df3 = df2[df2['pChEMBL_Value']<=7.5]"
   ]
  },
  {
   "cell_type": "code",
   "execution_count": 26,
   "metadata": {},
   "outputs": [
    {
     "data": {
      "text/plain": [
       "(426, 2)"
      ]
     },
     "execution_count": 26,
     "metadata": {},
     "output_type": "execute_result"
    }
   ],
   "source": [
    "df3.shape"
   ]
  },
  {
   "cell_type": "code",
   "execution_count": 27,
   "metadata": {},
   "outputs": [
    {
     "data": {
      "text/html": [
       "<div>\n",
       "<style scoped>\n",
       "    .dataframe tbody tr th:only-of-type {\n",
       "        vertical-align: middle;\n",
       "    }\n",
       "\n",
       "    .dataframe tbody tr th {\n",
       "        vertical-align: top;\n",
       "    }\n",
       "\n",
       "    .dataframe thead th {\n",
       "        text-align: right;\n",
       "    }\n",
       "</style>\n",
       "<table border=\"1\" class=\"dataframe\">\n",
       "  <thead>\n",
       "    <tr style=\"text-align: right;\">\n",
       "      <th></th>\n",
       "      <th>pChEMBL_Value</th>\n",
       "    </tr>\n",
       "  </thead>\n",
       "  <tbody>\n",
       "    <tr>\n",
       "      <th>count</th>\n",
       "      <td>426.000000</td>\n",
       "    </tr>\n",
       "    <tr>\n",
       "      <th>mean</th>\n",
       "      <td>6.273245</td>\n",
       "    </tr>\n",
       "    <tr>\n",
       "      <th>std</th>\n",
       "      <td>0.869466</td>\n",
       "    </tr>\n",
       "    <tr>\n",
       "      <th>min</th>\n",
       "      <td>2.617983</td>\n",
       "    </tr>\n",
       "    <tr>\n",
       "      <th>25%</th>\n",
       "      <td>5.735000</td>\n",
       "    </tr>\n",
       "    <tr>\n",
       "      <th>50%</th>\n",
       "      <td>6.400000</td>\n",
       "    </tr>\n",
       "    <tr>\n",
       "      <th>75%</th>\n",
       "      <td>6.940000</td>\n",
       "    </tr>\n",
       "    <tr>\n",
       "      <th>max</th>\n",
       "      <td>7.500000</td>\n",
       "    </tr>\n",
       "  </tbody>\n",
       "</table>\n",
       "</div>"
      ],
      "text/plain": [
       "       pChEMBL_Value\n",
       "count     426.000000\n",
       "mean        6.273245\n",
       "std         0.869466\n",
       "min         2.617983\n",
       "25%         5.735000\n",
       "50%         6.400000\n",
       "75%         6.940000\n",
       "max         7.500000"
      ]
     },
     "execution_count": 27,
     "metadata": {},
     "output_type": "execute_result"
    }
   ],
   "source": [
    "df3.describe()"
   ]
  },
  {
   "cell_type": "code",
   "execution_count": null,
   "metadata": {},
   "outputs": [],
   "source": []
  },
  {
   "cell_type": "code",
   "execution_count": 32,
   "metadata": {},
   "outputs": [],
   "source": [
    "df3[df3['pChEMBL_Value']>5].to_csv('C:\\\\Users\\\\HP\\\\AZC_Internship\\\\DeepFMPO\\\\3.6\\\\Data\\\\AKT_pchembl.csv')"
   ]
  },
  {
   "cell_type": "code",
   "execution_count": 2,
   "metadata": {},
   "outputs": [],
   "source": [
    "X = pd.read_csv('C:\\\\Users\\\\HP\\\\AZC_Internship\\\\DeepFMPO\\\\3.6\\\\Modules\\\\X.csv')"
   ]
  },
  {
   "cell_type": "code",
   "execution_count": 3,
   "metadata": {},
   "outputs": [
    {
     "data": {
      "text/html": [
       "<div>\n",
       "<style scoped>\n",
       "    .dataframe tbody tr th:only-of-type {\n",
       "        vertical-align: middle;\n",
       "    }\n",
       "\n",
       "    .dataframe tbody tr th {\n",
       "        vertical-align: top;\n",
       "    }\n",
       "\n",
       "    .dataframe thead th {\n",
       "        text-align: right;\n",
       "    }\n",
       "</style>\n",
       "<table border=\"1\" class=\"dataframe\">\n",
       "  <thead>\n",
       "    <tr style=\"text-align: right;\">\n",
       "      <th></th>\n",
       "      <th>Name</th>\n",
       "      <th>nAcid</th>\n",
       "      <th>ALogP</th>\n",
       "      <th>ALogp2</th>\n",
       "      <th>AMR</th>\n",
       "      <th>apol</th>\n",
       "      <th>naAromAtom</th>\n",
       "      <th>nAromBond</th>\n",
       "      <th>nAtom</th>\n",
       "      <th>nHeavyAtom</th>\n",
       "      <th>...</th>\n",
       "      <th>AMW</th>\n",
       "      <th>WTPT-1</th>\n",
       "      <th>WTPT-2</th>\n",
       "      <th>WTPT-3</th>\n",
       "      <th>WTPT-4</th>\n",
       "      <th>WTPT-5</th>\n",
       "      <th>WPATH</th>\n",
       "      <th>WPOL</th>\n",
       "      <th>XLogP</th>\n",
       "      <th>Zagreb</th>\n",
       "    </tr>\n",
       "  </thead>\n",
       "  <tbody>\n",
       "    <tr>\n",
       "      <th>0</th>\n",
       "      <td>AUTOGEN_generated</td>\n",
       "      <td>0</td>\n",
       "      <td>0.0846</td>\n",
       "      <td>0.007157</td>\n",
       "      <td>105.5086</td>\n",
       "      <td>53.91986</td>\n",
       "      <td>0</td>\n",
       "      <td>0</td>\n",
       "      <td>45</td>\n",
       "      <td>25</td>\n",
       "      <td>...</td>\n",
       "      <td>7.914015</td>\n",
       "      <td>50.669141</td>\n",
       "      <td>2.026766</td>\n",
       "      <td>20.520647</td>\n",
       "      <td>5.533756</td>\n",
       "      <td>11.87465</td>\n",
       "      <td>1785.0</td>\n",
       "      <td>33.0</td>\n",
       "      <td>0.671</td>\n",
       "      <td>128.0</td>\n",
       "    </tr>\n",
       "  </tbody>\n",
       "</table>\n",
       "<p>1 rows × 1445 columns</p>\n",
       "</div>"
      ],
      "text/plain": [
       "                Name  nAcid   ALogP    ALogp2       AMR      apol  naAromAtom  \\\n",
       "0  AUTOGEN_generated      0  0.0846  0.007157  105.5086  53.91986           0   \n",
       "\n",
       "   nAromBond  nAtom  nHeavyAtom  ...       AMW     WTPT-1    WTPT-2  \\\n",
       "0          0     45          25  ...  7.914015  50.669141  2.026766   \n",
       "\n",
       "      WTPT-3    WTPT-4    WTPT-5   WPATH  WPOL  XLogP  Zagreb  \n",
       "0  20.520647  5.533756  11.87465  1785.0  33.0  0.671   128.0  \n",
       "\n",
       "[1 rows x 1445 columns]"
      ]
     },
     "execution_count": 3,
     "metadata": {},
     "output_type": "execute_result"
    }
   ],
   "source": [
    "X.head()"
   ]
  },
  {
   "cell_type": "code",
   "execution_count": 6,
   "metadata": {
    "scrolled": true
   },
   "outputs": [
    {
     "data": {
      "text/plain": [
       "811"
      ]
     },
     "execution_count": 6,
     "metadata": {},
     "output_type": "execute_result"
    }
   ],
   "source": [
    "X.fillna(value=0)\n",
    "X.isna().sum().sum()"
   ]
  },
  {
   "cell_type": "code",
   "execution_count": 8,
   "metadata": {},
   "outputs": [],
   "source": [
    "import pickle as pkl\n",
    "X= pd.read_csv('no_zeros_no_chembl.csv')\n",
    "#X.drop(columns=['ChemBLID'],inplace=True)\n",
    "X.head()\n",
    "with open('./saved_models/drop2.txt','rb') as f:\n",
    "    bad_cols2 = pkl.load(f)\n",
    "bad = bad_cols2\n",
    "X.drop(columns=bad, inplace = True)"
   ]
  },
  {
   "cell_type": "code",
   "execution_count": 10,
   "metadata": {},
   "outputs": [],
   "source": [
    "y = X['pChemBL']\n",
    "X.drop(columns='pChemBL',inplace=True)"
   ]
  },
  {
   "cell_type": "code",
   "execution_count": 11,
   "metadata": {},
   "outputs": [],
   "source": [
    "list_of_columns = X.columns"
   ]
  },
  {
   "cell_type": "code",
   "execution_count": 23,
   "metadata": {},
   "outputs": [],
   "source": [
    "with open('./saved_models/good1.xml','w') as f:\n",
    "    for i in range(len(list_of_columns)):\n",
    "        f.write('        <Descriptor name=\"'+str(list_of_columns[i])+'\" value=\"true\"/>\\n')"
   ]
  },
  {
   "cell_type": "code",
   "execution_count": 16,
   "metadata": {},
   "outputs": [],
   "source": [
    "from rdkit import Chem\n",
    "df = pd.read_excel('C:\\\\Users\\\\HP\\\\AZC_Internship\\\\Data\\\\ChemBL\\\\AKT-binding_simplified.xlsx',sheet_name = 'Step3')\n",
    "mol = Chem.MolFromSmiles(df.iloc[0,2])"
   ]
  },
  {
   "cell_type": "code",
   "execution_count": 18,
   "metadata": {},
   "outputs": [],
   "source": [
    "print(Chem.MolToMolBlock((mol)),file=open('./saved_models/'+'generated.mol','w'))"
   ]
  },
  {
   "cell_type": "code",
   "execution_count": 19,
   "metadata": {},
   "outputs": [
    {
     "data": {
      "text/html": [
       "<div>\n",
       "<style scoped>\n",
       "    .dataframe tbody tr th:only-of-type {\n",
       "        vertical-align: middle;\n",
       "    }\n",
       "\n",
       "    .dataframe tbody tr th {\n",
       "        vertical-align: top;\n",
       "    }\n",
       "\n",
       "    .dataframe thead th {\n",
       "        text-align: right;\n",
       "    }\n",
       "</style>\n",
       "<table border=\"1\" class=\"dataframe\">\n",
       "  <thead>\n",
       "    <tr style=\"text-align: right;\">\n",
       "      <th></th>\n",
       "      <th>Name</th>\n",
       "      <th>nAcid</th>\n",
       "      <th>ALogP</th>\n",
       "      <th>ALogp2</th>\n",
       "      <th>AMR</th>\n",
       "      <th>apol</th>\n",
       "      <th>naAromAtom</th>\n",
       "      <th>nAromBond</th>\n",
       "      <th>nAtom</th>\n",
       "      <th>nHeavyAtom</th>\n",
       "      <th>...</th>\n",
       "      <th>AMW</th>\n",
       "      <th>WTPT-1</th>\n",
       "      <th>WTPT-2</th>\n",
       "      <th>WTPT-3</th>\n",
       "      <th>WTPT-4</th>\n",
       "      <th>WTPT-5</th>\n",
       "      <th>WPATH</th>\n",
       "      <th>WPOL</th>\n",
       "      <th>XLogP</th>\n",
       "      <th>Zagreb</th>\n",
       "    </tr>\n",
       "  </thead>\n",
       "  <tbody>\n",
       "    <tr>\n",
       "      <th>0</th>\n",
       "      <td>AUTOGEN_CHEMBL1078983</td>\n",
       "      <td>0</td>\n",
       "      <td>-0.7109</td>\n",
       "      <td>0.505379</td>\n",
       "      <td>70.4932</td>\n",
       "      <td>73.378583</td>\n",
       "      <td>16</td>\n",
       "      <td>18</td>\n",
       "      <td>65</td>\n",
       "      <td>34</td>\n",
       "      <td>...</td>\n",
       "      <td>7.157502</td>\n",
       "      <td>70.514766</td>\n",
       "      <td>2.073964</td>\n",
       "      <td>27.938805</td>\n",
       "      <td>11.267053</td>\n",
       "      <td>16.671753</td>\n",
       "      <td>3404.0</td>\n",
       "      <td>59.0</td>\n",
       "      <td>2.188</td>\n",
       "      <td>184.0</td>\n",
       "    </tr>\n",
       "    <tr>\n",
       "      <th>1</th>\n",
       "      <td>AUTOGEN_CHEMBL1079175</td>\n",
       "      <td>0</td>\n",
       "      <td>-1.4578</td>\n",
       "      <td>2.125181</td>\n",
       "      <td>44.0418</td>\n",
       "      <td>64.304653</td>\n",
       "      <td>18</td>\n",
       "      <td>20</td>\n",
       "      <td>52</td>\n",
       "      <td>31</td>\n",
       "      <td>...</td>\n",
       "      <td>7.830281</td>\n",
       "      <td>65.167083</td>\n",
       "      <td>2.102164</td>\n",
       "      <td>17.955201</td>\n",
       "      <td>2.565237</td>\n",
       "      <td>15.389964</td>\n",
       "      <td>2593.0</td>\n",
       "      <td>55.0</td>\n",
       "      <td>6.575</td>\n",
       "      <td>180.0</td>\n",
       "    </tr>\n",
       "    <tr>\n",
       "      <th>2</th>\n",
       "      <td>AUTOGEN_CHEMBL1081198</td>\n",
       "      <td>0</td>\n",
       "      <td>0.0748</td>\n",
       "      <td>0.005595</td>\n",
       "      <td>27.2874</td>\n",
       "      <td>69.268860</td>\n",
       "      <td>27</td>\n",
       "      <td>29</td>\n",
       "      <td>57</td>\n",
       "      <td>37</td>\n",
       "      <td>...</td>\n",
       "      <td>8.827511</td>\n",
       "      <td>76.232497</td>\n",
       "      <td>2.060338</td>\n",
       "      <td>31.795843</td>\n",
       "      <td>2.556014</td>\n",
       "      <td>22.098211</td>\n",
       "      <td>4979.0</td>\n",
       "      <td>56.0</td>\n",
       "      <td>5.589</td>\n",
       "      <td>198.0</td>\n",
       "    </tr>\n",
       "    <tr>\n",
       "      <th>3</th>\n",
       "      <td>AUTOGEN_CHEMBL1089661</td>\n",
       "      <td>0</td>\n",
       "      <td>-10.0458</td>\n",
       "      <td>100.918098</td>\n",
       "      <td>183.2952</td>\n",
       "      <td>142.418303</td>\n",
       "      <td>6</td>\n",
       "      <td>6</td>\n",
       "      <td>135</td>\n",
       "      <td>64</td>\n",
       "      <td>...</td>\n",
       "      <td>6.678230</td>\n",
       "      <td>125.580825</td>\n",
       "      <td>1.962200</td>\n",
       "      <td>61.611922</td>\n",
       "      <td>20.276064</td>\n",
       "      <td>41.335857</td>\n",
       "      <td>21440.0</td>\n",
       "      <td>92.0</td>\n",
       "      <td>-0.194</td>\n",
       "      <td>302.0</td>\n",
       "    </tr>\n",
       "    <tr>\n",
       "      <th>4</th>\n",
       "      <td>AUTOGEN_CHEMBL1090115</td>\n",
       "      <td>0</td>\n",
       "      <td>-1.7897</td>\n",
       "      <td>3.203026</td>\n",
       "      <td>32.3564</td>\n",
       "      <td>58.685481</td>\n",
       "      <td>21</td>\n",
       "      <td>23</td>\n",
       "      <td>47</td>\n",
       "      <td>30</td>\n",
       "      <td>...</td>\n",
       "      <td>8.491716</td>\n",
       "      <td>62.402934</td>\n",
       "      <td>2.080098</td>\n",
       "      <td>16.872064</td>\n",
       "      <td>13.655728</td>\n",
       "      <td>3.216336</td>\n",
       "      <td>2319.0</td>\n",
       "      <td>52.0</td>\n",
       "      <td>4.844</td>\n",
       "      <td>168.0</td>\n",
       "    </tr>\n",
       "  </tbody>\n",
       "</table>\n",
       "<p>5 rows × 1445 columns</p>\n",
       "</div>"
      ],
      "text/plain": [
       "                    Name  nAcid    ALogP      ALogp2       AMR        apol  \\\n",
       "0  AUTOGEN_CHEMBL1078983      0  -0.7109    0.505379   70.4932   73.378583   \n",
       "1  AUTOGEN_CHEMBL1079175      0  -1.4578    2.125181   44.0418   64.304653   \n",
       "2  AUTOGEN_CHEMBL1081198      0   0.0748    0.005595   27.2874   69.268860   \n",
       "3  AUTOGEN_CHEMBL1089661      0 -10.0458  100.918098  183.2952  142.418303   \n",
       "4  AUTOGEN_CHEMBL1090115      0  -1.7897    3.203026   32.3564   58.685481   \n",
       "\n",
       "   naAromAtom  nAromBond  nAtom  nHeavyAtom  ...       AMW      WTPT-1  \\\n",
       "0          16         18     65          34  ...  7.157502   70.514766   \n",
       "1          18         20     52          31  ...  7.830281   65.167083   \n",
       "2          27         29     57          37  ...  8.827511   76.232497   \n",
       "3           6          6    135          64  ...  6.678230  125.580825   \n",
       "4          21         23     47          30  ...  8.491716   62.402934   \n",
       "\n",
       "     WTPT-2     WTPT-3     WTPT-4     WTPT-5    WPATH  WPOL  XLogP  Zagreb  \n",
       "0  2.073964  27.938805  11.267053  16.671753   3404.0  59.0  2.188   184.0  \n",
       "1  2.102164  17.955201   2.565237  15.389964   2593.0  55.0  6.575   180.0  \n",
       "2  2.060338  31.795843   2.556014  22.098211   4979.0  56.0  5.589   198.0  \n",
       "3  1.962200  61.611922  20.276064  41.335857  21440.0  92.0 -0.194   302.0  \n",
       "4  2.080098  16.872064  13.655728   3.216336   2319.0  52.0  4.844   168.0  \n",
       "\n",
       "[5 rows x 1445 columns]"
      ]
     },
     "execution_count": 19,
     "metadata": {},
     "output_type": "execute_result"
    }
   ],
   "source": [
    "X = pd.read_csv('C:\\\\Users\\\\HP\\\\AZC_Internship\\\\Data\\\\Descriptor data\\\\Padel descriptors\\\\actual_padel_AKT.csv')\n",
    "X.head()"
   ]
  },
  {
   "cell_type": "code",
   "execution_count": 20,
   "metadata": {},
   "outputs": [],
   "source": [
    "X.drop(columns='Name',inplace=True)"
   ]
  },
  {
   "cell_type": "code",
   "execution_count": 22,
   "metadata": {},
   "outputs": [],
   "source": [
    "all_cols = X.columns\n",
    "with open('./saved_models/good.xml','w') as f:\n",
    "    for col in all_cols:\n",
    "        if col in list_of_columns:\n",
    "            f.write('        <Descriptor name=\"'+str(col)+'\" value=\"true\"/>\\n')\n",
    "        else:\n",
    "            f.write('        <Descriptor name=\"'+str(col)+'\" value=\"False\"/>\\n')"
   ]
  },
  {
   "cell_type": "code",
   "execution_count": null,
   "metadata": {},
   "outputs": [],
   "source": [
    "file_path = \"C:\\\\Users\\\\HP\\\\AZC_Internship\\\\DeepFMPO\\\\3.6\\\\descriptors.csv\"\n",
    "mol_folder_path = \"./generated_molecules/\"\n",
    "cmd_list = ['java','-jar',Padel_path, '-dir', mol_folder_path, '-2d','-file', file_path,'-maxruntime', '-1']"
   ]
  }
 ],
 "metadata": {
  "kernelspec": {
   "display_name": "Python 3",
   "language": "python",
   "name": "python3"
  },
  "language_info": {
   "codemirror_mode": {
    "name": "ipython",
    "version": 3
   },
   "file_extension": ".py",
   "mimetype": "text/x-python",
   "name": "python",
   "nbconvert_exporter": "python",
   "pygments_lexer": "ipython3",
   "version": "3.7.3"
  }
 },
 "nbformat": 4,
 "nbformat_minor": 2
}
