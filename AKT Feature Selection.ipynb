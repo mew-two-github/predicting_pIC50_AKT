{
 "cells": [
  {
   "cell_type": "code",
   "execution_count": 20,
   "metadata": {},
   "outputs": [],
   "source": [
    "import pandas as pd\n",
    "import numpy as np\n",
    "import matplotlib.pyplot as plt\n",
    "from rdkit import Chem as ch\n",
    "from sklearn.model_selection import train_test_split\n",
    "from sklearn.linear_model import LinearRegression, Ridge, Lasso, LassoLarsCV, ElasticNetCV\n",
    "from sklearn.metrics import mean_squared_error\n",
    "from sklearn.preprocessing import StandardScaler\n",
    "from sklearn.ensemble import RandomForestRegressor, ExtraTreesRegressor\n",
    "from sklearn.feature_selection import SelectKBest, mutual_info_regression, RFECV, SelectFromModel\n",
    "import pickle as pkl\n",
    "import seaborn as sns\n",
    "from scipy.stats import uniform, randint"
   ]
  },
  {
   "cell_type": "code",
   "execution_count": 10,
   "metadata": {},
   "outputs": [],
   "source": [
    "def split_data(X_new):\n",
    "    X_final, validate = np.split(X_new.sample(frac=1), [int(.8*len(X_new))])\n",
    "    X_train, X_test, y_train, y_test = train_test_split(X_final.drop(columns=['pChemBL'],inplace=False), X_final['pChemBL'], test_size=0.2, random_state=42)\n",
    "    X_validate = validate.drop(columns='pChemBL',inplace=False).copy()\n",
    "    y_validate = validate['pChemBL']\n",
    "    return X_train, X_test, X_validate, y_train, y_test, y_validate\n",
    "def train_RFR(X_train, X_test, X_validate, y_train, y_test, y_validate,estimators=150):\n",
    "    model2 = RandomForestRegressor(n_estimators=estimators)\n",
    "    model2.fit(X_train,y_train)\n",
    "    r_square = model2.score(X_train,y_train)\n",
    "    rmse = np.sqrt(mean_squared_error(model2.predict(X_train),y_train))\n",
    "    print('Number of estimators = {}'.format(estimators))\n",
    "    print(\"Training set results:\\nRMSE = {}\\t R^2 = {}\".format(rmse,r_square))\n",
    "    q_square = model2.score(X_test,y_test)\n",
    "    rmse = np.sqrt(mean_squared_error(model2.predict(X_test),y_test))\n",
    "    print(\"Test set results\\nRMSE = {}\\t Q^2 = {}\".format(rmse,q_square))\n",
    "    q_square = model2.score(X_validate,y_validate)\n",
    "    rmse = np.sqrt(mean_squared_error(y_validate,model2.predict(X_validate)))\n",
    "    print(\"Validation set results\\nRMSE = {}\\t Q^2 = {}\".format(rmse,q_square))    \n",
    "    return model2\n",
    "def split_train(X,estimators=150):\n",
    "    X_train, X_test, X_validate, y_train, y_test, y_validate = split_data(X)\n",
    "    model = train_RFR(X_train, X_test, X_validate, y_train, y_test, y_validate,estimators)\n",
    "    return model\n",
    "def get_cols(n):\n",
    "    cols = []\n",
    "    for i in range(n):\n",
    "        cols.append('component'+str(i+1))\n",
    "    return cols\n",
    "def scores(y_test,predictions):\n",
    "    mse=mean_squared_error(preds,y_test)\n",
    "    y_mean = np.full(shape=y_test.shape,fill_value=y_test.mean())\n",
    "    mse_ = mean_squared_error(y_mean,y_test)\n",
    "    print(\"RMSE = \",np.sqrt(mse))\n",
    "    print(\"Q^2 = \",1-(mse/mse_))"
   ]
  },
  {
   "cell_type": "code",
   "execution_count": 4,
   "metadata": {},
   "outputs": [],
   "source": [
    "X = pd.read_csv('no_zeros_no_chembl.csv')\n",
    "y = X['pChemBL']\n",
    "X.drop(columns='pChemBL',inplace=True)"
   ]
  },
  {
   "cell_type": "code",
   "execution_count": 5,
   "metadata": {},
   "outputs": [],
   "source": [
    "reg = ExtraTreesRegressor(n_estimators=150)\n",
    "reg = reg.fit(X, y)"
   ]
  },
  {
   "cell_type": "code",
   "execution_count": null,
   "metadata": {},
   "outputs": [],
   "source": [
    "reg.score(X,y)"
   ]
  },
  {
   "cell_type": "code",
   "execution_count": 38,
   "metadata": {},
   "outputs": [
    {
     "data": {
      "text/plain": [
       "(2861, 279)"
      ]
     },
     "execution_count": 38,
     "metadata": {},
     "output_type": "execute_result"
    }
   ],
   "source": [
    "model = SelectFromModel(reg, prefit=True)\n",
    "X_new = model.transform(X)\n",
    "X_new.shape               \n"
   ]
  },
  {
   "cell_type": "code",
   "execution_count": 39,
   "metadata": {},
   "outputs": [],
   "source": [
    "cols = []\n",
    "for i in range(X_new.shape[1]):\n",
    "    cols.append('comp'+str(i+1))\n",
    "X_new = pd.DataFrame(data=X_new,columns=cols)"
   ]
  },
  {
   "cell_type": "code",
   "execution_count": 40,
   "metadata": {},
   "outputs": [
    {
     "name": "stdout",
     "output_type": "stream",
     "text": [
      "Training set results:\n",
      "RMSE = 0.2612342814942656\t R^2 = 0.951231462226615\n",
      "Test set results\n",
      "RMSE = 0.6711355166778638\t Q^2 = 0.6546759899619428\n",
      "Validation set results\n",
      "RMSE = 0.7139772320201792\t Q^2 = 0.5980952575220048\n"
     ]
    }
   ],
   "source": [
    "X_new['pChemBL'] = y\n",
    "X_train, X_test, X_validate, y_train, y_test, y_validate = split_data(X_new)\n",
    "model = train_RFR(X_train, X_test, X_validate, y_train, y_test, y_validate)"
   ]
  },
  {
   "cell_type": "code",
   "execution_count": null,
   "metadata": {},
   "outputs": [],
   "source": [
    "X_new = SelectKBest(mutual_info_regression, k=50).fit_transform(X, y)\n",
    "\n",
    "cols = []\n",
    "for i in range(50):\n",
    "    cols.append('comp'+str(i+1))\n",
    "X_red = pd.DataFrame(data=X_new, columns=cols)"
   ]
  },
  {
   "cell_type": "code",
   "execution_count": 33,
   "metadata": {},
   "outputs": [
    {
     "name": "stdout",
     "output_type": "stream",
     "text": [
      "Training set results:\n",
      "RMSE = 0.2739322287215124\t R^2 = 0.9468244640055198\n",
      "Test set results\n",
      "RMSE = 0.6161916091171696\t Q^2 = 0.7009729340649702\n",
      "Validation set results\n",
      "RMSE = 0.6717152615156313\t Q^2 = 0.6397030563793147\n"
     ]
    }
   ],
   "source": [
    "X_red['pChemBL'] = y\n",
    "X_train, X_test, X_validate, y_train, y_test, y_validate = split_data(X_red)\n",
    "RFR = train_RFR(X_train, X_test, X_validate, y_train, y_test, y_validate)"
   ]
  },
  {
   "cell_type": "code",
   "execution_count": 41,
   "metadata": {},
   "outputs": [
    {
     "name": "stdout",
     "output_type": "stream",
     "text": [
      "Training set results:\n",
      "RMSE = 0.2835793651287902\t R^2 = 0.9410312390992518\n",
      "Test set results\n",
      "RMSE = 0.6982204063849987\t Q^2 = 0.6342943954025049\n",
      "Validation set results\n",
      "RMSE = 0.7285472901564857\t Q^2 = 0.6090261968313742\n"
     ]
    }
   ],
   "source": [
    "from sklearn.feature_selection import SelectKBest\n",
    "from sklearn.feature_selection import mutual_info_regression\n",
    "ko = 15\n",
    "X_new = SelectKBest(mutual_info_regression, k=ko).fit_transform(X, y)\n",
    "\n",
    "cols = []\n",
    "for i in range(ko):\n",
    "    cols.append('comp'+str(i+1))\n",
    "X_red = pd.DataFrame(data=X_new, columns=cols)\n",
    "X_red['pChemBL'] = y\n",
    "X_train, X_test, X_validate, y_train, y_test, y_validate = split_data(X_red)\n",
    "RFR = train_RFR(X_train, X_test, X_validate, y_train, y_test, y_validate)"
   ]
  },
  {
   "cell_type": "code",
   "execution_count": 6,
   "metadata": {},
   "outputs": [
    {
     "name": "stdout",
     "output_type": "stream",
     "text": [
      "Fitting estimator with 1208 features.\n",
      "Fitting estimator with 1008 features.\n",
      "Fitting estimator with 808 features.\n"
     ]
    }
   ],
   "source": [
    "from sklearn.feature_selection import RFECV\n",
    "select = RFECV(reg,step =200,n_jobs=-1,min_features_to_select= 50,verbose=1)\n",
    "select.fit(X,y)\n",
    "X_new = select.transform(X)"
   ]
  },
  {
   "cell_type": "code",
   "execution_count": 10,
   "metadata": {},
   "outputs": [
    {
     "name": "stdout",
     "output_type": "stream",
     "text": [
      "Training set results:\n",
      "RMSE = 0.26038643091486924\t R^2 = 0.9506658314566686\n",
      "Test set results\n",
      "RMSE = 0.6892970161527208\t Q^2 = 0.6311874891385347\n",
      "Validation set results\n",
      "RMSE = 0.7153796013506576\t Q^2 = 0.624192456639348\n"
     ]
    }
   ],
   "source": [
    "cols = []\n",
    "for i in range(X_new.shape[1]):\n",
    "    cols.append('comp'+str(i+1))\n",
    "X_red = pd.DataFrame(data=X_new, columns=cols)\n",
    "X_red['pChemBL'] = y\n",
    "X_train, X_test, X_validate, y_train, y_test, y_validate = split_data(X_red)\n",
    "RFR = train_RFR(X_train, X_test, X_validate, y_train, y_test, y_validate)"
   ]
  },
  {
   "cell_type": "code",
   "execution_count": 21,
   "metadata": {},
   "outputs": [],
   "source": [
    "#X_red.drop(columns='pChemBL',inplace=True)\n",
    "X_red.head()\n",
    "X_red.drop(columns='comp50',inplace=True)"
   ]
  },
  {
   "cell_type": "code",
   "execution_count": null,
   "metadata": {},
   "outputs": [],
   "source": [
    "cols = []\n",
    "for i in range(50):\n",
    "    cols.append('comp'+str(i+1))\n",
    "X_new = SelectKBest(mutual_info_regression, k=50).fit_transform(X_red, y)\n",
    "X_red = pd.DataFrame(data=X_new, columns=cols)"
   ]
  },
  {
   "cell_type": "code",
   "execution_count": 22,
   "metadata": {},
   "outputs": [
    {
     "name": "stdout",
     "output_type": "stream",
     "text": [
      "Training set results:\n",
      "RMSE = 0.25776643379761544\t R^2 = 0.9506208177595016\n",
      "Test set results\n",
      "RMSE = 0.6484785432255382\t Q^2 = 0.6888873283556138\n",
      "Validation set results\n",
      "RMSE = 0.6953832131541388\t Q^2 = 0.6545151705403043\n"
     ]
    }
   ],
   "source": [
    "X_red['pChemBL'] = y\n",
    "X_train, X_test, X_validate, y_train, y_test, y_validate = split_data(X_red)\n",
    "RFR = train_RFR(X_train, X_test, X_validate, y_train, y_test, y_validate)"
   ]
  },
  {
   "cell_type": "code",
   "execution_count": 25,
   "metadata": {},
   "outputs": [
    {
     "name": "stdout",
     "output_type": "stream",
     "text": [
      "Training set results:\n",
      "RMSE = 0.2769289461389025\t R^2 = 0.9442085567589638\n",
      "Test set results\n",
      "RMSE = 0.7155156440570092\t Q^2 = 0.6291208962414494\n",
      "Validation set results\n",
      "RMSE = 0.6721193455727127\t Q^2 = 0.6449727110165622\n"
     ]
    }
   ],
   "source": [
    "cols=[]\n",
    "for i in range(25):\n",
    "    cols.append('comp'+str(i+1))\n",
    "X_red.drop(columns='pChemBL',inplace=True)    \n",
    "X_new = SelectKBest(mutual_info_regression, k=25).fit_transform(X_red, y)\n",
    "X_red = pd.DataFrame(data=X_new, columns=cols)\n",
    "X_red['pChemBL'] = y\n",
    "X_train, X_test, X_validate, y_train, y_test, y_validate = split_data(X_red)\n",
    "RFR = train_RFR(X_train, X_test, X_validate, y_train, y_test, y_validate)"
   ]
  },
  {
   "cell_type": "markdown",
   "metadata": {},
   "source": [
    "<h4> For display/rerun(the best model)"
   ]
  },
  {
   "cell_type": "code",
   "execution_count": 3,
   "metadata": {},
   "outputs": [],
   "source": [
    "X = pd.read_csv('no_zeros_no_chembl.csv')\n",
    "y = X['pChemBL']\n",
    "X.drop(columns='pChemBL',inplace=True)\n",
    "selections = SelectKBest(mutual_info_regression, k=50)\n",
    "X_new = selections.fit_transform(X, y)\n",
    "cols = []\n",
    "for i in range(50):\n",
    "    cols.append('comp'+str(i+1))\n",
    "X_red = pd.DataFrame(data=X_new, columns=cols)\n",
    "X_red['pChemBL'] = y"
   ]
  },
  {
   "cell_type": "code",
   "execution_count": 10,
   "metadata": {},
   "outputs": [
    {
     "name": "stdout",
     "output_type": "stream",
     "text": [
      "Training set results:\n",
      "RMSE = 0.2683276019767677\t R^2 = 0.9467019849913931\n",
      "Test set results\n",
      "RMSE = 0.7066172160204794\t Q^2 = 0.6299947142698358\n",
      "Validation set results\n",
      "RMSE = 0.610511017731687\t Q^2 = 0.7289860444995122\n"
     ]
    }
   ],
   "source": [
    "#DONE WITHOUT THE CORRELATION DROP\n",
    "X_train, X_test, X_validate, y_train, y_test, y_validate = split_data(X_red)\n",
    "RFR = train_RFR(X_train, X_test, X_validate, y_train, y_test, y_validate)"
   ]
  },
  {
   "cell_type": "code",
   "execution_count": 6,
   "metadata": {},
   "outputs": [
    {
     "data": {
      "text/plain": [
       "(array([13., 14.,  3., 12.,  2.,  3.,  1.,  1.,  0.,  1.]),\n",
       " array([0.00261609, 0.02989528, 0.05717446, 0.08445364, 0.11173283,\n",
       "        0.13901201, 0.1662912 , 0.19357038, 0.22084956, 0.24812875,\n",
       "        0.27540793]),\n",
       " <a list of 10 Patch objects>)"
      ]
     },
     "execution_count": 6,
     "metadata": {},
     "output_type": "execute_result"
    },
    {
     "data": {
      "image/png": "[encoded data removed]",
      "text/plain": [
       "<Figure size 432x288 with 1 Axes>"
      ]
     },
     "metadata": {
      "needs_background": "light"
     },
     "output_type": "display_data"
    }
   ],
   "source": [
    "correlation_matrix = X_red.corr()\n",
    "plt.hist(correlation_matrix.abs().iloc[:50,50])"
   ]
  },
  {
   "cell_type": "code",
   "execution_count": 8,
   "metadata": {},
   "outputs": [
    {
     "name": "stdout",
     "output_type": "stream",
     "text": [
      "25\n"
     ]
    }
   ],
   "source": [
    "bad_cols_index = []\n",
    "for cols in range(50):\n",
    "    if correlation_matrix.abs().iloc[cols,50] < 0.05:\n",
    "        bad_cols_index.append(cols)\n",
    "print(len(bad_cols_index))\n",
    "\n",
    "bad_cols2 = []\n",
    "cols = X_red.columns\n",
    "for index in bad_cols_index:\n",
    "    bad_cols2.append(cols[index])\n",
    "len(bad_cols2)\n",
    "X_red.drop(columns=bad_cols2,inplace=True)"
   ]
  },
  {
   "cell_type": "code",
   "execution_count": 10,
   "metadata": {},
   "outputs": [
    {
     "name": "stdout",
     "output_type": "stream",
     "text": [
      "Number of estimators = 150\n",
      "Training set results:\n",
      "RMSE = 0.26519421658207476\t R^2 = 0.9474568730648255\n",
      "Test set results\n",
      "RMSE = 0.6802567400441033\t Q^2 = 0.6573440459185296\n",
      "Validation set results\n",
      "RMSE = 0.7221868262836015\t Q^2 = 0.6334668795037086\n"
     ]
    }
   ],
   "source": [
    "RFR = split_train(X_red)"
   ]
  },
  {
   "cell_type": "code",
   "execution_count": 74,
   "metadata": {},
   "outputs": [
    {
     "name": "stdout",
     "output_type": "stream",
     "text": [
      "['naAromAtom', 'nAromBond', 'BCUTc-1l', 'BCUTc-1h', 'BCUTp-1h', 'SpMax1_Bhm', 'SpMin1_Bhm', 'SpMin3_Bhm', 'SpMax1_Bhv', 'SpMax2_Bhv', 'SpMin1_Bhv', 'SpMin7_Bhv', 'SpMax1_Bhe', 'SpMax3_Bhe', 'SpMin1_Bhe', 'SpMin2_Bhe', 'SpMin4_Bhe', 'SpMin6_Bhe', 'SpMin8_Bhe', 'SpMax1_Bhp', 'SpMax2_Bhp', 'SpMax3_Bhp', 'SpMin1_Bhp', 'SpMax1_Bhi', 'SpMin1_Bhi', 'SpMin2_Bhi', 'C2SP2', 'SCH-6', 'VCH-5', 'SpMAD_Dt', 'SHaaCH', 'SaaN', 'minHBa', 'maxaaN', 'HybRatio', 'nAtomP', 'MDEN-22', 'MDEN-23', 'MLFER_A', 'MLFER_BH', 'piPC5', 'piPC7', 'piPC8', 'piPC9', 'piPC10', 'TpiPC', 'R_TpiPCTPC', 'nTRing', 'WTPT-4', 'WTPT-5']\n"
     ]
    }
   ],
   "source": [
    "cols = selections.get_support(indices=True)\n",
    "good_columns = []\n",
    "all_columns = X.columns\n",
    "for i in range(len(all_columns)):\n",
    "    if i in cols:\n",
    "        good_columns.append(X.columns[i])\n",
    "print(good_columns)"
   ]
  },
  {
   "cell_type": "code",
   "execution_count": 75,
   "metadata": {},
   "outputs": [
    {
     "data": {
      "text/plain": [
       "50"
      ]
     },
     "execution_count": 75,
     "metadata": {},
     "output_type": "execute_result"
    }
   ],
   "source": [
    "len(good_columns)"
   ]
  },
  {
   "cell_type": "markdown",
   "metadata": {},
   "source": [
    "<h3>SVR"
   ]
  },
  {
   "cell_type": "code",
   "execution_count": 6,
   "metadata": {},
   "outputs": [
    {
     "name": "stdout",
     "output_type": "stream",
     "text": [
      "[LibSVM]"
     ]
    },
    {
     "data": {
      "text/plain": [
       "0.3415220888673084"
      ]
     },
     "execution_count": 6,
     "metadata": {},
     "output_type": "execute_result"
    }
   ],
   "source": [
    "from sklearn.svm import SVR\n",
    "svr = SVR(kernel='rbf',verbose=True,tol=0.001)\n",
    "svr.fit(X_red.drop(columns='pChemBL'),y)\n",
    "svr.score(X_red.drop(columns='pChemBL'),y)"
   ]
  },
  {
   "cell_type": "markdown",
   "metadata": {},
   "source": [
    "<h3>Elastic Net</h3>"
   ]
  },
  {
   "cell_type": "code",
   "execution_count": 15,
   "metadata": {},
   "outputs": [
    {
     "name": "stderr",
     "output_type": "stream",
     "text": [
      "[Parallel(n_jobs=-1)]: Using backend ThreadingBackend with 8 concurrent workers.\n",
      "....................................................................................................................................................................................................................................................................................................................................................................................................................................................................................................................[Parallel(n_jobs=-1)]: Done   2 out of   5 | elapsed:    6.9s remaining:   10.4s\n",
      "[Parallel(n_jobs=-1)]: Done   5 out of   5 | elapsed:    7.0s finished\n"
     ]
    },
    {
     "data": {
      "text/plain": [
       "ElasticNetCV(cv=5, n_jobs=-1, normalize=True, random_state=0,\n",
       "             selection='random', verbose=1)"
      ]
     },
     "execution_count": 15,
     "metadata": {},
     "output_type": "execute_result"
    }
   ],
   "source": [
    "from sklearn.linear_model import ElasticNetCV\n",
    "e_net = ElasticNetCV(cv=5, random_state=0,normalize=True,verbose=1,n_jobs=-1,selection='random')\n",
    "e_net.fit(X,y)"
   ]
  },
  {
   "cell_type": "code",
   "execution_count": 16,
   "metadata": {},
   "outputs": [
    {
     "data": {
      "text/plain": [
       "0.4269174010118165"
      ]
     },
     "execution_count": 16,
     "metadata": {},
     "output_type": "execute_result"
    }
   ],
   "source": [
    "e_net.score(X,y)"
   ]
  },
  {
   "cell_type": "code",
   "execution_count": 38,
   "metadata": {},
   "outputs": [
    {
     "data": {
      "text/plain": [
       "0.5"
      ]
     },
     "execution_count": 38,
     "metadata": {},
     "output_type": "execute_result"
    }
   ],
   "source": [
    "e_net.l1_ratio"
   ]
  },
  {
   "cell_type": "code",
   "execution_count": 20,
   "metadata": {},
   "outputs": [],
   "source": [
    "select = SelectFromModel(e_net,max_features=50,prefit=True)\n",
    "Xnet = select.transform(X)\n",
    "Xnet = pd.DataFrame(data=Xnet,columns=get_cols(50))\n",
    "lol = Xnet.copy()\n",
    "lol['pChemBL'] = y"
   ]
  },
  {
   "cell_type": "code",
   "execution_count": 27,
   "metadata": {},
   "outputs": [
    {
     "name": "stdout",
     "output_type": "stream",
     "text": [
      "Training set results:\n",
      "RMSE = 0.2921107380950572\t R^2 = 0.9368475422256108\n",
      "Test set results\n",
      "RMSE = 0.7575229122063979\t Q^2 = 0.6162990062778935\n",
      "Validation set results\n",
      "RMSE = 0.7332009809977204\t Q^2 = 0.5763856120934157\n"
     ]
    }
   ],
   "source": [
    "RFR = split_train(lol)"
   ]
  },
  {
   "cell_type": "code",
   "execution_count": 29,
   "metadata": {},
   "outputs": [
    {
     "name": "stdout",
     "output_type": "stream",
     "text": [
      "Training set results:\n",
      "RMSE = 0.28630673474348817\t R^2 = 0.9404941110581913\n",
      "Test set results\n",
      "RMSE = 0.7225212294716707\t Q^2 = 0.6023557995383836\n",
      "Validation set results\n",
      "RMSE = 0.7376490014209028\t Q^2 = 0.5913700576341223\n"
     ]
    }
   ],
   "source": [
    "RFR = split_train(lol,125)"
   ]
  },
  {
   "cell_type": "markdown",
   "metadata": {},
   "source": [
    "<h3>Lasso LARS CV</h3>"
   ]
  },
  {
   "cell_type": "code",
   "execution_count": 39,
   "metadata": {},
   "outputs": [
    {
     "name": "stdout",
     "output_type": "stream",
     "text": [
      "condition number of X = 7.4725446142904415e+37\n"
     ]
    }
   ],
   "source": [
    "X['pChemBL'] = y\n",
    "cond_no = np.linalg.cond(X)\n",
    "print(\"condition number of X = {}\".format(cond_no))\n",
    "X.drop(columns='pChemBL',inplace=True)"
   ]
  },
  {
   "cell_type": "code",
   "execution_count": 40,
   "metadata": {},
   "outputs": [
    {
     "data": {
      "text/html": [
       "<div>\n",
       "<style scoped>\n",
       "    .dataframe tbody tr th:only-of-type {\n",
       "        vertical-align: middle;\n",
       "    }\n",
       "\n",
       "    .dataframe tbody tr th {\n",
       "        vertical-align: top;\n",
       "    }\n",
       "\n",
       "    .dataframe thead th {\n",
       "        text-align: right;\n",
       "    }\n",
       "</style>\n",
       "<table border=\"1\" class=\"dataframe\">\n",
       "  <thead>\n",
       "    <tr style=\"text-align: right;\">\n",
       "      <th></th>\n",
       "      <th>nAcid</th>\n",
       "      <th>ALogP</th>\n",
       "      <th>ALogp2</th>\n",
       "      <th>AMR</th>\n",
       "      <th>apol</th>\n",
       "      <th>naAromAtom</th>\n",
       "      <th>nAromBond</th>\n",
       "      <th>nAtom</th>\n",
       "      <th>nHeavyAtom</th>\n",
       "      <th>nH</th>\n",
       "      <th>...</th>\n",
       "      <th>AMW</th>\n",
       "      <th>WTPT-1</th>\n",
       "      <th>WTPT-2</th>\n",
       "      <th>WTPT-3</th>\n",
       "      <th>WTPT-4</th>\n",
       "      <th>WTPT-5</th>\n",
       "      <th>WPATH</th>\n",
       "      <th>WPOL</th>\n",
       "      <th>XLogP</th>\n",
       "      <th>Zagreb</th>\n",
       "    </tr>\n",
       "  </thead>\n",
       "  <tbody>\n",
       "    <tr>\n",
       "      <th>0</th>\n",
       "      <td>0</td>\n",
       "      <td>-0.7109</td>\n",
       "      <td>0.505379</td>\n",
       "      <td>70.4932</td>\n",
       "      <td>73.378583</td>\n",
       "      <td>16</td>\n",
       "      <td>18</td>\n",
       "      <td>65</td>\n",
       "      <td>34</td>\n",
       "      <td>31</td>\n",
       "      <td>...</td>\n",
       "      <td>7.157502</td>\n",
       "      <td>70.514766</td>\n",
       "      <td>2.073964</td>\n",
       "      <td>27.938805</td>\n",
       "      <td>11.267053</td>\n",
       "      <td>16.671753</td>\n",
       "      <td>3404</td>\n",
       "      <td>59</td>\n",
       "      <td>2.188</td>\n",
       "      <td>184</td>\n",
       "    </tr>\n",
       "    <tr>\n",
       "      <th>1</th>\n",
       "      <td>0</td>\n",
       "      <td>-1.4578</td>\n",
       "      <td>2.125181</td>\n",
       "      <td>44.0418</td>\n",
       "      <td>64.304653</td>\n",
       "      <td>18</td>\n",
       "      <td>20</td>\n",
       "      <td>52</td>\n",
       "      <td>31</td>\n",
       "      <td>21</td>\n",
       "      <td>...</td>\n",
       "      <td>7.830281</td>\n",
       "      <td>65.167083</td>\n",
       "      <td>2.102164</td>\n",
       "      <td>17.955201</td>\n",
       "      <td>2.565237</td>\n",
       "      <td>15.389964</td>\n",
       "      <td>2593</td>\n",
       "      <td>55</td>\n",
       "      <td>6.575</td>\n",
       "      <td>180</td>\n",
       "    </tr>\n",
       "    <tr>\n",
       "      <th>2</th>\n",
       "      <td>0</td>\n",
       "      <td>0.0748</td>\n",
       "      <td>0.005595</td>\n",
       "      <td>27.2874</td>\n",
       "      <td>69.268860</td>\n",
       "      <td>27</td>\n",
       "      <td>29</td>\n",
       "      <td>57</td>\n",
       "      <td>37</td>\n",
       "      <td>20</td>\n",
       "      <td>...</td>\n",
       "      <td>8.827511</td>\n",
       "      <td>76.232497</td>\n",
       "      <td>2.060338</td>\n",
       "      <td>31.795843</td>\n",
       "      <td>2.556014</td>\n",
       "      <td>22.098211</td>\n",
       "      <td>4979</td>\n",
       "      <td>56</td>\n",
       "      <td>5.589</td>\n",
       "      <td>198</td>\n",
       "    </tr>\n",
       "    <tr>\n",
       "      <th>3</th>\n",
       "      <td>0</td>\n",
       "      <td>-10.0458</td>\n",
       "      <td>100.918098</td>\n",
       "      <td>183.2952</td>\n",
       "      <td>142.418303</td>\n",
       "      <td>6</td>\n",
       "      <td>6</td>\n",
       "      <td>135</td>\n",
       "      <td>64</td>\n",
       "      <td>71</td>\n",
       "      <td>...</td>\n",
       "      <td>6.678230</td>\n",
       "      <td>125.580825</td>\n",
       "      <td>1.962200</td>\n",
       "      <td>61.611922</td>\n",
       "      <td>20.276064</td>\n",
       "      <td>41.335857</td>\n",
       "      <td>21440</td>\n",
       "      <td>92</td>\n",
       "      <td>-0.194</td>\n",
       "      <td>302</td>\n",
       "    </tr>\n",
       "    <tr>\n",
       "      <th>4</th>\n",
       "      <td>0</td>\n",
       "      <td>-1.7897</td>\n",
       "      <td>3.203026</td>\n",
       "      <td>32.3564</td>\n",
       "      <td>58.685481</td>\n",
       "      <td>21</td>\n",
       "      <td>23</td>\n",
       "      <td>47</td>\n",
       "      <td>30</td>\n",
       "      <td>17</td>\n",
       "      <td>...</td>\n",
       "      <td>8.491716</td>\n",
       "      <td>62.402934</td>\n",
       "      <td>2.080098</td>\n",
       "      <td>16.872064</td>\n",
       "      <td>13.655728</td>\n",
       "      <td>3.216336</td>\n",
       "      <td>2319</td>\n",
       "      <td>52</td>\n",
       "      <td>4.844</td>\n",
       "      <td>168</td>\n",
       "    </tr>\n",
       "  </tbody>\n",
       "</table>\n",
       "<p>5 rows × 1208 columns</p>\n",
       "</div>"
      ],
      "text/plain": [
       "   nAcid    ALogP      ALogp2       AMR        apol  naAromAtom  nAromBond  \\\n",
       "0      0  -0.7109    0.505379   70.4932   73.378583          16         18   \n",
       "1      0  -1.4578    2.125181   44.0418   64.304653          18         20   \n",
       "2      0   0.0748    0.005595   27.2874   69.268860          27         29   \n",
       "3      0 -10.0458  100.918098  183.2952  142.418303           6          6   \n",
       "4      0  -1.7897    3.203026   32.3564   58.685481          21         23   \n",
       "\n",
       "   nAtom  nHeavyAtom  nH  ...       AMW      WTPT-1    WTPT-2     WTPT-3  \\\n",
       "0     65          34  31  ...  7.157502   70.514766  2.073964  27.938805   \n",
       "1     52          31  21  ...  7.830281   65.167083  2.102164  17.955201   \n",
       "2     57          37  20  ...  8.827511   76.232497  2.060338  31.795843   \n",
       "3    135          64  71  ...  6.678230  125.580825  1.962200  61.611922   \n",
       "4     47          30  17  ...  8.491716   62.402934  2.080098  16.872064   \n",
       "\n",
       "      WTPT-4     WTPT-5  WPATH  WPOL  XLogP  Zagreb  \n",
       "0  11.267053  16.671753   3404    59  2.188     184  \n",
       "1   2.565237  15.389964   2593    55  6.575     180  \n",
       "2   2.556014  22.098211   4979    56  5.589     198  \n",
       "3  20.276064  41.335857  21440    92 -0.194     302  \n",
       "4  13.655728   3.216336   2319    52  4.844     168  \n",
       "\n",
       "[5 rows x 1208 columns]"
      ]
     },
     "execution_count": 40,
     "metadata": {},
     "output_type": "execute_result"
    }
   ],
   "source": [
    "X.head()"
   ]
  },
  {
   "cell_type": "code",
   "execution_count": 63,
   "metadata": {},
   "outputs": [
    {
     "name": "stderr",
     "output_type": "stream",
     "text": [
      "[Parallel(n_jobs=-1)]: Using backend LokyBackend with 8 concurrent workers.\n",
      "[Parallel(n_jobs=-1)]: Done   2 out of   5 | elapsed:    0.6s remaining:    1.0s\n",
      "[Parallel(n_jobs=-1)]: Done   5 out of   5 | elapsed:    0.8s finished\n",
      "C:\\Users\\HP\\Anaconda3\\lib\\site-packages\\sklearn\\linear_model\\_least_angle.py:577: ConvergenceWarning: Regressors in active set degenerate. Dropping a regressor, after 40 iterations, i.e. alpha=1.606e-03, with an active set of 32 regressors, and the smallest cholesky pivot element being 1.490e-08. Reduce max_iter or increase eps parameters.\n",
      "  ConvergenceWarning)\n",
      "C:\\Users\\HP\\Anaconda3\\lib\\site-packages\\sklearn\\linear_model\\_least_angle.py:577: ConvergenceWarning: Regressors in active set degenerate. Dropping a regressor, after 98 iterations, i.e. alpha=7.512e-04, with an active set of 66 regressors, and the smallest cholesky pivot element being 2.220e-16. Reduce max_iter or increase eps parameters.\n",
      "  ConvergenceWarning)\n",
      "C:\\Users\\HP\\Anaconda3\\lib\\site-packages\\sklearn\\linear_model\\_least_angle.py:577: ConvergenceWarning: Regressors in active set degenerate. Dropping a regressor, after 100 iterations, i.e. alpha=7.111e-04, with an active set of 68 regressors, and the smallest cholesky pivot element being 2.107e-08. Reduce max_iter or increase eps parameters.\n",
      "  ConvergenceWarning)\n",
      "C:\\Users\\HP\\Anaconda3\\lib\\site-packages\\sklearn\\linear_model\\_least_angle.py:577: ConvergenceWarning: Regressors in active set degenerate. Dropping a regressor, after 100 iterations, i.e. alpha=7.111e-04, with an active set of 68 regressors, and the smallest cholesky pivot element being 2.788e-08. Reduce max_iter or increase eps parameters.\n",
      "  ConvergenceWarning)\n"
     ]
    },
    {
     "data": {
      "text/plain": [
       "LassoLarsCV(n_jobs=-1, verbose=1)"
      ]
     },
     "execution_count": 63,
     "metadata": {},
     "output_type": "execute_result"
    }
   ],
   "source": [
    "from sklearn.linear_model import LassoLarsCV\n",
    "LL = LassoLarsCV(verbose=1,n_jobs=-1)\n",
    "LL.fit(X,y)"
   ]
  },
  {
   "cell_type": "code",
   "execution_count": 64,
   "metadata": {},
   "outputs": [
    {
     "data": {
      "text/plain": [
       "0.508183761099205"
      ]
     },
     "execution_count": 64,
     "metadata": {},
     "output_type": "execute_result"
    }
   ],
   "source": [
    "LL.score(X,y)"
   ]
  },
  {
   "cell_type": "code",
   "execution_count": 52,
   "metadata": {},
   "outputs": [
    {
     "data": {
      "text/plain": [
       "2.220446049250313e-15"
      ]
     },
     "execution_count": 52,
     "metadata": {},
     "output_type": "execute_result"
    }
   ],
   "source": [
    "np.finfo(np.float).eps*10"
   ]
  },
  {
   "cell_type": "code",
   "execution_count": 65,
   "metadata": {},
   "outputs": [],
   "source": [
    "select = SelectFromModel(LL,max_features=50,prefit=True)\n",
    "Xnet = select.transform(X)\n",
    "Xnet = pd.DataFrame(data=Xnet,columns=get_cols(50))\n",
    "lol = Xnet.copy()\n",
    "lol['pChemBL'] = y"
   ]
  },
  {
   "cell_type": "code",
   "execution_count": 69,
   "metadata": {},
   "outputs": [
    {
     "name": "stdout",
     "output_type": "stream",
     "text": [
      "Number of estimators = 75\n",
      "Training set results:\n",
      "RMSE = 0.28237345738837427\t R^2 = 0.9398527351582295\n",
      "Test set results\n",
      "RMSE = 0.7304957501713284\t Q^2 = 0.6146137535875539\n",
      "Validation set results\n",
      "RMSE = 0.7289022337701816\t Q^2 = 0.6308351286764\n"
     ]
    }
   ],
   "source": [
    "RFR = split_train(lol,75)"
   ]
  },
  {
   "cell_type": "markdown",
   "metadata": {},
   "source": [
    "<h2>Saving the good datasets</h2>"
   ]
  },
  {
   "cell_type": "markdown",
   "metadata": {},
   "source": [
    "<h3>1. RFECV1200SKB"
   ]
  },
  {
   "cell_type": "code",
   "execution_count": null,
   "metadata": {},
   "outputs": [],
   "source": [
    "select = RFECV(reg,step =200,n_jobs=-1,min_features_to_select= 50,verbose=1)\n",
    "select.fit(X,y)\n",
    "X_new = select.transform(X)"
   ]
  },
  {
   "cell_type": "code",
   "execution_count": 7,
   "metadata": {},
   "outputs": [
    {
     "name": "stdout",
     "output_type": "stream",
     "text": [
      "Number of estimators = 150\n",
      "Training set results:\n",
      "RMSE = 0.2634445591308693\t R^2 = 0.9497773008836282\n",
      "Test set results\n",
      "RMSE = 0.6774434068550864\t Q^2 = 0.655835096205693\n",
      "Validation set results\n",
      "RMSE = 0.725115084516707\t Q^2 = 0.5918602518436764\n"
     ]
    }
   ],
   "source": [
    "cols = []\n",
    "for i in range(X_new.shape[1]):\n",
    "    cols.append('comp'+str(i+1))\n",
    "X_red = pd.DataFrame(data=X_new, columns=cols)\n",
    "X_red['pChemBL'] = y\n",
    "X_train, X_test, X_validate, y_train, y_test, y_validate = split_data(X_red)\n",
    "RFR = train_RFR(X_train, X_test, X_validate, y_train, y_test, y_validate)"
   ]
  },
  {
   "cell_type": "code",
   "execution_count": 18,
   "metadata": {},
   "outputs": [
    {
     "name": "stdout",
     "output_type": "stream",
     "text": [
      "50\n"
     ]
    }
   ],
   "source": [
    "cols = []\n",
    "for i in range(len(X.columns)):\n",
    "    if i in select.get_support(indices=True):\n",
    "        cols.append(X.columns[i])\n",
    "gc = []\n",
    "for i in range(len(cols)):\n",
    "    if i in selector.get_support(indices=True):\n",
    "        gc.append(cols[i])\n",
    "print(len(gc))"
   ]
  },
  {
   "cell_type": "code",
   "execution_count": 17,
   "metadata": {},
   "outputs": [],
   "source": [
    "X_red.drop(columns='pChemBL',inplace=True)\n",
    "cols = get_cols(50)\n",
    "selector = SelectKBest(mutual_info_regression, k=50)\n",
    "X_new = selector.fit_transform(X_red, y)"
   ]
  },
  {
   "cell_type": "code",
   "execution_count": 19,
   "metadata": {},
   "outputs": [
    {
     "name": "stdout",
     "output_type": "stream",
     "text": [
      "Number of estimators = 150\n",
      "Training set results:\n",
      "RMSE = 0.2588749058416511\t R^2 = 0.951108210629874\n",
      "Test set results\n",
      "RMSE = 0.6980075793701166\t Q^2 = 0.6225686556558805\n",
      "Validation set results\n",
      "RMSE = 0.6842526700577026\t Q^2 = 0.6584693647390943\n"
     ]
    }
   ],
   "source": [
    "X_red = pd.DataFrame(data=X_new, columns=gc)\n",
    "X_red['pChemBL'] = y\n",
    "RFR = split_train(X_red)"
   ]
  },
  {
   "cell_type": "code",
   "execution_count": 20,
   "metadata": {},
   "outputs": [],
   "source": [
    "X_red.to_csv('./data/RFECV1200SKB2.csv',index=False)"
   ]
  },
  {
   "cell_type": "markdown",
   "metadata": {},
   "source": [
    "<h3> 2. SKB1200"
   ]
  },
  {
   "cell_type": "code",
   "execution_count": 21,
   "metadata": {},
   "outputs": [],
   "source": [
    "X = pd.read_csv('no_zeros_no_chembl.csv')\n",
    "y = X['pChemBL']\n",
    "X.drop(columns='pChemBL',inplace=True)\n",
    "selections = SelectKBest(mutual_info_regression, k=50)\n",
    "X_new = selections.fit_transform(X, y)\n",
    "cols = selections.get_support(indices=True)\n",
    "gc = []\n",
    "for i in range(len(X.columns)):\n",
    "    if i in cols:\n",
    "        gc.append(X.columns[i])\n",
    "X_red = pd.DataFrame(data=X_new, columns=gc)\n",
    "X_red['pChemBL'] = y"
   ]
  },
  {
   "cell_type": "code",
   "execution_count": 22,
   "metadata": {},
   "outputs": [
    {
     "name": "stdout",
     "output_type": "stream",
     "text": [
      "Number of estimators = 150\n",
      "Training set results:\n",
      "RMSE = 0.2673216372522611\t R^2 = 0.9486772056627938\n",
      "Test set results\n",
      "RMSE = 0.6889035295068764\t Q^2 = 0.6155399633565959\n",
      "Validation set results\n",
      "RMSE = 0.7074640633354896\t Q^2 = 0.6283915082838017\n"
     ]
    }
   ],
   "source": [
    "#DONE WITHOUT THE CORRELATION DROP\n",
    "X_train, X_test, X_validate, y_train, y_test, y_validate = split_data(X_red)\n",
    "RFR = train_RFR(X_train, X_test, X_validate, y_train, y_test, y_validate)"
   ]
  },
  {
   "cell_type": "code",
   "execution_count": 24,
   "metadata": {},
   "outputs": [],
   "source": [
    "X_red.to_csv('./data/SKB1200.csv',index=False)"
   ]
  },
  {
   "cell_type": "markdown",
   "metadata": {},
   "source": [
    "<h2>XGBoost Model"
   ]
  },
  {
   "cell_type": "markdown",
   "metadata": {},
   "source": [
    "<h3> Load Data"
   ]
  },
  {
   "cell_type": "code",
   "execution_count": 3,
   "metadata": {},
   "outputs": [
    {
     "data": {
      "text/html": [
       "<div>\n",
       "<style scoped>\n",
       "    .dataframe tbody tr th:only-of-type {\n",
       "        vertical-align: middle;\n",
       "    }\n",
       "\n",
       "    .dataframe tbody tr th {\n",
       "        vertical-align: top;\n",
       "    }\n",
       "\n",
       "    .dataframe thead th {\n",
       "        text-align: right;\n",
       "    }\n",
       "</style>\n",
       "<table border=\"1\" class=\"dataframe\">\n",
       "  <thead>\n",
       "    <tr style=\"text-align: right;\">\n",
       "      <th></th>\n",
       "      <th>nN</th>\n",
       "      <th>ATSC3c</th>\n",
       "      <th>AATSC2v</th>\n",
       "      <th>AATSC2p</th>\n",
       "      <th>AATSC3i</th>\n",
       "      <th>AATSC8s</th>\n",
       "      <th>MATS2c</th>\n",
       "      <th>MATS2v</th>\n",
       "      <th>MATS2p</th>\n",
       "      <th>MATS3i</th>\n",
       "      <th>...</th>\n",
       "      <th>topoRadius</th>\n",
       "      <th>topoDiameter</th>\n",
       "      <th>GGI5</th>\n",
       "      <th>VE1_D</th>\n",
       "      <th>VE2_D</th>\n",
       "      <th>MWC8</th>\n",
       "      <th>MWC9</th>\n",
       "      <th>MWC10</th>\n",
       "      <th>XLogP</th>\n",
       "      <th>pChemBL</th>\n",
       "    </tr>\n",
       "  </thead>\n",
       "  <tbody>\n",
       "    <tr>\n",
       "      <th>0</th>\n",
       "      <td>5.0</td>\n",
       "      <td>-0.145569</td>\n",
       "      <td>6.520842</td>\n",
       "      <td>0.033282</td>\n",
       "      <td>-0.192045</td>\n",
       "      <td>0.005802</td>\n",
       "      <td>-0.043265</td>\n",
       "      <td>0.133123</td>\n",
       "      <td>0.151351</td>\n",
       "      <td>-0.129099</td>\n",
       "      <td>...</td>\n",
       "      <td>7.0</td>\n",
       "      <td>14.0</td>\n",
       "      <td>1.298611</td>\n",
       "      <td>0.179965</td>\n",
       "      <td>0.005293</td>\n",
       "      <td>10.570162</td>\n",
       "      <td>11.469569</td>\n",
       "      <td>12.376806</td>\n",
       "      <td>2.188</td>\n",
       "      <td>6.82</td>\n",
       "    </tr>\n",
       "    <tr>\n",
       "      <th>1</th>\n",
       "      <td>5.0</td>\n",
       "      <td>-0.052259</td>\n",
       "      <td>-1.311602</td>\n",
       "      <td>-0.006195</td>\n",
       "      <td>-0.119898</td>\n",
       "      <td>-0.028528</td>\n",
       "      <td>0.117528</td>\n",
       "      <td>-0.026376</td>\n",
       "      <td>-0.027534</td>\n",
       "      <td>-0.072937</td>\n",
       "      <td>...</td>\n",
       "      <td>7.0</td>\n",
       "      <td>14.0</td>\n",
       "      <td>1.350833</td>\n",
       "      <td>0.207667</td>\n",
       "      <td>0.006699</td>\n",
       "      <td>10.698763</td>\n",
       "      <td>11.619904</td>\n",
       "      <td>12.547891</td>\n",
       "      <td>6.575</td>\n",
       "      <td>7.64</td>\n",
       "    </tr>\n",
       "    <tr>\n",
       "      <th>2</th>\n",
       "      <td>7.0</td>\n",
       "      <td>0.078087</td>\n",
       "      <td>-4.401278</td>\n",
       "      <td>-0.004569</td>\n",
       "      <td>-0.280655</td>\n",
       "      <td>-0.112216</td>\n",
       "      <td>0.142885</td>\n",
       "      <td>-0.097913</td>\n",
       "      <td>-0.020252</td>\n",
       "      <td>-0.099931</td>\n",
       "      <td>...</td>\n",
       "      <td>10.0</td>\n",
       "      <td>19.0</td>\n",
       "      <td>1.187500</td>\n",
       "      <td>0.111470</td>\n",
       "      <td>0.003013</td>\n",
       "      <td>10.503450</td>\n",
       "      <td>11.374020</td>\n",
       "      <td>12.259002</td>\n",
       "      <td>5.589</td>\n",
       "      <td>4.30</td>\n",
       "    </tr>\n",
       "    <tr>\n",
       "      <th>3</th>\n",
       "      <td>15.0</td>\n",
       "      <td>0.515464</td>\n",
       "      <td>-4.768215</td>\n",
       "      <td>-0.028557</td>\n",
       "      <td>0.088748</td>\n",
       "      <td>0.336153</td>\n",
       "      <td>0.157322</td>\n",
       "      <td>-0.103900</td>\n",
       "      <td>-0.144668</td>\n",
       "      <td>0.063773</td>\n",
       "      <td>...</td>\n",
       "      <td>14.0</td>\n",
       "      <td>28.0</td>\n",
       "      <td>2.475833</td>\n",
       "      <td>0.107781</td>\n",
       "      <td>0.001684</td>\n",
       "      <td>10.727553</td>\n",
       "      <td>11.575609</td>\n",
       "      <td>12.430979</td>\n",
       "      <td>-0.194</td>\n",
       "      <td>6.03</td>\n",
       "    </tr>\n",
       "    <tr>\n",
       "      <th>4</th>\n",
       "      <td>1.0</td>\n",
       "      <td>-0.234616</td>\n",
       "      <td>1.831454</td>\n",
       "      <td>-0.000231</td>\n",
       "      <td>-0.152061</td>\n",
       "      <td>0.027539</td>\n",
       "      <td>-0.058844</td>\n",
       "      <td>0.038389</td>\n",
       "      <td>-0.000993</td>\n",
       "      <td>-0.105832</td>\n",
       "      <td>...</td>\n",
       "      <td>6.0</td>\n",
       "      <td>12.0</td>\n",
       "      <td>1.174722</td>\n",
       "      <td>0.074599</td>\n",
       "      <td>0.002487</td>\n",
       "      <td>10.612139</td>\n",
       "      <td>11.533502</td>\n",
       "      <td>12.463822</td>\n",
       "      <td>4.844</td>\n",
       "      <td>6.42</td>\n",
       "    </tr>\n",
       "  </tbody>\n",
       "</table>\n",
       "<p>5 rows × 133 columns</p>\n",
       "</div>"
      ],
      "text/plain": [
       "     nN    ATSC3c   AATSC2v   AATSC2p   AATSC3i   AATSC8s    MATS2c    MATS2v  \\\n",
       "0   5.0 -0.145569  6.520842  0.033282 -0.192045  0.005802 -0.043265  0.133123   \n",
       "1   5.0 -0.052259 -1.311602 -0.006195 -0.119898 -0.028528  0.117528 -0.026376   \n",
       "2   7.0  0.078087 -4.401278 -0.004569 -0.280655 -0.112216  0.142885 -0.097913   \n",
       "3  15.0  0.515464 -4.768215 -0.028557  0.088748  0.336153  0.157322 -0.103900   \n",
       "4   1.0 -0.234616  1.831454 -0.000231 -0.152061  0.027539 -0.058844  0.038389   \n",
       "\n",
       "     MATS2p    MATS3i  ...  topoRadius  topoDiameter      GGI5     VE1_D  \\\n",
       "0  0.151351 -0.129099  ...         7.0          14.0  1.298611  0.179965   \n",
       "1 -0.027534 -0.072937  ...         7.0          14.0  1.350833  0.207667   \n",
       "2 -0.020252 -0.099931  ...        10.0          19.0  1.187500  0.111470   \n",
       "3 -0.144668  0.063773  ...        14.0          28.0  2.475833  0.107781   \n",
       "4 -0.000993 -0.105832  ...         6.0          12.0  1.174722  0.074599   \n",
       "\n",
       "      VE2_D       MWC8       MWC9      MWC10  XLogP  pChemBL  \n",
       "0  0.005293  10.570162  11.469569  12.376806  2.188     6.82  \n",
       "1  0.006699  10.698763  11.619904  12.547891  6.575     7.64  \n",
       "2  0.003013  10.503450  11.374020  12.259002  5.589     4.30  \n",
       "3  0.001684  10.727553  11.575609  12.430979 -0.194     6.03  \n",
       "4  0.002487  10.612139  11.533502  12.463822  4.844     6.42  \n",
       "\n",
       "[5 rows x 133 columns]"
      ]
     },
     "execution_count": 3,
     "metadata": {},
     "output_type": "execute_result"
    }
   ],
   "source": [
    "file = './data/SFM452.csv'\n",
    "df = pd.read_csv(file)\n",
    "df.head()"
   ]
  },
  {
   "cell_type": "code",
   "execution_count": 4,
   "metadata": {},
   "outputs": [],
   "source": [
    "X_train, X_test, X_validate, y_train, y_test, y_validate = split_data(df)"
   ]
  },
  {
   "cell_type": "code",
   "execution_count": 5,
   "metadata": {},
   "outputs": [],
   "source": [
    "import xgboost as xgb\n",
    "xgReg = xgb.XGBRegressor(objective ='reg:linear', colsample_bytree = 0.3, learning_rate = 0.1,\n",
    "                max_depth = 5, alpha = 10, n_estimators = 200)\n",
    "xgReg.fit(X_train,y_train)"
   ]
  },
  {
   "cell_type": "code",
   "execution_count": 25,
   "metadata": {},
   "outputs": [
    {
     "name": "stdout",
     "output_type": "stream",
     "text": [
      "Test set results:\n",
      "RMSE =  0.6708061088935664\n",
      "Q^2 =  0.6672271803252772\n",
      "Validation results:\n",
      "RMSE =  0.6871978302844296\n",
      "Q^2 =  0.6547068723819978\n"
     ]
    }
   ],
   "source": [
    "print('Test set results:')\n",
    "preds = xgReg.predict(X_test)\n",
    "scores(y_test,preds)\n",
    "print('Validation results:')\n",
    "preds = xgReg.predict(X_validate)\n",
    "scores(y_validate,preds)"
   ]
  },
  {
   "cell_type": "code",
   "execution_count": null,
   "metadata": {},
   "outputs": [],
   "source": [
    "bst.save_model('model_file_name.json')"
   ]
  },
  {
   "cell_type": "code",
   "execution_count": 26,
   "metadata": {},
   "outputs": [
    {
     "data": {
      "text/html": [
       "<div>\n",
       "<style scoped>\n",
       "    .dataframe tbody tr th:only-of-type {\n",
       "        vertical-align: middle;\n",
       "    }\n",
       "\n",
       "    .dataframe tbody tr th {\n",
       "        vertical-align: top;\n",
       "    }\n",
       "\n",
       "    .dataframe thead th {\n",
       "        text-align: right;\n",
       "    }\n",
       "</style>\n",
       "<table border=\"1\" class=\"dataframe\">\n",
       "  <thead>\n",
       "    <tr style=\"text-align: right;\">\n",
       "      <th></th>\n",
       "      <th>nN</th>\n",
       "      <th>ATSC3c</th>\n",
       "      <th>AATSC2v</th>\n",
       "      <th>AATSC2p</th>\n",
       "      <th>AATSC3i</th>\n",
       "      <th>AATSC8s</th>\n",
       "      <th>MATS2c</th>\n",
       "      <th>MATS2v</th>\n",
       "      <th>MATS2p</th>\n",
       "      <th>MATS3i</th>\n",
       "      <th>...</th>\n",
       "      <th>LipinskiFailures</th>\n",
       "      <th>topoRadius</th>\n",
       "      <th>topoDiameter</th>\n",
       "      <th>GGI5</th>\n",
       "      <th>VE1_D</th>\n",
       "      <th>VE2_D</th>\n",
       "      <th>MWC8</th>\n",
       "      <th>MWC9</th>\n",
       "      <th>MWC10</th>\n",
       "      <th>XLogP</th>\n",
       "    </tr>\n",
       "  </thead>\n",
       "  <tbody>\n",
       "    <tr>\n",
       "      <th>0</th>\n",
       "      <td>-0.351928</td>\n",
       "      <td>-0.077637</td>\n",
       "      <td>1.033283</td>\n",
       "      <td>1.041048</td>\n",
       "      <td>-0.451243</td>\n",
       "      <td>0.198284</td>\n",
       "      <td>-0.782131</td>\n",
       "      <td>1.010061</td>\n",
       "      <td>1.205728</td>\n",
       "      <td>-0.801633</td>\n",
       "      <td>...</td>\n",
       "      <td>-0.492215</td>\n",
       "      <td>-0.534596</td>\n",
       "      <td>-0.375059</td>\n",
       "      <td>0.028249</td>\n",
       "      <td>0.248666</td>\n",
       "      <td>0.207813</td>\n",
       "      <td>0.390316</td>\n",
       "      <td>0.386286</td>\n",
       "      <td>0.374648</td>\n",
       "      <td>-0.523722</td>\n",
       "    </tr>\n",
       "    <tr>\n",
       "      <th>1</th>\n",
       "      <td>-0.351928</td>\n",
       "      <td>0.279122</td>\n",
       "      <td>-0.870034</td>\n",
       "      <td>-0.810859</td>\n",
       "      <td>-0.089344</td>\n",
       "      <td>0.043858</td>\n",
       "      <td>0.445097</td>\n",
       "      <td>-0.855163</td>\n",
       "      <td>-0.821597</td>\n",
       "      <td>-0.229838</td>\n",
       "      <td>...</td>\n",
       "      <td>1.086516</td>\n",
       "      <td>-0.534596</td>\n",
       "      <td>-0.375059</td>\n",
       "      <td>0.162274</td>\n",
       "      <td>0.458420</td>\n",
       "      <td>0.575555</td>\n",
       "      <td>0.914850</td>\n",
       "      <td>0.962122</td>\n",
       "      <td>0.996291</td>\n",
       "      <td>1.542066</td>\n",
       "    </tr>\n",
       "    <tr>\n",
       "      <th>2</th>\n",
       "      <td>0.523607</td>\n",
       "      <td>0.777489</td>\n",
       "      <td>-1.620838</td>\n",
       "      <td>-0.734606</td>\n",
       "      <td>-0.895723</td>\n",
       "      <td>-0.332591</td>\n",
       "      <td>0.638629</td>\n",
       "      <td>-1.691725</td>\n",
       "      <td>-0.739067</td>\n",
       "      <td>-0.504666</td>\n",
       "      <td>...</td>\n",
       "      <td>1.086516</td>\n",
       "      <td>1.146149</td>\n",
       "      <td>1.037583</td>\n",
       "      <td>-0.256911</td>\n",
       "      <td>-0.269969</td>\n",
       "      <td>-0.388696</td>\n",
       "      <td>0.118208</td>\n",
       "      <td>0.020298</td>\n",
       "      <td>-0.053400</td>\n",
       "      <td>1.077770</td>\n",
       "    </tr>\n",
       "    <tr>\n",
       "      <th>3</th>\n",
       "      <td>4.025748</td>\n",
       "      <td>2.449758</td>\n",
       "      <td>-1.710005</td>\n",
       "      <td>-1.859908</td>\n",
       "      <td>0.957246</td>\n",
       "      <td>1.684279</td>\n",
       "      <td>0.748813</td>\n",
       "      <td>-1.761735</td>\n",
       "      <td>-2.149086</td>\n",
       "      <td>1.162039</td>\n",
       "      <td>...</td>\n",
       "      <td>4.243978</td>\n",
       "      <td>3.387143</td>\n",
       "      <td>3.580338</td>\n",
       "      <td>3.049520</td>\n",
       "      <td>-0.297898</td>\n",
       "      <td>-0.736237</td>\n",
       "      <td>1.032282</td>\n",
       "      <td>0.792458</td>\n",
       "      <td>0.571485</td>\n",
       "      <td>-1.645378</td>\n",
       "    </tr>\n",
       "    <tr>\n",
       "      <th>4</th>\n",
       "      <td>-2.102998</td>\n",
       "      <td>-0.418102</td>\n",
       "      <td>-0.106258</td>\n",
       "      <td>-0.531091</td>\n",
       "      <td>-0.250679</td>\n",
       "      <td>0.296062</td>\n",
       "      <td>-0.901036</td>\n",
       "      <td>-0.097780</td>\n",
       "      <td>-0.520801</td>\n",
       "      <td>-0.564747</td>\n",
       "      <td>...</td>\n",
       "      <td>-0.492215</td>\n",
       "      <td>-1.094844</td>\n",
       "      <td>-0.940115</td>\n",
       "      <td>-0.289705</td>\n",
       "      <td>-0.549150</td>\n",
       "      <td>-0.526306</td>\n",
       "      <td>0.561530</td>\n",
       "      <td>0.631174</td>\n",
       "      <td>0.690824</td>\n",
       "      <td>0.726958</td>\n",
       "    </tr>\n",
       "  </tbody>\n",
       "</table>\n",
       "<p>5 rows × 132 columns</p>\n",
       "</div>"
      ],
      "text/plain": [
       "         nN    ATSC3c   AATSC2v   AATSC2p   AATSC3i   AATSC8s    MATS2c  \\\n",
       "0 -0.351928 -0.077637  1.033283  1.041048 -0.451243  0.198284 -0.782131   \n",
       "1 -0.351928  0.279122 -0.870034 -0.810859 -0.089344  0.043858  0.445097   \n",
       "2  0.523607  0.777489 -1.620838 -0.734606 -0.895723 -0.332591  0.638629   \n",
       "3  4.025748  2.449758 -1.710005 -1.859908  0.957246  1.684279  0.748813   \n",
       "4 -2.102998 -0.418102 -0.106258 -0.531091 -0.250679  0.296062 -0.901036   \n",
       "\n",
       "     MATS2v    MATS2p    MATS3i  ...  LipinskiFailures  topoRadius  \\\n",
       "0  1.010061  1.205728 -0.801633  ...         -0.492215   -0.534596   \n",
       "1 -0.855163 -0.821597 -0.229838  ...          1.086516   -0.534596   \n",
       "2 -1.691725 -0.739067 -0.504666  ...          1.086516    1.146149   \n",
       "3 -1.761735 -2.149086  1.162039  ...          4.243978    3.387143   \n",
       "4 -0.097780 -0.520801 -0.564747  ...         -0.492215   -1.094844   \n",
       "\n",
       "   topoDiameter      GGI5     VE1_D     VE2_D      MWC8      MWC9     MWC10  \\\n",
       "0     -0.375059  0.028249  0.248666  0.207813  0.390316  0.386286  0.374648   \n",
       "1     -0.375059  0.162274  0.458420  0.575555  0.914850  0.962122  0.996291   \n",
       "2      1.037583 -0.256911 -0.269969 -0.388696  0.118208  0.020298 -0.053400   \n",
       "3      3.580338  3.049520 -0.297898 -0.736237  1.032282  0.792458  0.571485   \n",
       "4     -0.940115 -0.289705 -0.549150 -0.526306  0.561530  0.631174  0.690824   \n",
       "\n",
       "      XLogP  \n",
       "0 -0.523722  \n",
       "1  1.542066  \n",
       "2  1.077770  \n",
       "3 -1.645378  \n",
       "4  0.726958  \n",
       "\n",
       "[5 rows x 132 columns]"
      ]
     },
     "execution_count": 26,
     "metadata": {},
     "output_type": "execute_result"
    }
   ],
   "source": [
    "X = df.drop(columns='pChemBL')\n",
    "scaler = StandardScaler()\n",
    "scaler.fit(X)\n",
    "da = scaler.transform(X)\n",
    "X = pd.DataFrame(data=da,columns=X.columns)\n",
    "X.head()"
   ]
  },
  {
   "cell_type": "code",
   "execution_count": 62,
   "metadata": {},
   "outputs": [],
   "source": [
    "X_train, X_test, y_train, y_test = train_test_split(X,df['pChemBL'],random_state=101,test_size=0.33)"
   ]
  },
  {
   "cell_type": "code",
   "execution_count": 37,
   "metadata": {},
   "outputs": [
    {
     "data": {
      "text/plain": [
       "13.980773967309686"
      ]
     },
     "execution_count": 37,
     "metadata": {},
     "output_type": "execute_result"
    }
   ],
   "source": [
    "X_train.describe().loc['max'].max()"
   ]
  },
  {
   "cell_type": "code",
   "execution_count": 30,
   "metadata": {},
   "outputs": [],
   "source": [
    "from sklearn.model_selection import RandomizedSearchCV as RSC\n",
    "xgr = xgb.XGBRegressor()\n",
    "params = {\n",
    "    \"colsample_bytree\": uniform(0.7, 0.3),\n",
    "    \"gamma\": uniform(0, 0.5),\n",
    "    \"learning_rate\": uniform(0.03, 0.3), # default 0.1 \n",
    "    \"max_depth\": randint(2, 6), # default 3\n",
    "    \"n_estimators\": randint(100, 150), # default 100\n",
    "    \"subsample\": uniform(0.6, 0.4)\n",
    "}\n",
    "clf = RSC(xgr,param_grid,random_state=0,verbose=1,n_jobs=-1)"
   ]
  },
  {
   "cell_type": "code",
   "execution_count": 72,
   "metadata": {},
   "outputs": [
    {
     "data": {
      "text/plain": [
       "XGBRegressor(colsample_bytree=0.8, max_depth=4, min_child_weight=2,\n",
       "             n_estimators=150, seed=27, subsample=0.8)"
      ]
     },
     "execution_count": 72,
     "metadata": {},
     "output_type": "execute_result"
    }
   ],
   "source": [
    "xgr = xgb.XGBRegressor( learning_rate=0.1, n_estimators=150, max_depth=4,\n",
    "    min_child_weight=2, gamma=0, subsample=0.8, colsample_bytree=0.8,\n",
    " objective= 'reg:linear', scale_pos_weight=1,seed=27)\n",
    "xgr.fit(X_train,y_train)"
   ]
  },
  {
   "cell_type": "code",
   "execution_count": 73,
   "metadata": {},
   "outputs": [
    {
     "name": "stdout",
     "output_type": "stream",
     "text": [
      "RMSE =  0.6931058813759401\n",
      "Q^2 =  0.640499746183325\n"
     ]
    }
   ],
   "source": [
    "preds = xgr.predict(X_test)\n",
    "scores(y_test,preds)"
   ]
  },
  {
   "cell_type": "code",
   "execution_count": 59,
   "metadata": {},
   "outputs": [],
   "source": [
    "params = {\n",
    "    'silent': [False],\n",
    "    'n_estimators':[100],\n",
    "    'subsample': [0.5, 0.6, 0.7, 0.8, 0.9, 1.0],\n",
    "    'learning_rate': list(np.logspace(np.log(0.005), np.log(0.2), base = np.exp(1), num = 10)),\n",
    "    'gamma': [0, 0.25, 0.5, 1.0],\n",
    "    'colsample_bylevel': [0.4, 0.5, 0.6, 0.7, 0.8, 0.9, 1.0],\n",
    "    'reg_alpha': list(np.linspace(0, 1,10)),\n",
    "    'reg_lambda': list(np.linspace(0, 1,10)),#check this\n",
    "    'colsample_bytree': list(np.linspace(0.6, 1, 10))\n",
    "}"
   ]
  },
  {
   "cell_type": "code",
   "execution_count": 57,
   "metadata": {},
   "outputs": [],
   "source": [
    "from sklearn.model_selection import GridSearchCV\n",
    "xgr = xgb.XGBRegressor( learning_rate=0.1, n_estimators=140, max_depth=4,\n",
    "    min_child_weight=2, gamma=0, subsample=0.8, colsample_bytree=0.8,\n",
    " objective= 'reg:linear', scale_pos_weight=1,seed=27)\n",
    "param_test2b = {\n",
    " 'min_child_weight':[6,8,10,12]\n",
    "    \n",
    "}\n",
    "gsearch2b = GridSearchCV(estimator = , param_grid = params, iid=False, cv=5)"
   ]
  },
  {
   "cell_type": "code",
   "execution_count": 58,
   "metadata": {},
   "outputs": [
    {
     "name": "stderr",
     "output_type": "stream",
     "text": [
      "\n",
      "KeyboardInterrupt\n",
      "\n"
     ]
    }
   ],
   "source": [
    "gsearch2b.fit(X_train,y_train)"
   ]
  },
  {
   "cell_type": "markdown",
   "metadata": {},
   "source": [
    "<h3>SKB 1200</h3>"
   ]
  },
  {
   "cell_type": "code",
   "execution_count": 75,
   "metadata": {},
   "outputs": [
    {
     "data": {
      "text/html": [
       "<div>\n",
       "<style scoped>\n",
       "    .dataframe tbody tr th:only-of-type {\n",
       "        vertical-align: middle;\n",
       "    }\n",
       "\n",
       "    .dataframe tbody tr th {\n",
       "        vertical-align: top;\n",
       "    }\n",
       "\n",
       "    .dataframe thead th {\n",
       "        text-align: right;\n",
       "    }\n",
       "</style>\n",
       "<table border=\"1\" class=\"dataframe\">\n",
       "  <thead>\n",
       "    <tr style=\"text-align: right;\">\n",
       "      <th></th>\n",
       "      <th>naAromAtom</th>\n",
       "      <th>nAromBond</th>\n",
       "      <th>BCUTc-1l</th>\n",
       "      <th>BCUTc-1h</th>\n",
       "      <th>BCUTp-1h</th>\n",
       "      <th>SpMax1_Bhm</th>\n",
       "      <th>SpMin1_Bhm</th>\n",
       "      <th>SpMin3_Bhm</th>\n",
       "      <th>SpMin4_Bhm</th>\n",
       "      <th>SpMax1_Bhv</th>\n",
       "      <th>...</th>\n",
       "      <th>piPC5</th>\n",
       "      <th>piPC7</th>\n",
       "      <th>piPC8</th>\n",
       "      <th>piPC9</th>\n",
       "      <th>piPC10</th>\n",
       "      <th>TpiPC</th>\n",
       "      <th>R_TpiPCTPC</th>\n",
       "      <th>nTRing</th>\n",
       "      <th>WTPT-4</th>\n",
       "      <th>WTPT-5</th>\n",
       "    </tr>\n",
       "  </thead>\n",
       "  <tbody>\n",
       "    <tr>\n",
       "      <th>0</th>\n",
       "      <td>-0.079666</td>\n",
       "      <td>0.004805</td>\n",
       "      <td>-0.249040</td>\n",
       "      <td>-0.143247</td>\n",
       "      <td>-0.317571</td>\n",
       "      <td>-0.329982</td>\n",
       "      <td>1.114322</td>\n",
       "      <td>0.429053</td>\n",
       "      <td>0.570100</td>\n",
       "      <td>0.291650</td>\n",
       "      <td>...</td>\n",
       "      <td>0.559381</td>\n",
       "      <td>0.711387</td>\n",
       "      <td>0.732004</td>\n",
       "      <td>0.829332</td>\n",
       "      <td>0.834264</td>\n",
       "      <td>0.808171</td>\n",
       "      <td>0.380260</td>\n",
       "      <td>0.013437</td>\n",
       "      <td>1.173686</td>\n",
       "      <td>-0.209875</td>\n",
       "    </tr>\n",
       "    <tr>\n",
       "      <th>1</th>\n",
       "      <td>0.224032</td>\n",
       "      <td>0.269150</td>\n",
       "      <td>0.190262</td>\n",
       "      <td>0.119430</td>\n",
       "      <td>0.638322</td>\n",
       "      <td>-0.286999</td>\n",
       "      <td>2.029382</td>\n",
       "      <td>0.679335</td>\n",
       "      <td>0.807637</td>\n",
       "      <td>0.997662</td>\n",
       "      <td>...</td>\n",
       "      <td>0.890747</td>\n",
       "      <td>1.036736</td>\n",
       "      <td>1.031408</td>\n",
       "      <td>1.061042</td>\n",
       "      <td>1.067285</td>\n",
       "      <td>1.091591</td>\n",
       "      <td>0.800381</td>\n",
       "      <td>1.101490</td>\n",
       "      <td>-0.719429</td>\n",
       "      <td>-0.398305</td>\n",
       "    </tr>\n",
       "    <tr>\n",
       "      <th>2</th>\n",
       "      <td>1.590674</td>\n",
       "      <td>1.458703</td>\n",
       "      <td>0.392450</td>\n",
       "      <td>0.441889</td>\n",
       "      <td>-1.018242</td>\n",
       "      <td>-0.280579</td>\n",
       "      <td>0.584458</td>\n",
       "      <td>1.077234</td>\n",
       "      <td>0.703677</td>\n",
       "      <td>0.213986</td>\n",
       "      <td>...</td>\n",
       "      <td>0.659766</td>\n",
       "      <td>0.517914</td>\n",
       "      <td>0.483153</td>\n",
       "      <td>0.466456</td>\n",
       "      <td>0.507164</td>\n",
       "      <td>0.491291</td>\n",
       "      <td>0.403589</td>\n",
       "      <td>0.013437</td>\n",
       "      <td>-0.721436</td>\n",
       "      <td>0.587844</td>\n",
       "    </tr>\n",
       "    <tr>\n",
       "      <th>3</th>\n",
       "      <td>-1.598158</td>\n",
       "      <td>-1.581267</td>\n",
       "      <td>-0.193161</td>\n",
       "      <td>-0.102295</td>\n",
       "      <td>-0.311364</td>\n",
       "      <td>-0.740718</td>\n",
       "      <td>-0.616633</td>\n",
       "      <td>0.770401</td>\n",
       "      <td>1.278363</td>\n",
       "      <td>-1.971268</td>\n",
       "      <td>...</td>\n",
       "      <td>-1.453591</td>\n",
       "      <td>-1.994325</td>\n",
       "      <td>-1.865746</td>\n",
       "      <td>-1.883827</td>\n",
       "      <td>-1.971017</td>\n",
       "      <td>-1.759067</td>\n",
       "      <td>-1.489017</td>\n",
       "      <td>-1.437299</td>\n",
       "      <td>3.133633</td>\n",
       "      <td>3.415884</td>\n",
       "    </tr>\n",
       "    <tr>\n",
       "      <th>4</th>\n",
       "      <td>0.679579</td>\n",
       "      <td>0.665668</td>\n",
       "      <td>-0.192985</td>\n",
       "      <td>-0.180689</td>\n",
       "      <td>0.659955</td>\n",
       "      <td>-0.211317</td>\n",
       "      <td>0.120186</td>\n",
       "      <td>0.747855</td>\n",
       "      <td>-0.259085</td>\n",
       "      <td>1.395255</td>\n",
       "      <td>...</td>\n",
       "      <td>0.946103</td>\n",
       "      <td>0.891431</td>\n",
       "      <td>0.917908</td>\n",
       "      <td>0.871493</td>\n",
       "      <td>0.884662</td>\n",
       "      <td>0.913862</td>\n",
       "      <td>0.784813</td>\n",
       "      <td>0.376122</td>\n",
       "      <td>1.693352</td>\n",
       "      <td>-2.187896</td>\n",
       "    </tr>\n",
       "  </tbody>\n",
       "</table>\n",
       "<p>5 rows × 50 columns</p>\n",
       "</div>"
      ],
      "text/plain": [
       "   naAromAtom  nAromBond  BCUTc-1l  BCUTc-1h  BCUTp-1h  SpMax1_Bhm  \\\n",
       "0   -0.079666   0.004805 -0.249040 -0.143247 -0.317571   -0.329982   \n",
       "1    0.224032   0.269150  0.190262  0.119430  0.638322   -0.286999   \n",
       "2    1.590674   1.458703  0.392450  0.441889 -1.018242   -0.280579   \n",
       "3   -1.598158  -1.581267 -0.193161 -0.102295 -0.311364   -0.740718   \n",
       "4    0.679579   0.665668 -0.192985 -0.180689  0.659955   -0.211317   \n",
       "\n",
       "   SpMin1_Bhm  SpMin3_Bhm  SpMin4_Bhm  SpMax1_Bhv  ...     piPC5     piPC7  \\\n",
       "0    1.114322    0.429053    0.570100    0.291650  ...  0.559381  0.711387   \n",
       "1    2.029382    0.679335    0.807637    0.997662  ...  0.890747  1.036736   \n",
       "2    0.584458    1.077234    0.703677    0.213986  ...  0.659766  0.517914   \n",
       "3   -0.616633    0.770401    1.278363   -1.971268  ... -1.453591 -1.994325   \n",
       "4    0.120186    0.747855   -0.259085    1.395255  ...  0.946103  0.891431   \n",
       "\n",
       "      piPC8     piPC9    piPC10     TpiPC  R_TpiPCTPC    nTRing    WTPT-4  \\\n",
       "0  0.732004  0.829332  0.834264  0.808171    0.380260  0.013437  1.173686   \n",
       "1  1.031408  1.061042  1.067285  1.091591    0.800381  1.101490 -0.719429   \n",
       "2  0.483153  0.466456  0.507164  0.491291    0.403589  0.013437 -0.721436   \n",
       "3 -1.865746 -1.883827 -1.971017 -1.759067   -1.489017 -1.437299  3.133633   \n",
       "4  0.917908  0.871493  0.884662  0.913862    0.784813  0.376122  1.693352   \n",
       "\n",
       "     WTPT-5  \n",
       "0 -0.209875  \n",
       "1 -0.398305  \n",
       "2  0.587844  \n",
       "3  3.415884  \n",
       "4 -2.187896  \n",
       "\n",
       "[5 rows x 50 columns]"
      ]
     },
     "execution_count": 75,
     "metadata": {},
     "output_type": "execute_result"
    }
   ],
   "source": [
    "file = './data/SKB1200.csv'\n",
    "df = pd.read_csv(file)\n",
    "df.head()\n",
    "X = df.drop(columns='pChemBL')\n",
    "scaler = StandardScaler()\n",
    "scaler.fit(X)\n",
    "da = scaler.transform(X)\n",
    "X = pd.DataFrame(data=da,columns=X.columns)\n",
    "X.head()"
   ]
  },
  {
   "cell_type": "code",
   "execution_count": 77,
   "metadata": {},
   "outputs": [
    {
     "name": "stdout",
     "output_type": "stream",
     "text": [
      "RMSE =  0.6691064057194259\n",
      "Q^2 =  0.6649648227765121\n"
     ]
    }
   ],
   "source": [
    "X_train, X_test, y_train, y_test = train_test_split(X,df['pChemBL'],random_state=101,test_size=0.33)\n",
    "xgr = xgb.XGBRegressor( learning_rate=0.1, n_estimators=200, max_depth=4,\n",
    "    min_child_weight=2, gamma=0, subsample=0.8, colsample_bytree=0.8,\n",
    " objective= 'reg:linear', scale_pos_weight=1,seed=27)\n",
    "xgr.fit(X_train,y_train)\n",
    "preds = xgr.predict(X_test)\n",
    "scores(y_test,preds)"
   ]
  },
  {
   "cell_type": "code",
   "execution_count": 87,
   "metadata": {},
   "outputs": [
    {
     "name": "stdout",
     "output_type": "stream",
     "text": [
      "Fitting 5 folds for each of 8 candidates, totalling 40 fits\n"
     ]
    },
    {
     "name": "stderr",
     "output_type": "stream",
     "text": [
      "[Parallel(n_jobs=-1)]: Using backend LokyBackend with 8 concurrent workers.\n",
      "[Parallel(n_jobs=-1)]: Done  40 out of  40 | elapsed:   32.6s finished\n"
     ]
    },
    {
     "data": {
      "text/plain": [
       "GridSearchCV(cv=5,\n",
       "             estimator=XGBRegressor(colsample_bytree=0.8, max_depth=4,\n",
       "                                    min_child_weight=2, n_estimators=200,\n",
       "                                    seed=27, subsample=0.8),\n",
       "             n_jobs=-1,\n",
       "             param_grid={'max_depth': range(7, 15, 2),\n",
       "                         'min_child_weight': [1, 5]},\n",
       "             scoring='neg_mean_squared_error', verbose=1)"
      ]
     },
     "execution_count": 87,
     "metadata": {},
     "output_type": "execute_result"
    }
   ],
   "source": [
    "param_test1 = {\n",
    " 'max_depth':range(7,15,2),\n",
    " 'min_child_weight':[1,5]\n",
    "}\n",
    "gsearch1 = GridSearchCV(estimator = xgr, \n",
    " param_grid = param_test1, scoring='neg_mean_squared_error',n_jobs=-1, cv=5,verbose=1)\n",
    "gsearch1.fit(X_train,y_train)"
   ]
  },
  {
   "cell_type": "code",
   "execution_count": 88,
   "metadata": {},
   "outputs": [
    {
     "data": {
      "text/plain": [
       "-0.4581925627065334"
      ]
     },
     "execution_count": 88,
     "metadata": {},
     "output_type": "execute_result"
    }
   ],
   "source": [
    "gsearch1.best_score_"
   ]
  },
  {
   "cell_type": "code",
   "execution_count": 89,
   "metadata": {},
   "outputs": [],
   "source": [
    "best = gsearch1.best_estimator_"
   ]
  },
  {
   "cell_type": "code",
   "execution_count": 90,
   "metadata": {},
   "outputs": [
    {
     "name": "stdout",
     "output_type": "stream",
     "text": [
      "RMSE =  0.6827919053534127\n",
      "Q^2 =  0.651119448000097\n"
     ]
    }
   ],
   "source": [
    "preds = best.predict(X_test)\n",
    "scores(y_test,preds)"
   ]
  },
  {
   "cell_type": "code",
   "execution_count": 91,
   "metadata": {},
   "outputs": [
    {
     "data": {
      "text/plain": [
       "{'max_depth': 7, 'min_child_weight': 5}"
      ]
     },
     "execution_count": 91,
     "metadata": {},
     "output_type": "execute_result"
    }
   ],
   "source": [
    "gsearch1.best_params_"
   ]
  },
  {
   "cell_type": "code",
   "execution_count": 97,
   "metadata": {},
   "outputs": [
    {
     "name": "stdout",
     "output_type": "stream",
     "text": [
      "Fitting 5 folds for each of 9 candidates, totalling 45 fits\n"
     ]
    },
    {
     "name": "stderr",
     "output_type": "stream",
     "text": [
      "[Parallel(n_jobs=-1)]: Using backend LokyBackend with 8 concurrent workers.\n",
      "[Parallel(n_jobs=-1)]: Done  45 out of  45 | elapsed:   27.2s finished\n"
     ]
    },
    {
     "name": "stdout",
     "output_type": "stream",
     "text": [
      "{'max_depth': 7, 'min_child_weight': 7}\n"
     ]
    }
   ],
   "source": [
    "param_test1 = {\n",
    " 'max_depth': [6,7,8],\n",
    " 'min_child_weight':[6,7,5]\n",
    "}\n",
    "gsearch1 = GridSearchCV(estimator = xgr, \n",
    " param_grid = param_test1, scoring='neg_mean_squared_error',n_jobs=-1, cv=5,verbose=1)\n",
    "gsearch1.fit(X_train,y_train)\n",
    "best = gsearch1.best_estimator_\n",
    "print(gsearch1.best_params_)"
   ]
  },
  {
   "cell_type": "code",
   "execution_count": 98,
   "metadata": {},
   "outputs": [
    {
     "name": "stdout",
     "output_type": "stream",
     "text": [
      "RMSE =  0.6698913089805233\n",
      "Q^2 =  0.6641783277105412\n"
     ]
    }
   ],
   "source": [
    "preds = best.predict(X_test)\n",
    "scores(y_test,preds)"
   ]
  },
  {
   "cell_type": "code",
   "execution_count": 99,
   "metadata": {},
   "outputs": [
    {
     "name": "stdout",
     "output_type": "stream",
     "text": [
      "Fitting 5 folds for each of 5 candidates, totalling 25 fits\n"
     ]
    },
    {
     "name": "stderr",
     "output_type": "stream",
     "text": [
      "[Parallel(n_jobs=-1)]: Using backend LokyBackend with 8 concurrent workers.\n",
      "[Parallel(n_jobs=-1)]: Done  25 out of  25 | elapsed:   10.4s finished\n"
     ]
    },
    {
     "name": "stdout",
     "output_type": "stream",
     "text": [
      "{'gamma': 0}\n"
     ]
    }
   ],
   "source": [
    "param_test2 = {\n",
    "    'gamma' : [0,0.1,1,10,100]\n",
    "}\n",
    "gsearch1 = GridSearchCV(estimator = xgr, \n",
    " param_grid = param_test2, scoring='neg_mean_squared_error',n_jobs=-1, cv=5,verbose=1)\n",
    "gsearch1.fit(X_train,y_train)\n",
    "best = gsearch1.best_estimator_\n",
    "print(gsearch1.best_params_)"
   ]
  },
  {
   "cell_type": "code",
   "execution_count": 100,
   "metadata": {},
   "outputs": [
    {
     "name": "stdout",
     "output_type": "stream",
     "text": [
      "RMSE =  0.6691064057194259\n",
      "Q^2 =  0.6649648227765121\n"
     ]
    }
   ],
   "source": [
    "preds = best.predict(X_test)\n",
    "scores(y_test,preds)"
   ]
  },
  {
   "cell_type": "code",
   "execution_count": 115,
   "metadata": {},
   "outputs": [
    {
     "name": "stdout",
     "output_type": "stream",
     "text": [
      "Fitting 5 folds for each of 3 candidates, totalling 15 fits\n"
     ]
    },
    {
     "name": "stderr",
     "output_type": "stream",
     "text": [
      "[Parallel(n_jobs=-1)]: Using backend LokyBackend with 8 concurrent workers.\n",
      "[Parallel(n_jobs=-1)]: Done  15 out of  15 | elapsed:    7.7s finished\n"
     ]
    },
    {
     "name": "stdout",
     "output_type": "stream",
     "text": [
      "{'alpha': 0.4} 0.6724865713489308\n"
     ]
    }
   ],
   "source": [
    "param_test3 = {\n",
    "    'alpha'  : [0.4,0.35,0.3]\n",
    "}\n",
    "gsearch3 = GridSearchCV(estimator = best3, \n",
    " param_grid = param_test3, scoring='neg_mean_squared_error',n_jobs=-1, cv=5,verbose=1)\n",
    "gsearch3.fit(X_train,y_train)\n",
    "print(gsearch3.best_params_,np.sqrt(-1*gsearch3.best_score_))"
   ]
  },
  {
   "cell_type": "code",
   "execution_count": 116,
   "metadata": {},
   "outputs": [
    {
     "name": "stdout",
     "output_type": "stream",
     "text": [
      "{'alpha': 0.4}\n",
      "RMSE =  0.6698913089805233\n",
      "Q^2 =  0.6641783277105412\n"
     ]
    }
   ],
   "source": [
    "best4 = gsearch3.best_estimator_\n",
    "print(gsearch3.best_params_)\n",
    "preds = best4.predict(X_test)\n",
    "scores(y_test,preds)"
   ]
  },
  {
   "cell_type": "code",
   "execution_count": 117,
   "metadata": {},
   "outputs": [
    {
     "data": {
      "text/plain": [
       "XGBRegressor(alpha=0.4, colsample_bytree=0.8, max_depth=7, min_child_weight=7,\n",
       "             n_estimators=200, seed=27, subsample=0.8)"
      ]
     },
     "execution_count": 117,
     "metadata": {},
     "output_type": "execute_result"
    }
   ],
   "source": [
    "best4"
   ]
  },
  {
   "cell_type": "code",
   "execution_count": null,
   "metadata": {},
   "outputs": [],
   "source": []
  },
  {
   "cell_type": "code",
   "execution_count": 119,
   "metadata": {},
   "outputs": [
    {
     "name": "stderr",
     "output_type": "stream",
     "text": [
      "C:\\Users\\HP\\Anaconda3\\lib\\site-packages\\sklearn\\model_selection\\_search.py:849: FutureWarning: The parameter 'iid' is deprecated in 0.22 and will be removed in 0.24.\n",
      "  \"removed in 0.24.\", FutureWarning\n"
     ]
    },
    {
     "data": {
      "text/plain": [
       "GridSearchCV(cv=5,\n",
       "             estimator=XGBRegressor(alpha=0.4, colsample_bytree=0.8,\n",
       "                                    max_depth=7, min_child_weight=7,\n",
       "                                    n_estimators=200, seed=27, subsample=0.8),\n",
       "             iid=False, n_jobs=-1,\n",
       "             param_grid={'colsample_bytree': [0.4, 0.5, 0.6, 0.7, 0.8, 0.9, 1],\n",
       "                         'subsample': [0.6, 0.7, 0.8, 0.9, 1]},\n",
       "             scoring='neg_mean_squared_error')"
      ]
     },
     "execution_count": 119,
     "metadata": {},
     "output_type": "execute_result"
    }
   ],
   "source": [
    "param_test4 = {\n",
    " 'subsample':[0.6,0.7,0.8,0.9,1],\n",
    " 'colsample_bytree':[0.4,0.5,0.6,0.7,0.8,0.9,1]\n",
    "}\n",
    "gsearch4 = GridSearchCV(estimator = best4,param_grid = param_test4, scoring='neg_mean_squared_error',n_jobs=-1,iid=False, cv=5)\n",
    "gsearch4.fit(X_train,y_train)"
   ]
  },
  {
   "cell_type": "code",
   "execution_count": 121,
   "metadata": {},
   "outputs": [
    {
     "name": "stdout",
     "output_type": "stream",
     "text": [
      "{'colsample_bytree': 0.8, 'subsample': 0.8}\n",
      "RMSE =  0.6698913089805233\n",
      "Q^2 =  0.6641783277105412\n"
     ]
    }
   ],
   "source": [
    "best5 = gsearch4.best_estimator_\n",
    "print(gsearch4.best_params_)\n",
    "preds = best5.predict(X_test)\n",
    "scores(y_test,preds)"
   ]
  },
  {
   "cell_type": "code",
   "execution_count": 122,
   "metadata": {},
   "outputs": [
    {
     "data": {
      "text/plain": [
       "XGBRegressor(alpha=0.4, colsample_bytree=0.8, max_depth=7, min_child_weight=7,\n",
       "             n_estimators=200, seed=27, subsample=0.8)"
      ]
     },
     "execution_count": 122,
     "metadata": {},
     "output_type": "execute_result"
    }
   ],
   "source": [
    "best5"
   ]
  },
  {
   "cell_type": "code",
   "execution_count": 132,
   "metadata": {},
   "outputs": [
    {
     "name": "stdout",
     "output_type": "stream",
     "text": [
      "RMSE =  0.6540900947152727\n",
      "Q^2 =  0.6798340237406895\n"
     ]
    }
   ],
   "source": [
    "reg = xgb.XGBRegressor(alpha=0.4, colsample_bytree=0.8, max_depth=10, min_child_weight=7,\n",
    "             n_estimators=1000, seed=27, subsample=0.8,learning_rate=0.01)\n",
    "reg.fit(X_train,y_train)\n",
    "preds = reg.predict(X_test)\n",
    "scores(y_test,preds)"
   ]
  },
  {
   "cell_type": "code",
   "execution_count": 137,
   "metadata": {},
   "outputs": [
    {
     "name": "stdout",
     "output_type": "stream",
     "text": [
      "RMSE =  0.6341186460196361\n",
      "Q^2 =  0.7303458856616272\n"
     ]
    }
   ],
   "source": [
    "preds = reg.predict(X_validate)\n",
    "scores(y_validate,preds)"
   ]
  },
  {
   "cell_type": "code",
   "execution_count": 141,
   "metadata": {},
   "outputs": [
    {
     "data": {
      "text/plain": [
       "GridSearchCV(cv=5,\n",
       "             estimator=XGBRegressor(alpha=0.4, colsample_bytree=0.8,\n",
       "                                    learning_rate=0.01, max_depth=10,\n",
       "                                    min_child_weight=7, n_estimators=1000,\n",
       "                                    seed=27, subsample=0.8),\n",
       "             n_jobs=-1, param_grid={'max_depth': [8, 9, 10, 11, 15, 20, 17]},\n",
       "             scoring='neg_mean_squared_error')"
      ]
     },
     "execution_count": 141,
     "metadata": {},
     "output_type": "execute_result"
    }
   ],
   "source": [
    "param = {\n",
    "    'max_depth' : [8,9,10,11,15,20,17]\n",
    "}\n",
    "X_train, X_test, y_train, y_test = train_test_split(X,df['pChemBL'],random_state=101,test_size=0.2)\n",
    "gsearch4 = GridSearchCV(estimator = reg,param_grid = param, scoring='neg_mean_squared_error',n_jobs=-1, cv=5,verbose=1)\n",
    "gsearch4.fit(X_train,y_train)"
   ]
  },
  {
   "cell_type": "code",
   "execution_count": 142,
   "metadata": {},
   "outputs": [
    {
     "name": "stdout",
     "output_type": "stream",
     "text": [
      "{'max_depth': 11}\n",
      "RMSE =  0.6366279654173758\n",
      "Q^2 =  0.6956214016338478\n"
     ]
    }
   ],
   "source": [
    "best5 = gsearch4.best_estimator_\n",
    "print(gsearch4.best_params_)\n",
    "preds = best5.predict(X_test)\n",
    "scores(y_test,preds)"
   ]
  },
  {
   "cell_type": "code",
   "execution_count": 143,
   "metadata": {},
   "outputs": [],
   "source": [
    "X_train, X_test, X_validate, y_train, y_test, y_validate = split_data(df)"
   ]
  },
  {
   "cell_type": "code",
   "execution_count": 144,
   "metadata": {},
   "outputs": [
    {
     "name": "stdout",
     "output_type": "stream",
     "text": [
      "RMSE =  0.6145976482412128\n",
      "Q^2 =  0.690898363035698\n"
     ]
    }
   ],
   "source": [
    "reg = xgb.XGBRegressor(alpha=0.4, colsample_bytree=0.8, max_depth=11, min_child_weight=7,\n",
    "             n_estimators=1000, seed=27, subsample=0.8,learning_rate=0.01)\n",
    "reg.fit(X_train,y_train)\n",
    "preds = reg.predict(X_test)\n",
    "scores(y_test,preds)"
   ]
  },
  {
   "cell_type": "code",
   "execution_count": 145,
   "metadata": {},
   "outputs": [
    {
     "name": "stdout",
     "output_type": "stream",
     "text": [
      "RMSE =  0.6666435733836967\n",
      "Q^2 =  0.6746360277639782\n"
     ]
    }
   ],
   "source": [
    "preds = reg.predict(X_validate)\n",
    "scores(y_validate,preds)"
   ]
  },
  {
   "cell_type": "code",
   "execution_count": 151,
   "metadata": {},
   "outputs": [],
   "source": [
    "X_train['pChemBL'] = y_train\n",
    "X_validate['pChemBL'] = y_validate\n",
    "X_test['pChemBL'] = y_test\n",
    "X_train.to_csv('./data/train.csv',index=False)\n",
    "X_test.to_csv('./data/test.csv',index=False)\n",
    "X_validate.to_csv('./data/validate.csv',index=False)"
   ]
  },
  {
   "cell_type": "code",
   "execution_count": null,
   "metadata": {},
   "outputs": [],
   "source": []
  }
 ],
 "metadata": {
  "kernelspec": {
   "display_name": "Python 3",
   "language": "python",
   "name": "python3"
  },
  "language_info": {
   "codemirror_mode": {
    "name": "ipython",
    "version": 3
   },
   "file_extension": ".py",
   "mimetype": "text/x-python",
   "name": "python",
   "nbconvert_exporter": "python",
   "pygments_lexer": "ipython3",
   "version": "3.7.3"
  }
 },
 "nbformat": 4,
 "nbformat_minor": 4
}
