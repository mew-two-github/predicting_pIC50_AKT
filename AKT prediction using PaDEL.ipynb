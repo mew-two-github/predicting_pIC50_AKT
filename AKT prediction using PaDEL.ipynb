{
 "cells": [
  {
   "cell_type": "code",
   "execution_count": 1,
   "metadata": {},
   "outputs": [
    {
     "name": "stderr",
     "output_type": "stream",
     "text": [
      "RDKit WARNING: [14:25:17] Enabling RDKit 2019.09.3 jupyter extensions\n"
     ]
    }
   ],
   "source": [
    "import pandas as pd\n",
    "import numpy as np\n",
    "import matplotlib.pyplot as plt\n",
    "from rdkit import Chem as ch\n",
    "#from padelpy import from_smiles\n",
    "#from padelpy import from_mdl"
   ]
  },
  {
   "cell_type": "code",
   "execution_count": 2,
   "metadata": {},
   "outputs": [],
   "source": [
    "from sklearn.metrics import mean_squared_error\n",
    "from sklearn.linear_model import LinearRegression, Ridge, Lasso\n",
    "from sklearn.decomposition import PCA\n",
    "from sklearn.model_selection import train_test_split"
   ]
  },
  {
   "cell_type": "code",
   "execution_count": 8,
   "metadata": {},
   "outputs": [
    {
     "data": {
      "text/html": [
       "<div>\n",
       "<style scoped>\n",
       "    .dataframe tbody tr th:only-of-type {\n",
       "        vertical-align: middle;\n",
       "    }\n",
       "\n",
       "    .dataframe tbody tr th {\n",
       "        vertical-align: top;\n",
       "    }\n",
       "\n",
       "    .dataframe thead th {\n",
       "        text-align: right;\n",
       "    }\n",
       "</style>\n",
       "<table border=\"1\" class=\"dataframe\">\n",
       "  <thead>\n",
       "    <tr style=\"text-align: right;\">\n",
       "      <th></th>\n",
       "      <th>Sno</th>\n",
       "      <th>ChEMBL_ID</th>\n",
       "      <th>Smiles</th>\n",
       "      <th>Standard_Value</th>\n",
       "      <th>Standard_Units</th>\n",
       "      <th>pChEMBL_Value</th>\n",
       "      <th>Class</th>\n",
       "    </tr>\n",
       "  </thead>\n",
       "  <tbody>\n",
       "    <tr>\n",
       "      <th>0</th>\n",
       "      <td>1</td>\n",
       "      <td>CHEMBL3403664</td>\n",
       "      <td>C[C@H](Nc1ncnc(N)c1C#N)c1nc2ccc(F)cc2c(S(C)(=O...</td>\n",
       "      <td>0.10</td>\n",
       "      <td>nM</td>\n",
       "      <td>10.00</td>\n",
       "      <td>1</td>\n",
       "    </tr>\n",
       "    <tr>\n",
       "      <th>1</th>\n",
       "      <td>2</td>\n",
       "      <td>CHEMBL3899716</td>\n",
       "      <td>Cc1cc(-c2cn(CCN3CCC3)c(C3CCN(c4ncnc(N)c4Br)CC3...</td>\n",
       "      <td>0.10</td>\n",
       "      <td>nM</td>\n",
       "      <td>10.00</td>\n",
       "      <td>1</td>\n",
       "    </tr>\n",
       "    <tr>\n",
       "      <th>2</th>\n",
       "      <td>3</td>\n",
       "      <td>CHEMBL3966806</td>\n",
       "      <td>CC(C)c1cc(-c2cn(CCN3CCC3)c(C3CCN(c4ncnc(N)c4Br...</td>\n",
       "      <td>0.15</td>\n",
       "      <td>nM</td>\n",
       "      <td>9.82</td>\n",
       "      <td>1</td>\n",
       "    </tr>\n",
       "    <tr>\n",
       "      <th>3</th>\n",
       "      <td>4</td>\n",
       "      <td>CHEMBL379300</td>\n",
       "      <td>Cc1n[nH]c2ccc(-c3cncc(OC[C@@H](N)Cc4c[nH]c5ccc...</td>\n",
       "      <td>0.16</td>\n",
       "      <td>nM</td>\n",
       "      <td>9.80</td>\n",
       "      <td>1</td>\n",
       "    </tr>\n",
       "    <tr>\n",
       "      <th>4</th>\n",
       "      <td>5</td>\n",
       "      <td>CHEMBL573326</td>\n",
       "      <td>N[C@H](COc1cncc(-c2ccc3c(c2)C(c2ccco2)C(=O)N3)...</td>\n",
       "      <td>0.17</td>\n",
       "      <td>nM</td>\n",
       "      <td>9.77</td>\n",
       "      <td>1</td>\n",
       "    </tr>\n",
       "  </tbody>\n",
       "</table>\n",
       "</div>"
      ],
      "text/plain": [
       "   Sno      ChEMBL_ID                                             Smiles  \\\n",
       "0    1  CHEMBL3403664  C[C@H](Nc1ncnc(N)c1C#N)c1nc2ccc(F)cc2c(S(C)(=O...   \n",
       "1    2  CHEMBL3899716  Cc1cc(-c2cn(CCN3CCC3)c(C3CCN(c4ncnc(N)c4Br)CC3...   \n",
       "2    3  CHEMBL3966806  CC(C)c1cc(-c2cn(CCN3CCC3)c(C3CCN(c4ncnc(N)c4Br...   \n",
       "3    4   CHEMBL379300  Cc1n[nH]c2ccc(-c3cncc(OC[C@@H](N)Cc4c[nH]c5ccc...   \n",
       "4    5   CHEMBL573326  N[C@H](COc1cncc(-c2ccc3c(c2)C(c2ccco2)C(=O)N3)...   \n",
       "\n",
       "   Standard_Value Standard_Units  pChEMBL_Value  Class  \n",
       "0            0.10             nM          10.00      1  \n",
       "1            0.10             nM          10.00      1  \n",
       "2            0.15             nM           9.82      1  \n",
       "3            0.16             nM           9.80      1  \n",
       "4            0.17             nM           9.77      1  "
      ]
     },
     "execution_count": 8,
     "metadata": {},
     "output_type": "execute_result"
    }
   ],
   "source": [
    "df = pd.read_excel('C:\\\\Users\\\\HP\\\\AZC_Internship\\\\Data\\\\ChemBL\\\\AKT-binding_simplified.xlsx',sheet_name = 'Step3')\n",
    "df.head()"
   ]
  },
  {
   "cell_type": "code",
   "execution_count": 4,
   "metadata": {},
   "outputs": [],
   "source": [
    "rows, cols = df.shape\n",
    "for i in range(rows):\n",
    "    m2 = ch.MolFromSmiles(df.iloc[i,2])\n",
    "    print(ch.MolToMolBlock(m2),file=open(str(df.iloc[i,1])+'.mol','w+'))"
   ]
  },
  {
   "cell_type": "markdown",
   "metadata": {},
   "source": [
    "<h2>PaDeL Descriptors</h2>"
   ]
  },
  {
   "cell_type": "code",
   "execution_count": null,
   "metadata": {},
   "outputs": [
    {
     "name": "stdout",
     "output_type": "stream",
     "text": [
      "Percentage = 0.0\n"
     ]
    }
   ],
   "source": [
    "# #OLD\n",
    "# rows, cols = df.shape\n",
    "# X = []\n",
    "# not_eval = []\n",
    "# for i in range(rows):\n",
    "#     if((i)%29==0):\n",
    "#         print(\"Percentage = {}\".format((i)/2861*100))\n",
    "#     try:\n",
    "#         data = from_smiles(df.iloc[i,2],timeout=60)\n",
    "#         dict2 = {'CHEMBLID':df.iloc[i,1]}\n",
    "#         data.update(dict2)\n",
    "#         X.append(data)\n",
    "#     except:\n",
    "#         not_eval.append(df.iloc[i,1])\n",
    "#         continue\n",
    "# X_data = pd.DataFrame(X)\n",
    "# X_data.to_csv('PADEL_Descriptors.csv')"
   ]
  },
  {
   "cell_type": "code",
   "execution_count": 3,
   "metadata": {},
   "outputs": [
    {
     "data": {
      "text/plain": [
       "(2861, 1445)"
      ]
     },
     "execution_count": 3,
     "metadata": {},
     "output_type": "execute_result"
    }
   ],
   "source": [
    "X_data = pd.read_csv('C:\\\\Users\\\\HP\\\\AZC_Internship\\\\Data\\\\Descriptor data\\\\Padel descriptors\\\\actual_padel_akt.csv')\n",
    "X_data.shape"
   ]
  },
  {
   "cell_type": "code",
   "execution_count": 6,
   "metadata": {},
   "outputs": [
    {
     "data": {
      "text/plain": [
       "Name      0\n",
       "nAcid     0\n",
       "ALogP     0\n",
       "ALogp2    0\n",
       "AMR       0\n",
       "         ..\n",
       "WTPT-5    0\n",
       "WPATH     0\n",
       "WPOL      0\n",
       "XLogP     0\n",
       "Zagreb    0\n",
       "Length: 1445, dtype: int64"
      ]
     },
     "execution_count": 6,
     "metadata": {},
     "output_type": "execute_result"
    }
   ],
   "source": [
    "X_data.isna().sum()"
   ]
  },
  {
   "cell_type": "code",
   "execution_count": 5,
   "metadata": {},
   "outputs": [
    {
     "data": {
      "text/html": [
       "<div>\n",
       "<style scoped>\n",
       "    .dataframe tbody tr th:only-of-type {\n",
       "        vertical-align: middle;\n",
       "    }\n",
       "\n",
       "    .dataframe tbody tr th {\n",
       "        vertical-align: top;\n",
       "    }\n",
       "\n",
       "    .dataframe thead th {\n",
       "        text-align: right;\n",
       "    }\n",
       "</style>\n",
       "<table border=\"1\" class=\"dataframe\">\n",
       "  <thead>\n",
       "    <tr style=\"text-align: right;\">\n",
       "      <th></th>\n",
       "      <th>Name</th>\n",
       "      <th>nAcid</th>\n",
       "      <th>ALogP</th>\n",
       "      <th>ALogp2</th>\n",
       "      <th>AMR</th>\n",
       "      <th>apol</th>\n",
       "      <th>naAromAtom</th>\n",
       "      <th>nAromBond</th>\n",
       "      <th>nAtom</th>\n",
       "      <th>nHeavyAtom</th>\n",
       "      <th>...</th>\n",
       "      <th>WTPT-1</th>\n",
       "      <th>WTPT-2</th>\n",
       "      <th>WTPT-3</th>\n",
       "      <th>WTPT-4</th>\n",
       "      <th>WTPT-5</th>\n",
       "      <th>WPATH</th>\n",
       "      <th>WPOL</th>\n",
       "      <th>XLogP</th>\n",
       "      <th>Zagreb</th>\n",
       "      <th>ChemBLID</th>\n",
       "    </tr>\n",
       "  </thead>\n",
       "  <tbody>\n",
       "    <tr>\n",
       "      <th>0</th>\n",
       "      <td>AUTOGEN_CHEMBL1078983</td>\n",
       "      <td>0</td>\n",
       "      <td>-0.7109</td>\n",
       "      <td>0.505379</td>\n",
       "      <td>70.4932</td>\n",
       "      <td>73.378583</td>\n",
       "      <td>16</td>\n",
       "      <td>18</td>\n",
       "      <td>65</td>\n",
       "      <td>34</td>\n",
       "      <td>...</td>\n",
       "      <td>70.514766</td>\n",
       "      <td>2.073964</td>\n",
       "      <td>27.938805</td>\n",
       "      <td>11.267053</td>\n",
       "      <td>16.671753</td>\n",
       "      <td>3404.0</td>\n",
       "      <td>59.0</td>\n",
       "      <td>2.188</td>\n",
       "      <td>184.0</td>\n",
       "      <td>CHEMBL1078983</td>\n",
       "    </tr>\n",
       "    <tr>\n",
       "      <th>1</th>\n",
       "      <td>AUTOGEN_CHEMBL1079175</td>\n",
       "      <td>0</td>\n",
       "      <td>-1.4578</td>\n",
       "      <td>2.125181</td>\n",
       "      <td>44.0418</td>\n",
       "      <td>64.304653</td>\n",
       "      <td>18</td>\n",
       "      <td>20</td>\n",
       "      <td>52</td>\n",
       "      <td>31</td>\n",
       "      <td>...</td>\n",
       "      <td>65.167083</td>\n",
       "      <td>2.102164</td>\n",
       "      <td>17.955201</td>\n",
       "      <td>2.565237</td>\n",
       "      <td>15.389964</td>\n",
       "      <td>2593.0</td>\n",
       "      <td>55.0</td>\n",
       "      <td>6.575</td>\n",
       "      <td>180.0</td>\n",
       "      <td>CHEMBL1079175</td>\n",
       "    </tr>\n",
       "    <tr>\n",
       "      <th>2</th>\n",
       "      <td>AUTOGEN_CHEMBL1081198</td>\n",
       "      <td>0</td>\n",
       "      <td>0.0748</td>\n",
       "      <td>0.005595</td>\n",
       "      <td>27.2874</td>\n",
       "      <td>69.268860</td>\n",
       "      <td>27</td>\n",
       "      <td>29</td>\n",
       "      <td>57</td>\n",
       "      <td>37</td>\n",
       "      <td>...</td>\n",
       "      <td>76.232497</td>\n",
       "      <td>2.060338</td>\n",
       "      <td>31.795843</td>\n",
       "      <td>2.556014</td>\n",
       "      <td>22.098211</td>\n",
       "      <td>4979.0</td>\n",
       "      <td>56.0</td>\n",
       "      <td>5.589</td>\n",
       "      <td>198.0</td>\n",
       "      <td>CHEMBL1081198</td>\n",
       "    </tr>\n",
       "    <tr>\n",
       "      <th>3</th>\n",
       "      <td>AUTOGEN_CHEMBL1089661</td>\n",
       "      <td>0</td>\n",
       "      <td>-10.0458</td>\n",
       "      <td>100.918098</td>\n",
       "      <td>183.2952</td>\n",
       "      <td>142.418303</td>\n",
       "      <td>6</td>\n",
       "      <td>6</td>\n",
       "      <td>135</td>\n",
       "      <td>64</td>\n",
       "      <td>...</td>\n",
       "      <td>125.580825</td>\n",
       "      <td>1.962200</td>\n",
       "      <td>61.611922</td>\n",
       "      <td>20.276064</td>\n",
       "      <td>41.335857</td>\n",
       "      <td>21440.0</td>\n",
       "      <td>92.0</td>\n",
       "      <td>-0.194</td>\n",
       "      <td>302.0</td>\n",
       "      <td>CHEMBL1089661</td>\n",
       "    </tr>\n",
       "    <tr>\n",
       "      <th>4</th>\n",
       "      <td>AUTOGEN_CHEMBL1090115</td>\n",
       "      <td>0</td>\n",
       "      <td>-1.7897</td>\n",
       "      <td>3.203026</td>\n",
       "      <td>32.3564</td>\n",
       "      <td>58.685481</td>\n",
       "      <td>21</td>\n",
       "      <td>23</td>\n",
       "      <td>47</td>\n",
       "      <td>30</td>\n",
       "      <td>...</td>\n",
       "      <td>62.402934</td>\n",
       "      <td>2.080098</td>\n",
       "      <td>16.872064</td>\n",
       "      <td>13.655728</td>\n",
       "      <td>3.216336</td>\n",
       "      <td>2319.0</td>\n",
       "      <td>52.0</td>\n",
       "      <td>4.844</td>\n",
       "      <td>168.0</td>\n",
       "      <td>CHEMBL1090115</td>\n",
       "    </tr>\n",
       "  </tbody>\n",
       "</table>\n",
       "<p>5 rows × 1446 columns</p>\n",
       "</div>"
      ],
      "text/plain": [
       "                    Name  nAcid    ALogP      ALogp2       AMR        apol  \\\n",
       "0  AUTOGEN_CHEMBL1078983      0  -0.7109    0.505379   70.4932   73.378583   \n",
       "1  AUTOGEN_CHEMBL1079175      0  -1.4578    2.125181   44.0418   64.304653   \n",
       "2  AUTOGEN_CHEMBL1081198      0   0.0748    0.005595   27.2874   69.268860   \n",
       "3  AUTOGEN_CHEMBL1089661      0 -10.0458  100.918098  183.2952  142.418303   \n",
       "4  AUTOGEN_CHEMBL1090115      0  -1.7897    3.203026   32.3564   58.685481   \n",
       "\n",
       "   naAromAtom  nAromBond  nAtom  nHeavyAtom  ...      WTPT-1    WTPT-2  \\\n",
       "0          16         18     65          34  ...   70.514766  2.073964   \n",
       "1          18         20     52          31  ...   65.167083  2.102164   \n",
       "2          27         29     57          37  ...   76.232497  2.060338   \n",
       "3           6          6    135          64  ...  125.580825  1.962200   \n",
       "4          21         23     47          30  ...   62.402934  2.080098   \n",
       "\n",
       "      WTPT-3     WTPT-4     WTPT-5    WPATH  WPOL  XLogP  Zagreb  \\\n",
       "0  27.938805  11.267053  16.671753   3404.0  59.0  2.188   184.0   \n",
       "1  17.955201   2.565237  15.389964   2593.0  55.0  6.575   180.0   \n",
       "2  31.795843   2.556014  22.098211   4979.0  56.0  5.589   198.0   \n",
       "3  61.611922  20.276064  41.335857  21440.0  92.0 -0.194   302.0   \n",
       "4  16.872064  13.655728   3.216336   2319.0  52.0  4.844   168.0   \n",
       "\n",
       "        ChemBLID  \n",
       "0  CHEMBL1078983  \n",
       "1  CHEMBL1079175  \n",
       "2  CHEMBL1081198  \n",
       "3  CHEMBL1089661  \n",
       "4  CHEMBL1090115  \n",
       "\n",
       "[5 rows x 1446 columns]"
      ]
     },
     "execution_count": 5,
     "metadata": {},
     "output_type": "execute_result"
    }
   ],
   "source": [
    "X_data['ChemBLID'] = X_data['Name'].str.split('_',expand=True)[1]\n",
    "X_data.head()"
   ]
  },
  {
   "cell_type": "code",
   "execution_count": 6,
   "metadata": {},
   "outputs": [
    {
     "data": {
      "text/plain": [
       "count              2861\n",
       "unique             2861\n",
       "top       CHEMBL3318715\n",
       "freq                  1\n",
       "Name: ChemBLID, dtype: object"
      ]
     },
     "execution_count": 6,
     "metadata": {},
     "output_type": "execute_result"
    }
   ],
   "source": [
    "X_data.ChemBLID.describe()"
   ]
  },
  {
   "cell_type": "code",
   "execution_count": 9,
   "metadata": {},
   "outputs": [],
   "source": [
    "X = X_data.drop(columns=['Name'],inplace=False).copy()\n",
    "X['pChemBL'] = X.ChemBLID.map(df.set_index('ChEMBL_ID')['pChEMBL_Value'])"
   ]
  },
  {
   "cell_type": "code",
   "execution_count": 11,
   "metadata": {
    "scrolled": true
   },
   "outputs": [
    {
     "name": "stdout",
     "output_type": "stream",
     "text": [
      "0\n"
     ]
    },
    {
     "data": {
      "text/html": [
       "<div>\n",
       "<style scoped>\n",
       "    .dataframe tbody tr th:only-of-type {\n",
       "        vertical-align: middle;\n",
       "    }\n",
       "\n",
       "    .dataframe tbody tr th {\n",
       "        vertical-align: top;\n",
       "    }\n",
       "\n",
       "    .dataframe thead th {\n",
       "        text-align: right;\n",
       "    }\n",
       "</style>\n",
       "<table border=\"1\" class=\"dataframe\">\n",
       "  <thead>\n",
       "    <tr style=\"text-align: right;\">\n",
       "      <th></th>\n",
       "      <th>nAcid</th>\n",
       "      <th>ALogP</th>\n",
       "      <th>ALogp2</th>\n",
       "      <th>AMR</th>\n",
       "      <th>apol</th>\n",
       "      <th>naAromAtom</th>\n",
       "      <th>nAromBond</th>\n",
       "      <th>nAtom</th>\n",
       "      <th>nHeavyAtom</th>\n",
       "      <th>nH</th>\n",
       "      <th>...</th>\n",
       "      <th>WTPT-2</th>\n",
       "      <th>WTPT-3</th>\n",
       "      <th>WTPT-4</th>\n",
       "      <th>WTPT-5</th>\n",
       "      <th>WPATH</th>\n",
       "      <th>WPOL</th>\n",
       "      <th>XLogP</th>\n",
       "      <th>Zagreb</th>\n",
       "      <th>ChemBLID</th>\n",
       "      <th>pChemBL</th>\n",
       "    </tr>\n",
       "  </thead>\n",
       "  <tbody>\n",
       "    <tr>\n",
       "      <th>0</th>\n",
       "      <td>0</td>\n",
       "      <td>-0.7109</td>\n",
       "      <td>0.505379</td>\n",
       "      <td>70.4932</td>\n",
       "      <td>73.378583</td>\n",
       "      <td>16</td>\n",
       "      <td>18</td>\n",
       "      <td>65</td>\n",
       "      <td>34</td>\n",
       "      <td>31</td>\n",
       "      <td>...</td>\n",
       "      <td>2.073964</td>\n",
       "      <td>27.938805</td>\n",
       "      <td>11.267053</td>\n",
       "      <td>16.671753</td>\n",
       "      <td>3404.0</td>\n",
       "      <td>59.0</td>\n",
       "      <td>2.188</td>\n",
       "      <td>184.0</td>\n",
       "      <td>CHEMBL1078983</td>\n",
       "      <td>6.82</td>\n",
       "    </tr>\n",
       "    <tr>\n",
       "      <th>1</th>\n",
       "      <td>0</td>\n",
       "      <td>-1.4578</td>\n",
       "      <td>2.125181</td>\n",
       "      <td>44.0418</td>\n",
       "      <td>64.304653</td>\n",
       "      <td>18</td>\n",
       "      <td>20</td>\n",
       "      <td>52</td>\n",
       "      <td>31</td>\n",
       "      <td>21</td>\n",
       "      <td>...</td>\n",
       "      <td>2.102164</td>\n",
       "      <td>17.955201</td>\n",
       "      <td>2.565237</td>\n",
       "      <td>15.389964</td>\n",
       "      <td>2593.0</td>\n",
       "      <td>55.0</td>\n",
       "      <td>6.575</td>\n",
       "      <td>180.0</td>\n",
       "      <td>CHEMBL1079175</td>\n",
       "      <td>7.64</td>\n",
       "    </tr>\n",
       "    <tr>\n",
       "      <th>2</th>\n",
       "      <td>0</td>\n",
       "      <td>0.0748</td>\n",
       "      <td>0.005595</td>\n",
       "      <td>27.2874</td>\n",
       "      <td>69.268860</td>\n",
       "      <td>27</td>\n",
       "      <td>29</td>\n",
       "      <td>57</td>\n",
       "      <td>37</td>\n",
       "      <td>20</td>\n",
       "      <td>...</td>\n",
       "      <td>2.060338</td>\n",
       "      <td>31.795843</td>\n",
       "      <td>2.556014</td>\n",
       "      <td>22.098211</td>\n",
       "      <td>4979.0</td>\n",
       "      <td>56.0</td>\n",
       "      <td>5.589</td>\n",
       "      <td>198.0</td>\n",
       "      <td>CHEMBL1081198</td>\n",
       "      <td>4.30</td>\n",
       "    </tr>\n",
       "    <tr>\n",
       "      <th>3</th>\n",
       "      <td>0</td>\n",
       "      <td>-10.0458</td>\n",
       "      <td>100.918098</td>\n",
       "      <td>183.2952</td>\n",
       "      <td>142.418303</td>\n",
       "      <td>6</td>\n",
       "      <td>6</td>\n",
       "      <td>135</td>\n",
       "      <td>64</td>\n",
       "      <td>71</td>\n",
       "      <td>...</td>\n",
       "      <td>1.962200</td>\n",
       "      <td>61.611922</td>\n",
       "      <td>20.276064</td>\n",
       "      <td>41.335857</td>\n",
       "      <td>21440.0</td>\n",
       "      <td>92.0</td>\n",
       "      <td>-0.194</td>\n",
       "      <td>302.0</td>\n",
       "      <td>CHEMBL1089661</td>\n",
       "      <td>6.03</td>\n",
       "    </tr>\n",
       "    <tr>\n",
       "      <th>4</th>\n",
       "      <td>0</td>\n",
       "      <td>-1.7897</td>\n",
       "      <td>3.203026</td>\n",
       "      <td>32.3564</td>\n",
       "      <td>58.685481</td>\n",
       "      <td>21</td>\n",
       "      <td>23</td>\n",
       "      <td>47</td>\n",
       "      <td>30</td>\n",
       "      <td>17</td>\n",
       "      <td>...</td>\n",
       "      <td>2.080098</td>\n",
       "      <td>16.872064</td>\n",
       "      <td>13.655728</td>\n",
       "      <td>3.216336</td>\n",
       "      <td>2319.0</td>\n",
       "      <td>52.0</td>\n",
       "      <td>4.844</td>\n",
       "      <td>168.0</td>\n",
       "      <td>CHEMBL1090115</td>\n",
       "      <td>6.42</td>\n",
       "    </tr>\n",
       "  </tbody>\n",
       "</table>\n",
       "<p>5 rows × 1446 columns</p>\n",
       "</div>"
      ],
      "text/plain": [
       "   nAcid    ALogP      ALogp2       AMR        apol  naAromAtom  nAromBond  \\\n",
       "0      0  -0.7109    0.505379   70.4932   73.378583          16         18   \n",
       "1      0  -1.4578    2.125181   44.0418   64.304653          18         20   \n",
       "2      0   0.0748    0.005595   27.2874   69.268860          27         29   \n",
       "3      0 -10.0458  100.918098  183.2952  142.418303           6          6   \n",
       "4      0  -1.7897    3.203026   32.3564   58.685481          21         23   \n",
       "\n",
       "   nAtom  nHeavyAtom  nH  ...    WTPT-2     WTPT-3     WTPT-4     WTPT-5  \\\n",
       "0     65          34  31  ...  2.073964  27.938805  11.267053  16.671753   \n",
       "1     52          31  21  ...  2.102164  17.955201   2.565237  15.389964   \n",
       "2     57          37  20  ...  2.060338  31.795843   2.556014  22.098211   \n",
       "3    135          64  71  ...  1.962200  61.611922  20.276064  41.335857   \n",
       "4     47          30  17  ...  2.080098  16.872064  13.655728   3.216336   \n",
       "\n",
       "     WPATH  WPOL  XLogP  Zagreb       ChemBLID  pChemBL  \n",
       "0   3404.0  59.0  2.188   184.0  CHEMBL1078983     6.82  \n",
       "1   2593.0  55.0  6.575   180.0  CHEMBL1079175     7.64  \n",
       "2   4979.0  56.0  5.589   198.0  CHEMBL1081198     4.30  \n",
       "3  21440.0  92.0 -0.194   302.0  CHEMBL1089661     6.03  \n",
       "4   2319.0  52.0  4.844   168.0  CHEMBL1090115     6.42  \n",
       "\n",
       "[5 rows x 1446 columns]"
      ]
     },
     "execution_count": 11,
     "metadata": {},
     "output_type": "execute_result"
    }
   ],
   "source": [
    "print(X['pChemBL'].isnull().sum())\n",
    "X.head()"
   ]
  },
  {
   "cell_type": "code",
   "execution_count": 12,
   "metadata": {},
   "outputs": [
    {
     "data": {
      "text/html": [
       "<div>\n",
       "<style scoped>\n",
       "    .dataframe tbody tr th:only-of-type {\n",
       "        vertical-align: middle;\n",
       "    }\n",
       "\n",
       "    .dataframe tbody tr th {\n",
       "        vertical-align: top;\n",
       "    }\n",
       "\n",
       "    .dataframe thead th {\n",
       "        text-align: right;\n",
       "    }\n",
       "</style>\n",
       "<table border=\"1\" class=\"dataframe\">\n",
       "  <thead>\n",
       "    <tr style=\"text-align: right;\">\n",
       "      <th></th>\n",
       "      <th>Sno</th>\n",
       "      <th>ChEMBL_ID</th>\n",
       "      <th>Smiles</th>\n",
       "      <th>Standard_Value</th>\n",
       "      <th>Standard_Units</th>\n",
       "      <th>pChEMBL_Value</th>\n",
       "      <th>Class</th>\n",
       "    </tr>\n",
       "  </thead>\n",
       "  <tbody>\n",
       "    <tr>\n",
       "      <th>816</th>\n",
       "      <td>817</td>\n",
       "      <td>CHEMBL1079175</td>\n",
       "      <td>NC1(c2ccc(-c3nc4ccn5c(=O)[nH]nc5c4cc3-c3ccccc3...</td>\n",
       "      <td>22.8</td>\n",
       "      <td>nM</td>\n",
       "      <td>7.64</td>\n",
       "      <td>1</td>\n",
       "    </tr>\n",
       "    <tr>\n",
       "      <th>1524</th>\n",
       "      <td>1</td>\n",
       "      <td>CHEMBL1078983</td>\n",
       "      <td>COc1ccc(-c2ccc3c(N4CCOCC4)nc(N4C[C@H](C)O[C@H]...</td>\n",
       "      <td>150.0</td>\n",
       "      <td>nM</td>\n",
       "      <td>6.82</td>\n",
       "      <td>0</td>\n",
       "    </tr>\n",
       "    <tr>\n",
       "      <th>1894</th>\n",
       "      <td>371</td>\n",
       "      <td>CHEMBL1090115</td>\n",
       "      <td>COc1ccc2[nH]c(-c3ccccc3)c(/C=C3\\Oc4cc(O)cc(O)c...</td>\n",
       "      <td>385.0</td>\n",
       "      <td>nM</td>\n",
       "      <td>6.42</td>\n",
       "      <td>0</td>\n",
       "    </tr>\n",
       "    <tr>\n",
       "      <th>2198</th>\n",
       "      <td>675</td>\n",
       "      <td>CHEMBL1089661</td>\n",
       "      <td>CCC[C@H](NC(=O)[C@H](CCCNC(=N)N)NC(=O)[C@@H]1C...</td>\n",
       "      <td>940.0</td>\n",
       "      <td>nM</td>\n",
       "      <td>6.03</td>\n",
       "      <td>0</td>\n",
       "    </tr>\n",
       "    <tr>\n",
       "      <th>2820</th>\n",
       "      <td>1297</td>\n",
       "      <td>CHEMBL1081198</td>\n",
       "      <td>O=C(Nc1cccc(-c2cn3ccnc3c(NCc3ccncc3)n2)c1)Nc1c...</td>\n",
       "      <td>50000.0</td>\n",
       "      <td>nM</td>\n",
       "      <td>4.30</td>\n",
       "      <td>0</td>\n",
       "    </tr>\n",
       "  </tbody>\n",
       "</table>\n",
       "</div>"
      ],
      "text/plain": [
       "       Sno      ChEMBL_ID                                             Smiles  \\\n",
       "816    817  CHEMBL1079175  NC1(c2ccc(-c3nc4ccn5c(=O)[nH]nc5c4cc3-c3ccccc3...   \n",
       "1524     1  CHEMBL1078983  COc1ccc(-c2ccc3c(N4CCOCC4)nc(N4C[C@H](C)O[C@H]...   \n",
       "1894   371  CHEMBL1090115  COc1ccc2[nH]c(-c3ccccc3)c(/C=C3\\Oc4cc(O)cc(O)c...   \n",
       "2198   675  CHEMBL1089661  CCC[C@H](NC(=O)[C@H](CCCNC(=N)N)NC(=O)[C@@H]1C...   \n",
       "2820  1297  CHEMBL1081198  O=C(Nc1cccc(-c2cn3ccnc3c(NCc3ccncc3)n2)c1)Nc1c...   \n",
       "\n",
       "      Standard_Value Standard_Units  pChEMBL_Value  Class  \n",
       "816             22.8             nM           7.64      1  \n",
       "1524           150.0             nM           6.82      0  \n",
       "1894           385.0             nM           6.42      0  \n",
       "2198           940.0             nM           6.03      0  \n",
       "2820         50000.0             nM           4.30      0  "
      ]
     },
     "execution_count": 12,
     "metadata": {},
     "output_type": "execute_result"
    }
   ],
   "source": [
    "df.loc[(df.ChEMBL_ID == 'CHEMBL1078983')|(df.ChEMBL_ID == 'CHEMBL1079175')|(df.ChEMBL_ID == 'CHEMBL1081198')|(df.ChEMBL_ID == 'CHEMBL1089661')|(df.ChEMBL_ID == 'CHEMBL1090115')]"
   ]
  },
  {
   "cell_type": "code",
   "execution_count": 10,
   "metadata": {},
   "outputs": [
    {
     "data": {
      "text/plain": [
       "0"
      ]
     },
     "execution_count": 10,
     "metadata": {},
     "output_type": "execute_result"
    }
   ],
   "source": [
    "variance = X.drop(columns=['ChemBLID'],inplace=False).astype(dtype='float64').var(axis=0,ddof=0,skipna= True)\n",
    "means = X.drop(columns=['ChemBLID'],inplace=False).astype(dtype='float64').abs().sum(axis=0)/2861\n",
    "variance.isnull().sum()"
   ]
  },
  {
   "cell_type": "code",
   "execution_count": 11,
   "metadata": {},
   "outputs": [
    {
     "name": "stdout",
     "output_type": "stream",
     "text": [
      "236 236\n"
     ]
    }
   ],
   "source": [
    "print((means == 0).astype(int).sum(),(variance==0).astype(int).sum())"
   ]
  },
  {
   "cell_type": "code",
   "execution_count": 12,
   "metadata": {},
   "outputs": [
    {
     "name": "stdout",
     "output_type": "stream",
     "text": [
      "236\n"
     ]
    },
    {
     "data": {
      "text/plain": [
       "['nB',\n",
       " 'nBondsQ',\n",
       " 'nHsNH3p',\n",
       " 'nHssNH2p',\n",
       " 'nHsssNHp',\n",
       " 'nHmisc',\n",
       " 'nsLi',\n",
       " 'nssBe',\n",
       " 'nssssBem',\n",
       " 'nsBH2',\n",
       " 'nssBH',\n",
       " 'nsssB',\n",
       " 'nssssBm',\n",
       " 'nddC',\n",
       " 'nsNH3p',\n",
       " 'nssNH2p',\n",
       " 'nsssNHp',\n",
       " 'nddsN',\n",
       " 'naOm',\n",
       " 'nsSiH3',\n",
       " 'nssSiH2',\n",
       " 'nsssSiH',\n",
       " 'nssssSi',\n",
       " 'nsPH2',\n",
       " 'nssPH',\n",
       " 'nsssP',\n",
       " 'nddsP',\n",
       " 'nsssssP',\n",
       " 'ndssS',\n",
       " 'nssssssS',\n",
       " 'nSm',\n",
       " 'nsGeH3',\n",
       " 'nssGeH2',\n",
       " 'nsssGeH',\n",
       " 'nssssGe',\n",
       " 'nsAsH2',\n",
       " 'nssAsH',\n",
       " 'nsssAs',\n",
       " 'ndsssAs',\n",
       " 'nddsAs',\n",
       " 'nsssssAs',\n",
       " 'nsSeH',\n",
       " 'ndSe',\n",
       " 'naaSe',\n",
       " 'ndssSe',\n",
       " 'nssssssSe',\n",
       " 'nddssSe',\n",
       " 'nsSnH3',\n",
       " 'nssSnH2',\n",
       " 'nsssSnH',\n",
       " 'nssssSn',\n",
       " 'nsPbH3',\n",
       " 'nssPbH2',\n",
       " 'nsssPbH',\n",
       " 'nssssPb',\n",
       " 'SHsNH3p',\n",
       " 'SHssNH2p',\n",
       " 'SHsssNHp',\n",
       " 'SHmisc',\n",
       " 'SsLi',\n",
       " 'SssBe',\n",
       " 'SssssBem',\n",
       " 'SsBH2',\n",
       " 'SssBH',\n",
       " 'SsssB',\n",
       " 'SssssBm',\n",
       " 'SddC',\n",
       " 'SsNH3p',\n",
       " 'SssNH2p',\n",
       " 'SsssNHp',\n",
       " 'SddsN',\n",
       " 'SaOm',\n",
       " 'SsSiH3',\n",
       " 'SssSiH2',\n",
       " 'SsssSiH',\n",
       " 'SssssSi',\n",
       " 'SsPH2',\n",
       " 'SssPH',\n",
       " 'SsssP',\n",
       " 'SddsP',\n",
       " 'SsssssP',\n",
       " 'SdssS',\n",
       " 'SssssssS',\n",
       " 'SSm',\n",
       " 'SsGeH3',\n",
       " 'SssGeH2',\n",
       " 'SsssGeH',\n",
       " 'SssssGe',\n",
       " 'SsAsH2',\n",
       " 'SssAsH',\n",
       " 'SsssAs',\n",
       " 'SdsssAs',\n",
       " 'SddsAs',\n",
       " 'SsssssAs',\n",
       " 'SsSeH',\n",
       " 'SdSe',\n",
       " 'SaaSe',\n",
       " 'SdssSe',\n",
       " 'SssssssSe',\n",
       " 'SddssSe',\n",
       " 'SsSnH3',\n",
       " 'SssSnH2',\n",
       " 'SsssSnH',\n",
       " 'SssssSn',\n",
       " 'SsPbH3',\n",
       " 'SssPbH2',\n",
       " 'SsssPbH',\n",
       " 'SssssPb',\n",
       " 'minHsNH3p',\n",
       " 'minHssNH2p',\n",
       " 'minHsssNHp',\n",
       " 'minHmisc',\n",
       " 'minsLi',\n",
       " 'minssBe',\n",
       " 'minssssBem',\n",
       " 'minsBH2',\n",
       " 'minssBH',\n",
       " 'minsssB',\n",
       " 'minssssBm',\n",
       " 'minddC',\n",
       " 'minsNH3p',\n",
       " 'minssNH2p',\n",
       " 'minsssNHp',\n",
       " 'minddsN',\n",
       " 'minaOm',\n",
       " 'minsSiH3',\n",
       " 'minssSiH2',\n",
       " 'minsssSiH',\n",
       " 'minssssSi',\n",
       " 'minsPH2',\n",
       " 'minssPH',\n",
       " 'minsssP',\n",
       " 'minddsP',\n",
       " 'minsssssP',\n",
       " 'mindssS',\n",
       " 'minssssssS',\n",
       " 'minSm',\n",
       " 'minsGeH3',\n",
       " 'minssGeH2',\n",
       " 'minsssGeH',\n",
       " 'minssssGe',\n",
       " 'minsAsH2',\n",
       " 'minssAsH',\n",
       " 'minsssAs',\n",
       " 'mindsssAs',\n",
       " 'minddsAs',\n",
       " 'minsssssAs',\n",
       " 'minsSeH',\n",
       " 'mindSe',\n",
       " 'minaaSe',\n",
       " 'mindssSe',\n",
       " 'minssssssSe',\n",
       " 'minddssSe',\n",
       " 'minsSnH3',\n",
       " 'minssSnH2',\n",
       " 'minsssSnH',\n",
       " 'minssssSn',\n",
       " 'minsPbH3',\n",
       " 'minssPbH2',\n",
       " 'minsssPbH',\n",
       " 'minssssPb',\n",
       " 'maxHsNH3p',\n",
       " 'maxHssNH2p',\n",
       " 'maxHsssNHp',\n",
       " 'maxHmisc',\n",
       " 'maxsLi',\n",
       " 'maxssBe',\n",
       " 'maxssssBem',\n",
       " 'maxsBH2',\n",
       " 'maxssBH',\n",
       " 'maxsssB',\n",
       " 'maxssssBm',\n",
       " 'maxddC',\n",
       " 'maxsNH3p',\n",
       " 'maxssNH2p',\n",
       " 'maxsssNHp',\n",
       " 'maxddsN',\n",
       " 'maxaOm',\n",
       " 'maxsSiH3',\n",
       " 'maxssSiH2',\n",
       " 'maxsssSiH',\n",
       " 'maxssssSi',\n",
       " 'maxsPH2',\n",
       " 'maxssPH',\n",
       " 'maxsssP',\n",
       " 'maxdsssP',\n",
       " 'maxddsP',\n",
       " 'maxsssssP',\n",
       " 'maxsSH',\n",
       " 'maxssS',\n",
       " 'maxaaS',\n",
       " 'maxdssS',\n",
       " 'maxddssS',\n",
       " 'maxssssssS',\n",
       " 'maxSm',\n",
       " 'maxsGeH3',\n",
       " 'maxssGeH2',\n",
       " 'maxsssGeH',\n",
       " 'maxssssGe',\n",
       " 'maxsAsH2',\n",
       " 'maxssAsH',\n",
       " 'maxsssAs',\n",
       " 'maxdsssAs',\n",
       " 'maxddsAs',\n",
       " 'maxsssssAs',\n",
       " 'maxsSeH',\n",
       " 'maxdSe',\n",
       " 'maxssSe',\n",
       " 'maxaaSe',\n",
       " 'maxdssSe',\n",
       " 'maxssssssSe',\n",
       " 'maxddssSe',\n",
       " 'maxsSnH3',\n",
       " 'maxssSnH2',\n",
       " 'maxsssSnH',\n",
       " 'maxssssSn',\n",
       " 'maxsPbH3',\n",
       " 'maxssPbH2',\n",
       " 'maxsssPbH',\n",
       " 'maxssssPb',\n",
       " 'ETA_dPsi_B',\n",
       " 'n8Ring',\n",
       " 'n9Ring',\n",
       " 'n10Ring',\n",
       " 'n11Ring',\n",
       " 'n12Ring',\n",
       " 'nF5Ring',\n",
       " 'n8HeteroRing',\n",
       " 'n9HeteroRing',\n",
       " 'n10HeteroRing',\n",
       " 'n11HeteroRing',\n",
       " 'n12HeteroRing',\n",
       " 'nFHeteroRing',\n",
       " 'nF4HeteroRing',\n",
       " 'nF5HeteroRing',\n",
       " 'nTHeteroRing']"
      ]
     },
     "execution_count": 12,
     "metadata": {},
     "output_type": "execute_result"
    }
   ],
   "source": [
    "bad_cols = []\n",
    "for cols in means.index:\n",
    "    if means[cols] == 0:\n",
    "        bad_cols.append(cols)\n",
    "print(len(bad_cols))\n",
    "bad_cols"
   ]
  },
  {
   "cell_type": "code",
   "execution_count": 13,
   "metadata": {},
   "outputs": [],
   "source": [
    "X.drop(columns = bad_cols, inplace=True)\n",
    "means.drop(labels = bad_cols,inplace = True)\n",
    "variance.drop(labels = bad_cols,inplace = True)"
   ]
  },
  {
   "cell_type": "code",
   "execution_count": 17,
   "metadata": {},
   "outputs": [],
   "source": [
    "X.columns.size\n",
    "X.to_csv('removed_zeros_AKT.csv')"
   ]
  },
  {
   "cell_type": "code",
   "execution_count": 2,
   "metadata": {},
   "outputs": [
    {
     "data": {
      "text/html": [
       "<div>\n",
       "<style scoped>\n",
       "    .dataframe tbody tr th:only-of-type {\n",
       "        vertical-align: middle;\n",
       "    }\n",
       "\n",
       "    .dataframe tbody tr th {\n",
       "        vertical-align: top;\n",
       "    }\n",
       "\n",
       "    .dataframe thead th {\n",
       "        text-align: right;\n",
       "    }\n",
       "</style>\n",
       "<table border=\"1\" class=\"dataframe\">\n",
       "  <thead>\n",
       "    <tr style=\"text-align: right;\">\n",
       "      <th></th>\n",
       "      <th>nAcid</th>\n",
       "      <th>ALogP</th>\n",
       "      <th>ALogp2</th>\n",
       "      <th>AMR</th>\n",
       "      <th>apol</th>\n",
       "      <th>naAromAtom</th>\n",
       "      <th>nAromBond</th>\n",
       "      <th>nAtom</th>\n",
       "      <th>nHeavyAtom</th>\n",
       "      <th>nH</th>\n",
       "      <th>...</th>\n",
       "      <th>WTPT-1</th>\n",
       "      <th>WTPT-2</th>\n",
       "      <th>WTPT-3</th>\n",
       "      <th>WTPT-4</th>\n",
       "      <th>WTPT-5</th>\n",
       "      <th>WPATH</th>\n",
       "      <th>WPOL</th>\n",
       "      <th>XLogP</th>\n",
       "      <th>Zagreb</th>\n",
       "      <th>pChemBL</th>\n",
       "    </tr>\n",
       "  </thead>\n",
       "  <tbody>\n",
       "    <tr>\n",
       "      <th>0</th>\n",
       "      <td>0</td>\n",
       "      <td>-0.7109</td>\n",
       "      <td>0.505379</td>\n",
       "      <td>70.4932</td>\n",
       "      <td>73.378583</td>\n",
       "      <td>16</td>\n",
       "      <td>18</td>\n",
       "      <td>65</td>\n",
       "      <td>34</td>\n",
       "      <td>31</td>\n",
       "      <td>...</td>\n",
       "      <td>70.514766</td>\n",
       "      <td>2.073964</td>\n",
       "      <td>27.938805</td>\n",
       "      <td>11.267053</td>\n",
       "      <td>16.671753</td>\n",
       "      <td>3404</td>\n",
       "      <td>59</td>\n",
       "      <td>2.188</td>\n",
       "      <td>184</td>\n",
       "      <td>6.82</td>\n",
       "    </tr>\n",
       "    <tr>\n",
       "      <th>1</th>\n",
       "      <td>0</td>\n",
       "      <td>-1.4578</td>\n",
       "      <td>2.125181</td>\n",
       "      <td>44.0418</td>\n",
       "      <td>64.304653</td>\n",
       "      <td>18</td>\n",
       "      <td>20</td>\n",
       "      <td>52</td>\n",
       "      <td>31</td>\n",
       "      <td>21</td>\n",
       "      <td>...</td>\n",
       "      <td>65.167083</td>\n",
       "      <td>2.102164</td>\n",
       "      <td>17.955201</td>\n",
       "      <td>2.565237</td>\n",
       "      <td>15.389964</td>\n",
       "      <td>2593</td>\n",
       "      <td>55</td>\n",
       "      <td>6.575</td>\n",
       "      <td>180</td>\n",
       "      <td>7.64</td>\n",
       "    </tr>\n",
       "    <tr>\n",
       "      <th>2</th>\n",
       "      <td>0</td>\n",
       "      <td>0.0748</td>\n",
       "      <td>0.005595</td>\n",
       "      <td>27.2874</td>\n",
       "      <td>69.268860</td>\n",
       "      <td>27</td>\n",
       "      <td>29</td>\n",
       "      <td>57</td>\n",
       "      <td>37</td>\n",
       "      <td>20</td>\n",
       "      <td>...</td>\n",
       "      <td>76.232497</td>\n",
       "      <td>2.060338</td>\n",
       "      <td>31.795843</td>\n",
       "      <td>2.556014</td>\n",
       "      <td>22.098211</td>\n",
       "      <td>4979</td>\n",
       "      <td>56</td>\n",
       "      <td>5.589</td>\n",
       "      <td>198</td>\n",
       "      <td>4.30</td>\n",
       "    </tr>\n",
       "    <tr>\n",
       "      <th>3</th>\n",
       "      <td>0</td>\n",
       "      <td>-10.0458</td>\n",
       "      <td>100.918098</td>\n",
       "      <td>183.2952</td>\n",
       "      <td>142.418303</td>\n",
       "      <td>6</td>\n",
       "      <td>6</td>\n",
       "      <td>135</td>\n",
       "      <td>64</td>\n",
       "      <td>71</td>\n",
       "      <td>...</td>\n",
       "      <td>125.580825</td>\n",
       "      <td>1.962200</td>\n",
       "      <td>61.611922</td>\n",
       "      <td>20.276064</td>\n",
       "      <td>41.335857</td>\n",
       "      <td>21440</td>\n",
       "      <td>92</td>\n",
       "      <td>-0.194</td>\n",
       "      <td>302</td>\n",
       "      <td>6.03</td>\n",
       "    </tr>\n",
       "    <tr>\n",
       "      <th>4</th>\n",
       "      <td>0</td>\n",
       "      <td>-1.7897</td>\n",
       "      <td>3.203026</td>\n",
       "      <td>32.3564</td>\n",
       "      <td>58.685481</td>\n",
       "      <td>21</td>\n",
       "      <td>23</td>\n",
       "      <td>47</td>\n",
       "      <td>30</td>\n",
       "      <td>17</td>\n",
       "      <td>...</td>\n",
       "      <td>62.402934</td>\n",
       "      <td>2.080098</td>\n",
       "      <td>16.872064</td>\n",
       "      <td>13.655728</td>\n",
       "      <td>3.216336</td>\n",
       "      <td>2319</td>\n",
       "      <td>52</td>\n",
       "      <td>4.844</td>\n",
       "      <td>168</td>\n",
       "      <td>6.42</td>\n",
       "    </tr>\n",
       "  </tbody>\n",
       "</table>\n",
       "<p>5 rows × 1209 columns</p>\n",
       "</div>"
      ],
      "text/plain": [
       "   nAcid    ALogP      ALogp2       AMR        apol  naAromAtom  nAromBond  \\\n",
       "0      0  -0.7109    0.505379   70.4932   73.378583          16         18   \n",
       "1      0  -1.4578    2.125181   44.0418   64.304653          18         20   \n",
       "2      0   0.0748    0.005595   27.2874   69.268860          27         29   \n",
       "3      0 -10.0458  100.918098  183.2952  142.418303           6          6   \n",
       "4      0  -1.7897    3.203026   32.3564   58.685481          21         23   \n",
       "\n",
       "   nAtom  nHeavyAtom  nH  ...      WTPT-1    WTPT-2     WTPT-3     WTPT-4  \\\n",
       "0     65          34  31  ...   70.514766  2.073964  27.938805  11.267053   \n",
       "1     52          31  21  ...   65.167083  2.102164  17.955201   2.565237   \n",
       "2     57          37  20  ...   76.232497  2.060338  31.795843   2.556014   \n",
       "3    135          64  71  ...  125.580825  1.962200  61.611922  20.276064   \n",
       "4     47          30  17  ...   62.402934  2.080098  16.872064  13.655728   \n",
       "\n",
       "      WTPT-5  WPATH  WPOL  XLogP  Zagreb  pChemBL  \n",
       "0  16.671753   3404    59  2.188     184     6.82  \n",
       "1  15.389964   2593    55  6.575     180     7.64  \n",
       "2  22.098211   4979    56  5.589     198     4.30  \n",
       "3  41.335857  21440    92 -0.194     302     6.03  \n",
       "4   3.216336   2319    52  4.844     168     6.42  \n",
       "\n",
       "[5 rows x 1209 columns]"
      ]
     },
     "execution_count": 2,
     "metadata": {},
     "output_type": "execute_result"
    }
   ],
   "source": [
    "X= pd.read_csv('no_zeros_no_chembl.csv')\n",
    "#X.drop(columns=['ChemBLID'],inplace=True)\n",
    "X.head()"
   ]
  },
  {
   "cell_type": "code",
   "execution_count": 3,
   "metadata": {},
   "outputs": [
    {
     "name": "stdout",
     "output_type": "stream",
     "text": [
      "0 0\n"
     ]
    }
   ],
   "source": [
    "variance = X.astype(dtype='float64').var(axis=0,ddof=0)\n",
    "means = X.astype(dtype='float64').abs().sum(axis=0)/2861\n",
    "print((means == 0).astype(int).sum(),(variance == 0).astype(int).sum())"
   ]
  },
  {
   "cell_type": "code",
   "execution_count": 34,
   "metadata": {},
   "outputs": [
    {
     "name": "stderr",
     "output_type": "stream",
     "text": [
      "C:\\Users\\HP\\Anaconda3\\lib\\site-packages\\ipykernel_launcher.py:2: FutureWarning: Series.data is deprecated and will be removed in a future version\n",
      "  \n"
     ]
    },
    {
     "data": {
      "text/plain": [
       "[<matplotlib.lines.Line2D at 0x28a34ee1470>]"
      ]
     },
     "execution_count": 34,
     "metadata": {},
     "output_type": "execute_result"
    },
    {
     "data": {
      "image/png": "[encoded data removed]",
      "text/plain": [
       "<Figure size 432x288 with 1 Axes>"
      ]
     },
     "metadata": {
      "needs_background": "light"
     },
     "output_type": "display_data"
    }
   ],
   "source": [
    "normal = variance/means\n",
    "plt.plot(range(len(variance)),normal.data)"
   ]
  },
  {
   "cell_type": "code",
   "execution_count": 35,
   "metadata": {},
   "outputs": [
    {
     "name": "stderr",
     "output_type": "stream",
     "text": [
      "C:\\Users\\HP\\Anaconda3\\lib\\site-packages\\ipykernel_launcher.py:1: FutureWarning: Series.data is deprecated and will be removed in a future version\n",
      "  \"\"\"Entry point for launching an IPython kernel.\n"
     ]
    },
    {
     "data": {
      "text/plain": [
       "(array([1.202e+03, 0.000e+00, 0.000e+00, 1.000e+00, 0.000e+00, 0.000e+00,\n",
       "        0.000e+00, 0.000e+00, 1.000e+00, 6.000e+00]),\n",
       " array([2.03324166e-05, 1.46091855e+06, 2.92183709e+06, 4.38275564e+06,\n",
       "        5.84367418e+06, 7.30459273e+06, 8.76551127e+06, 1.02264298e+07,\n",
       "        1.16873484e+07, 1.31482669e+07, 1.46091855e+07]),\n",
       " <a list of 10 Patch objects>)"
      ]
     },
     "execution_count": 35,
     "metadata": {},
     "output_type": "execute_result"
    },
    {
     "data": {
      "image/png": "[encoded data removed]",
      "text/plain": [
       "<Figure size 432x288 with 1 Axes>"
      ]
     },
     "metadata": {
      "needs_background": "light"
     },
     "output_type": "display_data"
    }
   ],
   "source": [
    "plt.hist(normal.data)"
   ]
  },
  {
   "cell_type": "code",
   "execution_count": 36,
   "metadata": {},
   "outputs": [
    {
     "name": "stdout",
     "output_type": "stream",
     "text": [
      "180\n"
     ]
    }
   ],
   "source": [
    "high_var_cols = []\n",
    "for cols in normal.index:\n",
    "    if normal[cols] > 1*(10^7):\n",
    "        high_var_cols.append(cols)\n",
    "print(len(high_var_cols))"
   ]
  },
  {
   "cell_type": "markdown",
   "metadata": {},
   "source": [
    "Splitting the high and low variance columns for better visualisation"
   ]
  },
  {
   "cell_type": "code",
   "execution_count": 9,
   "metadata": {},
   "outputs": [
    {
     "name": "stderr",
     "output_type": "stream",
     "text": [
      "C:\\Users\\HP\\Anaconda3\\lib\\site-packages\\ipykernel_launcher.py:4: FutureWarning: Series.data is deprecated and will be removed in a future version\n",
      "  after removing the cwd from sys.path.\n",
      "C:\\Users\\HP\\Anaconda3\\lib\\site-packages\\ipykernel_launcher.py:6: FutureWarning: Series.data is deprecated and will be removed in a future version\n",
      "  \n"
     ]
    },
    {
     "data": {
      "image/png": "[encoded data removed]",
      "text/plain": [
       "<Figure size 432x288 with 2 Axes>"
      ]
     },
     "metadata": {
      "needs_background": "light"
     },
     "output_type": "display_data"
    }
   ],
   "source": [
    "\n",
    "normal_high = normal[high_var_cols]\n",
    "normal_low =  normal.drop(labels=high_var_cols,inplace=False)\n",
    "plt.subplot(1,2,1)\n",
    "plt.hist(normal_high.data)\n",
    "plt.subplot(1,2,2)\n",
    "plt.hist(normal_low.data)\n",
    "plt.show()"
   ]
  },
  {
   "cell_type": "code",
   "execution_count": 10,
   "metadata": {},
   "outputs": [
    {
     "data": {
      "text/plain": [
       "['Unnamed: 0',\n",
       " 'ALogp2',\n",
       " 'AMR',\n",
       " 'ATS0m',\n",
       " 'ATS1m',\n",
       " 'ATS2m',\n",
       " 'ATS3m',\n",
       " 'ATS4m',\n",
       " 'ATS5m',\n",
       " 'ATS6m',\n",
       " 'ATS7m',\n",
       " 'ATS8m',\n",
       " 'ATS0v',\n",
       " 'ATS1v',\n",
       " 'ATS2v',\n",
       " 'ATS3v',\n",
       " 'ATS4v',\n",
       " 'ATS5v',\n",
       " 'ATS6v',\n",
       " 'ATS7v',\n",
       " 'ATS8v',\n",
       " 'ATS0e',\n",
       " 'ATS1e',\n",
       " 'ATS2e',\n",
       " 'ATS3e',\n",
       " 'ATS4e',\n",
       " 'ATS5e',\n",
       " 'ATS6e',\n",
       " 'ATS7e',\n",
       " 'ATS8e',\n",
       " 'ATS3p',\n",
       " 'ATS4p',\n",
       " 'ATS5p',\n",
       " 'ATS6p',\n",
       " 'ATS7p',\n",
       " 'ATS8p',\n",
       " 'ATS0i',\n",
       " 'ATS1i',\n",
       " 'ATS2i',\n",
       " 'ATS3i',\n",
       " 'ATS4i',\n",
       " 'ATS5i',\n",
       " 'ATS6i',\n",
       " 'ATS7i',\n",
       " 'ATS8i',\n",
       " 'ATS0s',\n",
       " 'ATS2s',\n",
       " 'ATS3s',\n",
       " 'ATS4s',\n",
       " 'ATS5s',\n",
       " 'ATS6s',\n",
       " 'ATS7s',\n",
       " 'ATS8s',\n",
       " 'ATSC0c',\n",
       " 'ATSC1c',\n",
       " 'ATSC0m',\n",
       " 'ATSC1m',\n",
       " 'ATSC2m',\n",
       " 'ATSC3m',\n",
       " 'ATSC4m',\n",
       " 'ATSC5m',\n",
       " 'ATSC6m',\n",
       " 'ATSC7m',\n",
       " 'ATSC8m',\n",
       " 'ATSC0v',\n",
       " 'ATSC1v',\n",
       " 'ATSC2v',\n",
       " 'ATSC3v',\n",
       " 'ATSC4v',\n",
       " 'ATSC5v',\n",
       " 'ATSC6v',\n",
       " 'ATSC7v',\n",
       " 'ATSC8v',\n",
       " 'ATSC2i',\n",
       " 'ATSC3i',\n",
       " 'ATSC4i',\n",
       " 'ATSC5i',\n",
       " 'ATSC6i',\n",
       " 'ATSC7i',\n",
       " 'ATSC8i',\n",
       " 'ATSC0s',\n",
       " 'ATSC2s',\n",
       " 'ATSC3s',\n",
       " 'ATSC4s',\n",
       " 'ATSC5s',\n",
       " 'ATSC6s',\n",
       " 'ATSC7s',\n",
       " 'ATSC8s',\n",
       " 'SpAbs_DzZ',\n",
       " 'SpMax_DzZ',\n",
       " 'SpDiam_DzZ',\n",
       " 'SpAD_DzZ',\n",
       " 'EE_DzZ',\n",
       " 'VR1_DzZ',\n",
       " 'VR2_DzZ',\n",
       " 'SpAbs_Dzm',\n",
       " 'SpMax_Dzm',\n",
       " 'SpDiam_Dzm',\n",
       " 'SpAD_Dzm',\n",
       " 'EE_Dzm',\n",
       " 'VR1_Dzm',\n",
       " 'VR2_Dzm',\n",
       " 'SpAbs_Dzv',\n",
       " 'SpMax_Dzv',\n",
       " 'SpDiam_Dzv',\n",
       " 'SpAD_Dzv',\n",
       " 'EE_Dzv',\n",
       " 'VR1_Dzv',\n",
       " 'VR2_Dzv',\n",
       " 'SpAbs_Dze',\n",
       " 'SpMax_Dze',\n",
       " 'SpDiam_Dze',\n",
       " 'SpAD_Dze',\n",
       " 'EE_Dze',\n",
       " 'VR1_Dze',\n",
       " 'VR2_Dze',\n",
       " 'SpAbs_Dzp',\n",
       " 'SpMax_Dzp',\n",
       " 'SpDiam_Dzp',\n",
       " 'SpAD_Dzp',\n",
       " 'EE_Dzp',\n",
       " 'VE3_Dzp',\n",
       " 'VR1_Dzp',\n",
       " 'VR2_Dzp',\n",
       " 'SpAbs_Dzi',\n",
       " 'SpMax_Dzi',\n",
       " 'SpDiam_Dzi',\n",
       " 'SpAD_Dzi',\n",
       " 'EE_Dzi',\n",
       " 'VR1_Dzi',\n",
       " 'VR2_Dzi',\n",
       " 'SpAbs_Dzs',\n",
       " 'SpMax_Dzs',\n",
       " 'SpDiam_Dzs',\n",
       " 'SpAD_Dzs',\n",
       " 'EE_Dzs',\n",
       " 'VR1_Dzs',\n",
       " 'VR2_Dzs',\n",
       " 'Si',\n",
       " 'SpMax_Dt',\n",
       " 'SpDiam_Dt',\n",
       " 'SpAD_Dt',\n",
       " 'EE_Dt',\n",
       " 'VR1_Dt',\n",
       " 'VR2_Dt',\n",
       " 'ECCEN',\n",
       " 'SHBa',\n",
       " 'SHBint2',\n",
       " 'SHBint3',\n",
       " 'SHBint5',\n",
       " 'SHBint6',\n",
       " 'SHBint7',\n",
       " 'SHBint8',\n",
       " 'SHBint9',\n",
       " 'SHBint10',\n",
       " 'SdNH',\n",
       " 'SsOH',\n",
       " 'SdO',\n",
       " 'SsF',\n",
       " 'fragC',\n",
       " 'TIC1',\n",
       " 'TIC2',\n",
       " 'TIC3',\n",
       " 'TIC4',\n",
       " 'TIC5',\n",
       " 'MPC7',\n",
       " 'MPC8',\n",
       " 'MPC9',\n",
       " 'MPC10',\n",
       " 'TPC',\n",
       " 'SpMax_D',\n",
       " 'SpDiam_D',\n",
       " 'SpAD_D',\n",
       " 'EE_D',\n",
       " 'VR1_D',\n",
       " 'VR2_D',\n",
       " 'TopoPSA',\n",
       " 'VABC',\n",
       " 'MW',\n",
       " 'WPATH']"
      ]
     },
     "execution_count": 10,
     "metadata": {},
     "output_type": "execute_result"
    }
   ],
   "source": [
    "high_var_cols"
   ]
  },
  {
   "cell_type": "code",
   "execution_count": 11,
   "metadata": {},
   "outputs": [
    {
     "data": {
      "text/plain": [
       "0.19720176215590532"
      ]
     },
     "execution_count": 11,
     "metadata": {},
     "output_type": "execute_result"
    }
   ],
   "source": [
    "X['pChemBL'].var()/X['pChemBL'].mean()\n"
   ]
  },
  {
   "cell_type": "markdown",
   "metadata": {},
   "source": [
    "<h3>Normalising the data</h3>"
   ]
  },
  {
   "cell_type": "code",
   "execution_count": 4,
   "metadata": {},
   "outputs": [
    {
     "name": "stderr",
     "output_type": "stream",
     "text": [
      "C:\\Users\\HP\\Anaconda3\\lib\\site-packages\\sklearn\\preprocessing\\data.py:625: DataConversionWarning: Data with input dtype int64, float64 were all converted to float64 by StandardScaler.\n",
      "  return self.partial_fit(X, y)\n",
      "C:\\Users\\HP\\Anaconda3\\lib\\site-packages\\ipykernel_launcher.py:6: DataConversionWarning: Data with input dtype int64, float64 were all converted to float64 by StandardScaler.\n",
      "  \n"
     ]
    },
    {
     "data": {
      "text/plain": [
       "(2861, 1208)"
      ]
     },
     "execution_count": 4,
     "metadata": {},
     "output_type": "execute_result"
    }
   ],
   "source": [
    "y = X['pChemBL']\n",
    "X.drop(columns='pChemBL',inplace = True)\n",
    "from sklearn.preprocessing import StandardScaler\n",
    "scaler = StandardScaler(copy=True)\n",
    "scaler.fit(X)\n",
    "X2 = scaler.transform(X)#.drop(columns=['ChemBLID'],inplace=False))\n",
    "X = pd.DataFrame(data=X2,columns=X.columns)\n",
    "X.shape"
   ]
  },
  {
   "cell_type": "code",
   "execution_count": 51,
   "metadata": {},
   "outputs": [],
   "source": [
    "import pickle\n",
    "pickle.dump(scaler, open('./saved_models/scaler.pkl','wb'))"
   ]
  },
  {
   "cell_type": "code",
   "execution_count": 5,
   "metadata": {},
   "outputs": [
    {
     "data": {
      "text/html": [
       "<div>\n",
       "<style scoped>\n",
       "    .dataframe tbody tr th:only-of-type {\n",
       "        vertical-align: middle;\n",
       "    }\n",
       "\n",
       "    .dataframe tbody tr th {\n",
       "        vertical-align: top;\n",
       "    }\n",
       "\n",
       "    .dataframe thead th {\n",
       "        text-align: right;\n",
       "    }\n",
       "</style>\n",
       "<table border=\"1\" class=\"dataframe\">\n",
       "  <thead>\n",
       "    <tr style=\"text-align: right;\">\n",
       "      <th></th>\n",
       "      <th>nAcid</th>\n",
       "      <th>ALogP</th>\n",
       "      <th>ALogp2</th>\n",
       "      <th>AMR</th>\n",
       "      <th>apol</th>\n",
       "      <th>naAromAtom</th>\n",
       "      <th>nAromBond</th>\n",
       "      <th>nAtom</th>\n",
       "      <th>nHeavyAtom</th>\n",
       "      <th>nH</th>\n",
       "      <th>...</th>\n",
       "      <th>WTPT-1</th>\n",
       "      <th>WTPT-2</th>\n",
       "      <th>WTPT-3</th>\n",
       "      <th>WTPT-4</th>\n",
       "      <th>WTPT-5</th>\n",
       "      <th>WPATH</th>\n",
       "      <th>WPOL</th>\n",
       "      <th>XLogP</th>\n",
       "      <th>Zagreb</th>\n",
       "      <th>pChemBL</th>\n",
       "    </tr>\n",
       "  </thead>\n",
       "  <tbody>\n",
       "    <tr>\n",
       "      <th>0</th>\n",
       "      <td>-0.144994</td>\n",
       "      <td>0.135812</td>\n",
       "      <td>-0.204684</td>\n",
       "      <td>0.453449</td>\n",
       "      <td>0.378631</td>\n",
       "      <td>-0.079666</td>\n",
       "      <td>0.004805</td>\n",
       "      <td>0.477364</td>\n",
       "      <td>0.240371</td>\n",
       "      <td>0.617230</td>\n",
       "      <td>...</td>\n",
       "      <td>0.291313</td>\n",
       "      <td>0.553669</td>\n",
       "      <td>0.082565</td>\n",
       "      <td>1.173686</td>\n",
       "      <td>-0.209875</td>\n",
       "      <td>-0.057874</td>\n",
       "      <td>0.518021</td>\n",
       "      <td>-0.523722</td>\n",
       "      <td>0.276732</td>\n",
       "      <td>6.82</td>\n",
       "    </tr>\n",
       "    <tr>\n",
       "      <th>1</th>\n",
       "      <td>-0.144994</td>\n",
       "      <td>-0.310382</td>\n",
       "      <td>-0.100324</td>\n",
       "      <td>-0.502381</td>\n",
       "      <td>-0.163109</td>\n",
       "      <td>0.224032</td>\n",
       "      <td>0.269150</td>\n",
       "      <td>-0.322248</td>\n",
       "      <td>-0.181014</td>\n",
       "      <td>-0.403047</td>\n",
       "      <td>...</td>\n",
       "      <td>-0.083475</td>\n",
       "      <td>1.424733</td>\n",
       "      <td>-1.192167</td>\n",
       "      <td>-0.719429</td>\n",
       "      <td>-0.398305</td>\n",
       "      <td>-0.281414</td>\n",
       "      <td>0.185348</td>\n",
       "      <td>1.542066</td>\n",
       "      <td>0.164477</td>\n",
       "      <td>7.64</td>\n",
       "    </tr>\n",
       "    <tr>\n",
       "      <th>2</th>\n",
       "      <td>-0.144994</td>\n",
       "      <td>0.605186</td>\n",
       "      <td>-0.236884</td>\n",
       "      <td>-1.107806</td>\n",
       "      <td>0.133269</td>\n",
       "      <td>1.590674</td>\n",
       "      <td>1.458703</td>\n",
       "      <td>-0.014705</td>\n",
       "      <td>0.661755</td>\n",
       "      <td>-0.505075</td>\n",
       "      <td>...</td>\n",
       "      <td>0.692034</td>\n",
       "      <td>0.132785</td>\n",
       "      <td>0.575041</td>\n",
       "      <td>-0.721436</td>\n",
       "      <td>0.587844</td>\n",
       "      <td>0.376252</td>\n",
       "      <td>0.268517</td>\n",
       "      <td>1.077770</td>\n",
       "      <td>0.669621</td>\n",
       "      <td>4.30</td>\n",
       "    </tr>\n",
       "    <tr>\n",
       "      <th>3</th>\n",
       "      <td>-0.144994</td>\n",
       "      <td>-5.440810</td>\n",
       "      <td>6.264636</td>\n",
       "      <td>4.529582</td>\n",
       "      <td>4.500507</td>\n",
       "      <td>-1.598158</td>\n",
       "      <td>-1.581267</td>\n",
       "      <td>4.782966</td>\n",
       "      <td>4.454219</td>\n",
       "      <td>4.698339</td>\n",
       "      <td>...</td>\n",
       "      <td>4.150564</td>\n",
       "      <td>-2.898530</td>\n",
       "      <td>4.382032</td>\n",
       "      <td>3.133633</td>\n",
       "      <td>3.415884</td>\n",
       "      <td>4.913489</td>\n",
       "      <td>3.262576</td>\n",
       "      <td>-1.645378</td>\n",
       "      <td>3.588231</td>\n",
       "      <td>6.03</td>\n",
       "    </tr>\n",
       "    <tr>\n",
       "      <th>4</th>\n",
       "      <td>-0.144994</td>\n",
       "      <td>-0.508657</td>\n",
       "      <td>-0.030882</td>\n",
       "      <td>-0.924636</td>\n",
       "      <td>-0.498590</td>\n",
       "      <td>0.679579</td>\n",
       "      <td>0.665668</td>\n",
       "      <td>-0.629791</td>\n",
       "      <td>-0.321476</td>\n",
       "      <td>-0.811158</td>\n",
       "      <td>...</td>\n",
       "      <td>-0.277197</td>\n",
       "      <td>0.743142</td>\n",
       "      <td>-1.330465</td>\n",
       "      <td>1.693352</td>\n",
       "      <td>-2.187896</td>\n",
       "      <td>-0.356938</td>\n",
       "      <td>-0.064157</td>\n",
       "      <td>0.726958</td>\n",
       "      <td>-0.172285</td>\n",
       "      <td>6.42</td>\n",
       "    </tr>\n",
       "  </tbody>\n",
       "</table>\n",
       "<p>5 rows × 1209 columns</p>\n",
       "</div>"
      ],
      "text/plain": [
       "      nAcid     ALogP    ALogp2       AMR      apol  naAromAtom  nAromBond  \\\n",
       "0 -0.144994  0.135812 -0.204684  0.453449  0.378631   -0.079666   0.004805   \n",
       "1 -0.144994 -0.310382 -0.100324 -0.502381 -0.163109    0.224032   0.269150   \n",
       "2 -0.144994  0.605186 -0.236884 -1.107806  0.133269    1.590674   1.458703   \n",
       "3 -0.144994 -5.440810  6.264636  4.529582  4.500507   -1.598158  -1.581267   \n",
       "4 -0.144994 -0.508657 -0.030882 -0.924636 -0.498590    0.679579   0.665668   \n",
       "\n",
       "      nAtom  nHeavyAtom        nH  ...    WTPT-1    WTPT-2    WTPT-3  \\\n",
       "0  0.477364    0.240371  0.617230  ...  0.291313  0.553669  0.082565   \n",
       "1 -0.322248   -0.181014 -0.403047  ... -0.083475  1.424733 -1.192167   \n",
       "2 -0.014705    0.661755 -0.505075  ...  0.692034  0.132785  0.575041   \n",
       "3  4.782966    4.454219  4.698339  ...  4.150564 -2.898530  4.382032   \n",
       "4 -0.629791   -0.321476 -0.811158  ... -0.277197  0.743142 -1.330465   \n",
       "\n",
       "     WTPT-4    WTPT-5     WPATH      WPOL     XLogP    Zagreb  pChemBL  \n",
       "0  1.173686 -0.209875 -0.057874  0.518021 -0.523722  0.276732     6.82  \n",
       "1 -0.719429 -0.398305 -0.281414  0.185348  1.542066  0.164477     7.64  \n",
       "2 -0.721436  0.587844  0.376252  0.268517  1.077770  0.669621     4.30  \n",
       "3  3.133633  3.415884  4.913489  3.262576 -1.645378  3.588231     6.03  \n",
       "4  1.693352 -2.187896 -0.356938 -0.064157  0.726958 -0.172285     6.42  \n",
       "\n",
       "[5 rows x 1209 columns]"
      ]
     },
     "execution_count": 5,
     "metadata": {},
     "output_type": "execute_result"
    }
   ],
   "source": [
    "X['pChemBL'] = y\n",
    "X.head()"
   ]
  },
  {
   "cell_type": "code",
   "execution_count": 6,
   "metadata": {},
   "outputs": [],
   "source": [
    "correlation_matrix = X.astype('float64').corr()"
   ]
  },
  {
   "cell_type": "code",
   "execution_count": 7,
   "metadata": {},
   "outputs": [
    {
     "data": {
      "text/html": [
       "<div>\n",
       "<style scoped>\n",
       "    .dataframe tbody tr th:only-of-type {\n",
       "        vertical-align: middle;\n",
       "    }\n",
       "\n",
       "    .dataframe tbody tr th {\n",
       "        vertical-align: top;\n",
       "    }\n",
       "\n",
       "    .dataframe thead th {\n",
       "        text-align: right;\n",
       "    }\n",
       "</style>\n",
       "<table border=\"1\" class=\"dataframe\">\n",
       "  <thead>\n",
       "    <tr style=\"text-align: right;\">\n",
       "      <th></th>\n",
       "      <th>nAcid</th>\n",
       "      <th>ALogP</th>\n",
       "      <th>ALogp2</th>\n",
       "      <th>AMR</th>\n",
       "      <th>apol</th>\n",
       "      <th>naAromAtom</th>\n",
       "      <th>nAromBond</th>\n",
       "      <th>nAtom</th>\n",
       "      <th>nHeavyAtom</th>\n",
       "      <th>nH</th>\n",
       "      <th>...</th>\n",
       "      <th>WTPT-1</th>\n",
       "      <th>WTPT-2</th>\n",
       "      <th>WTPT-3</th>\n",
       "      <th>WTPT-4</th>\n",
       "      <th>WTPT-5</th>\n",
       "      <th>WPATH</th>\n",
       "      <th>WPOL</th>\n",
       "      <th>XLogP</th>\n",
       "      <th>Zagreb</th>\n",
       "      <th>pChemBL</th>\n",
       "    </tr>\n",
       "  </thead>\n",
       "  <tbody>\n",
       "    <tr>\n",
       "      <th>nAcid</th>\n",
       "      <td>1.000000</td>\n",
       "      <td>-0.064273</td>\n",
       "      <td>0.091276</td>\n",
       "      <td>0.022949</td>\n",
       "      <td>0.049462</td>\n",
       "      <td>0.007714</td>\n",
       "      <td>0.010279</td>\n",
       "      <td>0.049396</td>\n",
       "      <td>0.057764</td>\n",
       "      <td>0.039978</td>\n",
       "      <td>...</td>\n",
       "      <td>0.053804</td>\n",
       "      <td>-0.045911</td>\n",
       "      <td>0.040020</td>\n",
       "      <td>0.135359</td>\n",
       "      <td>-0.029906</td>\n",
       "      <td>0.076846</td>\n",
       "      <td>0.032736</td>\n",
       "      <td>0.034116</td>\n",
       "      <td>0.041481</td>\n",
       "      <td>-0.135137</td>\n",
       "    </tr>\n",
       "    <tr>\n",
       "      <th>ALogP</th>\n",
       "      <td>-0.064273</td>\n",
       "      <td>1.000000</td>\n",
       "      <td>-0.844694</td>\n",
       "      <td>-0.505010</td>\n",
       "      <td>-0.655281</td>\n",
       "      <td>0.092650</td>\n",
       "      <td>0.092259</td>\n",
       "      <td>-0.687293</td>\n",
       "      <td>-0.593904</td>\n",
       "      <td>-0.708654</td>\n",
       "      <td>...</td>\n",
       "      <td>-0.570731</td>\n",
       "      <td>0.206140</td>\n",
       "      <td>-0.437620</td>\n",
       "      <td>-0.483944</td>\n",
       "      <td>-0.376070</td>\n",
       "      <td>-0.714456</td>\n",
       "      <td>-0.417416</td>\n",
       "      <td>0.053686</td>\n",
       "      <td>-0.476190</td>\n",
       "      <td>0.177646</td>\n",
       "    </tr>\n",
       "    <tr>\n",
       "      <th>ALogp2</th>\n",
       "      <td>0.091276</td>\n",
       "      <td>-0.844694</td>\n",
       "      <td>1.000000</td>\n",
       "      <td>0.660447</td>\n",
       "      <td>0.695474</td>\n",
       "      <td>-0.219426</td>\n",
       "      <td>-0.216834</td>\n",
       "      <td>0.735945</td>\n",
       "      <td>0.649457</td>\n",
       "      <td>0.749003</td>\n",
       "      <td>...</td>\n",
       "      <td>0.608014</td>\n",
       "      <td>-0.399610</td>\n",
       "      <td>0.564824</td>\n",
       "      <td>0.522472</td>\n",
       "      <td>0.366677</td>\n",
       "      <td>0.829474</td>\n",
       "      <td>0.444670</td>\n",
       "      <td>-0.052088</td>\n",
       "      <td>0.503619</td>\n",
       "      <td>-0.176723</td>\n",
       "    </tr>\n",
       "    <tr>\n",
       "      <th>AMR</th>\n",
       "      <td>0.022949</td>\n",
       "      <td>-0.505010</td>\n",
       "      <td>0.660447</td>\n",
       "      <td>1.000000</td>\n",
       "      <td>0.697882</td>\n",
       "      <td>-0.584719</td>\n",
       "      <td>-0.591632</td>\n",
       "      <td>0.770352</td>\n",
       "      <td>0.634271</td>\n",
       "      <td>0.817107</td>\n",
       "      <td>...</td>\n",
       "      <td>0.591364</td>\n",
       "      <td>-0.529413</td>\n",
       "      <td>0.653445</td>\n",
       "      <td>0.595902</td>\n",
       "      <td>0.323087</td>\n",
       "      <td>0.675066</td>\n",
       "      <td>0.471899</td>\n",
       "      <td>-0.261661</td>\n",
       "      <td>0.521869</td>\n",
       "      <td>0.078786</td>\n",
       "    </tr>\n",
       "    <tr>\n",
       "      <th>apol</th>\n",
       "      <td>0.049462</td>\n",
       "      <td>-0.655281</td>\n",
       "      <td>0.695474</td>\n",
       "      <td>0.697882</td>\n",
       "      <td>1.000000</td>\n",
       "      <td>0.132630</td>\n",
       "      <td>0.121987</td>\n",
       "      <td>0.987498</td>\n",
       "      <td>0.969591</td>\n",
       "      <td>0.933732</td>\n",
       "      <td>...</td>\n",
       "      <td>0.962930</td>\n",
       "      <td>-0.151692</td>\n",
       "      <td>0.638743</td>\n",
       "      <td>0.326933</td>\n",
       "      <td>0.539936</td>\n",
       "      <td>0.902905</td>\n",
       "      <td>0.869479</td>\n",
       "      <td>0.269927</td>\n",
       "      <td>0.923383</td>\n",
       "      <td>-0.019683</td>\n",
       "    </tr>\n",
       "  </tbody>\n",
       "</table>\n",
       "<p>5 rows × 1209 columns</p>\n",
       "</div>"
      ],
      "text/plain": [
       "           nAcid     ALogP    ALogp2       AMR      apol  naAromAtom  \\\n",
       "nAcid   1.000000 -0.064273  0.091276  0.022949  0.049462    0.007714   \n",
       "ALogP  -0.064273  1.000000 -0.844694 -0.505010 -0.655281    0.092650   \n",
       "ALogp2  0.091276 -0.844694  1.000000  0.660447  0.695474   -0.219426   \n",
       "AMR     0.022949 -0.505010  0.660447  1.000000  0.697882   -0.584719   \n",
       "apol    0.049462 -0.655281  0.695474  0.697882  1.000000    0.132630   \n",
       "\n",
       "        nAromBond     nAtom  nHeavyAtom        nH  ...    WTPT-1    WTPT-2  \\\n",
       "nAcid    0.010279  0.049396    0.057764  0.039978  ...  0.053804 -0.045911   \n",
       "ALogP    0.092259 -0.687293   -0.593904 -0.708654  ... -0.570731  0.206140   \n",
       "ALogp2  -0.216834  0.735945    0.649457  0.749003  ...  0.608014 -0.399610   \n",
       "AMR     -0.591632  0.770352    0.634271  0.817107  ...  0.591364 -0.529413   \n",
       "apol     0.121987  0.987498    0.969591  0.933732  ...  0.962930 -0.151692   \n",
       "\n",
       "          WTPT-3    WTPT-4    WTPT-5     WPATH      WPOL     XLogP    Zagreb  \\\n",
       "nAcid   0.040020  0.135359 -0.029906  0.076846  0.032736  0.034116  0.041481   \n",
       "ALogP  -0.437620 -0.483944 -0.376070 -0.714456 -0.417416  0.053686 -0.476190   \n",
       "ALogp2  0.564824  0.522472  0.366677  0.829474  0.444670 -0.052088  0.503619   \n",
       "AMR     0.653445  0.595902  0.323087  0.675066  0.471899 -0.261661  0.521869   \n",
       "apol    0.638743  0.326933  0.539936  0.902905  0.869479  0.269927  0.923383   \n",
       "\n",
       "         pChemBL  \n",
       "nAcid  -0.135137  \n",
       "ALogP   0.177646  \n",
       "ALogp2 -0.176723  \n",
       "AMR     0.078786  \n",
       "apol   -0.019683  \n",
       "\n",
       "[5 rows x 1209 columns]"
      ]
     },
     "execution_count": 7,
     "metadata": {},
     "output_type": "execute_result"
    }
   ],
   "source": [
    "correlation_matrix.head()"
   ]
  },
  {
   "cell_type": "code",
   "execution_count": 10,
   "metadata": {},
   "outputs": [
    {
     "data": {
      "text/plain": [
       "(array([345., 271., 217., 159., 114.,  69.,  19.,   7.,   5.,   2.]),\n",
       " array([6.86000008e-05, 3.71605334e-02, 7.42524668e-02, 1.11344400e-01,\n",
       "        1.48436334e-01, 1.85528267e-01, 2.22620200e-01, 2.59712134e-01,\n",
       "        2.96804067e-01, 3.33896001e-01, 3.70987934e-01]),\n",
       " <a list of 10 Patch objects>)"
      ]
     },
     "execution_count": 10,
     "metadata": {},
     "output_type": "execute_result"
    },
    {
     "data": {
      "image/png": "[encoded data removed]",
      "text/plain": [
       "<Figure size 432x288 with 1 Axes>"
      ]
     },
     "metadata": {
      "needs_background": "light"
     },
     "output_type": "display_data"
    }
   ],
   "source": [
    "plt.title('Absolute value of Correlation with pChemBL')\n",
    "plt.hist((correlation_matrix.iloc[:1208,1208]).abs())"
   ]
  },
  {
   "cell_type": "code",
   "execution_count": 11,
   "metadata": {},
   "outputs": [
    {
     "name": "stdout",
     "output_type": "stream",
     "text": [
      "757\n"
     ]
    },
    {
     "data": {
      "text/plain": [
       "757"
      ]
     },
     "execution_count": 11,
     "metadata": {},
     "output_type": "execute_result"
    }
   ],
   "source": [
    "bad_cols_index = []\n",
    "for cols in range(1208):\n",
    "    if correlation_matrix.abs().iloc[cols,1208] < 0.1:\n",
    "        bad_cols_index.append(cols)\n",
    "print(len(bad_cols_index))\n",
    "\n",
    "bad_cols2 = []\n",
    "cols = X.columns\n",
    "for index in bad_cols_index:\n",
    "    bad_cols2.append(cols[index])\n",
    "len(bad_cols2)"
   ]
  },
  {
   "cell_type": "code",
   "execution_count": 56,
   "metadata": {},
   "outputs": [],
   "source": [
    "bad_cols = bad_cols + bad_cols2"
   ]
  },
  {
   "cell_type": "code",
   "execution_count": 57,
   "metadata": {},
   "outputs": [
    {
     "data": {
      "text/plain": [
       "993"
      ]
     },
     "execution_count": 57,
     "metadata": {},
     "output_type": "execute_result"
    }
   ],
   "source": [
    "with open(\"test.txt\", \"wb\") as fp:   #Pickling\n",
    "    pickle.dump(bad_cols, fp)\n",
    "with open(\"test.txt\", \"rb\") as fp:   # Unpickling\n",
    "    b = pickle.load(fp)\n",
    "len(b)"
   ]
  },
  {
   "cell_type": "code",
   "execution_count": 12,
   "metadata": {},
   "outputs": [],
   "source": [
    "X_new = X.drop(columns = bad_cols2, inplace = False).copy()"
   ]
  },
  {
   "cell_type": "code",
   "execution_count": 13,
   "metadata": {},
   "outputs": [
    {
     "data": {
      "text/plain": [
       "(2861, 452)"
      ]
     },
     "execution_count": 13,
     "metadata": {},
     "output_type": "execute_result"
    }
   ],
   "source": [
    "X_new.shape"
   ]
  },
  {
   "cell_type": "code",
   "execution_count": 19,
   "metadata": {},
   "outputs": [
    {
     "data": {
      "text/plain": [
       "(array([  2.,   5.,  17.,  37., 104., 134., 106., 113.,  48.,   7.]),\n",
       " array([2.88605665, 3.57945098, 4.27284532, 4.96623965, 5.65963399,\n",
       "        6.35302832, 7.04642266, 7.73981699, 8.43321133, 9.12660566,\n",
       "        9.82      ]),\n",
       " <a list of 10 Patch objects>)"
      ]
     },
     "execution_count": 19,
     "metadata": {},
     "output_type": "execute_result"
    },
    {
     "data": {
      "image/png": "[encoded data removed]",
      "text/plain": [
       "<Figure size 432x288 with 2 Axes>"
      ]
     },
     "metadata": {
      "needs_background": "light"
     },
     "output_type": "display_data"
    }
   ],
   "source": [
    "X_final, validate = np.split(X_new.sample(frac=1), [int(.8*len(X_new))])\n",
    "plt.subplot(1,2,1)\n",
    "plt.hist(X_final['pChemBL'])\n",
    "plt.subplot(1,2,2)\n",
    "plt.hist(validate['pChemBL'])"
   ]
  },
  {
   "cell_type": "markdown",
   "metadata": {},
   "source": [
    "<h3>Removing Outliers</h3>"
   ]
  },
  {
   "cell_type": "code",
   "execution_count": null,
   "metadata": {},
   "outputs": [],
   "source": []
  },
  {
   "cell_type": "markdown",
   "metadata": {},
   "source": [
    "<h3>train-test split</h3>"
   ]
  },
  {
   "cell_type": "code",
   "execution_count": 20,
   "metadata": {},
   "outputs": [],
   "source": [
    "from sklearn.model_selection import train_test_split\n",
    "X_train, X_test, y_train, y_test = train_test_split(X_final.drop(columns=['pChemBL'],inplace=False), X_final['pChemBL'], test_size=0.2, random_state=42)"
   ]
  },
  {
   "cell_type": "code",
   "execution_count": 21,
   "metadata": {},
   "outputs": [
    {
     "data": {
      "text/html": [
       "<div>\n",
       "<style scoped>\n",
       "    .dataframe tbody tr th:only-of-type {\n",
       "        vertical-align: middle;\n",
       "    }\n",
       "\n",
       "    .dataframe tbody tr th {\n",
       "        vertical-align: top;\n",
       "    }\n",
       "\n",
       "    .dataframe thead th {\n",
       "        text-align: right;\n",
       "    }\n",
       "</style>\n",
       "<table border=\"1\" class=\"dataframe\">\n",
       "  <thead>\n",
       "    <tr style=\"text-align: right;\">\n",
       "      <th></th>\n",
       "      <th>nAcid</th>\n",
       "      <th>ALogP</th>\n",
       "      <th>ALogp2</th>\n",
       "      <th>nN</th>\n",
       "      <th>nO</th>\n",
       "      <th>nP</th>\n",
       "      <th>AATS1m</th>\n",
       "      <th>AATS5m</th>\n",
       "      <th>AATS6m</th>\n",
       "      <th>AATS1v</th>\n",
       "      <th>...</th>\n",
       "      <th>SRW4</th>\n",
       "      <th>SRW6</th>\n",
       "      <th>SRW8</th>\n",
       "      <th>SRW10</th>\n",
       "      <th>TSRW</th>\n",
       "      <th>WTPT-2</th>\n",
       "      <th>WTPT-4</th>\n",
       "      <th>WTPT-5</th>\n",
       "      <th>WPATH</th>\n",
       "      <th>XLogP</th>\n",
       "    </tr>\n",
       "  </thead>\n",
       "  <tbody>\n",
       "    <tr>\n",
       "      <th>1939</th>\n",
       "      <td>-0.144994</td>\n",
       "      <td>-0.069034</td>\n",
       "      <td>-0.165698</td>\n",
       "      <td>0.523607</td>\n",
       "      <td>-0.688514</td>\n",
       "      <td>-0.097607</td>\n",
       "      <td>0.469553</td>\n",
       "      <td>0.623173</td>\n",
       "      <td>0.140804</td>\n",
       "      <td>0.783547</td>\n",
       "      <td>...</td>\n",
       "      <td>-0.272112</td>\n",
       "      <td>-0.169579</td>\n",
       "      <td>-0.023949</td>\n",
       "      <td>0.136118</td>\n",
       "      <td>0.166862</td>\n",
       "      <td>0.841250</td>\n",
       "      <td>-0.709842</td>\n",
       "      <td>0.660203</td>\n",
       "      <td>-0.418405</td>\n",
       "      <td>0.272080</td>\n",
       "    </tr>\n",
       "    <tr>\n",
       "      <th>5</th>\n",
       "      <td>-0.144994</td>\n",
       "      <td>-0.654003</td>\n",
       "      <td>0.029040</td>\n",
       "      <td>-0.351928</td>\n",
       "      <td>0.466816</td>\n",
       "      <td>-0.097607</td>\n",
       "      <td>-0.623026</td>\n",
       "      <td>-0.399569</td>\n",
       "      <td>-0.079690</td>\n",
       "      <td>-0.342235</td>\n",
       "      <td>...</td>\n",
       "      <td>-0.233081</td>\n",
       "      <td>-0.185541</td>\n",
       "      <td>-0.074843</td>\n",
       "      <td>0.066104</td>\n",
       "      <td>-0.086125</td>\n",
       "      <td>-0.106318</td>\n",
       "      <td>0.609053</td>\n",
       "      <td>-0.541808</td>\n",
       "      <td>-0.231524</td>\n",
       "      <td>-0.807197</td>\n",
       "    </tr>\n",
       "    <tr>\n",
       "      <th>1308</th>\n",
       "      <td>-0.144994</td>\n",
       "      <td>0.852686</td>\n",
       "      <td>-0.221832</td>\n",
       "      <td>0.085840</td>\n",
       "      <td>-0.110849</td>\n",
       "      <td>-0.097607</td>\n",
       "      <td>0.252404</td>\n",
       "      <td>-0.168009</td>\n",
       "      <td>0.617344</td>\n",
       "      <td>-0.502496</td>\n",
       "      <td>...</td>\n",
       "      <td>-0.233081</td>\n",
       "      <td>-0.129903</td>\n",
       "      <td>-0.086555</td>\n",
       "      <td>-0.056676</td>\n",
       "      <td>0.377159</td>\n",
       "      <td>-1.477573</td>\n",
       "      <td>-0.190211</td>\n",
       "      <td>0.006401</td>\n",
       "      <td>-0.332131</td>\n",
       "      <td>-1.070894</td>\n",
       "    </tr>\n",
       "    <tr>\n",
       "      <th>1713</th>\n",
       "      <td>-0.144994</td>\n",
       "      <td>1.184241</td>\n",
       "      <td>-0.167009</td>\n",
       "      <td>-0.789695</td>\n",
       "      <td>0.466816</td>\n",
       "      <td>-0.097607</td>\n",
       "      <td>1.255455</td>\n",
       "      <td>0.596569</td>\n",
       "      <td>1.597797</td>\n",
       "      <td>0.604053</td>\n",
       "      <td>...</td>\n",
       "      <td>-1.264278</td>\n",
       "      <td>-1.374469</td>\n",
       "      <td>-1.455125</td>\n",
       "      <td>-1.512635</td>\n",
       "      <td>-1.628440</td>\n",
       "      <td>-1.023441</td>\n",
       "      <td>0.487608</td>\n",
       "      <td>-0.791338</td>\n",
       "      <td>-0.490897</td>\n",
       "      <td>-0.809551</td>\n",
       "    </tr>\n",
       "    <tr>\n",
       "      <th>736</th>\n",
       "      <td>-0.144994</td>\n",
       "      <td>1.561914</td>\n",
       "      <td>-0.056205</td>\n",
       "      <td>-1.227463</td>\n",
       "      <td>-0.688514</td>\n",
       "      <td>-0.097607</td>\n",
       "      <td>1.490457</td>\n",
       "      <td>1.361173</td>\n",
       "      <td>0.988406</td>\n",
       "      <td>2.294589</td>\n",
       "      <td>...</td>\n",
       "      <td>-0.595669</td>\n",
       "      <td>-0.559209</td>\n",
       "      <td>-0.505146</td>\n",
       "      <td>-0.441976</td>\n",
       "      <td>-0.343415</td>\n",
       "      <td>1.335805</td>\n",
       "      <td>-0.598267</td>\n",
       "      <td>-1.227954</td>\n",
       "      <td>-0.503576</td>\n",
       "      <td>0.920964</td>\n",
       "    </tr>\n",
       "  </tbody>\n",
       "</table>\n",
       "<p>5 rows × 451 columns</p>\n",
       "</div>"
      ],
      "text/plain": [
       "         nAcid     ALogP    ALogp2        nN        nO        nP    AATS1m  \\\n",
       "1939 -0.144994 -0.069034 -0.165698  0.523607 -0.688514 -0.097607  0.469553   \n",
       "5    -0.144994 -0.654003  0.029040 -0.351928  0.466816 -0.097607 -0.623026   \n",
       "1308 -0.144994  0.852686 -0.221832  0.085840 -0.110849 -0.097607  0.252404   \n",
       "1713 -0.144994  1.184241 -0.167009 -0.789695  0.466816 -0.097607  1.255455   \n",
       "736  -0.144994  1.561914 -0.056205 -1.227463 -0.688514 -0.097607  1.490457   \n",
       "\n",
       "        AATS5m    AATS6m    AATS1v  ...      SRW4      SRW6      SRW8  \\\n",
       "1939  0.623173  0.140804  0.783547  ... -0.272112 -0.169579 -0.023949   \n",
       "5    -0.399569 -0.079690 -0.342235  ... -0.233081 -0.185541 -0.074843   \n",
       "1308 -0.168009  0.617344 -0.502496  ... -0.233081 -0.129903 -0.086555   \n",
       "1713  0.596569  1.597797  0.604053  ... -1.264278 -1.374469 -1.455125   \n",
       "736   1.361173  0.988406  2.294589  ... -0.595669 -0.559209 -0.505146   \n",
       "\n",
       "         SRW10      TSRW    WTPT-2    WTPT-4    WTPT-5     WPATH     XLogP  \n",
       "1939  0.136118  0.166862  0.841250 -0.709842  0.660203 -0.418405  0.272080  \n",
       "5     0.066104 -0.086125 -0.106318  0.609053 -0.541808 -0.231524 -0.807197  \n",
       "1308 -0.056676  0.377159 -1.477573 -0.190211  0.006401 -0.332131 -1.070894  \n",
       "1713 -1.512635 -1.628440 -1.023441  0.487608 -0.791338 -0.490897 -0.809551  \n",
       "736  -0.441976 -0.343415  1.335805 -0.598267 -1.227954 -0.503576  0.920964  \n",
       "\n",
       "[5 rows x 451 columns]"
      ]
     },
     "execution_count": 21,
     "metadata": {},
     "output_type": "execute_result"
    }
   ],
   "source": [
    "X_train.head()"
   ]
  },
  {
   "cell_type": "code",
   "execution_count": 22,
   "metadata": {},
   "outputs": [
    {
     "data": {
      "text/plain": [
       "0.31688901714981843"
      ]
     },
     "execution_count": 22,
     "metadata": {},
     "output_type": "execute_result"
    }
   ],
   "source": [
    "from sklearn.linear_model import LinearRegression\n",
    "model1 = LinearRegression()\n",
    "model1.fit(X_train,y_train)\n",
    "model1.score(X_test,y_test)"
   ]
  },
  {
   "cell_type": "code",
   "execution_count": 23,
   "metadata": {},
   "outputs": [
    {
     "data": {
      "text/plain": [
       "0.7690898821100193"
      ]
     },
     "execution_count": 23,
     "metadata": {},
     "output_type": "execute_result"
    }
   ],
   "source": [
    "from sklearn.metrics import mean_squared_error\n",
    "mean_squared_error(validate['pChemBL'],model1.predict(validate.drop(columns=['pChemBL'],inplace=False)))"
   ]
  },
  {
   "cell_type": "code",
   "execution_count": 24,
   "metadata": {},
   "outputs": [
    {
     "data": {
      "text/plain": [
       "0.39328357037402417"
      ]
     },
     "execution_count": 24,
     "metadata": {},
     "output_type": "execute_result"
    }
   ],
   "source": [
    "model1.score(validate.drop(columns=['pChemBL'],inplace=False),validate['pChemBL'])"
   ]
  },
  {
   "cell_type": "code",
   "execution_count": 25,
   "metadata": {},
   "outputs": [
    {
     "data": {
      "text/plain": [
       "0.7351188062129981"
      ]
     },
     "execution_count": 25,
     "metadata": {},
     "output_type": "execute_result"
    }
   ],
   "source": [
    "model1.score(X_train,y_train)"
   ]
  },
  {
   "cell_type": "markdown",
   "metadata": {},
   "source": [
    "<h3>Dimensionality Reduction</h3>"
   ]
  },
  {
   "cell_type": "code",
   "execution_count": 26,
   "metadata": {},
   "outputs": [],
   "source": [
    "X = X_new.copy()\n",
    "correlation_matrix = X_new.astype('float64').corr()"
   ]
  },
  {
   "cell_type": "code",
   "execution_count": 61,
   "metadata": {},
   "outputs": [
    {
     "data": {
      "text/plain": [
       "(2861, 452)"
      ]
     },
     "execution_count": 61,
     "metadata": {},
     "output_type": "execute_result"
    }
   ],
   "source": [
    "X.shape"
   ]
  },
  {
   "cell_type": "code",
   "execution_count": 62,
   "metadata": {},
   "outputs": [
    {
     "data": {
      "text/html": [
       "<div>\n",
       "<style scoped>\n",
       "    .dataframe tbody tr th:only-of-type {\n",
       "        vertical-align: middle;\n",
       "    }\n",
       "\n",
       "    .dataframe tbody tr th {\n",
       "        vertical-align: top;\n",
       "    }\n",
       "\n",
       "    .dataframe thead th {\n",
       "        text-align: right;\n",
       "    }\n",
       "</style>\n",
       "<table border=\"1\" class=\"dataframe\">\n",
       "  <thead>\n",
       "    <tr style=\"text-align: right;\">\n",
       "      <th></th>\n",
       "      <th>nAcid</th>\n",
       "      <th>ALogP</th>\n",
       "      <th>ALogp2</th>\n",
       "      <th>nN</th>\n",
       "      <th>nO</th>\n",
       "      <th>nP</th>\n",
       "      <th>AATS1m</th>\n",
       "      <th>AATS5m</th>\n",
       "      <th>AATS6m</th>\n",
       "      <th>AATS1v</th>\n",
       "      <th>...</th>\n",
       "      <th>SRW6</th>\n",
       "      <th>SRW8</th>\n",
       "      <th>SRW10</th>\n",
       "      <th>TSRW</th>\n",
       "      <th>WTPT-2</th>\n",
       "      <th>WTPT-4</th>\n",
       "      <th>WTPT-5</th>\n",
       "      <th>WPATH</th>\n",
       "      <th>XLogP</th>\n",
       "      <th>pChemBL</th>\n",
       "    </tr>\n",
       "  </thead>\n",
       "  <tbody>\n",
       "    <tr>\n",
       "      <th>nAcid</th>\n",
       "      <td>1.000000</td>\n",
       "      <td>-0.064273</td>\n",
       "      <td>0.091276</td>\n",
       "      <td>-0.028988</td>\n",
       "      <td>0.149117</td>\n",
       "      <td>0.110817</td>\n",
       "      <td>-0.007205</td>\n",
       "      <td>-0.010860</td>\n",
       "      <td>0.000416</td>\n",
       "      <td>0.016273</td>\n",
       "      <td>...</td>\n",
       "      <td>0.010521</td>\n",
       "      <td>-0.002231</td>\n",
       "      <td>-0.012713</td>\n",
       "      <td>-0.011601</td>\n",
       "      <td>-0.045911</td>\n",
       "      <td>0.135359</td>\n",
       "      <td>-0.029906</td>\n",
       "      <td>0.076846</td>\n",
       "      <td>0.034116</td>\n",
       "      <td>-0.135137</td>\n",
       "    </tr>\n",
       "    <tr>\n",
       "      <th>ALogP</th>\n",
       "      <td>-0.064273</td>\n",
       "      <td>1.000000</td>\n",
       "      <td>-0.844694</td>\n",
       "      <td>-0.427450</td>\n",
       "      <td>-0.506982</td>\n",
       "      <td>-0.378326</td>\n",
       "      <td>0.343532</td>\n",
       "      <td>0.277910</td>\n",
       "      <td>0.307552</td>\n",
       "      <td>0.383473</td>\n",
       "      <td>...</td>\n",
       "      <td>-0.287629</td>\n",
       "      <td>-0.204105</td>\n",
       "      <td>-0.131289</td>\n",
       "      <td>-0.136728</td>\n",
       "      <td>0.206140</td>\n",
       "      <td>-0.483944</td>\n",
       "      <td>-0.376070</td>\n",
       "      <td>-0.714456</td>\n",
       "      <td>0.053686</td>\n",
       "      <td>0.177646</td>\n",
       "    </tr>\n",
       "    <tr>\n",
       "      <th>ALogp2</th>\n",
       "      <td>0.091276</td>\n",
       "      <td>-0.844694</td>\n",
       "      <td>1.000000</td>\n",
       "      <td>0.431520</td>\n",
       "      <td>0.549288</td>\n",
       "      <td>0.330803</td>\n",
       "      <td>-0.248513</td>\n",
       "      <td>-0.154806</td>\n",
       "      <td>-0.171166</td>\n",
       "      <td>-0.359766</td>\n",
       "      <td>...</td>\n",
       "      <td>0.276739</td>\n",
       "      <td>0.184396</td>\n",
       "      <td>0.102108</td>\n",
       "      <td>0.110065</td>\n",
       "      <td>-0.399610</td>\n",
       "      <td>0.522472</td>\n",
       "      <td>0.366677</td>\n",
       "      <td>0.829474</td>\n",
       "      <td>-0.052088</td>\n",
       "      <td>-0.176723</td>\n",
       "    </tr>\n",
       "    <tr>\n",
       "      <th>nN</th>\n",
       "      <td>-0.028988</td>\n",
       "      <td>-0.427450</td>\n",
       "      <td>0.431520</td>\n",
       "      <td>1.000000</td>\n",
       "      <td>-0.103358</td>\n",
       "      <td>-0.208433</td>\n",
       "      <td>-0.202040</td>\n",
       "      <td>-0.124865</td>\n",
       "      <td>-0.169760</td>\n",
       "      <td>-0.319058</td>\n",
       "      <td>...</td>\n",
       "      <td>0.533395</td>\n",
       "      <td>0.484875</td>\n",
       "      <td>0.429750</td>\n",
       "      <td>0.442469</td>\n",
       "      <td>-0.004216</td>\n",
       "      <td>-0.131584</td>\n",
       "      <td>0.993075</td>\n",
       "      <td>0.599303</td>\n",
       "      <td>-0.183032</td>\n",
       "      <td>0.123072</td>\n",
       "    </tr>\n",
       "    <tr>\n",
       "      <th>nO</th>\n",
       "      <td>0.149117</td>\n",
       "      <td>-0.506982</td>\n",
       "      <td>0.549288</td>\n",
       "      <td>-0.103358</td>\n",
       "      <td>1.000000</td>\n",
       "      <td>0.239777</td>\n",
       "      <td>0.000958</td>\n",
       "      <td>0.024521</td>\n",
       "      <td>0.060905</td>\n",
       "      <td>-0.302295</td>\n",
       "      <td>...</td>\n",
       "      <td>0.060878</td>\n",
       "      <td>0.010052</td>\n",
       "      <td>-0.028294</td>\n",
       "      <td>-0.039884</td>\n",
       "      <td>-0.496504</td>\n",
       "      <td>0.996516</td>\n",
       "      <td>-0.140161</td>\n",
       "      <td>0.445426</td>\n",
       "      <td>-0.295219</td>\n",
       "      <td>-0.171309</td>\n",
       "    </tr>\n",
       "    <tr>\n",
       "      <th>nP</th>\n",
       "      <td>0.110817</td>\n",
       "      <td>-0.378326</td>\n",
       "      <td>0.330803</td>\n",
       "      <td>-0.208433</td>\n",
       "      <td>0.239777</td>\n",
       "      <td>1.000000</td>\n",
       "      <td>-0.168155</td>\n",
       "      <td>-0.167613</td>\n",
       "      <td>-0.161761</td>\n",
       "      <td>-0.294250</td>\n",
       "      <td>...</td>\n",
       "      <td>-0.078372</td>\n",
       "      <td>-0.133558</td>\n",
       "      <td>-0.173868</td>\n",
       "      <td>-0.166587</td>\n",
       "      <td>-0.291358</td>\n",
       "      <td>0.246378</td>\n",
       "      <td>-0.217039</td>\n",
       "      <td>0.103589</td>\n",
       "      <td>0.245795</td>\n",
       "      <td>-0.146784</td>\n",
       "    </tr>\n",
       "    <tr>\n",
       "      <th>AATS1m</th>\n",
       "      <td>-0.007205</td>\n",
       "      <td>0.343532</td>\n",
       "      <td>-0.248513</td>\n",
       "      <td>-0.202040</td>\n",
       "      <td>0.000958</td>\n",
       "      <td>-0.168155</td>\n",
       "      <td>1.000000</td>\n",
       "      <td>0.817940</td>\n",
       "      <td>0.841293</td>\n",
       "      <td>0.716789</td>\n",
       "      <td>...</td>\n",
       "      <td>-0.192187</td>\n",
       "      <td>-0.150406</td>\n",
       "      <td>-0.115411</td>\n",
       "      <td>-0.118398</td>\n",
       "      <td>-0.092411</td>\n",
       "      <td>-0.023207</td>\n",
       "      <td>-0.210253</td>\n",
       "      <td>-0.268406</td>\n",
       "      <td>-0.047142</td>\n",
       "      <td>-0.109517</td>\n",
       "    </tr>\n",
       "    <tr>\n",
       "      <th>AATS5m</th>\n",
       "      <td>-0.010860</td>\n",
       "      <td>0.277910</td>\n",
       "      <td>-0.154806</td>\n",
       "      <td>-0.124865</td>\n",
       "      <td>0.024521</td>\n",
       "      <td>-0.167613</td>\n",
       "      <td>0.817940</td>\n",
       "      <td>1.000000</td>\n",
       "      <td>0.907150</td>\n",
       "      <td>0.650092</td>\n",
       "      <td>...</td>\n",
       "      <td>-0.203448</td>\n",
       "      <td>-0.165284</td>\n",
       "      <td>-0.127157</td>\n",
       "      <td>-0.126474</td>\n",
       "      <td>-0.083103</td>\n",
       "      <td>0.012732</td>\n",
       "      <td>-0.140978</td>\n",
       "      <td>-0.199419</td>\n",
       "      <td>-0.049987</td>\n",
       "      <td>-0.117754</td>\n",
       "    </tr>\n",
       "    <tr>\n",
       "      <th>AATS6m</th>\n",
       "      <td>0.000416</td>\n",
       "      <td>0.307552</td>\n",
       "      <td>-0.171166</td>\n",
       "      <td>-0.169760</td>\n",
       "      <td>0.060905</td>\n",
       "      <td>-0.161761</td>\n",
       "      <td>0.841293</td>\n",
       "      <td>0.907150</td>\n",
       "      <td>1.000000</td>\n",
       "      <td>0.619052</td>\n",
       "      <td>...</td>\n",
       "      <td>-0.248497</td>\n",
       "      <td>-0.210027</td>\n",
       "      <td>-0.172841</td>\n",
       "      <td>-0.177042</td>\n",
       "      <td>-0.104408</td>\n",
       "      <td>0.048806</td>\n",
       "      <td>-0.182658</td>\n",
       "      <td>-0.232336</td>\n",
       "      <td>-0.106229</td>\n",
       "      <td>-0.104852</td>\n",
       "    </tr>\n",
       "    <tr>\n",
       "      <th>AATS1v</th>\n",
       "      <td>0.016273</td>\n",
       "      <td>0.383473</td>\n",
       "      <td>-0.359766</td>\n",
       "      <td>-0.319058</td>\n",
       "      <td>-0.302295</td>\n",
       "      <td>-0.294250</td>\n",
       "      <td>0.716789</td>\n",
       "      <td>0.650092</td>\n",
       "      <td>0.619052</td>\n",
       "      <td>1.000000</td>\n",
       "      <td>...</td>\n",
       "      <td>-0.127645</td>\n",
       "      <td>-0.063492</td>\n",
       "      <td>-0.009343</td>\n",
       "      <td>-0.010209</td>\n",
       "      <td>0.388078</td>\n",
       "      <td>-0.316743</td>\n",
       "      <td>-0.325464</td>\n",
       "      <td>-0.311237</td>\n",
       "      <td>0.326725</td>\n",
       "      <td>-0.106029</td>\n",
       "    </tr>\n",
       "  </tbody>\n",
       "</table>\n",
       "<p>10 rows × 452 columns</p>\n",
       "</div>"
      ],
      "text/plain": [
       "           nAcid     ALogP    ALogp2        nN        nO        nP    AATS1m  \\\n",
       "nAcid   1.000000 -0.064273  0.091276 -0.028988  0.149117  0.110817 -0.007205   \n",
       "ALogP  -0.064273  1.000000 -0.844694 -0.427450 -0.506982 -0.378326  0.343532   \n",
       "ALogp2  0.091276 -0.844694  1.000000  0.431520  0.549288  0.330803 -0.248513   \n",
       "nN     -0.028988 -0.427450  0.431520  1.000000 -0.103358 -0.208433 -0.202040   \n",
       "nO      0.149117 -0.506982  0.549288 -0.103358  1.000000  0.239777  0.000958   \n",
       "nP      0.110817 -0.378326  0.330803 -0.208433  0.239777  1.000000 -0.168155   \n",
       "AATS1m -0.007205  0.343532 -0.248513 -0.202040  0.000958 -0.168155  1.000000   \n",
       "AATS5m -0.010860  0.277910 -0.154806 -0.124865  0.024521 -0.167613  0.817940   \n",
       "AATS6m  0.000416  0.307552 -0.171166 -0.169760  0.060905 -0.161761  0.841293   \n",
       "AATS1v  0.016273  0.383473 -0.359766 -0.319058 -0.302295 -0.294250  0.716789   \n",
       "\n",
       "          AATS5m    AATS6m    AATS1v  ...      SRW6      SRW8     SRW10  \\\n",
       "nAcid  -0.010860  0.000416  0.016273  ...  0.010521 -0.002231 -0.012713   \n",
       "ALogP   0.277910  0.307552  0.383473  ... -0.287629 -0.204105 -0.131289   \n",
       "ALogp2 -0.154806 -0.171166 -0.359766  ...  0.276739  0.184396  0.102108   \n",
       "nN     -0.124865 -0.169760 -0.319058  ...  0.533395  0.484875  0.429750   \n",
       "nO      0.024521  0.060905 -0.302295  ...  0.060878  0.010052 -0.028294   \n",
       "nP     -0.167613 -0.161761 -0.294250  ... -0.078372 -0.133558 -0.173868   \n",
       "AATS1m  0.817940  0.841293  0.716789  ... -0.192187 -0.150406 -0.115411   \n",
       "AATS5m  1.000000  0.907150  0.650092  ... -0.203448 -0.165284 -0.127157   \n",
       "AATS6m  0.907150  1.000000  0.619052  ... -0.248497 -0.210027 -0.172841   \n",
       "AATS1v  0.650092  0.619052  1.000000  ... -0.127645 -0.063492 -0.009343   \n",
       "\n",
       "            TSRW    WTPT-2    WTPT-4    WTPT-5     WPATH     XLogP   pChemBL  \n",
       "nAcid  -0.011601 -0.045911  0.135359 -0.029906  0.076846  0.034116 -0.135137  \n",
       "ALogP  -0.136728  0.206140 -0.483944 -0.376070 -0.714456  0.053686  0.177646  \n",
       "ALogp2  0.110065 -0.399610  0.522472  0.366677  0.829474 -0.052088 -0.176723  \n",
       "nN      0.442469 -0.004216 -0.131584  0.993075  0.599303 -0.183032  0.123072  \n",
       "nO     -0.039884 -0.496504  0.996516 -0.140161  0.445426 -0.295219 -0.171309  \n",
       "nP     -0.166587 -0.291358  0.246378 -0.217039  0.103589  0.245795 -0.146784  \n",
       "AATS1m -0.118398 -0.092411 -0.023207 -0.210253 -0.268406 -0.047142 -0.109517  \n",
       "AATS5m -0.126474 -0.083103  0.012732 -0.140978 -0.199419 -0.049987 -0.117754  \n",
       "AATS6m -0.177042 -0.104408  0.048806 -0.182658 -0.232336 -0.106229 -0.104852  \n",
       "AATS1v -0.010209  0.388078 -0.316743 -0.325464 -0.311237  0.326725 -0.106029  \n",
       "\n",
       "[10 rows x 452 columns]"
      ]
     },
     "execution_count": 62,
     "metadata": {},
     "output_type": "execute_result"
    }
   ],
   "source": [
    "correlation_matrix.head(10)"
   ]
  },
  {
   "cell_type": "code",
   "execution_count": 63,
   "metadata": {},
   "outputs": [
    {
     "name": "stdout",
     "output_type": "stream",
     "text": [
      "53\n"
     ]
    }
   ],
   "source": [
    "correlated_vars = []\n",
    "for ind in correlation_matrix.index:\n",
    "    for col in correlation_matrix.columns:\n",
    "        if correlation_matrix.loc[ind,col] >0.5:\n",
    "            chk = 0\n",
    "            for l in correlated_vars:\n",
    "                if (ind in l) or (col in l):\n",
    "                    if (ind in l):\n",
    "                            chk = 1\n",
    "                            if col not in l:\n",
    "                                l.append(col)\n",
    "                            break\n",
    "                    elif col in l:\n",
    "                            chk = 1\n",
    "                            if ind not in l:\n",
    "                                l.append(ind)\n",
    "            if chk == 0:\n",
    "                correlated_vars.append([ind,col])\n",
    "print(len(correlated_vars))"
   ]
  },
  {
   "cell_type": "markdown",
   "metadata": {},
   "source": [
    "hmm"
   ]
  },
  {
   "cell_type": "code",
   "execution_count": 64,
   "metadata": {},
   "outputs": [
    {
     "name": "stdout",
     "output_type": "stream",
     "text": [
      "950\n"
     ]
    }
   ],
   "source": [
    "total = 0\n",
    "for l in correlated_vars:\n",
    "    total += len(l)\n",
    "print(total)"
   ]
  },
  {
   "cell_type": "code",
   "execution_count": 76,
   "metadata": {},
   "outputs": [
    {
     "data": {
      "text/html": [
       "<div>\n",
       "<style scoped>\n",
       "    .dataframe tbody tr th:only-of-type {\n",
       "        vertical-align: middle;\n",
       "    }\n",
       "\n",
       "    .dataframe tbody tr th {\n",
       "        vertical-align: top;\n",
       "    }\n",
       "\n",
       "    .dataframe thead th {\n",
       "        text-align: right;\n",
       "    }\n",
       "</style>\n",
       "<table border=\"1\" class=\"dataframe\">\n",
       "  <thead>\n",
       "    <tr style=\"text-align: right;\">\n",
       "      <th></th>\n",
       "      <th>nAcid</th>\n",
       "      <th>ALogP</th>\n",
       "      <th>ALogp2</th>\n",
       "      <th>nN</th>\n",
       "      <th>nO</th>\n",
       "      <th>nP</th>\n",
       "      <th>AATS1m</th>\n",
       "      <th>AATS5m</th>\n",
       "      <th>AATS6m</th>\n",
       "      <th>AATS1v</th>\n",
       "      <th>...</th>\n",
       "      <th>SRW6</th>\n",
       "      <th>SRW8</th>\n",
       "      <th>SRW10</th>\n",
       "      <th>TSRW</th>\n",
       "      <th>WTPT-2</th>\n",
       "      <th>WTPT-4</th>\n",
       "      <th>WTPT-5</th>\n",
       "      <th>WPATH</th>\n",
       "      <th>XLogP</th>\n",
       "      <th>pChemBL</th>\n",
       "    </tr>\n",
       "  </thead>\n",
       "  <tbody>\n",
       "    <tr>\n",
       "      <th>0</th>\n",
       "      <td>-0.144994</td>\n",
       "      <td>0.135812</td>\n",
       "      <td>-0.204684</td>\n",
       "      <td>-0.351928</td>\n",
       "      <td>1.044481</td>\n",
       "      <td>-0.097607</td>\n",
       "      <td>-0.805304</td>\n",
       "      <td>-0.515357</td>\n",
       "      <td>-0.786081</td>\n",
       "      <td>-0.975157</td>\n",
       "      <td>...</td>\n",
       "      <td>0.387045</td>\n",
       "      <td>0.444588</td>\n",
       "      <td>0.494858</td>\n",
       "      <td>0.362547</td>\n",
       "      <td>0.553669</td>\n",
       "      <td>1.173686</td>\n",
       "      <td>-0.209875</td>\n",
       "      <td>-0.057874</td>\n",
       "      <td>-0.523722</td>\n",
       "      <td>6.82</td>\n",
       "    </tr>\n",
       "    <tr>\n",
       "      <th>1</th>\n",
       "      <td>-0.144994</td>\n",
       "      <td>-0.310382</td>\n",
       "      <td>-0.100324</td>\n",
       "      <td>-0.351928</td>\n",
       "      <td>-0.688514</td>\n",
       "      <td>-0.097607</td>\n",
       "      <td>-0.317264</td>\n",
       "      <td>-0.387132</td>\n",
       "      <td>-0.138641</td>\n",
       "      <td>1.122305</td>\n",
       "      <td>...</td>\n",
       "      <td>0.743373</td>\n",
       "      <td>1.007296</td>\n",
       "      <td>1.204127</td>\n",
       "      <td>1.123459</td>\n",
       "      <td>1.424733</td>\n",
       "      <td>-0.719429</td>\n",
       "      <td>-0.398305</td>\n",
       "      <td>-0.281414</td>\n",
       "      <td>1.542066</td>\n",
       "      <td>7.64</td>\n",
       "    </tr>\n",
       "    <tr>\n",
       "      <th>2</th>\n",
       "      <td>-0.144994</td>\n",
       "      <td>0.605186</td>\n",
       "      <td>-0.236884</td>\n",
       "      <td>0.523607</td>\n",
       "      <td>-0.688514</td>\n",
       "      <td>-0.097607</td>\n",
       "      <td>0.472994</td>\n",
       "      <td>0.699421</td>\n",
       "      <td>0.655151</td>\n",
       "      <td>0.984264</td>\n",
       "      <td>...</td>\n",
       "      <td>0.595781</td>\n",
       "      <td>0.448506</td>\n",
       "      <td>0.297617</td>\n",
       "      <td>0.290078</td>\n",
       "      <td>0.132785</td>\n",
       "      <td>-0.721436</td>\n",
       "      <td>0.587844</td>\n",
       "      <td>0.376252</td>\n",
       "      <td>1.077770</td>\n",
       "      <td>4.30</td>\n",
       "    </tr>\n",
       "    <tr>\n",
       "      <th>3</th>\n",
       "      <td>-0.144994</td>\n",
       "      <td>-5.440810</td>\n",
       "      <td>6.264636</td>\n",
       "      <td>4.025748</td>\n",
       "      <td>3.355141</td>\n",
       "      <td>-0.097607</td>\n",
       "      <td>-1.617230</td>\n",
       "      <td>-0.744881</td>\n",
       "      <td>-0.909205</td>\n",
       "      <td>-2.270115</td>\n",
       "      <td>...</td>\n",
       "      <td>2.259198</td>\n",
       "      <td>1.674946</td>\n",
       "      <td>1.123067</td>\n",
       "      <td>1.202145</td>\n",
       "      <td>-2.898530</td>\n",
       "      <td>3.133633</td>\n",
       "      <td>3.415884</td>\n",
       "      <td>4.913489</td>\n",
       "      <td>-1.645378</td>\n",
       "      <td>6.03</td>\n",
       "    </tr>\n",
       "    <tr>\n",
       "      <th>4</th>\n",
       "      <td>-0.144994</td>\n",
       "      <td>-0.508657</td>\n",
       "      <td>-0.030882</td>\n",
       "      <td>-2.102998</td>\n",
       "      <td>1.622146</td>\n",
       "      <td>-0.097607</td>\n",
       "      <td>0.192689</td>\n",
       "      <td>0.488200</td>\n",
       "      <td>0.893433</td>\n",
       "      <td>1.703936</td>\n",
       "      <td>...</td>\n",
       "      <td>0.025655</td>\n",
       "      <td>0.136638</td>\n",
       "      <td>0.240241</td>\n",
       "      <td>0.341054</td>\n",
       "      <td>0.743142</td>\n",
       "      <td>1.693352</td>\n",
       "      <td>-2.187896</td>\n",
       "      <td>-0.356938</td>\n",
       "      <td>0.726958</td>\n",
       "      <td>6.42</td>\n",
       "    </tr>\n",
       "  </tbody>\n",
       "</table>\n",
       "<p>5 rows × 452 columns</p>\n",
       "</div>"
      ],
      "text/plain": [
       "      nAcid     ALogP    ALogp2        nN        nO        nP    AATS1m  \\\n",
       "0 -0.144994  0.135812 -0.204684 -0.351928  1.044481 -0.097607 -0.805304   \n",
       "1 -0.144994 -0.310382 -0.100324 -0.351928 -0.688514 -0.097607 -0.317264   \n",
       "2 -0.144994  0.605186 -0.236884  0.523607 -0.688514 -0.097607  0.472994   \n",
       "3 -0.144994 -5.440810  6.264636  4.025748  3.355141 -0.097607 -1.617230   \n",
       "4 -0.144994 -0.508657 -0.030882 -2.102998  1.622146 -0.097607  0.192689   \n",
       "\n",
       "     AATS5m    AATS6m    AATS1v  ...      SRW6      SRW8     SRW10      TSRW  \\\n",
       "0 -0.515357 -0.786081 -0.975157  ...  0.387045  0.444588  0.494858  0.362547   \n",
       "1 -0.387132 -0.138641  1.122305  ...  0.743373  1.007296  1.204127  1.123459   \n",
       "2  0.699421  0.655151  0.984264  ...  0.595781  0.448506  0.297617  0.290078   \n",
       "3 -0.744881 -0.909205 -2.270115  ...  2.259198  1.674946  1.123067  1.202145   \n",
       "4  0.488200  0.893433  1.703936  ...  0.025655  0.136638  0.240241  0.341054   \n",
       "\n",
       "     WTPT-2    WTPT-4    WTPT-5     WPATH     XLogP  pChemBL  \n",
       "0  0.553669  1.173686 -0.209875 -0.057874 -0.523722     6.82  \n",
       "1  1.424733 -0.719429 -0.398305 -0.281414  1.542066     7.64  \n",
       "2  0.132785 -0.721436  0.587844  0.376252  1.077770     4.30  \n",
       "3 -2.898530  3.133633  3.415884  4.913489 -1.645378     6.03  \n",
       "4  0.743142  1.693352 -2.187896 -0.356938  0.726958     6.42  \n",
       "\n",
       "[5 rows x 452 columns]"
      ]
     },
     "execution_count": 76,
     "metadata": {},
     "output_type": "execute_result"
    }
   ],
   "source": [
    "X.head()"
   ]
  },
  {
   "cell_type": "code",
   "execution_count": 27,
   "metadata": {},
   "outputs": [],
   "source": [
    "comps = 60\n",
    "pca = PCA(n_components=comps)\n",
    "principalComponents = pca.fit_transform(X.drop(columns=['pChemBL'],inplace=False))\n",
    "cols = []\n",
    "for i in range(comps):\n",
    "    cols.append('comp'+str(i+1))\n",
    "X_red = pd.DataFrame(data=principalComponents, columns=cols)"
   ]
  },
  {
   "cell_type": "code",
   "execution_count": 77,
   "metadata": {},
   "outputs": [],
   "source": [
    "with open('./saved_models/pca.pkl','wb') as fp:\n",
    "    pickle.dump(pca.fit(X.drop(columns=['pChemBL'],inplace=False)),fp)"
   ]
  },
  {
   "cell_type": "code",
   "execution_count": 28,
   "metadata": {},
   "outputs": [
    {
     "data": {
      "text/html": [
       "<div>\n",
       "<style scoped>\n",
       "    .dataframe tbody tr th:only-of-type {\n",
       "        vertical-align: middle;\n",
       "    }\n",
       "\n",
       "    .dataframe tbody tr th {\n",
       "        vertical-align: top;\n",
       "    }\n",
       "\n",
       "    .dataframe thead th {\n",
       "        text-align: right;\n",
       "    }\n",
       "</style>\n",
       "<table border=\"1\" class=\"dataframe\">\n",
       "  <thead>\n",
       "    <tr style=\"text-align: right;\">\n",
       "      <th></th>\n",
       "      <th>comp1</th>\n",
       "      <th>comp2</th>\n",
       "      <th>comp3</th>\n",
       "      <th>comp4</th>\n",
       "      <th>comp5</th>\n",
       "      <th>comp6</th>\n",
       "      <th>comp7</th>\n",
       "      <th>comp8</th>\n",
       "      <th>comp9</th>\n",
       "      <th>comp10</th>\n",
       "      <th>...</th>\n",
       "      <th>comp52</th>\n",
       "      <th>comp53</th>\n",
       "      <th>comp54</th>\n",
       "      <th>comp55</th>\n",
       "      <th>comp56</th>\n",
       "      <th>comp57</th>\n",
       "      <th>comp58</th>\n",
       "      <th>comp59</th>\n",
       "      <th>comp60</th>\n",
       "      <th>pChemBL</th>\n",
       "    </tr>\n",
       "  </thead>\n",
       "  <tbody>\n",
       "    <tr>\n",
       "      <th>0</th>\n",
       "      <td>-0.026369</td>\n",
       "      <td>-1.830329</td>\n",
       "      <td>-7.903487</td>\n",
       "      <td>1.643947</td>\n",
       "      <td>-2.474449</td>\n",
       "      <td>1.020061</td>\n",
       "      <td>2.788774</td>\n",
       "      <td>1.553599</td>\n",
       "      <td>-2.535732</td>\n",
       "      <td>-1.206244</td>\n",
       "      <td>...</td>\n",
       "      <td>0.216956</td>\n",
       "      <td>1.883162</td>\n",
       "      <td>-0.140266</td>\n",
       "      <td>-0.325158</td>\n",
       "      <td>-0.095970</td>\n",
       "      <td>0.108721</td>\n",
       "      <td>0.238440</td>\n",
       "      <td>0.749977</td>\n",
       "      <td>0.279397</td>\n",
       "      <td>6.82</td>\n",
       "    </tr>\n",
       "    <tr>\n",
       "      <th>1</th>\n",
       "      <td>-1.109886</td>\n",
       "      <td>-7.786778</td>\n",
       "      <td>4.454236</td>\n",
       "      <td>0.001993</td>\n",
       "      <td>-3.393371</td>\n",
       "      <td>0.306154</td>\n",
       "      <td>-2.565075</td>\n",
       "      <td>4.043166</td>\n",
       "      <td>1.057393</td>\n",
       "      <td>3.038957</td>\n",
       "      <td>...</td>\n",
       "      <td>-0.362763</td>\n",
       "      <td>-0.431638</td>\n",
       "      <td>0.154056</td>\n",
       "      <td>-0.371731</td>\n",
       "      <td>0.574447</td>\n",
       "      <td>-0.172602</td>\n",
       "      <td>0.033124</td>\n",
       "      <td>0.443015</td>\n",
       "      <td>0.298328</td>\n",
       "      <td>7.64</td>\n",
       "    </tr>\n",
       "    <tr>\n",
       "      <th>2</th>\n",
       "      <td>5.265032</td>\n",
       "      <td>-1.634803</td>\n",
       "      <td>7.775393</td>\n",
       "      <td>-2.942013</td>\n",
       "      <td>3.965358</td>\n",
       "      <td>-5.699987</td>\n",
       "      <td>-2.972947</td>\n",
       "      <td>-1.705638</td>\n",
       "      <td>-1.922867</td>\n",
       "      <td>-1.071082</td>\n",
       "      <td>...</td>\n",
       "      <td>0.068009</td>\n",
       "      <td>0.829394</td>\n",
       "      <td>-0.209079</td>\n",
       "      <td>-1.240088</td>\n",
       "      <td>-0.327736</td>\n",
       "      <td>-0.377044</td>\n",
       "      <td>-0.680622</td>\n",
       "      <td>-0.891741</td>\n",
       "      <td>-1.081944</td>\n",
       "      <td>4.30</td>\n",
       "    </tr>\n",
       "    <tr>\n",
       "      <th>3</th>\n",
       "      <td>49.710585</td>\n",
       "      <td>24.756477</td>\n",
       "      <td>7.664821</td>\n",
       "      <td>-13.246366</td>\n",
       "      <td>-3.485137</td>\n",
       "      <td>4.062453</td>\n",
       "      <td>4.117190</td>\n",
       "      <td>-4.986691</td>\n",
       "      <td>-0.529334</td>\n",
       "      <td>-0.489175</td>\n",
       "      <td>...</td>\n",
       "      <td>-0.561661</td>\n",
       "      <td>0.894434</td>\n",
       "      <td>-2.264003</td>\n",
       "      <td>0.236093</td>\n",
       "      <td>0.626044</td>\n",
       "      <td>-1.681880</td>\n",
       "      <td>0.614291</td>\n",
       "      <td>-0.040679</td>\n",
       "      <td>0.293662</td>\n",
       "      <td>6.03</td>\n",
       "    </tr>\n",
       "    <tr>\n",
       "      <th>4</th>\n",
       "      <td>-4.740560</td>\n",
       "      <td>-3.537532</td>\n",
       "      <td>6.306721</td>\n",
       "      <td>-3.066811</td>\n",
       "      <td>-3.022726</td>\n",
       "      <td>2.072264</td>\n",
       "      <td>-2.865394</td>\n",
       "      <td>4.497930</td>\n",
       "      <td>0.736539</td>\n",
       "      <td>2.472531</td>\n",
       "      <td>...</td>\n",
       "      <td>0.371608</td>\n",
       "      <td>0.691905</td>\n",
       "      <td>-1.390275</td>\n",
       "      <td>-0.134810</td>\n",
       "      <td>-1.710508</td>\n",
       "      <td>1.107623</td>\n",
       "      <td>0.321438</td>\n",
       "      <td>0.045225</td>\n",
       "      <td>-1.414249</td>\n",
       "      <td>6.42</td>\n",
       "    </tr>\n",
       "  </tbody>\n",
       "</table>\n",
       "<p>5 rows × 61 columns</p>\n",
       "</div>"
      ],
      "text/plain": [
       "       comp1      comp2     comp3      comp4     comp5     comp6     comp7  \\\n",
       "0  -0.026369  -1.830329 -7.903487   1.643947 -2.474449  1.020061  2.788774   \n",
       "1  -1.109886  -7.786778  4.454236   0.001993 -3.393371  0.306154 -2.565075   \n",
       "2   5.265032  -1.634803  7.775393  -2.942013  3.965358 -5.699987 -2.972947   \n",
       "3  49.710585  24.756477  7.664821 -13.246366 -3.485137  4.062453  4.117190   \n",
       "4  -4.740560  -3.537532  6.306721  -3.066811 -3.022726  2.072264 -2.865394   \n",
       "\n",
       "      comp8     comp9    comp10  ...    comp52    comp53    comp54    comp55  \\\n",
       "0  1.553599 -2.535732 -1.206244  ...  0.216956  1.883162 -0.140266 -0.325158   \n",
       "1  4.043166  1.057393  3.038957  ... -0.362763 -0.431638  0.154056 -0.371731   \n",
       "2 -1.705638 -1.922867 -1.071082  ...  0.068009  0.829394 -0.209079 -1.240088   \n",
       "3 -4.986691 -0.529334 -0.489175  ... -0.561661  0.894434 -2.264003  0.236093   \n",
       "4  4.497930  0.736539  2.472531  ...  0.371608  0.691905 -1.390275 -0.134810   \n",
       "\n",
       "     comp56    comp57    comp58    comp59    comp60  pChemBL  \n",
       "0 -0.095970  0.108721  0.238440  0.749977  0.279397     6.82  \n",
       "1  0.574447 -0.172602  0.033124  0.443015  0.298328     7.64  \n",
       "2 -0.327736 -0.377044 -0.680622 -0.891741 -1.081944     4.30  \n",
       "3  0.626044 -1.681880  0.614291 -0.040679  0.293662     6.03  \n",
       "4 -1.710508  1.107623  0.321438  0.045225 -1.414249     6.42  \n",
       "\n",
       "[5 rows x 61 columns]"
      ]
     },
     "execution_count": 28,
     "metadata": {},
     "output_type": "execute_result"
    }
   ],
   "source": [
    "X_red['pChemBL'] = X['pChemBL']\n",
    "X_red.head()"
   ]
  },
  {
   "cell_type": "markdown",
   "metadata": {},
   "source": [
    "<h3>Creation of validation set</h3>"
   ]
  },
  {
   "cell_type": "code",
   "execution_count": 29,
   "metadata": {},
   "outputs": [
    {
     "data": {
      "text/html": [
       "<div>\n",
       "<style scoped>\n",
       "    .dataframe tbody tr th:only-of-type {\n",
       "        vertical-align: middle;\n",
       "    }\n",
       "\n",
       "    .dataframe tbody tr th {\n",
       "        vertical-align: top;\n",
       "    }\n",
       "\n",
       "    .dataframe thead th {\n",
       "        text-align: right;\n",
       "    }\n",
       "</style>\n",
       "<table border=\"1\" class=\"dataframe\">\n",
       "  <thead>\n",
       "    <tr style=\"text-align: right;\">\n",
       "      <th></th>\n",
       "      <th>comp1</th>\n",
       "      <th>comp2</th>\n",
       "      <th>comp3</th>\n",
       "      <th>comp4</th>\n",
       "      <th>comp5</th>\n",
       "      <th>comp6</th>\n",
       "      <th>comp7</th>\n",
       "      <th>comp8</th>\n",
       "      <th>comp9</th>\n",
       "      <th>comp10</th>\n",
       "      <th>...</th>\n",
       "      <th>comp52</th>\n",
       "      <th>comp53</th>\n",
       "      <th>comp54</th>\n",
       "      <th>comp55</th>\n",
       "      <th>comp56</th>\n",
       "      <th>comp57</th>\n",
       "      <th>comp58</th>\n",
       "      <th>comp59</th>\n",
       "      <th>comp60</th>\n",
       "      <th>pChemBL</th>\n",
       "    </tr>\n",
       "  </thead>\n",
       "  <tbody>\n",
       "    <tr>\n",
       "      <th>1655</th>\n",
       "      <td>5.058762</td>\n",
       "      <td>-10.921687</td>\n",
       "      <td>7.577268</td>\n",
       "      <td>-2.497916</td>\n",
       "      <td>1.461241</td>\n",
       "      <td>-2.028495</td>\n",
       "      <td>2.405866</td>\n",
       "      <td>2.799840</td>\n",
       "      <td>8.709023</td>\n",
       "      <td>4.110811</td>\n",
       "      <td>...</td>\n",
       "      <td>0.641599</td>\n",
       "      <td>0.656555</td>\n",
       "      <td>-0.148173</td>\n",
       "      <td>-2.977831</td>\n",
       "      <td>-0.435770</td>\n",
       "      <td>0.642606</td>\n",
       "      <td>-0.452627</td>\n",
       "      <td>0.748675</td>\n",
       "      <td>-1.137114</td>\n",
       "      <td>5.03</td>\n",
       "    </tr>\n",
       "    <tr>\n",
       "      <th>262</th>\n",
       "      <td>56.339827</td>\n",
       "      <td>27.181635</td>\n",
       "      <td>7.457601</td>\n",
       "      <td>-18.210805</td>\n",
       "      <td>-5.012342</td>\n",
       "      <td>1.589382</td>\n",
       "      <td>5.997553</td>\n",
       "      <td>-6.731744</td>\n",
       "      <td>-0.149957</td>\n",
       "      <td>-0.171269</td>\n",
       "      <td>...</td>\n",
       "      <td>-0.598763</td>\n",
       "      <td>-1.414050</td>\n",
       "      <td>-2.203325</td>\n",
       "      <td>-0.155926</td>\n",
       "      <td>-0.181025</td>\n",
       "      <td>-0.462497</td>\n",
       "      <td>-0.297557</td>\n",
       "      <td>1.451385</td>\n",
       "      <td>-3.184216</td>\n",
       "      <td>6.04</td>\n",
       "    </tr>\n",
       "    <tr>\n",
       "      <th>2606</th>\n",
       "      <td>-0.732374</td>\n",
       "      <td>-0.288411</td>\n",
       "      <td>-0.318048</td>\n",
       "      <td>-2.920262</td>\n",
       "      <td>10.981220</td>\n",
       "      <td>-3.344892</td>\n",
       "      <td>7.640611</td>\n",
       "      <td>3.312448</td>\n",
       "      <td>-5.137104</td>\n",
       "      <td>5.303468</td>\n",
       "      <td>...</td>\n",
       "      <td>0.771408</td>\n",
       "      <td>0.334204</td>\n",
       "      <td>-0.356801</td>\n",
       "      <td>0.043734</td>\n",
       "      <td>-0.915106</td>\n",
       "      <td>0.141936</td>\n",
       "      <td>1.032927</td>\n",
       "      <td>-0.529172</td>\n",
       "      <td>-0.166476</td>\n",
       "      <td>6.52</td>\n",
       "    </tr>\n",
       "    <tr>\n",
       "      <th>2392</th>\n",
       "      <td>0.004871</td>\n",
       "      <td>0.157434</td>\n",
       "      <td>-7.204873</td>\n",
       "      <td>-0.166537</td>\n",
       "      <td>-4.716886</td>\n",
       "      <td>-1.348453</td>\n",
       "      <td>-5.712406</td>\n",
       "      <td>-3.357466</td>\n",
       "      <td>-1.315251</td>\n",
       "      <td>3.166259</td>\n",
       "      <td>...</td>\n",
       "      <td>0.873583</td>\n",
       "      <td>0.830247</td>\n",
       "      <td>-0.123577</td>\n",
       "      <td>-0.391487</td>\n",
       "      <td>-0.643329</td>\n",
       "      <td>0.721529</td>\n",
       "      <td>0.134285</td>\n",
       "      <td>-0.189323</td>\n",
       "      <td>-0.170985</td>\n",
       "      <td>6.30</td>\n",
       "    </tr>\n",
       "    <tr>\n",
       "      <th>136</th>\n",
       "      <td>-8.962205</td>\n",
       "      <td>1.705393</td>\n",
       "      <td>3.703537</td>\n",
       "      <td>-3.103261</td>\n",
       "      <td>2.588986</td>\n",
       "      <td>0.402775</td>\n",
       "      <td>-2.573646</td>\n",
       "      <td>-7.034928</td>\n",
       "      <td>6.012201</td>\n",
       "      <td>0.755158</td>\n",
       "      <td>...</td>\n",
       "      <td>1.295802</td>\n",
       "      <td>-0.388533</td>\n",
       "      <td>-0.063824</td>\n",
       "      <td>-0.273677</td>\n",
       "      <td>-0.313499</td>\n",
       "      <td>0.980006</td>\n",
       "      <td>-0.449715</td>\n",
       "      <td>0.020727</td>\n",
       "      <td>0.061008</td>\n",
       "      <td>6.39</td>\n",
       "    </tr>\n",
       "  </tbody>\n",
       "</table>\n",
       "<p>5 rows × 61 columns</p>\n",
       "</div>"
      ],
      "text/plain": [
       "          comp1      comp2     comp3      comp4      comp5     comp6  \\\n",
       "1655   5.058762 -10.921687  7.577268  -2.497916   1.461241 -2.028495   \n",
       "262   56.339827  27.181635  7.457601 -18.210805  -5.012342  1.589382   \n",
       "2606  -0.732374  -0.288411 -0.318048  -2.920262  10.981220 -3.344892   \n",
       "2392   0.004871   0.157434 -7.204873  -0.166537  -4.716886 -1.348453   \n",
       "136   -8.962205   1.705393  3.703537  -3.103261   2.588986  0.402775   \n",
       "\n",
       "         comp7     comp8     comp9    comp10  ...    comp52    comp53  \\\n",
       "1655  2.405866  2.799840  8.709023  4.110811  ...  0.641599  0.656555   \n",
       "262   5.997553 -6.731744 -0.149957 -0.171269  ... -0.598763 -1.414050   \n",
       "2606  7.640611  3.312448 -5.137104  5.303468  ...  0.771408  0.334204   \n",
       "2392 -5.712406 -3.357466 -1.315251  3.166259  ...  0.873583  0.830247   \n",
       "136  -2.573646 -7.034928  6.012201  0.755158  ...  1.295802 -0.388533   \n",
       "\n",
       "        comp54    comp55    comp56    comp57    comp58    comp59    comp60  \\\n",
       "1655 -0.148173 -2.977831 -0.435770  0.642606 -0.452627  0.748675 -1.137114   \n",
       "262  -2.203325 -0.155926 -0.181025 -0.462497 -0.297557  1.451385 -3.184216   \n",
       "2606 -0.356801  0.043734 -0.915106  0.141936  1.032927 -0.529172 -0.166476   \n",
       "2392 -0.123577 -0.391487 -0.643329  0.721529  0.134285 -0.189323 -0.170985   \n",
       "136  -0.063824 -0.273677 -0.313499  0.980006 -0.449715  0.020727  0.061008   \n",
       "\n",
       "      pChemBL  \n",
       "1655     5.03  \n",
       "262      6.04  \n",
       "2606     6.52  \n",
       "2392     6.30  \n",
       "136      6.39  \n",
       "\n",
       "[5 rows x 61 columns]"
      ]
     },
     "execution_count": 29,
     "metadata": {},
     "output_type": "execute_result"
    },
    {
     "data": {
      "image/png": "[encoded data removed]",
      "text/plain": [
       "<Figure size 432x288 with 2 Axes>"
      ]
     },
     "metadata": {
      "needs_background": "light"
     },
     "output_type": "display_data"
    }
   ],
   "source": [
    "X_final, validate = np.split(X_red.sample(frac=1), [int(.8*len(X_new))])\n",
    "plt.subplot(1,2,1)\n",
    "plt.hist(X_final['pChemBL'])\n",
    "plt.subplot(1,2,2)\n",
    "plt.hist(validate['pChemBL'])\n",
    "X_final.head()"
   ]
  },
  {
   "cell_type": "markdown",
   "metadata": {},
   "source": [
    "<h3>Best Linear Model"
   ]
  },
  {
   "cell_type": "code",
   "execution_count": 66,
   "metadata": {},
   "outputs": [],
   "source": [
    "\n",
    "X_train, X_test, y_train, y_test = train_test_split(X_final.drop(columns=['pChemBL'],inplace=False), X_final['pChemBL'], test_size=0.2, random_state=42)"
   ]
  },
  {
   "cell_type": "code",
   "execution_count": 67,
   "metadata": {},
   "outputs": [
    {
     "name": "stdout",
     "output_type": "stream",
     "text": [
      "Test set results\n",
      "RMSE = 0.8357047269682706\t R^2 = 0.4504732858067208\n"
     ]
    }
   ],
   "source": [
    "model1 = LinearRegression()\n",
    "model1.fit(X_train,y_train)\n",
    "r_square = model1.score(X_test,y_test)\n",
    "rmse = np.sqrt(mean_squared_error(model1.predict(X_test),y_test))\n",
    "print(\"Test set results\\nRMSE = {}\\t R^2 = {}\".format(rmse,r_square))"
   ]
  },
  {
   "cell_type": "code",
   "execution_count": 68,
   "metadata": {},
   "outputs": [
    {
     "name": "stdout",
     "output_type": "stream",
     "text": [
      "Validation set results\n",
      "RMSE = 0.8279202850568418\t R^2 = 0.44270860884654906\n"
     ]
    }
   ],
   "source": [
    "r_square = model1.score(validate.drop(columns=['pChemBL'],inplace=False),validate['pChemBL'])\n",
    "rmse = np.sqrt(mean_squared_error(validate['pChemBL'],model1.predict(validate.drop(columns=['pChemBL'],inplace=False))))\n",
    "print(\"Validation set results\\nRMSE = {}\\t R^2 = {}\".format(rmse,r_square))"
   ]
  },
  {
   "cell_type": "markdown",
   "metadata": {},
   "source": [
    "<h4>Ridge Regression</h4>"
   ]
  },
  {
   "cell_type": "code",
   "execution_count": 89,
   "metadata": {},
   "outputs": [],
   "source": [
    "rr = Ridge(alpha=0.001)\n",
    "rr1 = Ridge(alpha=1)\n",
    "rr2 = Ridge(alpha=1000)"
   ]
  },
  {
   "cell_type": "code",
   "execution_count": 90,
   "metadata": {},
   "outputs": [
    {
     "data": {
      "text/plain": [
       "Ridge(alpha=1000, copy_X=True, fit_intercept=True, max_iter=None,\n",
       "   normalize=False, random_state=None, solver='auto', tol=0.001)"
      ]
     },
     "execution_count": 90,
     "metadata": {},
     "output_type": "execute_result"
    }
   ],
   "source": [
    "rr.fit(X_train,y_train)\n",
    "rr1.fit(X_train,y_train)\n",
    "rr2.fit(X_train,y_train)"
   ]
  },
  {
   "cell_type": "code",
   "execution_count": 91,
   "metadata": {},
   "outputs": [
    {
     "name": "stdout",
     "output_type": "stream",
     "text": [
      "Test set results\n",
      "RMSE = 0.8357047269682708\t R^2 = 0.45047328580672075\n",
      "Test set results\n",
      "RMSE = 0.8356657848001053\t R^2 = 0.4505244983042258\n",
      "Test set results\n",
      "RMSE = 0.8293743939193905\t R^2 = 0.4587669133330584\n"
     ]
    }
   ],
   "source": [
    "r_square = rr.score(X_test,y_test)\n",
    "rmse = np.sqrt(mean_squared_error(rr.predict(X_test),y_test))\n",
    "print(\"Test set results\\nRMSE = {}\\t R^2 = {}\".format(rmse,r_square))\n",
    "r_square = rr1.score(X_test,y_test)\n",
    "rmse = np.sqrt(mean_squared_error(rr1.predict(X_test),y_test))\n",
    "print(\"Test set results\\nRMSE = {}\\t R^2 = {}\".format(rmse,r_square))\n",
    "r_square = rr2.score(X_test,y_test)\n",
    "rmse = np.sqrt(mean_squared_error(rr2.predict(X_test),y_test))\n",
    "print(\"Test set results\\nRMSE = {}\\t R^2 = {}\".format(rmse,r_square))"
   ]
  },
  {
   "cell_type": "code",
   "execution_count": 92,
   "metadata": {},
   "outputs": [
    {
     "name": "stdout",
     "output_type": "stream",
     "text": [
      "Validation set results\n",
      "RMSE = 0.8280666633991377\t R^2 = 0.44251153044938907\n"
     ]
    }
   ],
   "source": [
    "r_square = rr2.score(validate.drop(columns=['pChemBL'],inplace=False),validate['pChemBL'])\n",
    "rmse = np.sqrt(mean_squared_error(validate['pChemBL'],rr2.predict(validate.drop(columns=['pChemBL'],inplace=False))))\n",
    "print(\"Validation set results\\nRMSE = {}\\t R^2 = {}\".format(rmse,r_square))"
   ]
  },
  {
   "cell_type": "markdown",
   "metadata": {},
   "source": [
    "<b>Conclusion:</b> alpha=1000 gives best RMSE and R^2 values. Scanned from 0 to 10000"
   ]
  },
  {
   "cell_type": "markdown",
   "metadata": {},
   "source": [
    "<h4>Lasso Regression</h4>"
   ]
  },
  {
   "cell_type": "code",
   "execution_count": 109,
   "metadata": {},
   "outputs": [],
   "source": [
    "l = Lasso(alpha=0.001)\n",
    "l1 = Lasso(alpha=0.1)\n",
    "l2 = Lasso(alpha=0.01)"
   ]
  },
  {
   "cell_type": "code",
   "execution_count": 110,
   "metadata": {},
   "outputs": [
    {
     "data": {
      "text/plain": [
       "Lasso(alpha=0.01, copy_X=True, fit_intercept=True, max_iter=1000,\n",
       "   normalize=False, positive=False, precompute=False, random_state=None,\n",
       "   selection='cyclic', tol=0.0001, warm_start=False)"
      ]
     },
     "execution_count": 110,
     "metadata": {},
     "output_type": "execute_result"
    }
   ],
   "source": [
    "l.fit(X_train,y_train)\n",
    "l1.fit(X_train,y_train)\n",
    "l2.fit(X_train,y_train)"
   ]
  },
  {
   "cell_type": "code",
   "execution_count": 111,
   "metadata": {},
   "outputs": [
    {
     "name": "stdout",
     "output_type": "stream",
     "text": [
      "Test set results\n",
      "RMSE = 0.8349550071563806\t R^2 = 0.4514588163432105\n",
      "Test set results\n",
      "RMSE = 0.8803567077646003\t R^2 = 0.39018170747526015\n",
      "Test set results\n",
      "RMSE = 0.8300233749502883\t R^2 = 0.45791955794146744\n"
     ]
    }
   ],
   "source": [
    "r_square = l.score(X_test,y_test)\n",
    "rmse = np.sqrt(mean_squared_error(l.predict(X_test),y_test))\n",
    "print(\"Test set results\\nRMSE = {}\\t R^2 = {}\".format(rmse,r_square))\n",
    "r_square = l1.score(X_test,y_test)\n",
    "rmse = np.sqrt(mean_squared_error(l1.predict(X_test),y_test))\n",
    "print(\"Test set results\\nRMSE = {}\\t R^2 = {}\".format(rmse,r_square))\n",
    "r_square = l2.score(X_test,y_test)\n",
    "rmse = np.sqrt(mean_squared_error(l2.predict(X_test),y_test))\n",
    "print(\"Test set results\\nRMSE = {}\\t R^2 = {}\".format(rmse,r_square))"
   ]
  },
  {
   "cell_type": "code",
   "execution_count": 112,
   "metadata": {},
   "outputs": [
    {
     "name": "stdout",
     "output_type": "stream",
     "text": [
      "Validation set results\n",
      "RMSE = 0.8241645583518988\t R^2 = 0.4477532655414225\n"
     ]
    }
   ],
   "source": [
    "r_square = l2.score(validate.drop(columns=['pChemBL'],inplace=False),validate['pChemBL'])\n",
    "rmse = np.sqrt(mean_squared_error(validate['pChemBL'],l2.predict(validate.drop(columns=['pChemBL'],inplace=False))))\n",
    "print(\"Validation set results\\nRMSE = {}\\t R^2 = {}\".format(rmse,r_square))"
   ]
  },
  {
   "cell_type": "markdown",
   "metadata": {},
   "source": [
    "<b>Conclusion:</b>Best alpha=0.01(scanned from 0 to 1000)"
   ]
  },
  {
   "cell_type": "code",
   "execution_count": 69,
   "metadata": {},
   "outputs": [
    {
     "data": {
      "text/plain": [
       "5.934418106078555"
      ]
     },
     "execution_count": 69,
     "metadata": {},
     "output_type": "execute_result"
    }
   ],
   "source": [
    "correlations = X_red.corr()\n",
    "np.linalg.cond(correlations)"
   ]
  },
  {
   "cell_type": "code",
   "execution_count": 70,
   "metadata": {},
   "outputs": [],
   "source": [
    "u, s, v = np.linalg.svd(X_red.drop(columns='pChemBL',inplace = False))"
   ]
  },
  {
   "cell_type": "code",
   "execution_count": 71,
   "metadata": {},
   "outputs": [
    {
     "data": {
      "image/png": "[encoded data removed]",
      "text/plain": [
       "<Figure size 432x288 with 1 Axes>"
      ]
     },
     "metadata": {
      "needs_background": "light"
     },
     "output_type": "display_data"
    },
    {
     "name": "stdout",
     "output_type": "stream",
     "text": [
      "[7.9988486  6.21035135 4.95352992 4.3747847  3.65013119 3.29224129\n",
      " 3.22250684 3.09325766 2.81071846 2.52289856 2.46325555 2.41216662\n",
      " 2.27533672 2.18361937 1.96770747 1.95137446 1.86655073 1.78320324\n",
      " 1.67962289 1.58799504 1.54987921 1.48526261 1.44247001 1.39965977\n",
      " 1.34372369 1.31407665 1.25128926 1.21866467 1.14403518 1.1261577\n",
      " 1.10223745 1.0584257  1.05449182 1.01990582 0.99891573 0.97297138\n",
      " 0.95570745 0.92932281 0.92077503 0.89270132 0.88901359 0.83066164\n",
      " 0.81353684 0.80994523 0.7823094  0.77344595 0.76365332 0.75363348\n",
      " 0.72701507 0.72653551 0.71803362 0.70970794 0.69069709 0.67554667\n",
      " 0.66520061 0.65643889 0.65331267 0.64041317 0.62737394 0.61275146]\n"
     ]
    }
   ],
   "source": [
    "plt.plot(range(len(s)),s/sum(s))\n",
    "plt.show()\n",
    "print(s/sum(s)*100)"
   ]
  },
  {
   "cell_type": "code",
   "execution_count": 130,
   "metadata": {},
   "outputs": [],
   "source": [
    "X_red2 = u[:,:20] @ np.diag(s[:20]) @ v[:20,:]\n",
    "X_red2 = pd.DataFrame(data=X_red2,columns=X_red.drop(columns='pChemBL',inplace=False).columns)"
   ]
  },
  {
   "cell_type": "markdown",
   "metadata": {},
   "source": [
    "<h4>Linear model-4 (after SVD)"
   ]
  },
  {
   "cell_type": "code",
   "execution_count": 135,
   "metadata": {},
   "outputs": [
    {
     "name": "stdout",
     "output_type": "stream",
     "text": [
      "Test set results\n",
      "RMSE = 0.9594146665419837\t R^2 = 0.31256545240402756\n"
     ]
    }
   ],
   "source": [
    "X_train, X_test, y_train, y_test = train_test_split(X_red2, X['pChemBL'], test_size=0.2, random_state=42)\n",
    "model1 = LinearRegression()\n",
    "model1.fit(X_train,y_train)\n",
    "r_square = model1.score(X_test,y_test)\n",
    "rmse = np.sqrt(mean_squared_error(model1.predict(X_test),y_test))\n",
    "print(\"Test set results\\nRMSE = {}\\t R^2 = {}\".format(rmse,r_square))"
   ]
  },
  {
   "cell_type": "markdown",
   "metadata": {},
   "source": [
    "<h3>Random Forest Regressor</h3>\n",
    "Dataset used: 60 component PCA"
   ]
  },
  {
   "cell_type": "code",
   "execution_count": 79,
   "metadata": {},
   "outputs": [
    {
     "data": {
      "text/plain": [
       "RandomForestRegressor(bootstrap=True, criterion='mse', max_depth=None,\n",
       "           max_features='auto', max_leaf_nodes=None,\n",
       "           min_impurity_decrease=0.0, min_impurity_split=None,\n",
       "           min_samples_leaf=1, min_samples_split=2,\n",
       "           min_weight_fraction_leaf=0.0, n_estimators=250, n_jobs=None,\n",
       "           oob_score=False, random_state=None, verbose=0, warm_start=False)"
      ]
     },
     "execution_count": 79,
     "metadata": {},
     "output_type": "execute_result"
    }
   ],
   "source": [
    "from sklearn.ensemble import RandomForestRegressor\n",
    "model2 = RandomForestRegressor(n_estimators= 250)\n",
    "X_train, X_test, y_train, y_test = train_test_split(X_final.drop(columns=['pChemBL'],inplace=False), X_final['pChemBL'], test_size=0.2, random_state=42)\n",
    "model2.fit(X_train,y_train)"
   ]
  },
  {
   "cell_type": "code",
   "execution_count": 80,
   "metadata": {},
   "outputs": [
    {
     "data": {
      "text/plain": [
       "(2288, 61)"
      ]
     },
     "execution_count": 80,
     "metadata": {},
     "output_type": "execute_result"
    }
   ],
   "source": [
    "X_final.shape"
   ]
  },
  {
   "cell_type": "code",
   "execution_count": 81,
   "metadata": {},
   "outputs": [
    {
     "name": "stdout",
     "output_type": "stream",
     "text": [
      "Test set results\n",
      "RMSE = 0.7459983505291639\t R^2 = 0.5892647086467816\n",
      "Validation set results\n",
      "RMSE = 0.7247339420088617\t R^2 = 0.6252830917056436\n"
     ]
    }
   ],
   "source": [
    "r_square = model2.score(X_test,y_test)\n",
    "rmse = np.sqrt(mean_squared_error(model2.predict(X_test),y_test))\n",
    "print(\"Test set results\\nRMSE = {}\\t R^2 = {}\".format(rmse,r_square))\n",
    "r_square = model2.score(validate.drop(columns=['pChemBL'],inplace=False),validate['pChemBL'])\n",
    "rmse = np.sqrt(mean_squared_error(validate['pChemBL'],model2.predict(validate.drop(columns=['pChemBL'],inplace=False))))\n",
    "print(\"Validation set results\\nRMSE = {}\\t R^2 = {}\".format(rmse,r_square))"
   ]
  },
  {
   "cell_type": "code",
   "execution_count": 72,
   "metadata": {},
   "outputs": [],
   "source": [
    "pickle.dump(model2, open('./saved_models.pkl', 'wb'))\n",
    "with open(\"./saved_models/drop2.txt\",\"wb\") as fp:\n",
    "    pickle.dump(bad_cols2,fp)"
   ]
  },
  {
   "cell_type": "code",
   "execution_count": 74,
   "metadata": {},
   "outputs": [
    {
     "data": {
      "text/plain": [
       "0.5822062118987668"
      ]
     },
     "execution_count": 74,
     "metadata": {},
     "output_type": "execute_result"
    }
   ],
   "source": [
    "Pkl_Filename = './saved_models/predictor.pkl'\n",
    "with open(Pkl_Filename, 'wb') as file:  \n",
    "    pickle.dump(model2, file)\n",
    "with open(Pkl_Filename, 'rb') as file:  \n",
    "    Pickled_Model = pickle.load(file)\n",
    "Pickled_Model.score(X_test,y_test)"
   ]
  },
  {
   "cell_type": "code",
   "execution_count": 41,
   "metadata": {},
   "outputs": [],
   "source": [
    "import pickle\n",
    "with open('./saved_models/predictor.pkl','rb') as fp:\n",
    "    pp = pickle.load(fp)\n",
    "X_red.sort_values(by=['pChemBL'],ascending=False,inplace=True)\n",
    "prediction = pp.predict(X_red.drop(columns='pChemBL',inplace=False))"
   ]
  },
  {
   "cell_type": "code",
   "execution_count": 42,
   "metadata": {},
   "outputs": [
    {
     "data": {
      "text/plain": [
       "[<matplotlib.lines.Line2D at 0x1d7c7057470>]"
      ]
     },
     "execution_count": 42,
     "metadata": {},
     "output_type": "execute_result"
    },
    {
     "data": {
      "image/png": "[encoded data removed]",
      "text/plain": [
       "<Figure size 432x288 with 1 Axes>"
      ]
     },
     "metadata": {
      "needs_background": "light"
     },
     "output_type": "display_data"
    }
   ],
   "source": [
    "plt.plot(X_red['pChemBL'])\n",
    "#plt.plot(range(1,len(prediction)+1),prediction,'x')"
   ]
  },
  {
   "cell_type": "markdown",
   "metadata": {},
   "source": [
    "<h3>Optimising PCA</h3>"
   ]
  },
  {
   "cell_type": "code",
   "execution_count": 304,
   "metadata": {},
   "outputs": [
    {
     "name": "stdout",
     "output_type": "stream",
     "text": [
      "(2861, 1211)\n"
     ]
    },
    {
     "name": "stderr",
     "output_type": "stream",
     "text": [
      "C:\\Users\\HP\\Anaconda3\\lib\\site-packages\\sklearn\\preprocessing\\data.py:625: DataConversionWarning: Data with input dtype int64, float64 were all converted to float64 by StandardScaler.\n",
      "  return self.partial_fit(X, y)\n",
      "C:\\Users\\HP\\Anaconda3\\lib\\site-packages\\ipykernel_launcher.py:8: DataConversionWarning: Data with input dtype int64, float64 were all converted to float64 by StandardScaler.\n",
      "  \n"
     ]
    }
   ],
   "source": [
    "X = pd.read_csv('./no_zeros_no_chembl.csv')\n",
    "print(X.shape)\n",
    "y = X['pChemBL']\n",
    "X.drop(columns='pChemBL',inplace = True)\n",
    "from sklearn.preprocessing import StandardScaler\n",
    "scaler = StandardScaler(copy=True)\n",
    "scaler.fit(X)\n",
    "X2 = scaler.transform(X)#.drop(columns=['ChemBLID'],inplace=False))\n",
    "X = pd.DataFrame(data=X2,columns=X.columns)"
   ]
  },
  {
   "cell_type": "code",
   "execution_count": 232,
   "metadata": {},
   "outputs": [],
   "source": [
    "u, s, v = np.linalg.svd(X)\n",
    "sums = [s[0]]\n",
    "for i in range(1,len(s)):\n",
    "        sums.append(sums[i-1]+s[i])\n",
    "sums = sums/sum(s)"
   ]
  },
  {
   "cell_type": "code",
   "execution_count": 233,
   "metadata": {},
   "outputs": [
    {
     "data": {
      "text/plain": [
       "[<matplotlib.lines.Line2D at 0x2dd2002f3c8>]"
      ]
     },
     "execution_count": 233,
     "metadata": {},
     "output_type": "execute_result"
    },
    {
     "data": {
      "image/png": "[encoded data removed]",
      "text/plain": [
       "<Figure size 432x288 with 1 Axes>"
      ]
     },
     "metadata": {
      "needs_background": "light"
     },
     "output_type": "display_data"
    }
   ],
   "source": [
    "plt.plot(range(1,len(sums)+1),sums)"
   ]
  },
  {
   "cell_type": "code",
   "execution_count": 230,
   "metadata": {},
   "outputs": [
    {
     "data": {
      "text/plain": [
       "1.0"
      ]
     },
     "execution_count": 230,
     "metadata": {},
     "output_type": "execute_result"
    }
   ],
   "source": [
    "X['pChemBL'] = y\n",
    "sums[1210]"
   ]
  },
  {
   "cell_type": "code",
   "execution_count": 247,
   "metadata": {},
   "outputs": [
    {
     "name": "stdout",
     "output_type": "stream",
     "text": [
      "[205, 210, 215, 220, 225, 230, 235, 240, 245, 250, 255, 260, 265, 270, 275, 280, 285, 290, 295]\n"
     ]
    }
   ],
   "source": [
    "compss = []\n",
    "for i in range(205,300):\n",
    "    if(i%5==0):\n",
    "        compss.append(i)\n",
    "print(compss)"
   ]
  },
  {
   "cell_type": "code",
   "execution_count": 249,
   "metadata": {
    "scrolled": true
   },
   "outputs": [
    {
     "name": "stdout",
     "output_type": "stream",
     "text": [
      "Test set 205 results\n",
      "RMSE = 10.655629855218999\t R^2 = -81.63832583963884\n",
      "Test set 210 results\n",
      "RMSE = 0.777847465324429\t R^2 = 0.550274120146212\n",
      "Test set 215 results\n",
      "RMSE = 0.8050139185067158\t R^2 = 0.5250940309314437\n",
      "Test set 220 results\n",
      "RMSE = 0.7748794160020659\t R^2 = 0.5908477342724459\n",
      "Test set 225 results\n",
      "RMSE = 1.0902629679750702\t R^2 = 0.1606885079484921\n",
      "Test set 230 results\n",
      "RMSE = 1.1640211745683546\t R^2 = 0.08725217597647904\n",
      "Test set 235 results\n",
      "RMSE = 0.8498461772792737\t R^2 = 0.45737005826486826\n",
      "Test set 240 results\n",
      "RMSE = 1.3722446412364473\t R^2 = -0.4163199297917859\n",
      "Test set 245 results\n",
      "RMSE = 35.00518009920438\t R^2 = -947.6119450608967\n",
      "Test set 250 results\n",
      "RMSE = 0.9731624649414706\t R^2 = 0.2859745942177079\n",
      "Test set 255 results\n",
      "RMSE = 0.7501324289313824\t R^2 = 0.569781633733459\n",
      "Test set 260 results\n",
      "RMSE = 1.4839285718215023\t R^2 = -0.5681837046063922\n",
      "Test set 265 results\n",
      "RMSE = 1.7348885927595128\t R^2 = -1.294839985447962\n",
      "Test set 270 results\n",
      "RMSE = 4.322371923728247\t R^2 = -12.899997069623675\n",
      "Test set 275 results\n",
      "RMSE = 0.8596669075804373\t R^2 = 0.48876979065309045\n",
      "Test set 280 results\n",
      "RMSE = 0.8435570710267368\t R^2 = 0.4765982294513697\n",
      "Test set 285 results\n",
      "RMSE = 0.81297306241885\t R^2 = 0.5161233424353223\n",
      "Test set 290 results\n",
      "RMSE = 0.7924749594253366\t R^2 = 0.526416053292678\n",
      "Test set 295 results\n",
      "RMSE = 0.8107382805878557\t R^2 = 0.5006056403341441\n"
     ]
    }
   ],
   "source": [
    "RMSEs = []\n",
    "RSQUAREs = []\n",
    "for comps in compss:\n",
    "    pca = PCA(n_components=comps)\n",
    "    principalComponents = pca.fit_transform(X.drop(columns=['pChemBL'],inplace=False))\n",
    "    cols = []\n",
    "    for i in range(comps):\n",
    "        cols.append('comp'+str(i+1))\n",
    "    X_red = pd.DataFrame(data=principalComponents, columns=cols)\n",
    "    X_red['pChemBL'] = X['pChemBL']\n",
    "    X_final, validate = np.split(X_red.sample(frac=1), [int(.9*len(X_red))])\n",
    "    X_train, X_test, y_train, y_test = train_test_split(X_final.drop(columns=['pChemBL'],inplace=False), X_final['pChemBL'], test_size=0.2, random_state=42)\n",
    "    model1 = LinearRegression()\n",
    "    model1.fit(X_train,y_train)\n",
    "    r_square = model1.score(X_test,y_test)\n",
    "    rmse = np.sqrt(mean_squared_error(model1.predict(X_test),y_test))\n",
    "    print(\"Test set {} results\\nRMSE = {}\\t R^2 = {}\".format(comps,rmse,r_square))\n",
    "    RMSEs.append(rmse)\n",
    "    RSQUAREs.append(r_square)"
   ]
  },
  {
   "cell_type": "code",
   "execution_count": 306,
   "metadata": {},
   "outputs": [
    {
     "name": "stdout",
     "output_type": "stream",
     "text": [
      "Test set 220 results\n",
      "RMSE = 0.7844385580296086\t R^2 = 0.48211972206721093\n"
     ]
    }
   ],
   "source": [
    "comps = 220\n",
    "\n",
    "pca = PCA(n_components=comps)\n",
    "principalComponents = pca.fit_transform(X)\n",
    "cols = []\n",
    "for i in range(comps):\n",
    "    cols.append('comp'+str(i+1))\n",
    "X_red = pd.DataFrame(data=principalComponents, columns=cols)\n",
    "X_red['pChemBL'] = y\n",
    "X_final, validate = np.split(X_red.sample(frac=1), [int(.9*len(X_red))])\n",
    "X_train, X_test, y_train, y_test = train_test_split(X_final.drop(columns=['pChemBL'],inplace=False), X_final['pChemBL'], test_size=0.2, random_state=42)\n",
    "model1 = LinearRegression()\n",
    "model1.fit(X_train,y_train)\n",
    "r_square = model1.score(X_test,y_test)\n",
    "rmse = np.sqrt(mean_squared_error(model1.predict(X_test),y_test))\n",
    "print(\"Test set {} results\\nRMSE = {}\\t R^2 = {}\".format(comps,rmse,r_square))\n",
    "RMSEs.append(rmse)\n",
    "RSQUAREs.append(r_square)"
   ]
  },
  {
   "cell_type": "markdown",
   "metadata": {},
   "source": [
    "<h4>Steps</h4>\n",
    "<ol>\n",
    "    <li>Scanned between 200 and 600 components-200to 300 best range; best current value-270</li>\n",
    "    <li></li>\n",
    "    <li></li>\n",
    "    <li></li>\n",
    "<ol>"
   ]
  },
  {
   "cell_type": "code",
   "execution_count": 244,
   "metadata": {},
   "outputs": [
    {
     "name": "stdout",
     "output_type": "stream",
     "text": [
      "[-12.48965624444502, 0.4698637044581088, 0.49432098503613453, 0.2877255309229182, 0.5066996776435349, -137.94311934329238, -126.7380460286967, -2.3991198363432584, 0.5339739282766565, -1.5998148437466115, -3.5290301317457047, 0.22650860171835374, -1.546871271176174, 0.552852253207766, -6.021329136219571, -16.889078387954854, -33.288973021781004, -268.8280503547565, 0.5479995159362296, 0.5447862481113162, -3.4998404158384284, 0.37467215338205784, 0.3612257221162466, 0.506241181751081, -14.848358207704724, -62.13444145979891, 0.5233319004079454, -2.1012054103539763, -112.37311596857514, -6.966908403394978, -2.5122505217138866, 0.4008098326013475, -17.307965547873856, -1413.7777439869428, -0.09924998709729381, 0.5466281436117173, -36.09645195575285, -33.208131914246636, 0.553445535747684, -13387.297013950643, -102.67142992079691, 0.5171192186896595, 0.4198042163762725, -23.452538912239454, -386.7944544063501, 0.46955088841187825, 0.4441795614522081, -7.187205700691073, 0.525535265767203, -38.49144632147589, -352.0430393165926]\n"
     ]
    }
   ],
   "source": [
    "print(RSQUAREs)"
   ]
  },
  {
   "cell_type": "code",
   "execution_count": 307,
   "metadata": {},
   "outputs": [
    {
     "name": "stdout",
     "output_type": "stream",
     "text": [
      "Test set results\n",
      "RMSE = 0.7584178712514936\t R^2 = 0.5159072001189291\n",
      "Validation set results\n",
      "RMSE = 0.7897069517351748\t R^2 = 0.5681427171462918\n"
     ]
    }
   ],
   "source": [
    "from sklearn.ensemble import RandomForestRegressor\n",
    "model2 = RandomForestRegressor(n_estimators= 250)\n",
    "X_train, X_test, y_train, y_test = train_test_split(X_final.drop(columns=['pChemBL'],inplace=False), X_final['pChemBL'], test_size=0.2, random_state=42)\n",
    "model2.fit(X_train,y_train)\n",
    "r_square = model2.score(X_test,y_test)\n",
    "rmse = np.sqrt(mean_squared_error(model2.predict(X_test),y_test))\n",
    "print(\"Test set results\\nRMSE = {}\\t R^2 = {}\".format(rmse,r_square))\n",
    "r_square = model2.score(validate.drop(columns=['pChemBL'],inplace=False),validate['pChemBL'])\n",
    "rmse = np.sqrt(mean_squared_error(validate['pChemBL'],model2.predict(validate.drop(columns=['pChemBL'],inplace=False))))\n",
    "print(\"Validation set results\\nRMSE = {}\\t R^2 = {}\".format(rmse,r_square))"
   ]
  },
  {
   "cell_type": "markdown",
   "metadata": {},
   "source": [
    "<b>Conclusion</b>: Not helping much"
   ]
  },
  {
   "cell_type": "markdown",
   "metadata": {},
   "source": [
    "<h2>Final Best Results</h2>:\n",
    "<ol>\n",
    "    <li>RFR:<br>\n",
    "       Test set results<br>\n",
    "        RMSE = 0.743 R^2 = 0.566<br>\n",
    "       Validation set results<br>\n",
    "       RMSE = 0.714\t R^2 = 0.585\n",
    "    </li>\n",
    "    <li>Linear Model(Lasso, alpha=0.01)<br>\n",
    "            Validation set results<br>\n",
    "            RMSE = 0.824\t R^2 = 0.448\n",
    "    </li>"
   ]
  },
  {
   "cell_type": "code",
   "execution_count": null,
   "metadata": {},
   "outputs": [],
   "source": []
  }
 ],
 "metadata": {
  "kernelspec": {
   "display_name": "Python 3",
   "language": "python",
   "name": "python3"
  },
  "language_info": {
   "codemirror_mode": {
    "name": "ipython",
    "version": 3
   },
   "file_extension": ".py",
   "mimetype": "text/x-python",
   "name": "python",
   "nbconvert_exporter": "python",
   "pygments_lexer": "ipython3",
   "version": "3.7.3"
  }
 },
 "nbformat": 4,
 "nbformat_minor": 2
}
