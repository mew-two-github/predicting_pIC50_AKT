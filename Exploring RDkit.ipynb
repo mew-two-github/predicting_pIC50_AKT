{
 "cells": [
  {
   "cell_type": "code",
   "execution_count": 2,
   "metadata": {},
   "outputs": [],
   "source": [
    "import pandas as pd\n",
    "import numpy as np\n",
    "import matplotlib.pyplot as plt\n",
    "from rdkit import Chem as ch"
   ]
  },
  {
   "cell_type": "code",
   "execution_count": 4,
   "metadata": {},
   "outputs": [],
   "source": [
    "df1 = pd.read_csv(\".\\\\Data from CHEMBL\\\\AKT_B_act_789.tsv\",sep='\\t')\n",
    "df2 = pd.read_csv(\".\\\\Data from CHEMBL\\\\AKT_B_act_5431.tsv\",sep='\\t')\n",
    "df3 = pd.read_csv(\".\\\\Data from CHEMBL\\\\AKT_B_act_0.tsv\",sep='\\t')\n",
    "df4 = pd.read_csv(\".\\\\Data from CHEMBL\\\\AKT_F_act.tsv\",sep='\\t')"
   ]
  },
  {
   "cell_type": "code",
   "execution_count": 4,
   "metadata": {},
   "outputs": [],
   "source": [
    "CHEM = pd.read_csv(\".\\\\Data from CHEMBL\\\\old stuff\\\\AKT_binding_8activities.tsv\",sep=None,engine=\"python\")"
   ]
  },
  {
   "cell_type": "code",
   "execution_count": 5,
   "metadata": {},
   "outputs": [
    {
     "data": {
      "text/html": [
       "<div>\n",
       "<style scoped>\n",
       "    .dataframe tbody tr th:only-of-type {\n",
       "        vertical-align: middle;\n",
       "    }\n",
       "\n",
       "    .dataframe tbody tr th {\n",
       "        vertical-align: top;\n",
       "    }\n",
       "\n",
       "    .dataframe thead th {\n",
       "        text-align: right;\n",
       "    }\n",
       "</style>\n",
       "<table border=\"1\" class=\"dataframe\">\n",
       "  <thead>\n",
       "    <tr style=\"text-align: right;\">\n",
       "      <th></th>\n",
       "      <th>Molecule ChEMBL ID</th>\n",
       "      <th>Molecule Name</th>\n",
       "      <th>Molecule Max Phase</th>\n",
       "      <th>Molecular Weight</th>\n",
       "      <th>#RO5 Violations</th>\n",
       "      <th>AlogP</th>\n",
       "      <th>Compound Key</th>\n",
       "      <th>Smiles</th>\n",
       "      <th>Standard Type</th>\n",
       "      <th>Standard Relation</th>\n",
       "      <th>...</th>\n",
       "      <th>Target ChEMBL ID</th>\n",
       "      <th>Target Name</th>\n",
       "      <th>Target Organism</th>\n",
       "      <th>Target Type</th>\n",
       "      <th>Document ChEMBL ID</th>\n",
       "      <th>Source ID</th>\n",
       "      <th>Source Description</th>\n",
       "      <th>Document Journal</th>\n",
       "      <th>Document Year</th>\n",
       "      <th>Cell ChEMBL ID</th>\n",
       "    </tr>\n",
       "  </thead>\n",
       "  <tbody>\n",
       "    <tr>\n",
       "      <th>0</th>\n",
       "      <td>CHEMBL1254432</td>\n",
       "      <td>NaN</td>\n",
       "      <td>0</td>\n",
       "      <td>337.33</td>\n",
       "      <td>0.0</td>\n",
       "      <td>-0.15</td>\n",
       "      <td>5, PUG-NAc</td>\n",
       "      <td>CC(=O)N[C@@H]1/C(=N/OC(=O)Nc2ccccc2)CO[C@H](CO...</td>\n",
       "      <td>Activity</td>\n",
       "      <td>NaN</td>\n",
       "      <td>...</td>\n",
       "      <td>CHEMBL4282</td>\n",
       "      <td>Serine/threonine-protein kinase AKT</td>\n",
       "      <td>Homo sapiens</td>\n",
       "      <td>SINGLE PROTEIN</td>\n",
       "      <td>CHEMBL1250539</td>\n",
       "      <td>1</td>\n",
       "      <td>Scientific Literature</td>\n",
       "      <td>Bioorg. Med. Chem.</td>\n",
       "      <td>2010</td>\n",
       "      <td>NaN</td>\n",
       "    </tr>\n",
       "    <tr>\n",
       "      <th>1</th>\n",
       "      <td>CHEMBL219557</td>\n",
       "      <td>NaN</td>\n",
       "      <td>0</td>\n",
       "      <td>552.46</td>\n",
       "      <td>2.0</td>\n",
       "      <td>6.18</td>\n",
       "      <td>10, SKI-758</td>\n",
       "      <td>COc1cc(Nc2c(C#N)cnc3cc(-c4coc(CN5CCN(C)CC5)c4)...</td>\n",
       "      <td>IC50</td>\n",
       "      <td>'&gt;'</td>\n",
       "      <td>...</td>\n",
       "      <td>CHEMBL4282</td>\n",
       "      <td>Serine/threonine-protein kinase AKT</td>\n",
       "      <td>Homo sapiens</td>\n",
       "      <td>SINGLE PROTEIN</td>\n",
       "      <td>CHEMBL1138859</td>\n",
       "      <td>1</td>\n",
       "      <td>Scientific Literature</td>\n",
       "      <td>J. Med. Chem.</td>\n",
       "      <td>2006</td>\n",
       "      <td>NaN</td>\n",
       "    </tr>\n",
       "    <tr>\n",
       "      <th>2</th>\n",
       "      <td>CHEMBL1253585</td>\n",
       "      <td>NaN</td>\n",
       "      <td>0</td>\n",
       "      <td>266.15</td>\n",
       "      <td>NaN</td>\n",
       "      <td>NaN</td>\n",
       "      <td>2, Glc-NAc-selenazoline</td>\n",
       "      <td>CC1=N[C@H]2[C@H](O[C@H](CO)[C@@H](O)[C@@H]2O)[...</td>\n",
       "      <td>Activity</td>\n",
       "      <td>NaN</td>\n",
       "      <td>...</td>\n",
       "      <td>CHEMBL4282</td>\n",
       "      <td>Serine/threonine-protein kinase AKT</td>\n",
       "      <td>Homo sapiens</td>\n",
       "      <td>SINGLE PROTEIN</td>\n",
       "      <td>CHEMBL1250539</td>\n",
       "      <td>1</td>\n",
       "      <td>Scientific Literature</td>\n",
       "      <td>Bioorg. Med. Chem.</td>\n",
       "      <td>2010</td>\n",
       "      <td>NaN</td>\n",
       "    </tr>\n",
       "    <tr>\n",
       "      <th>3</th>\n",
       "      <td>CHEMBL406375</td>\n",
       "      <td>NaN</td>\n",
       "      <td>0</td>\n",
       "      <td>234.26</td>\n",
       "      <td>0.0</td>\n",
       "      <td>3.98</td>\n",
       "      <td>K00035, GTP-14564</td>\n",
       "      <td>c1ccc(-c2n[nH]c3c2oc2ccccc23)cc1</td>\n",
       "      <td>IC50</td>\n",
       "      <td>'&gt;='</td>\n",
       "      <td>...</td>\n",
       "      <td>CHEMBL4282</td>\n",
       "      <td>Serine/threonine-protein kinase AKT</td>\n",
       "      <td>Homo sapiens</td>\n",
       "      <td>SINGLE PROTEIN</td>\n",
       "      <td>CHEMBL1145498</td>\n",
       "      <td>1</td>\n",
       "      <td>Scientific Literature</td>\n",
       "      <td>Proc. Natl. Acad. Sci. U.S.A.</td>\n",
       "      <td>2007</td>\n",
       "      <td>NaN</td>\n",
       "    </tr>\n",
       "    <tr>\n",
       "      <th>4</th>\n",
       "      <td>CHEMBL391738</td>\n",
       "      <td>NaN</td>\n",
       "      <td>0</td>\n",
       "      <td>524.45</td>\n",
       "      <td>2.0</td>\n",
       "      <td>5.16</td>\n",
       "      <td>4, SKS-927</td>\n",
       "      <td>COc1cc(Nc2c(C#N)cnc3cc(C#CCCN4CCN(C)CC4)c(OC)c...</td>\n",
       "      <td>IC50</td>\n",
       "      <td>'&gt;'</td>\n",
       "      <td>...</td>\n",
       "      <td>CHEMBL4282</td>\n",
       "      <td>Serine/threonine-protein kinase AKT</td>\n",
       "      <td>Homo sapiens</td>\n",
       "      <td>SINGLE PROTEIN</td>\n",
       "      <td>CHEMBL1139073</td>\n",
       "      <td>1</td>\n",
       "      <td>Scientific Literature</td>\n",
       "      <td>Bioorg. Med. Chem. Lett.</td>\n",
       "      <td>2007</td>\n",
       "      <td>NaN</td>\n",
       "    </tr>\n",
       "  </tbody>\n",
       "</table>\n",
       "<p>5 rows × 41 columns</p>\n",
       "</div>"
      ],
      "text/plain": [
       "  Molecule ChEMBL ID  Molecule Name  Molecule Max Phase  Molecular Weight  \\\n",
       "0      CHEMBL1254432            NaN                   0            337.33   \n",
       "1       CHEMBL219557            NaN                   0            552.46   \n",
       "2      CHEMBL1253585            NaN                   0            266.15   \n",
       "3       CHEMBL406375            NaN                   0            234.26   \n",
       "4       CHEMBL391738            NaN                   0            524.45   \n",
       "\n",
       "   #RO5 Violations  AlogP             Compound Key  \\\n",
       "0              0.0  -0.15               5, PUG-NAc   \n",
       "1              2.0   6.18              10, SKI-758   \n",
       "2              NaN    NaN  2, Glc-NAc-selenazoline   \n",
       "3              0.0   3.98        K00035, GTP-14564   \n",
       "4              2.0   5.16               4, SKS-927   \n",
       "\n",
       "                                              Smiles Standard Type  \\\n",
       "0  CC(=O)N[C@@H]1/C(=N/OC(=O)Nc2ccccc2)CO[C@H](CO...      Activity   \n",
       "1  COc1cc(Nc2c(C#N)cnc3cc(-c4coc(CN5CCN(C)CC5)c4)...          IC50   \n",
       "2  CC1=N[C@H]2[C@H](O[C@H](CO)[C@@H](O)[C@@H]2O)[...      Activity   \n",
       "3                   c1ccc(-c2n[nH]c3c2oc2ccccc23)cc1          IC50   \n",
       "4  COc1cc(Nc2c(C#N)cnc3cc(C#CCCN4CCN(C)CC4)c(OC)c...          IC50   \n",
       "\n",
       "  Standard Relation  ...  Target ChEMBL ID  \\\n",
       "0               NaN  ...        CHEMBL4282   \n",
       "1               '>'  ...        CHEMBL4282   \n",
       "2               NaN  ...        CHEMBL4282   \n",
       "3              '>='  ...        CHEMBL4282   \n",
       "4               '>'  ...        CHEMBL4282   \n",
       "\n",
       "                           Target Name  Target Organism     Target Type  \\\n",
       "0  Serine/threonine-protein kinase AKT     Homo sapiens  SINGLE PROTEIN   \n",
       "1  Serine/threonine-protein kinase AKT     Homo sapiens  SINGLE PROTEIN   \n",
       "2  Serine/threonine-protein kinase AKT     Homo sapiens  SINGLE PROTEIN   \n",
       "3  Serine/threonine-protein kinase AKT     Homo sapiens  SINGLE PROTEIN   \n",
       "4  Serine/threonine-protein kinase AKT     Homo sapiens  SINGLE PROTEIN   \n",
       "\n",
       "  Document ChEMBL ID Source ID     Source Description  \\\n",
       "0      CHEMBL1250539         1  Scientific Literature   \n",
       "1      CHEMBL1138859         1  Scientific Literature   \n",
       "2      CHEMBL1250539         1  Scientific Literature   \n",
       "3      CHEMBL1145498         1  Scientific Literature   \n",
       "4      CHEMBL1139073         1  Scientific Literature   \n",
       "\n",
       "                Document Journal  Document Year  Cell ChEMBL ID  \n",
       "0             Bioorg. Med. Chem.           2010             NaN  \n",
       "1                  J. Med. Chem.           2006             NaN  \n",
       "2             Bioorg. Med. Chem.           2010             NaN  \n",
       "3  Proc. Natl. Acad. Sci. U.S.A.           2007             NaN  \n",
       "4       Bioorg. Med. Chem. Lett.           2007             NaN  \n",
       "\n",
       "[5 rows x 41 columns]"
      ]
     },
     "execution_count": 5,
     "metadata": {},
     "output_type": "execute_result"
    }
   ],
   "source": [
    "CHEM.head()"
   ]
  },
  {
   "cell_type": "code",
   "execution_count": 52,
   "metadata": {},
   "outputs": [
    {
     "name": "stdout",
     "output_type": "stream",
     "text": [
      "Index(['Molecule ChEMBL ID', 'Molecule Name', 'Molecule Max Phase',\n",
      "       'Molecular Weight', '#RO5 Violations', 'AlogP', 'Compound Key',\n",
      "       'Smiles', 'Standard Type', 'Standard Relation', 'Standard Value',\n",
      "       'Standard Units', 'pChEMBL Value', 'Data Validity Comment', 'Comment',\n",
      "       'Uo Units', 'Ligand Efficiency BEI', 'Ligand Efficiency LE',\n",
      "       'Ligand Efficiency LLE', 'Ligand Efficiency SEI', 'Potential Duplicate',\n",
      "       'Assay ChEMBL ID', 'Assay Description', 'Assay Type', 'BAO Format ID',\n",
      "       'BAO Label', 'Assay Organism', 'Assay Tissue ChEMBL ID',\n",
      "       'Assay Tissue Name', 'Assay Cell Type', 'Assay Subcellular Fraction',\n",
      "       'Target ChEMBL ID', 'Target Name', 'Target Organism', 'Target Type',\n",
      "       'Document ChEMBL ID', 'Source ID', 'Source Description',\n",
      "       'Document Journal', 'Document Year', 'Cell ChEMBL ID'],\n",
      "      dtype='object')\n"
     ]
    }
   ],
   "source": [
    "print(CHEM.columns)"
   ]
  },
  {
   "cell_type": "code",
   "execution_count": 28,
   "metadata": {},
   "outputs": [
    {
     "name": "stdout",
     "output_type": "stream",
     "text": [
      "rows = 8, columns = 41\n"
     ]
    }
   ],
   "source": [
    "rows, cols = CHEM.shape\n",
    "print(\"rows = {}, columns = {}\".format(rows,cols))"
   ]
  },
  {
   "cell_type": "code",
   "execution_count": 7,
   "metadata": {},
   "outputs": [
    {
     "data": {
      "text/plain": [
       "0   -0.15\n",
       "1    6.18\n",
       "2     NaN\n",
       "3    3.98\n",
       "4    5.16\n",
       "5    4.06\n",
       "6    3.89\n",
       "7   -1.04\n",
       "Name: AlogP, dtype: float64"
      ]
     },
     "execution_count": 7,
     "metadata": {},
     "output_type": "execute_result"
    }
   ],
   "source": [
    "CHEM['AlogP']"
   ]
  },
  {
   "cell_type": "code",
   "execution_count": 12,
   "metadata": {},
   "outputs": [
    {
     "name": "stdout",
     "output_type": "stream",
     "text": [
      "[<rdkit.Chem.rdchem.Mol object at 0x000001CF8B582440>, <rdkit.Chem.rdchem.Mol object at 0x000001CF8B582530>, <rdkit.Chem.rdchem.Mol object at 0x000001CF8B582580>, <rdkit.Chem.rdchem.Mol object at 0x000001CF8B5825D0>, <rdkit.Chem.rdchem.Mol object at 0x000001CF8B582620>, <rdkit.Chem.rdchem.Mol object at 0x000001CF8B582670>, <rdkit.Chem.rdchem.Mol object at 0x000001CF8B5826C0>, <rdkit.Chem.rdchem.Mol object at 0x000001CF8B582710>]\n"
     ]
    }
   ],
   "source": [
    "#getting mol from smiles one by one\n",
    "mol = []\n",
    "for smile in CHEM['Smiles']:\n",
    "    mol.append(ch.MolFromSmiles(smile))\n",
    "print(mol)"
   ]
  },
  {
   "cell_type": "code",
   "execution_count": 42,
   "metadata": {},
   "outputs": [
    {
     "name": "stdout",
     "output_type": "stream",
     "text": [
      "\n",
      "     RDKit          2D\n",
      "\n",
      " 24 25  0  0  0  0  0  0  0  0999 V2000\n",
      "    5.2500    1.2990    0.0000 C   0  0  0  0  0  0  0  0  0  0  0  0\n",
      "    3.7500    1.2990    0.0000 C   0  0  0  0  0  0  0  0  0  0  0  0\n",
      "    3.0000    2.5981    0.0000 O   0  0  0  0  0  0  0  0  0  0  0  0\n",
      "    3.0000    0.0000    0.0000 N   0  0  0  0  0  0  0  0  0  0  0  0\n",
      "    1.5000    0.0000    0.0000 C   0  0  0  0  0  0  0  0  0  0  0  0\n",
      "    0.7500   -1.2990    0.0000 C   0  0  0  0  0  0  0  0  0  0  0  0\n",
      "    1.5000   -2.5981    0.0000 N   0  0  0  0  0  0  0  0  0  0  0  0\n",
      "    0.7500   -3.8971    0.0000 O   0  0  0  0  0  0  0  0  0  0  0  0\n",
      "    1.5000   -5.1962    0.0000 C   0  0  0  0  0  0  0  0  0  0  0  0\n",
      "    3.0000   -5.1962    0.0000 O   0  0  0  0  0  0  0  0  0  0  0  0\n",
      "    0.7500   -6.4952    0.0000 N   0  0  0  0  0  0  0  0  0  0  0  0\n",
      "    1.5000   -7.7942    0.0000 C   0  0  0  0  0  0  0  0  0  0  0  0\n",
      "    0.7500   -9.0933    0.0000 C   0  0  0  0  0  0  0  0  0  0  0  0\n",
      "    1.5000  -10.3923    0.0000 C   0  0  0  0  0  0  0  0  0  0  0  0\n",
      "    3.0000  -10.3923    0.0000 C   0  0  0  0  0  0  0  0  0  0  0  0\n",
      "    3.7500   -9.0933    0.0000 C   0  0  0  0  0  0  0  0  0  0  0  0\n",
      "    3.0000   -7.7942    0.0000 C   0  0  0  0  0  0  0  0  0  0  0  0\n",
      "   -0.7500   -1.2990    0.0000 C   0  0  0  0  0  0  0  0  0  0  0  0\n",
      "   -1.5000    0.0000    0.0000 O   0  0  0  0  0  0  0  0  0  0  0  0\n",
      "   -0.7500    1.2990    0.0000 C   0  0  0  0  0  0  0  0  0  0  0  0\n",
      "   -1.5000    2.5981    0.0000 C   0  0  0  0  0  0  0  0  0  0  0  0\n",
      "   -3.0000    2.5981    0.0000 O   0  0  0  0  0  0  0  0  0  0  0  0\n",
      "    0.7500    1.2990    0.0000 C   0  0  0  0  0  0  0  0  0  0  0  0\n",
      "    1.5000    2.5981    0.0000 O   0  0  0  0  0  0  0  0  0  0  0  0\n",
      "  1  2  1  0\n",
      "  2  3  2  0\n",
      "  2  4  1  0\n",
      "  5  4  1  6\n",
      "  5  6  1  0\n",
      "  6  7  2  0\n",
      "  7  8  1  0\n",
      "  8  9  1  0\n",
      "  9 10  2  0\n",
      "  9 11  1  0\n",
      " 11 12  1  0\n",
      " 12 13  2  0\n",
      " 13 14  1  0\n",
      " 14 15  2  0\n",
      " 15 16  1  0\n",
      " 16 17  2  0\n",
      "  6 18  1  0\n",
      " 18 19  1  0\n",
      " 19 20  1  0\n",
      " 20 21  1  6\n",
      " 21 22  1  0\n",
      " 20 23  1  0\n",
      " 23 24  1  1\n",
      " 23  5  1  0\n",
      " 17 12  1  0\n",
      "M  END\n",
      "\n"
     ]
    }
   ],
   "source": [
    "#printing a sample molecule in .mol format\n",
    "print(ch.MolToMolBlock(mol[0]))"
   ]
  },
  {
   "cell_type": "code",
   "execution_count": 26,
   "metadata": {},
   "outputs": [
    {
     "name": "stdout",
     "output_type": "stream",
     "text": [
      "<rdkit.Chem.rdchem._ROQAtomSeq object at 0x000001CF8B594490>\n"
     ]
    }
   ],
   "source": [
    "print(mol[0].GetAromaticAtoms())"
   ]
  },
  {
   "cell_type": "code",
   "execution_count": 22,
   "metadata": {},
   "outputs": [
    {
     "name": "stdout",
     "output_type": "stream",
     "text": [
      "['CC(=O)N[C@@H]1/C(=N/OC(=O)Nc2ccccc2)CO[C@H](CO)[C@H]1O', 'COc1cc(Nc2c(C#N)cnc3cc(-c4coc(CN5CCN(C)CC5)c4)c(OC)cc23)c(Cl)cc1Cl', 'CC1=N[C@H]2[C@H](O[C@H](CO)[C@@H](O)[C@@H]2O)[Se]1', 'c1ccc(-c2n[nH]c3c2oc2ccccc23)cc1', 'COc1cc(Nc2c(C#N)cnc3cc(C#CCCN4CCN(C)CC4)c(OC)cc23)c(Cl)cc1Cl', 'O=C1N=C(NCc2cccs2)S/C1=C/c1ccc2ncccc2c1', 'C[C@H]1C(=O)N(c2ccc(S(=O)(=O)C(F)(F)F)cc2)C(=O)N1Cc1ccnc2ccccc12', 'CC1=N[C@H]2[C@H](O[C@H](CO)[C@@H](O)[C@@H]2O)S1']\n"
     ]
    }
   ],
   "source": [
    "#regenerating the smiles\n",
    "smiles = []\n",
    "for m in mol:\n",
    "    smiles.append(ch.MolToSmiles(m))\n",
    "print(smiles)"
   ]
  },
  {
   "cell_type": "code",
   "execution_count": 30,
   "metadata": {},
   "outputs": [
    {
     "name": "stdout",
     "output_type": "stream",
     "text": [
      "0\n"
     ]
    }
   ],
   "source": [
    "#checking whether the regenerated smiles is same as original\n",
    "count = 0\n",
    "for i in range(rows):\n",
    "    if smiles[i] != CHEM.iloc[i,7]:\n",
    "        count += 1\n",
    "print(count)"
   ]
  },
  {
   "cell_type": "markdown",
   "metadata": {},
   "source": [
    "<b>Conclusion</b>: For the given data, the molecular structure has been converted to mol and then back to SMILES without any loss/change in representation."
   ]
  },
  {
   "cell_type": "code",
   "execution_count": 35,
   "metadata": {},
   "outputs": [
    {
     "name": "stdout",
     "output_type": "stream",
     "text": [
      "{'__computedProps': <rdkit.rdBase._vectclass std::basic_string<char,struct std::char_traits<char>,class std::allocator<char> > object at 0x000001CF8B51B570>, 'numArom': 1, '_StereochemDone': 1, '_smilesAtomOutputOrder': <rdkit.rdBase._vectunsigned int object at 0x000001CF8B51B690>}\n",
      "{'__computedProps': <rdkit.rdBase._vectclass std::basic_string<char,struct std::char_traits<char>,class std::allocator<char> > object at 0x000001CF8B51B690>, 'numArom': 4, '_StereochemDone': 1, '_smilesAtomOutputOrder': <rdkit.rdBase._vectunsigned int object at 0x000001CF8B51B570>}\n",
      "{'__computedProps': <rdkit.rdBase._vectclass std::basic_string<char,struct std::char_traits<char>,class std::allocator<char> > object at 0x000001CF8B51B570>, 'numArom': 0, '_StereochemDone': 1, '_smilesAtomOutputOrder': <rdkit.rdBase._vectunsigned int object at 0x000001CF8B51B690>}\n",
      "{'__computedProps': <rdkit.rdBase._vectclass std::basic_string<char,struct std::char_traits<char>,class std::allocator<char> > object at 0x000001CF8B51B690>, 'numArom': 4, '_StereochemDone': 1, '_smilesAtomOutputOrder': <rdkit.rdBase._vectunsigned int object at 0x000001CF8B51B570>}\n",
      "{'__computedProps': <rdkit.rdBase._vectclass std::basic_string<char,struct std::char_traits<char>,class std::allocator<char> > object at 0x000001CF8B51B570>, 'numArom': 3, '_StereochemDone': 1, '_smilesAtomOutputOrder': <rdkit.rdBase._vectunsigned int object at 0x000001CF8B51B690>}\n",
      "{'__computedProps': <rdkit.rdBase._vectclass std::basic_string<char,struct std::char_traits<char>,class std::allocator<char> > object at 0x000001CF8B51B690>, 'numArom': 3, '_StereochemDone': 1, '_smilesAtomOutputOrder': <rdkit.rdBase._vectunsigned int object at 0x000001CF8B51B570>}\n",
      "{'__computedProps': <rdkit.rdBase._vectclass std::basic_string<char,struct std::char_traits<char>,class std::allocator<char> > object at 0x000001CF8B51B570>, 'numArom': 3, '_StereochemDone': 1, '_smilesAtomOutputOrder': <rdkit.rdBase._vectunsigned int object at 0x000001CF8B51B690>}\n",
      "{'__computedProps': <rdkit.rdBase._vectclass std::basic_string<char,struct std::char_traits<char>,class std::allocator<char> > object at 0x000001CF8B51B690>, 'numArom': 0, '_StereochemDone': 1, '_smilesAtomOutputOrder': <rdkit.rdBase._vectunsigned int object at 0x000001CF8B51B570>}\n"
     ]
    }
   ],
   "source": [
    "#Obtaining the properties stored in mol object\n",
    "for i in range(rows):\n",
    "    print(mol[i].GetPropsAsDict(includePrivate=True, includeComputed= True))"
   ]
  },
  {
   "cell_type": "code",
   "execution_count": 38,
   "metadata": {},
   "outputs": [
    {
     "name": "stdout",
     "output_type": "stream",
     "text": [
      "24\n",
      "38\n",
      "14\n",
      "18\n",
      "36\n",
      "24\n",
      "32\n",
      "14\n"
     ]
    }
   ],
   "source": [
    "for i in range(rows):\n",
    "    print(mol[i].GetNumAtoms())"
   ]
  },
  {
   "cell_type": "code",
   "execution_count": 43,
   "metadata": {},
   "outputs": [
    {
     "data": {
      "text/plain": [
       "24"
      ]
     },
     "execution_count": 43,
     "metadata": {},
     "output_type": "execute_result"
    }
   ],
   "source": [
    "mol[0].GetNumHeavyAtoms()"
   ]
  },
  {
   "cell_type": "code",
   "execution_count": 44,
   "metadata": {},
   "outputs": [
    {
     "data": {
      "text/plain": [
       "0"
      ]
     },
     "execution_count": 44,
     "metadata": {},
     "output_type": "execute_result"
    }
   ],
   "source": [
    "mol[0].GetNumConformers()"
   ]
  },
  {
   "cell_type": "markdown",
   "metadata": {},
   "source": [
    "<h3>Some Other Functions(in a mol object):</h3>\n",
    "<ol>\n",
    "    <li><b>SetProp:</b>sets one of the properties of the mol object</li>\n",
    "    <li><b>AddConformer:</b>Used to add a conformer to the molecule</li>\n",
    "    <li><b>GetAromaticAtoms:</b>Returns a read-only sequence containing all of the molecule's aromatic Atoms</li>\n",
    "</ol>"
   ]
  },
  {
   "cell_type": "code",
   "execution_count": 49,
   "metadata": {},
   "outputs": [],
   "source": [
    "#Writing in a file\n",
    "w = ch.SDWriter('./data.sdf')\n",
    "for m in mol:\n",
    "    w.write(m)"
   ]
  },
  {
   "cell_type": "code",
   "execution_count": 50,
   "metadata": {},
   "outputs": [
    {
     "name": "stdout",
     "output_type": "stream",
     "text": [
      "24\n",
      "38\n",
      "14\n",
      "18\n",
      "36\n",
      "24\n",
      "32\n",
      "14\n"
     ]
    }
   ],
   "source": [
    "#Reading from the same file\n",
    "mol2 = ch.SDMolSupplier('./data.sdf')\n",
    "for m in mol2:\n",
    "    print(m.GetNumAtoms())"
   ]
  },
  {
   "cell_type": "code",
   "execution_count": 13,
   "metadata": {},
   "outputs": [],
   "source": [
    "df = pd.concat([df1,df2,df3],ignore_index=True)\n",
    "df.to_csv(\"AKT_BINDING_ACTIVITIES.tsv\",sep='\\t')"
   ]
  },
  {
   "cell_type": "markdown",
   "metadata": {},
   "source": [
    "<h2>Forming sheet 3</h2>"
   ]
  },
  {
   "cell_type": "code",
   "execution_count": 17,
   "metadata": {},
   "outputs": [
    {
     "data": {
      "text/plain": [
       "count     6492\n",
       "unique      14\n",
       "top       IC50\n",
       "freq      3875\n",
       "Name: Standard Type, dtype: object"
      ]
     },
     "execution_count": 17,
     "metadata": {},
     "output_type": "execute_result"
    }
   ],
   "source": [
    "df = pd.read_excel('./Data from CHEMBL/AKT_Binding.xlsx',sheet_name='Activities')\n",
    "df['Standard Type'].describe()"
   ]
  },
  {
   "cell_type": "code",
   "execution_count": 18,
   "metadata": {},
   "outputs": [
    {
     "data": {
      "text/plain": [
       "IC50                 3875\n",
       "Inhibition           1578\n",
       "Activity              511\n",
       "EC50                  189\n",
       "FC                    105\n",
       "Kd                     66\n",
       "Ratio                  62\n",
       "Ratio IC50             51\n",
       "Selectivity ratio      22\n",
       "Ki                     15\n",
       "INH                    13\n",
       "IC90                    2\n",
       "Drug uptake             2\n",
       "AC50                    1\n",
       "Name: Standard Type, dtype: int64"
      ]
     },
     "execution_count": 18,
     "metadata": {},
     "output_type": "execute_result"
    }
   ],
   "source": [
    "df['Standard Type'].value_counts()"
   ]
  },
  {
   "cell_type": "code",
   "execution_count": 19,
   "metadata": {},
   "outputs": [
    {
     "data": {
      "text/html": [
       "<div>\n",
       "<style scoped>\n",
       "    .dataframe tbody tr th:only-of-type {\n",
       "        vertical-align: middle;\n",
       "    }\n",
       "\n",
       "    .dataframe tbody tr th {\n",
       "        vertical-align: top;\n",
       "    }\n",
       "\n",
       "    .dataframe thead th {\n",
       "        text-align: right;\n",
       "    }\n",
       "</style>\n",
       "<table border=\"1\" class=\"dataframe\">\n",
       "  <thead>\n",
       "    <tr style=\"text-align: right;\">\n",
       "      <th></th>\n",
       "      <th>S.No.</th>\n",
       "      <th>Molecule Max Phase</th>\n",
       "      <th>Molecular Weight</th>\n",
       "      <th>#RO5 Violations</th>\n",
       "      <th>AlogP</th>\n",
       "      <th>Standard Value</th>\n",
       "      <th>pChEMBL Value</th>\n",
       "      <th>Ligand Efficiency BEI</th>\n",
       "      <th>Ligand Efficiency LE</th>\n",
       "      <th>Ligand Efficiency LLE</th>\n",
       "      <th>Ligand Efficiency SEI</th>\n",
       "      <th>Assay Subcellular Fraction</th>\n",
       "      <th>Source ID</th>\n",
       "      <th>Document Year</th>\n",
       "    </tr>\n",
       "  </thead>\n",
       "  <tbody>\n",
       "    <tr>\n",
       "      <th>count</th>\n",
       "      <td>3875.000000</td>\n",
       "      <td>3875.000000</td>\n",
       "      <td>3875.000000</td>\n",
       "      <td>3829.000000</td>\n",
       "      <td>3829.000000</td>\n",
       "      <td>3.754000e+03</td>\n",
       "      <td>3409.000000</td>\n",
       "      <td>2802.000000</td>\n",
       "      <td>2776.000000</td>\n",
       "      <td>2776.00000</td>\n",
       "      <td>2776.000000</td>\n",
       "      <td>0.0</td>\n",
       "      <td>3875.000000</td>\n",
       "      <td>3875.000000</td>\n",
       "    </tr>\n",
       "    <tr>\n",
       "      <th>mean</th>\n",
       "      <td>3001.856516</td>\n",
       "      <td>0.047742</td>\n",
       "      <td>447.080232</td>\n",
       "      <td>0.368765</td>\n",
       "      <td>3.263842</td>\n",
       "      <td>1.126443e+05</td>\n",
       "      <td>6.824972</td>\n",
       "      <td>15.692866</td>\n",
       "      <td>0.300022</td>\n",
       "      <td>3.42732</td>\n",
       "      <td>7.617514</td>\n",
       "      <td>NaN</td>\n",
       "      <td>12.975226</td>\n",
       "      <td>2013.449806</td>\n",
       "    </tr>\n",
       "    <tr>\n",
       "      <th>std</th>\n",
       "      <td>1793.312459</td>\n",
       "      <td>0.373409</td>\n",
       "      <td>107.965526</td>\n",
       "      <td>0.673677</td>\n",
       "      <td>1.563601</td>\n",
       "      <td>4.615679e+06</td>\n",
       "      <td>1.120108</td>\n",
       "      <td>3.618436</td>\n",
       "      <td>0.066545</td>\n",
       "      <td>1.95721</td>\n",
       "      <td>2.202426</td>\n",
       "      <td>NaN</td>\n",
       "      <td>16.963972</td>\n",
       "      <td>2.616663</td>\n",
       "    </tr>\n",
       "    <tr>\n",
       "      <th>min</th>\n",
       "      <td>0.000000</td>\n",
       "      <td>0.000000</td>\n",
       "      <td>182.230000</td>\n",
       "      <td>0.000000</td>\n",
       "      <td>-6.360000</td>\n",
       "      <td>1.000000e-01</td>\n",
       "      <td>4.010000</td>\n",
       "      <td>3.690000</td>\n",
       "      <td>0.080000</td>\n",
       "      <td>-4.88000</td>\n",
       "      <td>1.230000</td>\n",
       "      <td>NaN</td>\n",
       "      <td>1.000000</td>\n",
       "      <td>2000.000000</td>\n",
       "    </tr>\n",
       "    <tr>\n",
       "      <th>25%</th>\n",
       "      <td>1531.500000</td>\n",
       "      <td>0.000000</td>\n",
       "      <td>386.480000</td>\n",
       "      <td>0.000000</td>\n",
       "      <td>2.260000</td>\n",
       "      <td>2.500000e+01</td>\n",
       "      <td>6.010000</td>\n",
       "      <td>13.212500</td>\n",
       "      <td>0.250000</td>\n",
       "      <td>2.07750</td>\n",
       "      <td>6.100000</td>\n",
       "      <td>NaN</td>\n",
       "      <td>1.000000</td>\n",
       "      <td>2012.000000</td>\n",
       "    </tr>\n",
       "    <tr>\n",
       "      <th>50%</th>\n",
       "      <td>2864.000000</td>\n",
       "      <td>0.000000</td>\n",
       "      <td>440.470000</td>\n",
       "      <td>0.000000</td>\n",
       "      <td>3.270000</td>\n",
       "      <td>1.975000e+02</td>\n",
       "      <td>6.830000</td>\n",
       "      <td>15.640000</td>\n",
       "      <td>0.300000</td>\n",
       "      <td>3.56500</td>\n",
       "      <td>7.395000</td>\n",
       "      <td>NaN</td>\n",
       "      <td>1.000000</td>\n",
       "      <td>2014.000000</td>\n",
       "    </tr>\n",
       "    <tr>\n",
       "      <th>75%</th>\n",
       "      <td>4330.500000</td>\n",
       "      <td>0.000000</td>\n",
       "      <td>489.600000</td>\n",
       "      <td>1.000000</td>\n",
       "      <td>4.290000</td>\n",
       "      <td>1.800000e+03</td>\n",
       "      <td>7.680000</td>\n",
       "      <td>18.087500</td>\n",
       "      <td>0.350000</td>\n",
       "      <td>4.82000</td>\n",
       "      <td>8.870000</td>\n",
       "      <td>NaN</td>\n",
       "      <td>37.000000</td>\n",
       "      <td>2015.000000</td>\n",
       "    </tr>\n",
       "    <tr>\n",
       "      <th>max</th>\n",
       "      <td>6487.000000</td>\n",
       "      <td>4.000000</td>\n",
       "      <td>1143.450000</td>\n",
       "      <td>3.000000</td>\n",
       "      <td>9.510000</td>\n",
       "      <td>2.000000e+08</td>\n",
       "      <td>10.000000</td>\n",
       "      <td>35.300000</td>\n",
       "      <td>0.630000</td>\n",
       "      <td>10.73000</td>\n",
       "      <td>20.270000</td>\n",
       "      <td>NaN</td>\n",
       "      <td>37.000000</td>\n",
       "      <td>2018.000000</td>\n",
       "    </tr>\n",
       "  </tbody>\n",
       "</table>\n",
       "</div>"
      ],
      "text/plain": [
       "             S.No.  Molecule Max Phase  Molecular Weight  #RO5 Violations  \\\n",
       "count  3875.000000         3875.000000       3875.000000      3829.000000   \n",
       "mean   3001.856516            0.047742        447.080232         0.368765   \n",
       "std    1793.312459            0.373409        107.965526         0.673677   \n",
       "min       0.000000            0.000000        182.230000         0.000000   \n",
       "25%    1531.500000            0.000000        386.480000         0.000000   \n",
       "50%    2864.000000            0.000000        440.470000         0.000000   \n",
       "75%    4330.500000            0.000000        489.600000         1.000000   \n",
       "max    6487.000000            4.000000       1143.450000         3.000000   \n",
       "\n",
       "             AlogP  Standard Value  pChEMBL Value  Ligand Efficiency BEI  \\\n",
       "count  3829.000000    3.754000e+03    3409.000000            2802.000000   \n",
       "mean      3.263842    1.126443e+05       6.824972              15.692866   \n",
       "std       1.563601    4.615679e+06       1.120108               3.618436   \n",
       "min      -6.360000    1.000000e-01       4.010000               3.690000   \n",
       "25%       2.260000    2.500000e+01       6.010000              13.212500   \n",
       "50%       3.270000    1.975000e+02       6.830000              15.640000   \n",
       "75%       4.290000    1.800000e+03       7.680000              18.087500   \n",
       "max       9.510000    2.000000e+08      10.000000              35.300000   \n",
       "\n",
       "       Ligand Efficiency LE  Ligand Efficiency LLE  Ligand Efficiency SEI  \\\n",
       "count           2776.000000             2776.00000            2776.000000   \n",
       "mean               0.300022                3.42732               7.617514   \n",
       "std                0.066545                1.95721               2.202426   \n",
       "min                0.080000               -4.88000               1.230000   \n",
       "25%                0.250000                2.07750               6.100000   \n",
       "50%                0.300000                3.56500               7.395000   \n",
       "75%                0.350000                4.82000               8.870000   \n",
       "max                0.630000               10.73000              20.270000   \n",
       "\n",
       "       Assay Subcellular Fraction    Source ID  Document Year  \n",
       "count                         0.0  3875.000000    3875.000000  \n",
       "mean                          NaN    12.975226    2013.449806  \n",
       "std                           NaN    16.963972       2.616663  \n",
       "min                           NaN     1.000000    2000.000000  \n",
       "25%                           NaN     1.000000    2012.000000  \n",
       "50%                           NaN     1.000000    2014.000000  \n",
       "75%                           NaN    37.000000    2015.000000  \n",
       "max                           NaN    37.000000    2018.000000  "
      ]
     },
     "execution_count": 19,
     "metadata": {},
     "output_type": "execute_result"
    }
   ],
   "source": [
    "df2 = df.loc[df['Standard Type'] == 'IC50']\n",
    "df2.describe()"
   ]
  },
  {
   "cell_type": "code",
   "execution_count": 21,
   "metadata": {},
   "outputs": [],
   "source": [
    "from openpyxl import load_workbook\n",
    "book = load_workbook('./Data from CHEMBL/AKT_Binding.xlsx')\n",
    "writer = pd.ExcelWriter('./Data from CHEMBL/AKT_Binding.xlsx', engine = 'openpyxl')\n",
    "writer.book = book\n",
    "df2.to_excel(writer,sheet_name='only IC50 data')\n",
    "writer.save()\n",
    "writer.close()"
   ]
  },
  {
   "cell_type": "markdown",
   "metadata": {},
   "source": [
    "<h2>General format for creating sheet 3 and 4</h2>"
   ]
  },
  {
   "cell_type": "code",
   "execution_count": 25,
   "metadata": {},
   "outputs": [],
   "source": [
    "path = './Data from CHEMBL/AKT_Functional.xlsx'\n",
    "book = load_workbook(path)\n",
    "writer = pd.ExcelWriter(path, engine = 'openpyxl')\n",
    "writer.book = book\n",
    "df = pd.read_excel(path,sheet_name='Activities')\n",
    "df2 = df['Standard Type'].value_counts().to_frame()\n",
    "df2.to_excel(writer,sheet_name='details')\n",
    "df2 = df.loc[df['Standard Type'] == 'IC50']\n",
    "df2.to_excel(writer,sheet_name='only IC50 data')\n",
    "writer.save()\n",
    "writer.close()"
   ]
  },
  {
   "cell_type": "code",
   "execution_count": 7,
   "metadata": {},
   "outputs": [
    {
     "data": {
      "text/plain": [
       "Inhibition           564\n",
       "Activity             380\n",
       "IC50                 101\n",
       "EC50                  17\n",
       "Ratio                  5\n",
       "Selectivity Index      5\n",
       "FC                     3\n",
       "AUEC                   3\n",
       "fEC50                  2\n",
       "Imax                   1\n",
       "Drug uptake            1\n",
       "ED50                   1\n",
       "Name: Standard Type, dtype: int64"
      ]
     },
     "execution_count": 7,
     "metadata": {},
     "output_type": "execute_result"
    }
   ],
   "source": [
    "df = pd.read_excel('./Data from CHEMBL/AKT_functional.xlsx',sheet_name='Activities')\n",
    "df['Standard Type'].value_counts()"
   ]
  },
  {
   "cell_type": "code",
   "execution_count": 6,
   "metadata": {},
   "outputs": [
    {
     "data": {
      "text/html": [
       "<div>\n",
       "<style scoped>\n",
       "    .dataframe tbody tr th:only-of-type {\n",
       "        vertical-align: middle;\n",
       "    }\n",
       "\n",
       "    .dataframe tbody tr th {\n",
       "        vertical-align: top;\n",
       "    }\n",
       "\n",
       "    .dataframe thead th {\n",
       "        text-align: right;\n",
       "    }\n",
       "</style>\n",
       "<table border=\"1\" class=\"dataframe\">\n",
       "  <thead>\n",
       "    <tr style=\"text-align: right;\">\n",
       "      <th></th>\n",
       "      <th>Sno</th>\n",
       "      <th>ChEMBL_ID</th>\n",
       "      <th>Smiles</th>\n",
       "      <th>Standard_Value</th>\n",
       "      <th>Standard_Units</th>\n",
       "      <th>pChEMBL_Value</th>\n",
       "      <th>Class</th>\n",
       "    </tr>\n",
       "  </thead>\n",
       "  <tbody>\n",
       "    <tr>\n",
       "      <th>0</th>\n",
       "      <td>1</td>\n",
       "      <td>CHEMBL3403664</td>\n",
       "      <td>C[C@H](Nc1ncnc(N)c1C#N)c1nc2ccc(F)cc2c(S(C)(=O...</td>\n",
       "      <td>0.10</td>\n",
       "      <td>nM</td>\n",
       "      <td>10.00</td>\n",
       "      <td>1</td>\n",
       "    </tr>\n",
       "    <tr>\n",
       "      <th>1</th>\n",
       "      <td>2</td>\n",
       "      <td>CHEMBL3899716</td>\n",
       "      <td>Cc1cc(-c2cn(CCN3CCC3)c(C3CCN(c4ncnc(N)c4Br)CC3...</td>\n",
       "      <td>0.10</td>\n",
       "      <td>nM</td>\n",
       "      <td>10.00</td>\n",
       "      <td>1</td>\n",
       "    </tr>\n",
       "    <tr>\n",
       "      <th>2</th>\n",
       "      <td>3</td>\n",
       "      <td>CHEMBL3966806</td>\n",
       "      <td>CC(C)c1cc(-c2cn(CCN3CCC3)c(C3CCN(c4ncnc(N)c4Br...</td>\n",
       "      <td>0.15</td>\n",
       "      <td>nM</td>\n",
       "      <td>9.82</td>\n",
       "      <td>1</td>\n",
       "    </tr>\n",
       "    <tr>\n",
       "      <th>3</th>\n",
       "      <td>4</td>\n",
       "      <td>CHEMBL379300</td>\n",
       "      <td>Cc1n[nH]c2ccc(-c3cncc(OC[C@@H](N)Cc4c[nH]c5ccc...</td>\n",
       "      <td>0.16</td>\n",
       "      <td>nM</td>\n",
       "      <td>9.80</td>\n",
       "      <td>1</td>\n",
       "    </tr>\n",
       "    <tr>\n",
       "      <th>4</th>\n",
       "      <td>5</td>\n",
       "      <td>CHEMBL573326</td>\n",
       "      <td>N[C@H](COc1cncc(-c2ccc3c(c2)C(c2ccco2)C(=O)N3)...</td>\n",
       "      <td>0.17</td>\n",
       "      <td>nM</td>\n",
       "      <td>9.77</td>\n",
       "      <td>1</td>\n",
       "    </tr>\n",
       "  </tbody>\n",
       "</table>\n",
       "</div>"
      ],
      "text/plain": [
       "   Sno      ChEMBL_ID                                             Smiles  \\\n",
       "0    1  CHEMBL3403664  C[C@H](Nc1ncnc(N)c1C#N)c1nc2ccc(F)cc2c(S(C)(=O...   \n",
       "1    2  CHEMBL3899716  Cc1cc(-c2cn(CCN3CCC3)c(C3CCN(c4ncnc(N)c4Br)CC3...   \n",
       "2    3  CHEMBL3966806  CC(C)c1cc(-c2cn(CCN3CCC3)c(C3CCN(c4ncnc(N)c4Br...   \n",
       "3    4   CHEMBL379300  Cc1n[nH]c2ccc(-c3cncc(OC[C@@H](N)Cc4c[nH]c5ccc...   \n",
       "4    5   CHEMBL573326  N[C@H](COc1cncc(-c2ccc3c(c2)C(c2ccco2)C(=O)N3)...   \n",
       "\n",
       "   Standard_Value Standard_Units  pChEMBL_Value  Class  \n",
       "0            0.10             nM          10.00      1  \n",
       "1            0.10             nM          10.00      1  \n",
       "2            0.15             nM           9.82      1  \n",
       "3            0.16             nM           9.80      1  \n",
       "4            0.17             nM           9.77      1  "
      ]
     },
     "execution_count": 6,
     "metadata": {},
     "output_type": "execute_result"
    }
   ],
   "source": [
    "df = pd.read_excel('.\\\\Data from ChemBL\\\\AKT-binding_simplified.xlsx',sheet_name ='Step3')\n",
    "df.head()"
   ]
  },
  {
   "cell_type": "code",
   "execution_count": 7,
   "metadata": {},
   "outputs": [
    {
     "data": {
      "text/plain": [
       "(array([ 15.,   0.,  71., 232., 450., 679., 653., 512., 233.,  16.]),\n",
       " array([ 2.35163999,  3.11647599,  3.88131199,  4.64614799,  5.41098399,\n",
       "         6.17581999,  6.940656  ,  7.705492  ,  8.470328  ,  9.235164  ,\n",
       "        10.        ]),\n",
       " <a list of 10 Patch objects>)"
      ]
     },
     "execution_count": 7,
     "metadata": {},
     "output_type": "execute_result"
    },
    {
     "data": {
      "image/png": "[encoded data removed]",
      "text/plain": [
       "<Figure size 432x288 with 1 Axes>"
      ]
     },
     "metadata": {
      "needs_background": "light"
     },
     "output_type": "display_data"
    }
   ],
   "source": [
    "plt.hist(df['pChEMBL_Value'])"
   ]
  },
  {
   "cell_type": "code",
   "execution_count": null,
   "metadata": {},
   "outputs": [],
   "source": []
  }
 ],
 "metadata": {
  "kernelspec": {
   "display_name": "Python 3",
   "language": "python",
   "name": "python3"
  },
  "language_info": {
   "codemirror_mode": {
    "name": "ipython",
    "version": 3
   },
   "file_extension": ".py",
   "mimetype": "text/x-python",
   "name": "python",
   "nbconvert_exporter": "python",
   "pygments_lexer": "ipython3",
   "version": "3.7.3"
  }
 },
 "nbformat": 4,
 "nbformat_minor": 2
}
