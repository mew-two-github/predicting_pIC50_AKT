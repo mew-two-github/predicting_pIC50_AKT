{
 "cells": [
  {
   "cell_type": "code",
   "execution_count": 8,
   "metadata": {},
   "outputs": [],
   "source": [
    "import pandas as pd\n",
    "import numpy as np\n",
    "import matplotlib.pyplot as plt\n",
    "from rdkit import Chem as ch\n",
    "from sklearn.model_selection import train_test_split\n",
    "from sklearn.linear_model import LinearRegression, Ridge, Lasso, LassoLarsCV, ElasticNetCV\n",
    "from sklearn.metrics import mean_squared_error\n",
    "from sklearn.preprocessing import StandardScaler\n",
    "from sklearn.ensemble import RandomForestRegressor, ExtraTreesRegressor\n",
    "from sklearn.feature_selection import SelectKBest, mutual_info_regression, RFECV, SelectFromModel\n",
    "import pickle as pkl\n",
    "import seaborn as sns"
   ]
  },
  {
   "cell_type": "code",
   "execution_count": 33,
   "metadata": {},
   "outputs": [],
   "source": [
    "def split_data(X_new):\n",
    "    X_final, validate = np.split(X_new.sample(frac=1), [int(.8*len(X_new))])\n",
    "    X_train, X_test, y_train, y_test = train_test_split(X_final.drop(columns=['pChemBL'],inplace=False), X_final['pChemBL'], test_size=0.2, random_state=42)\n",
    "    X_validate = validate.drop(columns='pChemBL',inplace=False).copy()\n",
    "    y_validate = validate['pChemBL']\n",
    "    return X_train, X_test, X_validate, y_train, y_test, y_validate\n",
    "def train_RFR(X_train, X_test, X_validate, y_train, y_test, y_validate,estimators=150):\n",
    "    model2 = RandomForestRegressor(n_estimators=estimators)\n",
    "    model2.fit(X_train,y_train)\n",
    "    r_square = model2.score(X_train,y_train)\n",
    "    rmse = np.sqrt(mean_squared_error(model2.predict(X_train),y_train))\n",
    "    print('Number of estimators = {}'.format(estimators))\n",
    "    print(\"Training set results:\\nRMSE = {}\\t R^2 = {}\".format(rmse,r_square))\n",
    "    q_square = model2.score(X_test,y_test)\n",
    "    rmse = np.sqrt(mean_squared_error(model2.predict(X_test),y_test))\n",
    "    print(\"Test set results\\nRMSE = {}\\t Q^2 = {}\".format(rmse,q_square))\n",
    "    q_square = model2.score(X_validate,y_validate)\n",
    "    rmse = np.sqrt(mean_squared_error(y_validate,model2.predict(X_validate)))\n",
    "    print(\"Validation set results\\nRMSE = {}\\t Q^2 = {}\".format(rmse,q_square))    \n",
    "    return model2\n",
    "def split_train(X,estimators=150):\n",
    "    X_train, X_test, X_validate, y_train, y_test, y_validate = split_data(X)\n",
    "    model = train_RFR(X_train, X_test, X_validate, y_train, y_test, y_validate,estimators)\n",
    "    return model\n",
    "def get_cols(n):\n",
    "    cols = []\n",
    "    for i in range(n):\n",
    "        cols.append('component'+str(i+1))\n",
    "    return cols"
   ]
  },
  {
   "cell_type": "code",
   "execution_count": 3,
   "metadata": {},
   "outputs": [],
   "source": [
    "X = pd.read_csv('no_zeros_no_chembl.csv')\n",
    "y = X['pChemBL']\n",
    "X.drop(columns='pChemBL',inplace=True)"
   ]
  },
  {
   "cell_type": "code",
   "execution_count": 5,
   "metadata": {},
   "outputs": [],
   "source": [
    "reg = ExtraTreesRegressor(n_estimators=150)\n",
    "reg = reg.fit(X, y)"
   ]
  },
  {
   "cell_type": "code",
   "execution_count": null,
   "metadata": {},
   "outputs": [],
   "source": [
    "reg.score(X,y)"
   ]
  },
  {
   "cell_type": "code",
   "execution_count": 38,
   "metadata": {},
   "outputs": [
    {
     "data": {
      "text/plain": [
       "(2861, 279)"
      ]
     },
     "execution_count": 38,
     "metadata": {},
     "output_type": "execute_result"
    }
   ],
   "source": [
    "model = SelectFromModel(reg, prefit=True)\n",
    "X_new = model.transform(X)\n",
    "X_new.shape               \n"
   ]
  },
  {
   "cell_type": "code",
   "execution_count": 39,
   "metadata": {},
   "outputs": [],
   "source": [
    "cols = []\n",
    "for i in range(X_new.shape[1]):\n",
    "    cols.append('comp'+str(i+1))\n",
    "X_new = pd.DataFrame(data=X_new,columns=cols)"
   ]
  },
  {
   "cell_type": "code",
   "execution_count": 40,
   "metadata": {},
   "outputs": [
    {
     "name": "stdout",
     "output_type": "stream",
     "text": [
      "Training set results:\n",
      "RMSE = 0.2612342814942656\t R^2 = 0.951231462226615\n",
      "Test set results\n",
      "RMSE = 0.6711355166778638\t Q^2 = 0.6546759899619428\n",
      "Validation set results\n",
      "RMSE = 0.7139772320201792\t Q^2 = 0.5980952575220048\n"
     ]
    }
   ],
   "source": [
    "X_new['pChemBL'] = y\n",
    "X_train, X_test, X_validate, y_train, y_test, y_validate = split_data(X_new)\n",
    "model = train_RFR(X_train, X_test, X_validate, y_train, y_test, y_validate)"
   ]
  },
  {
   "cell_type": "code",
   "execution_count": null,
   "metadata": {},
   "outputs": [],
   "source": [
    "model = SelectFromModel(reg, prefit=True,max_features=25)\n",
    "X_new = model.transform(X)\n",
    "cols = []\n",
    "for i in range(X_new.shape[1]):\n",
    "    cols.append('comp'+str(i+1))\n",
    "X_new = pd.DataFrame(data=X_new,columns=cols)\n",
    "X_new['pChemBL'] = y\n",
    "X_train, X_test, X_validate, y_train, y_test, y_validate = split_data(X_new)\n",
    "model = train_RFR(X_train, X_test, X_validate, y_train, y_test, y_validate)"
   ]
  },
  {
   "cell_type": "code",
   "execution_count": null,
   "metadata": {},
   "outputs": [],
   "source": [
    "X_new = SelectKBest(mutual_info_regression, k=50).fit_transform(X, y)\n",
    "\n",
    "cols = []\n",
    "for i in range(50):\n",
    "    cols.append('comp'+str(i+1))\n",
    "X_red = pd.DataFrame(data=X_new, columns=cols)"
   ]
  },
  {
   "cell_type": "code",
   "execution_count": 33,
   "metadata": {},
   "outputs": [
    {
     "name": "stdout",
     "output_type": "stream",
     "text": [
      "Training set results:\n",
      "RMSE = 0.2739322287215124\t R^2 = 0.9468244640055198\n",
      "Test set results\n",
      "RMSE = 0.6161916091171696\t Q^2 = 0.7009729340649702\n",
      "Validation set results\n",
      "RMSE = 0.6717152615156313\t Q^2 = 0.6397030563793147\n"
     ]
    }
   ],
   "source": [
    "X_red['pChemBL'] = y\n",
    "X_train, X_test, X_validate, y_train, y_test, y_validate = split_data(X_red)\n",
    "RFR = train_RFR(X_train, X_test, X_validate, y_train, y_test, y_validate)"
   ]
  },
  {
   "cell_type": "code",
   "execution_count": 41,
   "metadata": {},
   "outputs": [
    {
     "name": "stdout",
     "output_type": "stream",
     "text": [
      "Training set results:\n",
      "RMSE = 0.2835793651287902\t R^2 = 0.9410312390992518\n",
      "Test set results\n",
      "RMSE = 0.6982204063849987\t Q^2 = 0.6342943954025049\n",
      "Validation set results\n",
      "RMSE = 0.7285472901564857\t Q^2 = 0.6090261968313742\n"
     ]
    }
   ],
   "source": [
    "from sklearn.feature_selection import SelectKBest\n",
    "from sklearn.feature_selection import mutual_info_regression\n",
    "ko = 15\n",
    "X_new = SelectKBest(mutual_info_regression, k=ko).fit_transform(X, y)\n",
    "\n",
    "cols = []\n",
    "for i in range(ko):\n",
    "    cols.append('comp'+str(i+1))\n",
    "X_red = pd.DataFrame(data=X_new, columns=cols)\n",
    "X_red['pChemBL'] = y\n",
    "X_train, X_test, X_validate, y_train, y_test, y_validate = split_data(X_red)\n",
    "RFR = train_RFR(X_train, X_test, X_validate, y_train, y_test, y_validate)"
   ]
  },
  {
   "cell_type": "code",
   "execution_count": 6,
   "metadata": {},
   "outputs": [
    {
     "name": "stdout",
     "output_type": "stream",
     "text": [
      "Fitting estimator with 1208 features.\n",
      "Fitting estimator with 1008 features.\n",
      "Fitting estimator with 808 features.\n"
     ]
    }
   ],
   "source": [
    "from sklearn.feature_selection import RFECV\n",
    "select = RFECV(reg,step =200,n_jobs=-1,min_features_to_select= 50,verbose=1)\n",
    "select.fit(X,y)\n",
    "X_new = select.transform(X)"
   ]
  },
  {
   "cell_type": "code",
   "execution_count": 10,
   "metadata": {},
   "outputs": [
    {
     "name": "stdout",
     "output_type": "stream",
     "text": [
      "Training set results:\n",
      "RMSE = 0.26038643091486924\t R^2 = 0.9506658314566686\n",
      "Test set results\n",
      "RMSE = 0.6892970161527208\t Q^2 = 0.6311874891385347\n",
      "Validation set results\n",
      "RMSE = 0.7153796013506576\t Q^2 = 0.624192456639348\n"
     ]
    }
   ],
   "source": [
    "cols = []\n",
    "for i in range(X_new.shape[1]):\n",
    "    cols.append('comp'+str(i+1))\n",
    "X_red = pd.DataFrame(data=X_new, columns=cols)\n",
    "X_red['pChemBL'] = y\n",
    "X_train, X_test, X_validate, y_train, y_test, y_validate = split_data(X_red)\n",
    "RFR = train_RFR(X_train, X_test, X_validate, y_train, y_test, y_validate)"
   ]
  },
  {
   "cell_type": "code",
   "execution_count": 21,
   "metadata": {},
   "outputs": [],
   "source": [
    "from sklearn.feature_selection import SelectKBest\n",
    "from sklearn.feature_selection import mutual_info_regression\n",
    "#X_red.drop(columns='pChemBL',inplace=True)\n",
    "X_red.head()\n",
    "X_red.drop(columns='comp50',inplace=True)"
   ]
  },
  {
   "cell_type": "code",
   "execution_count": null,
   "metadata": {},
   "outputs": [],
   "source": [
    "cols = []\n",
    "for i in range(50):\n",
    "    cols.append('comp'+str(i+1))\n",
    "X_new = SelectKBest(mutual_info_regression, k=50).fit_transform(X_red, y)\n",
    "X_red = pd.DataFrame(data=X_new, columns=cols)"
   ]
  },
  {
   "cell_type": "code",
   "execution_count": 22,
   "metadata": {},
   "outputs": [
    {
     "name": "stdout",
     "output_type": "stream",
     "text": [
      "Training set results:\n",
      "RMSE = 0.25776643379761544\t R^2 = 0.9506208177595016\n",
      "Test set results\n",
      "RMSE = 0.6484785432255382\t Q^2 = 0.6888873283556138\n",
      "Validation set results\n",
      "RMSE = 0.6953832131541388\t Q^2 = 0.6545151705403043\n"
     ]
    }
   ],
   "source": [
    "X_red['pChemBL'] = y\n",
    "X_train, X_test, X_validate, y_train, y_test, y_validate = split_data(X_red)\n",
    "RFR = train_RFR(X_train, X_test, X_validate, y_train, y_test, y_validate)"
   ]
  },
  {
   "cell_type": "code",
   "execution_count": 25,
   "metadata": {},
   "outputs": [
    {
     "name": "stdout",
     "output_type": "stream",
     "text": [
      "Training set results:\n",
      "RMSE = 0.2769289461389025\t R^2 = 0.9442085567589638\n",
      "Test set results\n",
      "RMSE = 0.7155156440570092\t Q^2 = 0.6291208962414494\n",
      "Validation set results\n",
      "RMSE = 0.6721193455727127\t Q^2 = 0.6449727110165622\n"
     ]
    }
   ],
   "source": [
    "cols=[]\n",
    "for i in range(25):\n",
    "    cols.append('comp'+str(i+1))\n",
    "X_red.drop(columns='pChemBL',inplace=True)    \n",
    "X_new = SelectKBest(mutual_info_regression, k=25).fit_transform(X_red, y)\n",
    "X_red = pd.DataFrame(data=X_new, columns=cols)\n",
    "X_red['pChemBL'] = y\n",
    "X_train, X_test, X_validate, y_train, y_test, y_validate = split_data(X_red)\n",
    "RFR = train_RFR(X_train, X_test, X_validate, y_train, y_test, y_validate)"
   ]
  },
  {
   "cell_type": "markdown",
   "metadata": {},
   "source": [
    "<h4> For display/rerun(the best model)"
   ]
  },
  {
   "cell_type": "code",
   "execution_count": 70,
   "metadata": {},
   "outputs": [],
   "source": [
    "X = pd.read_csv('no_zeros_no_chembl.csv')\n",
    "y = X['pChemBL']\n",
    "X.drop(columns='pChemBL',inplace=True)\n",
    "selections = SelectKBest(mutual_info_regression, k=50)\n",
    "X_new = selections.fit_transform(X, y)\n",
    "cols = []\n",
    "for i in range(50):\n",
    "    cols.append('comp'+str(i+1))\n",
    "X_red = pd.DataFrame(data=X_new, columns=cols)\n",
    "X_red['pChemBL'] = y"
   ]
  },
  {
   "cell_type": "code",
   "execution_count": 10,
   "metadata": {},
   "outputs": [
    {
     "name": "stdout",
     "output_type": "stream",
     "text": [
      "Training set results:\n",
      "RMSE = 0.2683276019767677\t R^2 = 0.9467019849913931\n",
      "Test set results\n",
      "RMSE = 0.7066172160204794\t Q^2 = 0.6299947142698358\n",
      "Validation set results\n",
      "RMSE = 0.610511017731687\t Q^2 = 0.7289860444995122\n"
     ]
    }
   ],
   "source": [
    "X_train, X_test, X_validate, y_train, y_test, y_validate = split_data(X_red)\n",
    "RFR = train_RFR(X_train, X_test, X_validate, y_train, y_test, y_validate)"
   ]
  },
  {
   "cell_type": "code",
   "execution_count": 74,
   "metadata": {},
   "outputs": [
    {
     "name": "stdout",
     "output_type": "stream",
     "text": [
      "['naAromAtom', 'nAromBond', 'BCUTc-1l', 'BCUTc-1h', 'BCUTp-1h', 'SpMax1_Bhm', 'SpMin1_Bhm', 'SpMin3_Bhm', 'SpMax1_Bhv', 'SpMax2_Bhv', 'SpMin1_Bhv', 'SpMin7_Bhv', 'SpMax1_Bhe', 'SpMax3_Bhe', 'SpMin1_Bhe', 'SpMin2_Bhe', 'SpMin4_Bhe', 'SpMin6_Bhe', 'SpMin8_Bhe', 'SpMax1_Bhp', 'SpMax2_Bhp', 'SpMax3_Bhp', 'SpMin1_Bhp', 'SpMax1_Bhi', 'SpMin1_Bhi', 'SpMin2_Bhi', 'C2SP2', 'SCH-6', 'VCH-5', 'SpMAD_Dt', 'SHaaCH', 'SaaN', 'minHBa', 'maxaaN', 'HybRatio', 'nAtomP', 'MDEN-22', 'MDEN-23', 'MLFER_A', 'MLFER_BH', 'piPC5', 'piPC7', 'piPC8', 'piPC9', 'piPC10', 'TpiPC', 'R_TpiPCTPC', 'nTRing', 'WTPT-4', 'WTPT-5']\n"
     ]
    }
   ],
   "source": [
    "cols = selections.get_support(indices=True)\n",
    "good_columns = []\n",
    "all_columns = X.columns\n",
    "for i in range(len(all_columns)):\n",
    "    if i in cols:\n",
    "        good_columns.append(X.columns[i])\n",
    "print(good_columns)"
   ]
  },
  {
   "cell_type": "code",
   "execution_count": 75,
   "metadata": {},
   "outputs": [
    {
     "data": {
      "text/plain": [
       "50"
      ]
     },
     "execution_count": 75,
     "metadata": {},
     "output_type": "execute_result"
    }
   ],
   "source": [
    "len(good_columns)"
   ]
  },
  {
   "cell_type": "markdown",
   "metadata": {},
   "source": [
    "<h3>SVR"
   ]
  },
  {
   "cell_type": "code",
   "execution_count": 6,
   "metadata": {},
   "outputs": [
    {
     "name": "stdout",
     "output_type": "stream",
     "text": [
      "[LibSVM]"
     ]
    },
    {
     "data": {
      "text/plain": [
       "0.3415220888673084"
      ]
     },
     "execution_count": 6,
     "metadata": {},
     "output_type": "execute_result"
    }
   ],
   "source": [
    "from sklearn.svm import SVR\n",
    "svr = SVR(kernel='rbf',verbose=True,tol=0.001)\n",
    "svr.fit(X_red.drop(columns='pChemBL'),y)\n",
    "svr.score(X_red.drop(columns='pChemBL'),y)"
   ]
  },
  {
   "cell_type": "markdown",
   "metadata": {},
   "source": [
    "<h3>Elastic Net</h3>"
   ]
  },
  {
   "cell_type": "code",
   "execution_count": 15,
   "metadata": {},
   "outputs": [
    {
     "name": "stderr",
     "output_type": "stream",
     "text": [
      "[Parallel(n_jobs=-1)]: Using backend ThreadingBackend with 8 concurrent workers.\n",
      "....................................................................................................................................................................................................................................................................................................................................................................................................................................................................................................................[Parallel(n_jobs=-1)]: Done   2 out of   5 | elapsed:    6.9s remaining:   10.4s\n",
      "[Parallel(n_jobs=-1)]: Done   5 out of   5 | elapsed:    7.0s finished\n"
     ]
    },
    {
     "data": {
      "text/plain": [
       "ElasticNetCV(cv=5, n_jobs=-1, normalize=True, random_state=0,\n",
       "             selection='random', verbose=1)"
      ]
     },
     "execution_count": 15,
     "metadata": {},
     "output_type": "execute_result"
    }
   ],
   "source": [
    "from sklearn.linear_model import ElasticNetCV\n",
    "e_net = ElasticNetCV(cv=5, random_state=0,normalize=True,verbose=1,n_jobs=-1,selection='random')\n",
    "e_net.fit(X,y)"
   ]
  },
  {
   "cell_type": "code",
   "execution_count": 16,
   "metadata": {},
   "outputs": [
    {
     "data": {
      "text/plain": [
       "0.4269174010118165"
      ]
     },
     "execution_count": 16,
     "metadata": {},
     "output_type": "execute_result"
    }
   ],
   "source": [
    "e_net.score(X,y)"
   ]
  },
  {
   "cell_type": "code",
   "execution_count": 38,
   "metadata": {},
   "outputs": [
    {
     "data": {
      "text/plain": [
       "0.5"
      ]
     },
     "execution_count": 38,
     "metadata": {},
     "output_type": "execute_result"
    }
   ],
   "source": [
    "e_net.l1_ratio"
   ]
  },
  {
   "cell_type": "code",
   "execution_count": 20,
   "metadata": {},
   "outputs": [],
   "source": [
    "select = SelectFromModel(e_net,max_features=50,prefit=True)\n",
    "Xnet = select.transform(X)\n",
    "Xnet = pd.DataFrame(data=Xnet,columns=get_cols(50))\n",
    "lol = Xnet.copy()\n",
    "lol['pChemBL'] = y"
   ]
  },
  {
   "cell_type": "code",
   "execution_count": 27,
   "metadata": {},
   "outputs": [
    {
     "name": "stdout",
     "output_type": "stream",
     "text": [
      "Training set results:\n",
      "RMSE = 0.2921107380950572\t R^2 = 0.9368475422256108\n",
      "Test set results\n",
      "RMSE = 0.7575229122063979\t Q^2 = 0.6162990062778935\n",
      "Validation set results\n",
      "RMSE = 0.7332009809977204\t Q^2 = 0.5763856120934157\n"
     ]
    }
   ],
   "source": [
    "RFR = split_train(lol)"
   ]
  },
  {
   "cell_type": "code",
   "execution_count": 29,
   "metadata": {},
   "outputs": [
    {
     "name": "stdout",
     "output_type": "stream",
     "text": [
      "Training set results:\n",
      "RMSE = 0.28630673474348817\t R^2 = 0.9404941110581913\n",
      "Test set results\n",
      "RMSE = 0.7225212294716707\t Q^2 = 0.6023557995383836\n",
      "Validation set results\n",
      "RMSE = 0.7376490014209028\t Q^2 = 0.5913700576341223\n"
     ]
    }
   ],
   "source": [
    "RFR = split_train(lol,125)"
   ]
  },
  {
   "cell_type": "markdown",
   "metadata": {},
   "source": [
    "<h3>Lasso LARS CV</h3>"
   ]
  },
  {
   "cell_type": "code",
   "execution_count": 39,
   "metadata": {},
   "outputs": [
    {
     "name": "stdout",
     "output_type": "stream",
     "text": [
      "condition number of X = 7.4725446142904415e+37\n"
     ]
    }
   ],
   "source": [
    "X['pChemBL'] = y\n",
    "cond_no = np.linalg.cond(X)\n",
    "print(\"condition number of X = {}\".format(cond_no))\n",
    "X.drop(columns='pChemBL',inplace=True)"
   ]
  },
  {
   "cell_type": "code",
   "execution_count": 40,
   "metadata": {},
   "outputs": [
    {
     "data": {
      "text/html": [
       "<div>\n",
       "<style scoped>\n",
       "    .dataframe tbody tr th:only-of-type {\n",
       "        vertical-align: middle;\n",
       "    }\n",
       "\n",
       "    .dataframe tbody tr th {\n",
       "        vertical-align: top;\n",
       "    }\n",
       "\n",
       "    .dataframe thead th {\n",
       "        text-align: right;\n",
       "    }\n",
       "</style>\n",
       "<table border=\"1\" class=\"dataframe\">\n",
       "  <thead>\n",
       "    <tr style=\"text-align: right;\">\n",
       "      <th></th>\n",
       "      <th>nAcid</th>\n",
       "      <th>ALogP</th>\n",
       "      <th>ALogp2</th>\n",
       "      <th>AMR</th>\n",
       "      <th>apol</th>\n",
       "      <th>naAromAtom</th>\n",
       "      <th>nAromBond</th>\n",
       "      <th>nAtom</th>\n",
       "      <th>nHeavyAtom</th>\n",
       "      <th>nH</th>\n",
       "      <th>...</th>\n",
       "      <th>AMW</th>\n",
       "      <th>WTPT-1</th>\n",
       "      <th>WTPT-2</th>\n",
       "      <th>WTPT-3</th>\n",
       "      <th>WTPT-4</th>\n",
       "      <th>WTPT-5</th>\n",
       "      <th>WPATH</th>\n",
       "      <th>WPOL</th>\n",
       "      <th>XLogP</th>\n",
       "      <th>Zagreb</th>\n",
       "    </tr>\n",
       "  </thead>\n",
       "  <tbody>\n",
       "    <tr>\n",
       "      <th>0</th>\n",
       "      <td>0</td>\n",
       "      <td>-0.7109</td>\n",
       "      <td>0.505379</td>\n",
       "      <td>70.4932</td>\n",
       "      <td>73.378583</td>\n",
       "      <td>16</td>\n",
       "      <td>18</td>\n",
       "      <td>65</td>\n",
       "      <td>34</td>\n",
       "      <td>31</td>\n",
       "      <td>...</td>\n",
       "      <td>7.157502</td>\n",
       "      <td>70.514766</td>\n",
       "      <td>2.073964</td>\n",
       "      <td>27.938805</td>\n",
       "      <td>11.267053</td>\n",
       "      <td>16.671753</td>\n",
       "      <td>3404</td>\n",
       "      <td>59</td>\n",
       "      <td>2.188</td>\n",
       "      <td>184</td>\n",
       "    </tr>\n",
       "    <tr>\n",
       "      <th>1</th>\n",
       "      <td>0</td>\n",
       "      <td>-1.4578</td>\n",
       "      <td>2.125181</td>\n",
       "      <td>44.0418</td>\n",
       "      <td>64.304653</td>\n",
       "      <td>18</td>\n",
       "      <td>20</td>\n",
       "      <td>52</td>\n",
       "      <td>31</td>\n",
       "      <td>21</td>\n",
       "      <td>...</td>\n",
       "      <td>7.830281</td>\n",
       "      <td>65.167083</td>\n",
       "      <td>2.102164</td>\n",
       "      <td>17.955201</td>\n",
       "      <td>2.565237</td>\n",
       "      <td>15.389964</td>\n",
       "      <td>2593</td>\n",
       "      <td>55</td>\n",
       "      <td>6.575</td>\n",
       "      <td>180</td>\n",
       "    </tr>\n",
       "    <tr>\n",
       "      <th>2</th>\n",
       "      <td>0</td>\n",
       "      <td>0.0748</td>\n",
       "      <td>0.005595</td>\n",
       "      <td>27.2874</td>\n",
       "      <td>69.268860</td>\n",
       "      <td>27</td>\n",
       "      <td>29</td>\n",
       "      <td>57</td>\n",
       "      <td>37</td>\n",
       "      <td>20</td>\n",
       "      <td>...</td>\n",
       "      <td>8.827511</td>\n",
       "      <td>76.232497</td>\n",
       "      <td>2.060338</td>\n",
       "      <td>31.795843</td>\n",
       "      <td>2.556014</td>\n",
       "      <td>22.098211</td>\n",
       "      <td>4979</td>\n",
       "      <td>56</td>\n",
       "      <td>5.589</td>\n",
       "      <td>198</td>\n",
       "    </tr>\n",
       "    <tr>\n",
       "      <th>3</th>\n",
       "      <td>0</td>\n",
       "      <td>-10.0458</td>\n",
       "      <td>100.918098</td>\n",
       "      <td>183.2952</td>\n",
       "      <td>142.418303</td>\n",
       "      <td>6</td>\n",
       "      <td>6</td>\n",
       "      <td>135</td>\n",
       "      <td>64</td>\n",
       "      <td>71</td>\n",
       "      <td>...</td>\n",
       "      <td>6.678230</td>\n",
       "      <td>125.580825</td>\n",
       "      <td>1.962200</td>\n",
       "      <td>61.611922</td>\n",
       "      <td>20.276064</td>\n",
       "      <td>41.335857</td>\n",
       "      <td>21440</td>\n",
       "      <td>92</td>\n",
       "      <td>-0.194</td>\n",
       "      <td>302</td>\n",
       "    </tr>\n",
       "    <tr>\n",
       "      <th>4</th>\n",
       "      <td>0</td>\n",
       "      <td>-1.7897</td>\n",
       "      <td>3.203026</td>\n",
       "      <td>32.3564</td>\n",
       "      <td>58.685481</td>\n",
       "      <td>21</td>\n",
       "      <td>23</td>\n",
       "      <td>47</td>\n",
       "      <td>30</td>\n",
       "      <td>17</td>\n",
       "      <td>...</td>\n",
       "      <td>8.491716</td>\n",
       "      <td>62.402934</td>\n",
       "      <td>2.080098</td>\n",
       "      <td>16.872064</td>\n",
       "      <td>13.655728</td>\n",
       "      <td>3.216336</td>\n",
       "      <td>2319</td>\n",
       "      <td>52</td>\n",
       "      <td>4.844</td>\n",
       "      <td>168</td>\n",
       "    </tr>\n",
       "  </tbody>\n",
       "</table>\n",
       "<p>5 rows × 1208 columns</p>\n",
       "</div>"
      ],
      "text/plain": [
       "   nAcid    ALogP      ALogp2       AMR        apol  naAromAtom  nAromBond  \\\n",
       "0      0  -0.7109    0.505379   70.4932   73.378583          16         18   \n",
       "1      0  -1.4578    2.125181   44.0418   64.304653          18         20   \n",
       "2      0   0.0748    0.005595   27.2874   69.268860          27         29   \n",
       "3      0 -10.0458  100.918098  183.2952  142.418303           6          6   \n",
       "4      0  -1.7897    3.203026   32.3564   58.685481          21         23   \n",
       "\n",
       "   nAtom  nHeavyAtom  nH  ...       AMW      WTPT-1    WTPT-2     WTPT-3  \\\n",
       "0     65          34  31  ...  7.157502   70.514766  2.073964  27.938805   \n",
       "1     52          31  21  ...  7.830281   65.167083  2.102164  17.955201   \n",
       "2     57          37  20  ...  8.827511   76.232497  2.060338  31.795843   \n",
       "3    135          64  71  ...  6.678230  125.580825  1.962200  61.611922   \n",
       "4     47          30  17  ...  8.491716   62.402934  2.080098  16.872064   \n",
       "\n",
       "      WTPT-4     WTPT-5  WPATH  WPOL  XLogP  Zagreb  \n",
       "0  11.267053  16.671753   3404    59  2.188     184  \n",
       "1   2.565237  15.389964   2593    55  6.575     180  \n",
       "2   2.556014  22.098211   4979    56  5.589     198  \n",
       "3  20.276064  41.335857  21440    92 -0.194     302  \n",
       "4  13.655728   3.216336   2319    52  4.844     168  \n",
       "\n",
       "[5 rows x 1208 columns]"
      ]
     },
     "execution_count": 40,
     "metadata": {},
     "output_type": "execute_result"
    }
   ],
   "source": [
    "X.head()"
   ]
  },
  {
   "cell_type": "code",
   "execution_count": 63,
   "metadata": {},
   "outputs": [
    {
     "name": "stderr",
     "output_type": "stream",
     "text": [
      "[Parallel(n_jobs=-1)]: Using backend LokyBackend with 8 concurrent workers.\n",
      "[Parallel(n_jobs=-1)]: Done   2 out of   5 | elapsed:    0.6s remaining:    1.0s\n",
      "[Parallel(n_jobs=-1)]: Done   5 out of   5 | elapsed:    0.8s finished\n",
      "C:\\Users\\HP\\Anaconda3\\lib\\site-packages\\sklearn\\linear_model\\_least_angle.py:577: ConvergenceWarning: Regressors in active set degenerate. Dropping a regressor, after 40 iterations, i.e. alpha=1.606e-03, with an active set of 32 regressors, and the smallest cholesky pivot element being 1.490e-08. Reduce max_iter or increase eps parameters.\n",
      "  ConvergenceWarning)\n",
      "C:\\Users\\HP\\Anaconda3\\lib\\site-packages\\sklearn\\linear_model\\_least_angle.py:577: ConvergenceWarning: Regressors in active set degenerate. Dropping a regressor, after 98 iterations, i.e. alpha=7.512e-04, with an active set of 66 regressors, and the smallest cholesky pivot element being 2.220e-16. Reduce max_iter or increase eps parameters.\n",
      "  ConvergenceWarning)\n",
      "C:\\Users\\HP\\Anaconda3\\lib\\site-packages\\sklearn\\linear_model\\_least_angle.py:577: ConvergenceWarning: Regressors in active set degenerate. Dropping a regressor, after 100 iterations, i.e. alpha=7.111e-04, with an active set of 68 regressors, and the smallest cholesky pivot element being 2.107e-08. Reduce max_iter or increase eps parameters.\n",
      "  ConvergenceWarning)\n",
      "C:\\Users\\HP\\Anaconda3\\lib\\site-packages\\sklearn\\linear_model\\_least_angle.py:577: ConvergenceWarning: Regressors in active set degenerate. Dropping a regressor, after 100 iterations, i.e. alpha=7.111e-04, with an active set of 68 regressors, and the smallest cholesky pivot element being 2.788e-08. Reduce max_iter or increase eps parameters.\n",
      "  ConvergenceWarning)\n"
     ]
    },
    {
     "data": {
      "text/plain": [
       "LassoLarsCV(n_jobs=-1, verbose=1)"
      ]
     },
     "execution_count": 63,
     "metadata": {},
     "output_type": "execute_result"
    }
   ],
   "source": [
    "from sklearn.linear_model import LassoLarsCV\n",
    "LL = LassoLarsCV(verbose=1,n_jobs=-1)\n",
    "LL.fit(X,y)"
   ]
  },
  {
   "cell_type": "code",
   "execution_count": 64,
   "metadata": {},
   "outputs": [
    {
     "data": {
      "text/plain": [
       "0.508183761099205"
      ]
     },
     "execution_count": 64,
     "metadata": {},
     "output_type": "execute_result"
    }
   ],
   "source": [
    "LL.score(X,y)"
   ]
  },
  {
   "cell_type": "code",
   "execution_count": 52,
   "metadata": {},
   "outputs": [
    {
     "data": {
      "text/plain": [
       "2.220446049250313e-15"
      ]
     },
     "execution_count": 52,
     "metadata": {},
     "output_type": "execute_result"
    }
   ],
   "source": [
    "np.finfo(np.float).eps*10"
   ]
  },
  {
   "cell_type": "code",
   "execution_count": 65,
   "metadata": {},
   "outputs": [],
   "source": [
    "select = SelectFromModel(LL,max_features=50,prefit=True)\n",
    "Xnet = select.transform(X)\n",
    "Xnet = pd.DataFrame(data=Xnet,columns=get_cols(50))\n",
    "lol = Xnet.copy()\n",
    "lol['pChemBL'] = y"
   ]
  },
  {
   "cell_type": "code",
   "execution_count": 69,
   "metadata": {},
   "outputs": [
    {
     "name": "stdout",
     "output_type": "stream",
     "text": [
      "Number of estimators = 75\n",
      "Training set results:\n",
      "RMSE = 0.28237345738837427\t R^2 = 0.9398527351582295\n",
      "Test set results\n",
      "RMSE = 0.7304957501713284\t Q^2 = 0.6146137535875539\n",
      "Validation set results\n",
      "RMSE = 0.7289022337701816\t Q^2 = 0.6308351286764\n"
     ]
    }
   ],
   "source": [
    "RFR = split_train(lol,75)"
   ]
  },
  {
   "cell_type": "code",
   "execution_count": null,
   "metadata": {},
   "outputs": [],
   "source": []
  }
 ],
 "metadata": {
  "kernelspec": {
   "display_name": "Python 3",
   "language": "python",
   "name": "python3"
  },
  "language_info": {
   "codemirror_mode": {
    "name": "ipython",
    "version": 3
   },
   "file_extension": ".py",
   "mimetype": "text/x-python",
   "name": "python",
   "nbconvert_exporter": "python",
   "pygments_lexer": "ipython3",
   "version": "3.7.3"
  }
 },
 "nbformat": 4,
 "nbformat_minor": 4
}
