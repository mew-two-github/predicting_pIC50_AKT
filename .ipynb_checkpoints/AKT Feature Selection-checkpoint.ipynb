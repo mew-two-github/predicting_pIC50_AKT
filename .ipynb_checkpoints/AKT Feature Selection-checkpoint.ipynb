{
 "cells": [
  {
   "cell_type": "code",
   "execution_count": 1,
   "metadata": {},
   "outputs": [
    {
     "name": "stderr",
     "output_type": "stream",
     "text": [
      "RDKit WARNING: [16:05:43] Enabling RDKit 2019.09.3 jupyter extensions\n"
     ]
    }
   ],
   "source": [
    "import pandas as pd\n",
    "import numpy as np\n",
    "import matplotlib.pyplot as plt\n",
    "from rdkit import Chem as ch\n",
    "from sklearn.model_selection import train_test_split\n",
    "from sklearn.linear_model import LinearRegression, Ridge, Lasso\n",
    "from sklearn.metrics import mean_squared_error\n",
    "from sklearn.preprocessing import StandardScaler\n",
    "from sklearn.ensemble import RandomForestRegressor\n",
    "import pickle as pkl\n",
    "import seaborn as sns"
   ]
  },
  {
   "cell_type": "code",
   "execution_count": 2,
   "metadata": {},
   "outputs": [],
   "source": [
    "def split_data(X_new):\n",
    "    X_final, validate = np.split(X_new.sample(frac=1), [int(.8*len(X_new))])\n",
    "    X_train, X_test, y_train, y_test = train_test_split(X_final.drop(columns=['pChemBL'],inplace=False), X_final['pChemBL'], test_size=0.2, random_state=42)\n",
    "    X_validate = validate.drop(columns='pChemBL',inplace=False).copy()\n",
    "    y_validate = validate['pChemBL']\n",
    "    return X_train, X_test, X_validate, y_train, y_test, y_validate\n",
    "def train_RFR(X_train, X_test, X_validate, y_train, y_test, y_validate):\n",
    "    model2 = RandomForestRegressor(n_estimators= 150)\n",
    "    model2.fit(X_train,y_train)\n",
    "    r_square = model2.score(X_train,y_train)\n",
    "    rmse = np.sqrt(mean_squared_error(model2.predict(X_train),y_train))\n",
    "    print(\"Training set results:\\nRMSE = {}\\t R^2 = {}\".format(rmse,r_square))\n",
    "    q_square = model2.score(X_test,y_test)\n",
    "    rmse = np.sqrt(mean_squared_error(model2.predict(X_test),y_test))\n",
    "    print(\"Test set results\\nRMSE = {}\\t Q^2 = {}\".format(rmse,q_square))\n",
    "    q_square = model2.score(X_validate,y_validate)\n",
    "    rmse = np.sqrt(mean_squared_error(y_validate,model2.predict(X_validate)))\n",
    "    print(\"Validation set results\\nRMSE = {}\\t Q^2 = {}\".format(rmse,q_square))    \n",
    "    return model2"
   ]
  },
  {
   "cell_type": "code",
   "execution_count": 3,
   "metadata": {},
   "outputs": [],
   "source": [
    "X = pd.read_csv('no_zeros_no_chembl.csv')\n",
    "y = X['pChemBL']\n",
    "X.drop(columns='pChemBL',inplace=True)"
   ]
  },
  {
   "cell_type": "code",
   "execution_count": 5,
   "metadata": {},
   "outputs": [],
   "source": [
    "from sklearn.ensemble import ExtraTreesRegressor\n",
    "from sklearn.feature_selection import SelectFromModel\n",
    "reg = ExtraTreesRegressor(n_estimators=150)\n",
    "reg = reg.fit(X, y)"
   ]
  },
  {
   "cell_type": "code",
   "execution_count": null,
   "metadata": {},
   "outputs": [],
   "source": [
    "reg.score(X,y)"
   ]
  },
  {
   "cell_type": "code",
   "execution_count": 38,
   "metadata": {},
   "outputs": [
    {
     "data": {
      "text/plain": [
       "(2861, 279)"
      ]
     },
     "execution_count": 38,
     "metadata": {},
     "output_type": "execute_result"
    }
   ],
   "source": [
    "model = SelectFromModel(reg, prefit=True)\n",
    "X_new = model.transform(X)\n",
    "X_new.shape               \n"
   ]
  },
  {
   "cell_type": "code",
   "execution_count": 39,
   "metadata": {},
   "outputs": [],
   "source": [
    "cols = []\n",
    "for i in range(X_new.shape[1]):\n",
    "    cols.append('comp'+str(i+1))\n",
    "X_new = pd.DataFrame(data=X_new,columns=cols)"
   ]
  },
  {
   "cell_type": "code",
   "execution_count": 40,
   "metadata": {},
   "outputs": [
    {
     "name": "stdout",
     "output_type": "stream",
     "text": [
      "Training set results:\n",
      "RMSE = 0.2612342814942656\t R^2 = 0.951231462226615\n",
      "Test set results\n",
      "RMSE = 0.6711355166778638\t Q^2 = 0.6546759899619428\n",
      "Validation set results\n",
      "RMSE = 0.7139772320201792\t Q^2 = 0.5980952575220048\n"
     ]
    }
   ],
   "source": [
    "X_new['pChemBL'] = y\n",
    "X_train, X_test, X_validate, y_train, y_test, y_validate = split_data(X_new)\n",
    "model = train_RFR(X_train, X_test, X_validate, y_train, y_test, y_validate)"
   ]
  },
  {
   "cell_type": "code",
   "execution_count": null,
   "metadata": {},
   "outputs": [],
   "source": [
    "model = SelectFromModel(reg, prefit=True,max_features=25)\n",
    "X_new = model.transform(X)\n",
    "cols = []\n",
    "for i in range(X_new.shape[1]):\n",
    "    cols.append('comp'+str(i+1))\n",
    "X_new = pd.DataFrame(data=X_new,columns=cols)\n",
    "X_new['pChemBL'] = y\n",
    "X_train, X_test, X_validate, y_train, y_test, y_validate = split_data(X_new)\n",
    "model = train_RFR(X_train, X_test, X_validate, y_train, y_test, y_validate)"
   ]
  },
  {
   "cell_type": "code",
   "execution_count": null,
   "metadata": {},
   "outputs": [],
   "source": [
    "from sklearn.feature_selection import SelectKBest\n",
    "from sklearn.feature_selection import mutual_info_regression\n",
    "X_new = SelectKBest(mutual_info_regression, k=50).fit_transform(X, y)\n",
    "\n",
    "cols = []\n",
    "for i in range(50):\n",
    "    cols.append('comp'+str(i+1))\n",
    "X_red = pd.DataFrame(data=X_new, columns=cols)"
   ]
  },
  {
   "cell_type": "code",
   "execution_count": 33,
   "metadata": {},
   "outputs": [
    {
     "name": "stdout",
     "output_type": "stream",
     "text": [
      "Training set results:\n",
      "RMSE = 0.2739322287215124\t R^2 = 0.9468244640055198\n",
      "Test set results\n",
      "RMSE = 0.6161916091171696\t Q^2 = 0.7009729340649702\n",
      "Validation set results\n",
      "RMSE = 0.6717152615156313\t Q^2 = 0.6397030563793147\n"
     ]
    }
   ],
   "source": [
    "X_red['pChemBL'] = y\n",
    "X_train, X_test, X_validate, y_train, y_test, y_validate = split_data(X_red)\n",
    "RFR = train_RFR(X_train, X_test, X_validate, y_train, y_test, y_validate)"
   ]
  },
  {
   "cell_type": "code",
   "execution_count": 41,
   "metadata": {},
   "outputs": [
    {
     "name": "stdout",
     "output_type": "stream",
     "text": [
      "Training set results:\n",
      "RMSE = 0.2835793651287902\t R^2 = 0.9410312390992518\n",
      "Test set results\n",
      "RMSE = 0.6982204063849987\t Q^2 = 0.6342943954025049\n",
      "Validation set results\n",
      "RMSE = 0.7285472901564857\t Q^2 = 0.6090261968313742\n"
     ]
    }
   ],
   "source": [
    "from sklearn.feature_selection import SelectKBest\n",
    "from sklearn.feature_selection import mutual_info_regression\n",
    "ko = 15\n",
    "X_new = SelectKBest(mutual_info_regression, k=ko).fit_transform(X, y)\n",
    "\n",
    "cols = []\n",
    "for i in range(ko):\n",
    "    cols.append('comp'+str(i+1))\n",
    "X_red = pd.DataFrame(data=X_new, columns=cols)\n",
    "X_red['pChemBL'] = y\n",
    "X_train, X_test, X_validate, y_train, y_test, y_validate = split_data(X_red)\n",
    "RFR = train_RFR(X_train, X_test, X_validate, y_train, y_test, y_validate)"
   ]
  },
  {
   "cell_type": "code",
   "execution_count": 6,
   "metadata": {},
   "outputs": [
    {
     "name": "stdout",
     "output_type": "stream",
     "text": [
      "Fitting estimator with 1208 features.\n",
      "Fitting estimator with 1008 features.\n",
      "Fitting estimator with 808 features.\n"
     ]
    }
   ],
   "source": [
    "from sklearn.feature_selection import RFECV\n",
    "select = RFECV(reg,step =200,n_jobs=-1,min_features_to_select= 50,verbose=1)\n",
    "select.fit(X,y)\n",
    "X_new = select.transform(X)"
   ]
  },
  {
   "cell_type": "code",
   "execution_count": 10,
   "metadata": {},
   "outputs": [
    {
     "name": "stdout",
     "output_type": "stream",
     "text": [
      "Training set results:\n",
      "RMSE = 0.26038643091486924\t R^2 = 0.9506658314566686\n",
      "Test set results\n",
      "RMSE = 0.6892970161527208\t Q^2 = 0.6311874891385347\n",
      "Validation set results\n",
      "RMSE = 0.7153796013506576\t Q^2 = 0.624192456639348\n"
     ]
    }
   ],
   "source": [
    "cols = []\n",
    "for i in range(X_new.shape[1]):\n",
    "    cols.append('comp'+str(i+1))\n",
    "X_red = pd.DataFrame(data=X_new, columns=cols)\n",
    "X_red['pChemBL'] = y\n",
    "X_train, X_test, X_validate, y_train, y_test, y_validate = split_data(X_red)\n",
    "RFR = train_RFR(X_train, X_test, X_validate, y_train, y_test, y_validate)"
   ]
  },
  {
   "cell_type": "code",
   "execution_count": 21,
   "metadata": {},
   "outputs": [],
   "source": [
    "from sklearn.feature_selection import SelectKBest\n",
    "from sklearn.feature_selection import mutual_info_regression\n",
    "#X_red.drop(columns='pChemBL',inplace=True)\n",
    "X_red.head()\n",
    "X_red.drop(columns='comp50',inplace=True)"
   ]
  },
  {
   "cell_type": "code",
   "execution_count": null,
   "metadata": {},
   "outputs": [],
   "source": [
    "cols = []\n",
    "for i in range(50):\n",
    "    cols.append('comp'+str(i+1))\n",
    "X_new = SelectKBest(mutual_info_regression, k=50).fit_transform(X_red, y)\n",
    "X_red = pd.DataFrame(data=X_new, columns=cols)"
   ]
  },
  {
   "cell_type": "code",
   "execution_count": 22,
   "metadata": {},
   "outputs": [
    {
     "name": "stdout",
     "output_type": "stream",
     "text": [
      "Training set results:\n",
      "RMSE = 0.25776643379761544\t R^2 = 0.9506208177595016\n",
      "Test set results\n",
      "RMSE = 0.6484785432255382\t Q^2 = 0.6888873283556138\n",
      "Validation set results\n",
      "RMSE = 0.6953832131541388\t Q^2 = 0.6545151705403043\n"
     ]
    }
   ],
   "source": [
    "X_red['pChemBL'] = y\n",
    "X_train, X_test, X_validate, y_train, y_test, y_validate = split_data(X_red)\n",
    "RFR = train_RFR(X_train, X_test, X_validate, y_train, y_test, y_validate)"
   ]
  },
  {
   "cell_type": "code",
   "execution_count": 25,
   "metadata": {},
   "outputs": [
    {
     "name": "stdout",
     "output_type": "stream",
     "text": [
      "Training set results:\n",
      "RMSE = 0.2769289461389025\t R^2 = 0.9442085567589638\n",
      "Test set results\n",
      "RMSE = 0.7155156440570092\t Q^2 = 0.6291208962414494\n",
      "Validation set results\n",
      "RMSE = 0.6721193455727127\t Q^2 = 0.6449727110165622\n"
     ]
    }
   ],
   "source": [
    "cols=[]\n",
    "for i in range(25):\n",
    "    cols.append('comp'+str(i+1))\n",
    "X_red.drop(columns='pChemBL',inplace=True)    \n",
    "X_new = SelectKBest(mutual_info_regression, k=25).fit_transform(X_red, y)\n",
    "X_red = pd.DataFrame(data=X_new, columns=cols)\n",
    "X_red['pChemBL'] = y\n",
    "X_train, X_test, X_validate, y_train, y_test, y_validate = split_data(X_red)\n",
    "RFR = train_RFR(X_train, X_test, X_validate, y_train, y_test, y_validate)"
   ]
  },
  {
   "cell_type": "code",
   "execution_count": null,
   "metadata": {},
   "outputs": [],
   "source": []
  }
 ],
 "metadata": {
  "kernelspec": {
   "display_name": "Python 3",
   "language": "python",
   "name": "python3"
  },
  "language_info": {
   "codemirror_mode": {
    "name": "ipython",
    "version": 3
   },
   "file_extension": ".py",
   "mimetype": "text/x-python",
   "name": "python",
   "nbconvert_exporter": "python",
   "pygments_lexer": "ipython3",
   "version": "3.7.3"
  }
 },
 "nbformat": 4,
 "nbformat_minor": 4
}
