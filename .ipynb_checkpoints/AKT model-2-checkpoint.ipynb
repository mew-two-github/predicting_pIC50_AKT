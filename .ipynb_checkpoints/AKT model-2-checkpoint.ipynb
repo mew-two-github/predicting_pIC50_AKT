{
 "cells": [
  {
   "cell_type": "code",
   "execution_count": 1,
   "metadata": {},
   "outputs": [
    {
     "name": "stderr",
     "output_type": "stream",
     "text": [
      "RDKit WARNING: [08:44:31] Enabling RDKit 2019.09.3 jupyter extensions\n"
     ]
    }
   ],
   "source": [
    "import pandas as pd\n",
    "import numpy as np\n",
    "import matplotlib.pyplot as plt\n",
    "from rdkit import Chem as ch\n",
    "from sklearn.model_selection import train_test_split\n",
    "from sklearn.linear_model import LinearRegression, Ridge, Lasso\n",
    "from sklearn.metrics import mean_squared_error\n",
    "from sklearn.preprocessing import StandardScaler\n",
    "from sklearn.feature_selection import SelectFromModel, RFECV, SelectKBest\n",
    "from sklearn.ensemble import RandomForestRegressor\n",
    "import pickle as pkl\n",
    "import seaborn as sns"
   ]
  },
  {
   "cell_type": "markdown",
   "metadata": {},
   "source": [
    "<h3>SPLIT DATA FUNCTION</h3>"
   ]
  },
  {
   "cell_type": "code",
   "execution_count": 2,
   "metadata": {},
   "outputs": [],
   "source": [
    "def split_data(X_new):\n",
    "    X_final, validate = np.split(X_new.sample(frac=1), [int(.8*len(X_new))])\n",
    "    X_train, X_test, y_train, y_test = train_test_split(X_final.drop(columns=['pChemBL'],inplace=False), X_final['pChemBL'], test_size=0.2, random_state=42)\n",
    "    X_validate = validate.drop(columns='pChemBL',inplace=False).copy()\n",
    "    y_validate = validate['pChemBL']\n",
    "    return X_train, X_test, X_validate, y_train, y_test, y_validate"
   ]
  },
  {
   "cell_type": "markdown",
   "metadata": {},
   "source": [
    "<h3>TRAIN RFR FUNCTION</h3>"
   ]
  },
  {
   "cell_type": "code",
   "execution_count": 3,
   "metadata": {},
   "outputs": [],
   "source": [
    "def train_RFR(X_train, X_test, X_validate, y_train, y_test, y_validate):\n",
    "    model2 = RandomForestRegressor(n_estimators= 150)\n",
    "    model2.fit(X_train,y_train)\n",
    "    r_square = model2.score(X_train,y_train)\n",
    "    rmse = np.sqrt(mean_squared_error(model2.predict(X_train),y_train))\n",
    "    print(\"Training set results:\\nRMSE = {}\\t R^2 = {}\".format(rmse,r_square))\n",
    "    q_square = model2.score(X_test,y_test)\n",
    "    rmse = np.sqrt(mean_squared_error(model2.predict(X_test),y_test))\n",
    "    print(\"Test set results\\nRMSE = {}\\t Q^2 = {}\".format(rmse,q_square))\n",
    "    q_square = model2.score(X_validate,y_validate)\n",
    "    rmse = np.sqrt(mean_squared_error(y_validate,model2.predict(X_validate)))\n",
    "    print(\"Validation set results\\nRMSE = {}\\t Q^2 = {}\".format(rmse,q_square))    \n",
    "    return model2"
   ]
  },
  {
   "cell_type": "markdown",
   "metadata": {},
   "source": [
    "<h2>AKT MODEL-2</h2>"
   ]
  },
  {
   "cell_type": "code",
   "execution_count": 4,
   "metadata": {
    "scrolled": true
   },
   "outputs": [
    {
     "data": {
      "text/html": [
       "<div>\n",
       "<style scoped>\n",
       "    .dataframe tbody tr th:only-of-type {\n",
       "        vertical-align: middle;\n",
       "    }\n",
       "\n",
       "    .dataframe tbody tr th {\n",
       "        vertical-align: top;\n",
       "    }\n",
       "\n",
       "    .dataframe thead th {\n",
       "        text-align: right;\n",
       "    }\n",
       "</style>\n",
       "<table border=\"1\" class=\"dataframe\">\n",
       "  <thead>\n",
       "    <tr style=\"text-align: right;\">\n",
       "      <th></th>\n",
       "      <th>nAcid</th>\n",
       "      <th>ALogP</th>\n",
       "      <th>ALogp2</th>\n",
       "      <th>AMR</th>\n",
       "      <th>apol</th>\n",
       "      <th>naAromAtom</th>\n",
       "      <th>nAromBond</th>\n",
       "      <th>nAtom</th>\n",
       "      <th>nHeavyAtom</th>\n",
       "      <th>nH</th>\n",
       "      <th>...</th>\n",
       "      <th>WTPT-1</th>\n",
       "      <th>WTPT-2</th>\n",
       "      <th>WTPT-3</th>\n",
       "      <th>WTPT-4</th>\n",
       "      <th>WTPT-5</th>\n",
       "      <th>WPATH</th>\n",
       "      <th>WPOL</th>\n",
       "      <th>XLogP</th>\n",
       "      <th>Zagreb</th>\n",
       "      <th>pChemBL</th>\n",
       "    </tr>\n",
       "  </thead>\n",
       "  <tbody>\n",
       "    <tr>\n",
       "      <th>0</th>\n",
       "      <td>0</td>\n",
       "      <td>-0.7109</td>\n",
       "      <td>0.505379</td>\n",
       "      <td>70.4932</td>\n",
       "      <td>73.378583</td>\n",
       "      <td>16</td>\n",
       "      <td>18</td>\n",
       "      <td>65</td>\n",
       "      <td>34</td>\n",
       "      <td>31</td>\n",
       "      <td>...</td>\n",
       "      <td>70.514766</td>\n",
       "      <td>2.073964</td>\n",
       "      <td>27.938805</td>\n",
       "      <td>11.267053</td>\n",
       "      <td>16.671753</td>\n",
       "      <td>3404</td>\n",
       "      <td>59</td>\n",
       "      <td>2.188</td>\n",
       "      <td>184</td>\n",
       "      <td>6.82</td>\n",
       "    </tr>\n",
       "    <tr>\n",
       "      <th>1</th>\n",
       "      <td>0</td>\n",
       "      <td>-1.4578</td>\n",
       "      <td>2.125181</td>\n",
       "      <td>44.0418</td>\n",
       "      <td>64.304653</td>\n",
       "      <td>18</td>\n",
       "      <td>20</td>\n",
       "      <td>52</td>\n",
       "      <td>31</td>\n",
       "      <td>21</td>\n",
       "      <td>...</td>\n",
       "      <td>65.167083</td>\n",
       "      <td>2.102164</td>\n",
       "      <td>17.955201</td>\n",
       "      <td>2.565237</td>\n",
       "      <td>15.389964</td>\n",
       "      <td>2593</td>\n",
       "      <td>55</td>\n",
       "      <td>6.575</td>\n",
       "      <td>180</td>\n",
       "      <td>7.64</td>\n",
       "    </tr>\n",
       "    <tr>\n",
       "      <th>2</th>\n",
       "      <td>0</td>\n",
       "      <td>0.0748</td>\n",
       "      <td>0.005595</td>\n",
       "      <td>27.2874</td>\n",
       "      <td>69.268860</td>\n",
       "      <td>27</td>\n",
       "      <td>29</td>\n",
       "      <td>57</td>\n",
       "      <td>37</td>\n",
       "      <td>20</td>\n",
       "      <td>...</td>\n",
       "      <td>76.232497</td>\n",
       "      <td>2.060338</td>\n",
       "      <td>31.795843</td>\n",
       "      <td>2.556014</td>\n",
       "      <td>22.098211</td>\n",
       "      <td>4979</td>\n",
       "      <td>56</td>\n",
       "      <td>5.589</td>\n",
       "      <td>198</td>\n",
       "      <td>4.30</td>\n",
       "    </tr>\n",
       "    <tr>\n",
       "      <th>3</th>\n",
       "      <td>0</td>\n",
       "      <td>-10.0458</td>\n",
       "      <td>100.918098</td>\n",
       "      <td>183.2952</td>\n",
       "      <td>142.418303</td>\n",
       "      <td>6</td>\n",
       "      <td>6</td>\n",
       "      <td>135</td>\n",
       "      <td>64</td>\n",
       "      <td>71</td>\n",
       "      <td>...</td>\n",
       "      <td>125.580825</td>\n",
       "      <td>1.962200</td>\n",
       "      <td>61.611922</td>\n",
       "      <td>20.276064</td>\n",
       "      <td>41.335857</td>\n",
       "      <td>21440</td>\n",
       "      <td>92</td>\n",
       "      <td>-0.194</td>\n",
       "      <td>302</td>\n",
       "      <td>6.03</td>\n",
       "    </tr>\n",
       "    <tr>\n",
       "      <th>4</th>\n",
       "      <td>0</td>\n",
       "      <td>-1.7897</td>\n",
       "      <td>3.203026</td>\n",
       "      <td>32.3564</td>\n",
       "      <td>58.685481</td>\n",
       "      <td>21</td>\n",
       "      <td>23</td>\n",
       "      <td>47</td>\n",
       "      <td>30</td>\n",
       "      <td>17</td>\n",
       "      <td>...</td>\n",
       "      <td>62.402934</td>\n",
       "      <td>2.080098</td>\n",
       "      <td>16.872064</td>\n",
       "      <td>13.655728</td>\n",
       "      <td>3.216336</td>\n",
       "      <td>2319</td>\n",
       "      <td>52</td>\n",
       "      <td>4.844</td>\n",
       "      <td>168</td>\n",
       "      <td>6.42</td>\n",
       "    </tr>\n",
       "  </tbody>\n",
       "</table>\n",
       "<p>5 rows × 1209 columns</p>\n",
       "</div>"
      ],
      "text/plain": [
       "   nAcid    ALogP      ALogp2       AMR        apol  naAromAtom  nAromBond  \\\n",
       "0      0  -0.7109    0.505379   70.4932   73.378583          16         18   \n",
       "1      0  -1.4578    2.125181   44.0418   64.304653          18         20   \n",
       "2      0   0.0748    0.005595   27.2874   69.268860          27         29   \n",
       "3      0 -10.0458  100.918098  183.2952  142.418303           6          6   \n",
       "4      0  -1.7897    3.203026   32.3564   58.685481          21         23   \n",
       "\n",
       "   nAtom  nHeavyAtom  nH  ...      WTPT-1    WTPT-2     WTPT-3     WTPT-4  \\\n",
       "0     65          34  31  ...   70.514766  2.073964  27.938805  11.267053   \n",
       "1     52          31  21  ...   65.167083  2.102164  17.955201   2.565237   \n",
       "2     57          37  20  ...   76.232497  2.060338  31.795843   2.556014   \n",
       "3    135          64  71  ...  125.580825  1.962200  61.611922  20.276064   \n",
       "4     47          30  17  ...   62.402934  2.080098  16.872064  13.655728   \n",
       "\n",
       "      WTPT-5  WPATH  WPOL  XLogP  Zagreb  pChemBL  \n",
       "0  16.671753   3404    59  2.188     184     6.82  \n",
       "1  15.389964   2593    55  6.575     180     7.64  \n",
       "2  22.098211   4979    56  5.589     198     4.30  \n",
       "3  41.335857  21440    92 -0.194     302     6.03  \n",
       "4   3.216336   2319    52  4.844     168     6.42  \n",
       "\n",
       "[5 rows x 1209 columns]"
      ]
     },
     "execution_count": 4,
     "metadata": {},
     "output_type": "execute_result"
    }
   ],
   "source": [
    "X= pd.read_csv('no_zeros_no_chembl.csv')\n",
    "#X.drop(columns=['ChemBLID'],inplace=True)\n",
    "X.head()"
   ]
  },
  {
   "cell_type": "code",
   "execution_count": 5,
   "metadata": {},
   "outputs": [
    {
     "data": {
      "text/plain": [
       "(1209, 1209)"
      ]
     },
     "execution_count": 5,
     "metadata": {},
     "output_type": "execute_result"
    }
   ],
   "source": [
    "correlation_matrix = X.corr()\n",
    "correlation_matrix.shape"
   ]
  },
  {
   "cell_type": "code",
   "execution_count": 7,
   "metadata": {},
   "outputs": [
    {
     "data": {
      "text/plain": [
       "(array([345., 271., 217., 159., 114.,  69.,  19.,   7.,   5.,   2.]),\n",
       " array([6.86000008e-05, 3.71605334e-02, 7.42524668e-02, 1.11344400e-01,\n",
       "        1.48436334e-01, 1.85528267e-01, 2.22620200e-01, 2.59712134e-01,\n",
       "        2.96804067e-01, 3.33896001e-01, 3.70987934e-01]),\n",
       " <a list of 10 Patch objects>)"
      ]
     },
     "execution_count": 7,
     "metadata": {},
     "output_type": "execute_result"
    },
    {
     "data": {
      "image/png": "[encoded data removed]",
      "text/plain": [
       "<Figure size 432x288 with 1 Axes>"
      ]
     },
     "metadata": {
      "needs_background": "light"
     },
     "output_type": "display_data"
    }
   ],
   "source": [
    "plt.title('Absolute value of Correlation with pChemBL')\n",
    "plt.hist((correlation_matrix.iloc[:1208,1208]).abs())"
   ]
  },
  {
   "cell_type": "code",
   "execution_count": 8,
   "metadata": {},
   "outputs": [
    {
     "name": "stdout",
     "output_type": "stream",
     "text": [
      "757\n"
     ]
    },
    {
     "data": {
      "text/plain": [
       "757"
      ]
     },
     "execution_count": 8,
     "metadata": {},
     "output_type": "execute_result"
    }
   ],
   "source": [
    "bad_cols_index = []\n",
    "for cols in range(1208):\n",
    "    if correlation_matrix.abs().iloc[cols,1208] < 0.1:\n",
    "        bad_cols_index.append(cols)\n",
    "print(len(bad_cols_index))\n",
    "\n",
    "bad_cols2 = []\n",
    "cols = X.columns\n",
    "for index in bad_cols_index:\n",
    "    bad_cols2.append(cols[index])\n",
    "len(bad_cols2)"
   ]
  },
  {
   "cell_type": "code",
   "execution_count": 9,
   "metadata": {},
   "outputs": [],
   "source": [
    "X.drop(columns = bad_cols2, inplace = True)"
   ]
  },
  {
   "cell_type": "code",
   "execution_count": 10,
   "metadata": {},
   "outputs": [
    {
     "data": {
      "text/plain": [
       "(2861, 452)"
      ]
     },
     "execution_count": 10,
     "metadata": {},
     "output_type": "execute_result"
    }
   ],
   "source": [
    "X.shape"
   ]
  },
  {
   "cell_type": "code",
   "execution_count": 8,
   "metadata": {},
   "outputs": [
    {
     "data": {
      "text/plain": [
       "(array([345., 271., 217., 159., 114.,  69.,  19.,   7.,   5.,   2.]),\n",
       " array([6.86000008e-05, 3.71605334e-02, 7.42524668e-02, 1.11344400e-01,\n",
       "        1.48436334e-01, 1.85528267e-01, 2.22620200e-01, 2.59712134e-01,\n",
       "        2.96804067e-01, 3.33896001e-01, 3.70987934e-01]),\n",
       " <a list of 10 Patch objects>)"
      ]
     },
     "execution_count": 8,
     "metadata": {},
     "output_type": "execute_result"
    },
    {
     "data": {
      "image/png": "[encoded data removed]",
      "text/plain": [
       "<Figure size 432x288 with 1 Axes>"
      ]
     },
     "metadata": {
      "needs_background": "light"
     },
     "output_type": "display_data"
    }
   ],
   "source": [
    "correlation_matrix = X.corr()\n",
    "rows, cols = correlation_matrix.shape\n",
    "plt.title('Absolute value of Correlation with pChemBL')\n",
    "plt.hist((correlation_matrix.iloc[:(rows-1),rows-1]).abs())"
   ]
  },
  {
   "cell_type": "code",
   "execution_count": 9,
   "metadata": {},
   "outputs": [
    {
     "name": "stdout",
     "output_type": "stream",
     "text": [
      "1191\n"
     ]
    },
    {
     "data": {
      "text/plain": [
       "1191"
      ]
     },
     "execution_count": 9,
     "metadata": {},
     "output_type": "execute_result"
    }
   ],
   "source": [
    "bad_cols_index = []\n",
    "for cols in range(rows-1):\n",
    "    if correlation_matrix.abs().iloc[cols,rows-1] < 0.25:\n",
    "        bad_cols_index.append(cols)\n",
    "print(len(bad_cols_index))\n",
    "\n",
    "bad_cols2 = []\n",
    "cols = X.columns\n",
    "for index in bad_cols_index:\n",
    "    bad_cols2.append(cols[index])\n",
    "len(bad_cols2)"
   ]
  },
  {
   "cell_type": "code",
   "execution_count": 10,
   "metadata": {},
   "outputs": [
    {
     "data": {
      "text/html": [
       "<div>\n",
       "<style scoped>\n",
       "    .dataframe tbody tr th:only-of-type {\n",
       "        vertical-align: middle;\n",
       "    }\n",
       "\n",
       "    .dataframe tbody tr th {\n",
       "        vertical-align: top;\n",
       "    }\n",
       "\n",
       "    .dataframe thead th {\n",
       "        text-align: right;\n",
       "    }\n",
       "</style>\n",
       "<table border=\"1\" class=\"dataframe\">\n",
       "  <thead>\n",
       "    <tr style=\"text-align: right;\">\n",
       "      <th></th>\n",
       "      <th>ATSC4c</th>\n",
       "      <th>ATSC2v</th>\n",
       "      <th>SCH-7</th>\n",
       "      <th>ASP-7</th>\n",
       "      <th>hmin</th>\n",
       "      <th>ETA_BetaP_s</th>\n",
       "      <th>IC1</th>\n",
       "      <th>IC2</th>\n",
       "      <th>SIC2</th>\n",
       "      <th>BIC2</th>\n",
       "      <th>ZMIC1</th>\n",
       "      <th>ZMIC2</th>\n",
       "      <th>MDEO-11</th>\n",
       "      <th>nHeteroRing</th>\n",
       "      <th>n6HeteroRing</th>\n",
       "      <th>nT6HeteroRing</th>\n",
       "      <th>LipinskiFailures</th>\n",
       "      <th>pChemBL</th>\n",
       "    </tr>\n",
       "  </thead>\n",
       "  <tbody>\n",
       "    <tr>\n",
       "      <th>0</th>\n",
       "      <td>0.183691</td>\n",
       "      <td>808.584430</td>\n",
       "      <td>0.639198</td>\n",
       "      <td>0.027205</td>\n",
       "      <td>-0.189456</td>\n",
       "      <td>0.69853</td>\n",
       "      <td>3.498205</td>\n",
       "      <td>4.793532</td>\n",
       "      <td>0.795955</td>\n",
       "      <td>0.762645</td>\n",
       "      <td>51.535290</td>\n",
       "      <td>33.179219</td>\n",
       "      <td>0.000000</td>\n",
       "      <td>4</td>\n",
       "      <td>4</td>\n",
       "      <td>4</td>\n",
       "      <td>0</td>\n",
       "      <td>6.82</td>\n",
       "    </tr>\n",
       "    <tr>\n",
       "      <th>1</th>\n",
       "      <td>0.052198</td>\n",
       "      <td>-125.913748</td>\n",
       "      <td>1.013922</td>\n",
       "      <td>0.025619</td>\n",
       "      <td>-0.114131</td>\n",
       "      <td>0.65323</td>\n",
       "      <td>3.560855</td>\n",
       "      <td>4.402672</td>\n",
       "      <td>0.772339</td>\n",
       "      <td>0.718301</td>\n",
       "      <td>58.106835</td>\n",
       "      <td>36.787814</td>\n",
       "      <td>0.000000</td>\n",
       "      <td>3</td>\n",
       "      <td>2</td>\n",
       "      <td>2</td>\n",
       "      <td>1</td>\n",
       "      <td>7.64</td>\n",
       "    </tr>\n",
       "    <tr>\n",
       "      <th>2</th>\n",
       "      <td>-0.177672</td>\n",
       "      <td>-435.726504</td>\n",
       "      <td>0.622175</td>\n",
       "      <td>0.031451</td>\n",
       "      <td>-0.014566</td>\n",
       "      <td>0.68243</td>\n",
       "      <td>3.677764</td>\n",
       "      <td>4.767468</td>\n",
       "      <td>0.817342</td>\n",
       "      <td>0.761894</td>\n",
       "      <td>65.634530</td>\n",
       "      <td>39.004854</td>\n",
       "      <td>0.000000</td>\n",
       "      <td>3</td>\n",
       "      <td>2</td>\n",
       "      <td>2</td>\n",
       "      <td>1</td>\n",
       "      <td>4.30</td>\n",
       "    </tr>\n",
       "    <tr>\n",
       "      <th>3</th>\n",
       "      <td>-1.568588</td>\n",
       "      <td>-1158.676211</td>\n",
       "      <td>0.405022</td>\n",
       "      <td>0.033239</td>\n",
       "      <td>-0.177539</td>\n",
       "      <td>0.63281</td>\n",
       "      <td>3.492463</td>\n",
       "      <td>4.900736</td>\n",
       "      <td>0.692506</td>\n",
       "      <td>0.679765</td>\n",
       "      <td>108.296299</td>\n",
       "      <td>67.713621</td>\n",
       "      <td>2.886374</td>\n",
       "      <td>1</td>\n",
       "      <td>0</td>\n",
       "      <td>0</td>\n",
       "      <td>3</td>\n",
       "      <td>6.03</td>\n",
       "    </tr>\n",
       "    <tr>\n",
       "      <th>4</th>\n",
       "      <td>0.464528</td>\n",
       "      <td>150.179266</td>\n",
       "      <td>1.160056</td>\n",
       "      <td>0.025954</td>\n",
       "      <td>-0.117708</td>\n",
       "      <td>0.64167</td>\n",
       "      <td>3.468889</td>\n",
       "      <td>4.475247</td>\n",
       "      <td>0.805685</td>\n",
       "      <td>0.744481</td>\n",
       "      <td>61.609585</td>\n",
       "      <td>34.166117</td>\n",
       "      <td>0.655185</td>\n",
       "      <td>2</td>\n",
       "      <td>0</td>\n",
       "      <td>0</td>\n",
       "      <td>0</td>\n",
       "      <td>6.42</td>\n",
       "    </tr>\n",
       "  </tbody>\n",
       "</table>\n",
       "</div>"
      ],
      "text/plain": [
       "     ATSC4c       ATSC2v     SCH-7     ASP-7      hmin  ETA_BetaP_s       IC1  \\\n",
       "0  0.183691   808.584430  0.639198  0.027205 -0.189456      0.69853  3.498205   \n",
       "1  0.052198  -125.913748  1.013922  0.025619 -0.114131      0.65323  3.560855   \n",
       "2 -0.177672  -435.726504  0.622175  0.031451 -0.014566      0.68243  3.677764   \n",
       "3 -1.568588 -1158.676211  0.405022  0.033239 -0.177539      0.63281  3.492463   \n",
       "4  0.464528   150.179266  1.160056  0.025954 -0.117708      0.64167  3.468889   \n",
       "\n",
       "        IC2      SIC2      BIC2       ZMIC1      ZMIC2   MDEO-11  nHeteroRing  \\\n",
       "0  4.793532  0.795955  0.762645   51.535290  33.179219  0.000000            4   \n",
       "1  4.402672  0.772339  0.718301   58.106835  36.787814  0.000000            3   \n",
       "2  4.767468  0.817342  0.761894   65.634530  39.004854  0.000000            3   \n",
       "3  4.900736  0.692506  0.679765  108.296299  67.713621  2.886374            1   \n",
       "4  4.475247  0.805685  0.744481   61.609585  34.166117  0.655185            2   \n",
       "\n",
       "   n6HeteroRing  nT6HeteroRing  LipinskiFailures  pChemBL  \n",
       "0             4              4                 0     6.82  \n",
       "1             2              2                 1     7.64  \n",
       "2             2              2                 1     4.30  \n",
       "3             0              0                 3     6.03  \n",
       "4             0              0                 0     6.42  "
      ]
     },
     "execution_count": 10,
     "metadata": {},
     "output_type": "execute_result"
    }
   ],
   "source": [
    "X_try = X.drop(columns=bad_cols2,inplace=False).copy()\n",
    "X_try.head()"
   ]
  },
  {
   "cell_type": "code",
   "execution_count": 22,
   "metadata": {},
   "outputs": [],
   "source": [
    "X_train, X_test, X_validate, y_train, y_test, y_validate = split_data(X_lol)"
   ]
  },
  {
   "cell_type": "code",
   "execution_count": 25,
   "metadata": {},
   "outputs": [
    {
     "name": "stdout",
     "output_type": "stream",
     "text": [
      "Test set results\n",
      "RMSE = 0.9657719395874582\t R^2 = 0.2707232396332827\n"
     ]
    }
   ],
   "source": [
    "model1 = LinearRegression()\n",
    "model1.fit(X_train,y_train)\n",
    "r_square = model1.score(X_test,y_test)\n",
    "rmse = np.sqrt(mean_squared_error(model1.predict(X_test),y_test))\n",
    "print(\"Test set results\\nRMSE = {}\\t R^2 = {}\".format(rmse,r_square))"
   ]
  },
  {
   "cell_type": "code",
   "execution_count": 26,
   "metadata": {},
   "outputs": [],
   "source": [
    "rr = Ridge(alpha=0.001)\n",
    "rr1 = Ridge(alpha=1)\n",
    "rr2 = Ridge(alpha=1000)"
   ]
  },
  {
   "cell_type": "code",
   "execution_count": 27,
   "metadata": {},
   "outputs": [
    {
     "data": {
      "text/plain": [
       "Ridge(alpha=1000, copy_X=True, fit_intercept=True, max_iter=None,\n",
       "   normalize=False, random_state=None, solver='auto', tol=0.001)"
      ]
     },
     "execution_count": 27,
     "metadata": {},
     "output_type": "execute_result"
    }
   ],
   "source": [
    "rr.fit(X_train,y_train)\n",
    "rr1.fit(X_train,y_train)\n",
    "rr2.fit(X_train,y_train)"
   ]
  },
  {
   "cell_type": "code",
   "execution_count": 28,
   "metadata": {},
   "outputs": [
    {
     "name": "stdout",
     "output_type": "stream",
     "text": [
      "Test set results\n",
      "RMSE = 0.9655870349071923\t R^2 = 0.2710024645143161\n",
      "Test set results\n",
      "RMSE = 0.9669370921556286\t R^2 = 0.2689625107786966\n",
      "Test set results\n",
      "RMSE = 1.0286100605699529\t R^2 = 0.172734822006677\n"
     ]
    }
   ],
   "source": [
    "r_square = rr.score(X_test,y_test)\n",
    "rmse = np.sqrt(mean_squared_error(rr.predict(X_test),y_test))\n",
    "print(\"Test set results\\nRMSE = {}\\t R^2 = {}\".format(rmse,r_square))\n",
    "r_square = rr1.score(X_test,y_test)\n",
    "rmse = np.sqrt(mean_squared_error(rr1.predict(X_test),y_test))\n",
    "print(\"Test set results\\nRMSE = {}\\t R^2 = {}\".format(rmse,r_square))\n",
    "r_square = rr2.score(X_test,y_test)\n",
    "rmse = np.sqrt(mean_squared_error(rr2.predict(X_test),y_test))\n",
    "print(\"Test set results\\nRMSE = {}\\t R^2 = {}\".format(rmse,r_square))"
   ]
  },
  {
   "cell_type": "code",
   "execution_count": 29,
   "metadata": {},
   "outputs": [],
   "source": [
    "l = Lasso(alpha=0.001)\n",
    "l1 = Lasso(alpha=0.1)\n",
    "l2 = Lasso(alpha=0.01)"
   ]
  },
  {
   "cell_type": "code",
   "execution_count": 30,
   "metadata": {},
   "outputs": [
    {
     "data": {
      "text/plain": [
       "Lasso(alpha=0.01, copy_X=True, fit_intercept=True, max_iter=1000,\n",
       "   normalize=False, positive=False, precompute=False, random_state=None,\n",
       "   selection='cyclic', tol=0.0001, warm_start=False)"
      ]
     },
     "execution_count": 30,
     "metadata": {},
     "output_type": "execute_result"
    }
   ],
   "source": [
    "l.fit(X_train,y_train)\n",
    "l1.fit(X_train,y_train)\n",
    "l2.fit(X_train,y_train)"
   ]
  },
  {
   "cell_type": "code",
   "execution_count": 31,
   "metadata": {},
   "outputs": [
    {
     "name": "stdout",
     "output_type": "stream",
     "text": [
      "Test set results\n",
      "RMSE = 0.9664722122175726\t R^2 = 0.2696652720460432\n",
      "Test set results\n",
      "RMSE = 1.0458835268612656\t R^2 = 0.1447169722531192\n",
      "Test set results\n",
      "RMSE = 0.9735882297659069\t R^2 = 0.25887094730607263\n"
     ]
    }
   ],
   "source": [
    "r_square = l.score(X_test,y_test)\n",
    "rmse = np.sqrt(mean_squared_error(l.predict(X_test),y_test))\n",
    "print(\"Test set results\\nRMSE = {}\\t R^2 = {}\".format(rmse,r_square))\n",
    "r_square = l1.score(X_test,y_test)\n",
    "rmse = np.sqrt(mean_squared_error(l1.predict(X_test),y_test))\n",
    "print(\"Test set results\\nRMSE = {}\\t R^2 = {}\".format(rmse,r_square))\n",
    "r_square = l2.score(X_test,y_test)\n",
    "rmse = np.sqrt(mean_squared_error(l2.predict(X_test),y_test))\n",
    "print(\"Test set results\\nRMSE = {}\\t R^2 = {}\".format(rmse,r_square))"
   ]
  },
  {
   "cell_type": "code",
   "execution_count": 41,
   "metadata": {},
   "outputs": [
    {
     "data": {
      "text/plain": [
       "RandomForestRegressor(bootstrap=True, criterion='mse', max_depth=None,\n",
       "           max_features='auto', max_leaf_nodes=None,\n",
       "           min_impurity_decrease=0.0, min_impurity_split=None,\n",
       "           min_samples_leaf=1, min_samples_split=2,\n",
       "           min_weight_fraction_leaf=0.0, n_estimators=150, n_jobs=None,\n",
       "           oob_score=False, random_state=None, verbose=0, warm_start=False)"
      ]
     },
     "execution_count": 41,
     "metadata": {},
     "output_type": "execute_result"
    }
   ],
   "source": [
    "from sklearn.ensemble import RandomForestRegressor\n",
    "model2 = RandomForestRegressor(n_estimators= 150)\n",
    "model2.fit(X_train,y_train)"
   ]
  },
  {
   "cell_type": "code",
   "execution_count": 43,
   "metadata": {},
   "outputs": [
    {
     "name": "stdout",
     "output_type": "stream",
     "text": [
      "Training set results:\n",
      "RMSE = 0.3014686431847232\t R^2 = 0.9329120097126015\n",
      "Test set results\n",
      "RMSE = 0.7847904425853084\t Q^2 = 0.5184397631297106\n",
      "Validation set results\n",
      "RMSE = 0.7960686191878112\t Q^2 = 0.553739539653053\n"
     ]
    }
   ],
   "source": [
    "r_square = model2.score(X_train,y_train)\n",
    "rmse = np.sqrt(mean_squared_error(model2.predict(X_train),y_train))\n",
    "print(\"Training set results:\\nRMSE = {}\\t R^2 = {}\".format(rmse,r_square))\n",
    "q_square = model2.score(X_test,y_test)\n",
    "rmse = np.sqrt(mean_squared_error(model2.predict(X_test),y_test))\n",
    "print(\"Test set results\\nRMSE = {}\\t Q^2 = {}\".format(rmse,q_square))\n",
    "q_square = model2.score(X_validate,y_validate)\n",
    "rmse = np.sqrt(mean_squared_error(y_validate,model2.predict(X_validate)))\n",
    "print(\"Validation set results\\nRMSE = {}\\t Q^2 = {}\".format(rmse,q_square))"
   ]
  },
  {
   "cell_type": "code",
   "execution_count": 47,
   "metadata": {
    "scrolled": true
   },
   "outputs": [
    {
     "name": "stdout",
     "output_type": "stream",
     "text": [
      "\n",
      "DATASET 1\n",
      "Training set results:\n",
      "RMSE = 0.3013015244582267\t R^2 = 0.9338124991486569\n",
      "Test set results\n",
      "RMSE = 0.7924468215760563\t Q^2 = 0.5183661839782061\n",
      "Validation set results\n",
      "RMSE = 0.765770334115545\t Q^2 = 0.5680658032462265\n",
      "\n",
      "DATASET 2\n",
      "Training set results:\n",
      "RMSE = 0.2983003916996915\t R^2 = 0.9354876941705035\n",
      "Test set results\n",
      "RMSE = 0.726900194299771\t Q^2 = 0.5712444020795474\n",
      "Validation set results\n",
      "RMSE = 0.7713985827138343\t Q^2 = 0.5712511138991998\n",
      "\n",
      "DATASET 3\n",
      "Training set results:\n",
      "RMSE = 0.2947474000597755\t R^2 = 0.9339368298167487\n",
      "Test set results\n",
      "RMSE = 0.772550057200154\t Q^2 = 0.5801616987660878\n",
      "Validation set results\n",
      "RMSE = 0.7997484510858857\t Q^2 = 0.5489120351355846\n",
      "\n",
      "DATASET 4\n",
      "Training set results:\n",
      "RMSE = 0.29567767099839787\t R^2 = 0.9358886810200453\n",
      "Test set results\n",
      "RMSE = 0.7590063817669721\t Q^2 = 0.5824451119464238\n",
      "Validation set results\n",
      "RMSE = 0.7752016861511418\t Q^2 = 0.5456693117870706\n",
      "\n",
      "DATASET 5\n",
      "Training set results:\n",
      "RMSE = 0.3019129441159326\t R^2 = 0.9327152336201596\n",
      "Test set results\n",
      "RMSE = 0.7616153486246097\t Q^2 = 0.5959014747198224\n",
      "Validation set results\n",
      "RMSE = 0.7637411557509403\t Q^2 = 0.5485966984262335\n"
     ]
    }
   ],
   "source": [
    "models = []\n",
    "for i in range(5):\n",
    "    print(\"\\nDATASET {}\".format(i+1))\n",
    "    X_train, X_test, X_validate, y_train, y_test, y_validate = split_data(X_try)\n",
    "    models.append(train_RFR(X_train, X_test, X_validate, y_train, y_test, y_validate))\n",
    "    train = X_train.copy()\n",
    "    train['pChemBL'] = y_train\n",
    "    train.to_csv('./data/train'+str(i)+'.csv')\n",
    "    test = X_test.copy()\n",
    "    test['pChemBL'] = y_test\n",
    "    test.to_csv('./data/test'+str(i)+'.csv')\n",
    "    validation = X_validate.copy()\n",
    "    validation['pChemBL'] = y_validate\n",
    "    validation.to_csv('./data/validation'+str(i)+'.csv')"
   ]
  },
  {
   "cell_type": "markdown",
   "metadata": {},
   "source": [
    "<h3>Summary</h3>\n",
    "Best R^2 (train)      = DATASET 4(everything differs only in 10^-3)<br>\n",
    "Best Q^2 (test)       = DATASET 5<br>\n",
    "Best Q^2 (validation) = DATASET 2<br>\n",
    "Overall Best Data split -> <b>DATASET 2</b>"
   ]
  },
  {
   "cell_type": "code",
   "execution_count": 57,
   "metadata": {
    "scrolled": true
   },
   "outputs": [
    {
     "data": {
      "image/png": "[encoded data removed]",
      "text/plain": [
       "<Figure size 1440x1440 with 3 Axes>"
      ]
     },
     "metadata": {
      "needs_background": "light"
     },
     "output_type": "display_data"
    },
    {
     "data": {
      "image/png": "[encoded data removed]",
      "text/plain": [
       "<Figure size 1440x1440 with 3 Axes>"
      ]
     },
     "metadata": {
      "needs_background": "light"
     },
     "output_type": "display_data"
    },
    {
     "data": {
      "image/png": "[encoded data removed]",
      "text/plain": [
       "<Figure size 1440x1440 with 3 Axes>"
      ]
     },
     "metadata": {
      "needs_background": "light"
     },
     "output_type": "display_data"
    },
    {
     "data": {
      "image/png": "[encoded data removed]",
      "text/plain": [
       "<Figure size 1440x1440 with 3 Axes>"
      ]
     },
     "metadata": {
      "needs_background": "light"
     },
     "output_type": "display_data"
    },
    {
     "data": {
      "image/png": "[encoded data removed]",
      "text/plain": [
       "<Figure size 1440x1440 with 3 Axes>"
      ]
     },
     "metadata": {
      "needs_background": "light"
     },
     "output_type": "display_data"
    }
   ],
   "source": [
    "for i in range(5):\n",
    "    plt.figure(figsize=(20,20))\n",
    "    plt.subplot(5,3,3*i+1)\n",
    "    train = pd.read_csv('./data/train'+str(i)+'.csv')\n",
    "    \n",
    "    test = pd.read_csv('./data/test'+str(i)+'.csv')\n",
    "    validate = pd.read_csv('./data/validation'+str(i)+'.csv')\n",
    "    plt.title('TRAIN')\n",
    "    plt.xlabel('pChemBL')\n",
    "    plt.hist(train['pChemBL'])\n",
    "    plt.subplot(5,3,3*i+2)\n",
    "    plt.xlabel('pChemBL')\n",
    "    plt.title('TEST')\n",
    "    plt.hist(test['pChemBL'],color='green')\n",
    "    plt.subplot(5,3,3*i+3)\n",
    "    plt.title('VALIDATE')\n",
    "    plt.xlabel('pChemBL')\n",
    "    plt.hist(validate['pChemBL'],color='red')"
   ]
  },
  {
   "cell_type": "code",
   "execution_count": 61,
   "metadata": {
    "scrolled": true
   },
   "outputs": [
    {
     "data": {
      "image/png": "[encoded data removed]",
      "text/plain": [
       "<Figure size 1440x1440 with 3 Axes>"
      ]
     },
     "metadata": {
      "needs_background": "light"
     },
     "output_type": "display_data"
    },
    {
     "data": {
      "image/png": "[encoded data removed]",
      "text/plain": [
       "<Figure size 1440x1440 with 3 Axes>"
      ]
     },
     "metadata": {
      "needs_background": "light"
     },
     "output_type": "display_data"
    },
    {
     "data": {
      "image/png": "[encoded data removed]",
      "text/plain": [
       "<Figure size 1440x1440 with 3 Axes>"
      ]
     },
     "metadata": {
      "needs_background": "light"
     },
     "output_type": "display_data"
    },
    {
     "data": {
      "image/png": "[encoded data removed]",
      "text/plain": [
       "<Figure size 1440x1440 with 3 Axes>"
      ]
     },
     "metadata": {
      "needs_background": "light"
     },
     "output_type": "display_data"
    },
    {
     "data": {
      "image/png": "[encoded data removed]",
      "text/plain": [
       "<Figure size 1440x1440 with 3 Axes>"
      ]
     },
     "metadata": {
      "needs_background": "light"
     },
     "output_type": "display_data"
    }
   ],
   "source": [
    "for i in range(5):\n",
    "    bins = [4,6,7,8,10]\n",
    "    plt.figure(figsize=(20,20))\n",
    "    plt.subplot(5,3,3*i+1)\n",
    "    train = pd.read_csv('./data/train'+str(i)+'.csv')\n",
    "    test = pd.read_csv('./data/test'+str(i)+'.csv')\n",
    "    validate = pd.read_csv('./data/validation'+str(i)+'.csv')\n",
    "    plt.title('TRAIN')\n",
    "    plt.xlabel('pChemBL')\n",
    "    plt.hist(train['pChemBL'],bins=bins)\n",
    "    plt.subplot(5,3,3*i+2)\n",
    "    plt.xlabel('pChemBL')\n",
    "    plt.title('TEST')\n",
    "    plt.hist(test['pChemBL'],color='green',bins=bins)\n",
    "    plt.subplot(5,3,3*i+3)\n",
    "    plt.title('VALIDATE')\n",
    "    plt.xlabel('pChemBL')\n",
    "    plt.hist(validate['pChemBL'],color='red',bins=bins)"
   ]
  },
  {
   "cell_type": "markdown",
   "metadata": {},
   "source": [
    "<h4>Random Forest Regressor with normalisation</h4>"
   ]
  },
  {
   "cell_type": "code",
   "execution_count": 68,
   "metadata": {
    "scrolled": true
   },
   "outputs": [
    {
     "name": "stdout",
     "output_type": "stream",
     "text": [
      "\n",
      "DATASET 1\n"
     ]
    },
    {
     "name": "stderr",
     "output_type": "stream",
     "text": [
      "C:\\Users\\HP\\Anaconda3\\lib\\site-packages\\sklearn\\preprocessing\\data.py:625: DataConversionWarning: Data with input dtype int64, float64 were all converted to float64 by StandardScaler.\n",
      "  return self.partial_fit(X, y)\n",
      "C:\\Users\\HP\\Anaconda3\\lib\\site-packages\\ipykernel_launcher.py:10: DataConversionWarning: Data with input dtype int64, float64 were all converted to float64 by StandardScaler.\n",
      "  # Remove the CWD from sys.path while we load stuff.\n",
      "C:\\Users\\HP\\Anaconda3\\lib\\site-packages\\ipykernel_launcher.py:15: DataConversionWarning: Data with input dtype int64, float64 were all converted to float64 by StandardScaler.\n",
      "  from ipykernel import kernelapp as app\n",
      "C:\\Users\\HP\\Anaconda3\\lib\\site-packages\\ipykernel_launcher.py:20: DataConversionWarning: Data with input dtype int64, float64 were all converted to float64 by StandardScaler.\n"
     ]
    },
    {
     "name": "stdout",
     "output_type": "stream",
     "text": [
      "Training set results:\n",
      "RMSE = 0.281202157725047\t R^2 = 0.9423484985195044\n",
      "Test set results\n",
      "RMSE = 0.7417899402134879\t Q^2 = 0.5779745956797784\n",
      "Validation set results\n",
      "RMSE = 0.7258734029409973\t Q^2 = 0.6119012173867547\n",
      "\n",
      "DATASET 2\n"
     ]
    },
    {
     "name": "stderr",
     "output_type": "stream",
     "text": [
      "C:\\Users\\HP\\Anaconda3\\lib\\site-packages\\sklearn\\preprocessing\\data.py:625: DataConversionWarning: Data with input dtype int64, float64 were all converted to float64 by StandardScaler.\n",
      "  return self.partial_fit(X, y)\n",
      "C:\\Users\\HP\\Anaconda3\\lib\\site-packages\\ipykernel_launcher.py:10: DataConversionWarning: Data with input dtype int64, float64 were all converted to float64 by StandardScaler.\n",
      "  # Remove the CWD from sys.path while we load stuff.\n",
      "C:\\Users\\HP\\Anaconda3\\lib\\site-packages\\ipykernel_launcher.py:15: DataConversionWarning: Data with input dtype int64, float64 were all converted to float64 by StandardScaler.\n",
      "  from ipykernel import kernelapp as app\n",
      "C:\\Users\\HP\\Anaconda3\\lib\\site-packages\\ipykernel_launcher.py:20: DataConversionWarning: Data with input dtype int64, float64 were all converted to float64 by StandardScaler.\n"
     ]
    },
    {
     "name": "stdout",
     "output_type": "stream",
     "text": [
      "Training set results:\n",
      "RMSE = 0.27763963301033506\t R^2 = 0.9441146672668734\n",
      "Test set results\n",
      "RMSE = 0.6932167244248182\t Q^2 = 0.6100595422223682\n",
      "Validation set results\n",
      "RMSE = 0.7335086064538805\t Q^2 = 0.6123357440351114\n",
      "\n",
      "DATASET 3\n"
     ]
    },
    {
     "name": "stderr",
     "output_type": "stream",
     "text": [
      "C:\\Users\\HP\\Anaconda3\\lib\\site-packages\\sklearn\\preprocessing\\data.py:625: DataConversionWarning: Data with input dtype int64, float64 were all converted to float64 by StandardScaler.\n",
      "  return self.partial_fit(X, y)\n",
      "C:\\Users\\HP\\Anaconda3\\lib\\site-packages\\ipykernel_launcher.py:10: DataConversionWarning: Data with input dtype int64, float64 were all converted to float64 by StandardScaler.\n",
      "  # Remove the CWD from sys.path while we load stuff.\n",
      "C:\\Users\\HP\\Anaconda3\\lib\\site-packages\\ipykernel_launcher.py:15: DataConversionWarning: Data with input dtype int64, float64 were all converted to float64 by StandardScaler.\n",
      "  from ipykernel import kernelapp as app\n",
      "C:\\Users\\HP\\Anaconda3\\lib\\site-packages\\ipykernel_launcher.py:20: DataConversionWarning: Data with input dtype int64, float64 were all converted to float64 by StandardScaler.\n"
     ]
    },
    {
     "name": "stdout",
     "output_type": "stream",
     "text": [
      "Training set results:\n",
      "RMSE = 0.27820869723828534\t R^2 = 0.9411426303096134\n",
      "Test set results\n",
      "RMSE = 0.7350648110178425\t Q^2 = 0.6199155837891641\n",
      "Validation set results\n",
      "RMSE = 0.7660100304793359\t Q^2 = 0.5861686974907196\n",
      "\n",
      "DATASET 4\n"
     ]
    },
    {
     "name": "stderr",
     "output_type": "stream",
     "text": [
      "C:\\Users\\HP\\Anaconda3\\lib\\site-packages\\sklearn\\preprocessing\\data.py:625: DataConversionWarning: Data with input dtype int64, float64 were all converted to float64 by StandardScaler.\n",
      "  return self.partial_fit(X, y)\n",
      "C:\\Users\\HP\\Anaconda3\\lib\\site-packages\\ipykernel_launcher.py:10: DataConversionWarning: Data with input dtype int64, float64 were all converted to float64 by StandardScaler.\n",
      "  # Remove the CWD from sys.path while we load stuff.\n",
      "C:\\Users\\HP\\Anaconda3\\lib\\site-packages\\ipykernel_launcher.py:15: DataConversionWarning: Data with input dtype int64, float64 were all converted to float64 by StandardScaler.\n",
      "  from ipykernel import kernelapp as app\n",
      "C:\\Users\\HP\\Anaconda3\\lib\\site-packages\\ipykernel_launcher.py:20: DataConversionWarning: Data with input dtype int64, float64 were all converted to float64 by StandardScaler.\n"
     ]
    },
    {
     "name": "stdout",
     "output_type": "stream",
     "text": [
      "Training set results:\n",
      "RMSE = 0.28027270673989113\t R^2 = 0.942395120835752\n",
      "Test set results\n",
      "RMSE = 0.732196507113153\t Q^2 = 0.6114221664031111\n",
      "Validation set results\n",
      "RMSE = 0.739923824095135\t Q^2 = 0.5860797466049559\n",
      "\n",
      "DATASET 5\n"
     ]
    },
    {
     "name": "stderr",
     "output_type": "stream",
     "text": [
      "C:\\Users\\HP\\Anaconda3\\lib\\site-packages\\sklearn\\preprocessing\\data.py:625: DataConversionWarning: Data with input dtype int64, float64 were all converted to float64 by StandardScaler.\n",
      "  return self.partial_fit(X, y)\n",
      "C:\\Users\\HP\\Anaconda3\\lib\\site-packages\\ipykernel_launcher.py:10: DataConversionWarning: Data with input dtype int64, float64 were all converted to float64 by StandardScaler.\n",
      "  # Remove the CWD from sys.path while we load stuff.\n",
      "C:\\Users\\HP\\Anaconda3\\lib\\site-packages\\ipykernel_launcher.py:15: DataConversionWarning: Data with input dtype int64, float64 were all converted to float64 by StandardScaler.\n",
      "  from ipykernel import kernelapp as app\n",
      "C:\\Users\\HP\\Anaconda3\\lib\\site-packages\\ipykernel_launcher.py:20: DataConversionWarning: Data with input dtype int64, float64 were all converted to float64 by StandardScaler.\n"
     ]
    },
    {
     "name": "stdout",
     "output_type": "stream",
     "text": [
      "Training set results:\n",
      "RMSE = 0.27964618016626125\t R^2 = 0.9422740531337913\n",
      "Test set results\n",
      "RMSE = 0.7193416107386147\t Q^2 = 0.6395157818331578\n",
      "Validation set results\n",
      "RMSE = 0.7321152025772548\t Q^2 = 0.5852072151347352\n"
     ]
    }
   ],
   "source": [
    "models = []\n",
    "from sklearn.preprocessing import StandardScaler\n",
    "for i in range(5):\n",
    "    print(\"\\nDATASET {}\".format(i+1))\n",
    "    train = pd.read_csv('./data/train'+str(i)+'.csv')\n",
    "    X_train = train.drop(columns='pChemBL',inplace=False)\n",
    "    y_train = train['pChemBL']\n",
    "    scaler = StandardScaler(copy=True)\n",
    "    scaler.fit(X_train)\n",
    "    X = scaler.transform(X_train)#.drop(columns=['ChemBLID'],inplace=False))\n",
    "    X_train = pd.DataFrame(data=X,columns=X_train.columns)\n",
    "    test = pd.read_csv('./data/test'+str(i)+'.csv')\n",
    "    X_test = test.drop(columns='pChemBL',inplace=False)\n",
    "    y_test = test['pChemBL']\n",
    "    X = scaler.transform(X_test)\n",
    "    X_test = pd.DataFrame(data=X,columns=X_test.columns)\n",
    "    validate = pd.read_csv('./data/validation'+str(i)+'.csv')\n",
    "    X_validate = validate.drop(columns='pChemBL',inplace=False)\n",
    "    y_validate = validate['pChemBL']\n",
    "    X = scaler.transform(X_validate)\n",
    "    X_validate = pd.DataFrame(data=X,columns=X_test.columns)\n",
    "    model = train_RFR(X_train, X_test, X_validate, y_train, y_test, y_validate)"
   ]
  },
  {
   "cell_type": "markdown",
   "metadata": {},
   "source": [
    "<b>Summary:</b> Scaling reduces RMSE as well as increases Q^2"
   ]
  },
  {
   "cell_type": "code",
   "execution_count": 64,
   "metadata": {},
   "outputs": [
    {
     "data": {
      "text/plain": [
       "0.29483860745933277"
      ]
     },
     "execution_count": 64,
     "metadata": {},
     "output_type": "execute_result"
    }
   ],
   "source": [
    "from sklearn.linear_model import ARDRegression\n",
    "ARD = ARDRegression(normalize = True)\n",
    "ARD.fit(X_train,y_train)\n",
    "ARD.score(X_test,y_test)"
   ]
  },
  {
   "cell_type": "code",
   "execution_count": 65,
   "metadata": {},
   "outputs": [
    {
     "data": {
      "text/plain": [
       "0.29393488903750853"
      ]
     },
     "execution_count": 65,
     "metadata": {},
     "output_type": "execute_result"
    }
   ],
   "source": [
    "from sklearn.linear_model import ARDRegression\n",
    "ARD = ARDRegression()\n",
    "ARD.fit(X_train,y_train)\n",
    "ARD.score(X_test,y_test)"
   ]
  },
  {
   "cell_type": "code",
   "execution_count": 2,
   "metadata": {},
   "outputs": [],
   "source": [
    "train = pd.read_csv('./data/train'+str(1)+'.csv')\n",
    "test = pd.read_csv('./data/test'+str(1)+'.csv')\n",
    "validate = pd.read_csv('./data/validation'+str(1)+'.csv')\n",
    "frames = [train, test, validate]\n",
    "result = pd.concat(frames)"
   ]
  },
  {
   "cell_type": "code",
   "execution_count": 24,
   "metadata": {},
   "outputs": [
    {
     "name": "stdout",
     "output_type": "stream",
     "text": [
      "RMSE =0.9178856979208991\n",
      "Q^2 = 0.3163442996795902\n"
     ]
    }
   ],
   "source": [
    "linear_model = LinearRegression()\n",
    "linear_model.fit(train.drop(columns='pChemBL',inplace=False),train['pChemBL'])\n",
    "q_ = linear_model.score(test.drop(columns='pChemBL',inplace=False),test['pChemBL'])\n",
    "rmse = np.sqrt(mean_squared_error(linear_model.predict(test.drop(columns='pChemBL',inplace=False)),test['pChemBL']))\n",
    "print(\"RMSE ={}\\nQ^2 = {}\".format(rmse,q_))"
   ]
  },
  {
   "cell_type": "code",
   "execution_count": 23,
   "metadata": {},
   "outputs": [
    {
     "data": {
      "text/plain": [
       "(array([  3.,   2.,  25.,  53.,  81., 145., 128.,  92.,  42.,   2.]),\n",
       " array([ 2.61798296,  3.35618466,  4.09438637,  4.83258807,  5.57078977,\n",
       "         6.30899148,  7.04719318,  7.78539489,  8.52359659,  9.2617983 ,\n",
       "        10.        ]),\n",
       " <a list of 10 Patch objects>)"
      ]
     },
     "execution_count": 23,
     "metadata": {},
     "output_type": "execute_result"
    },
    {
     "data": {
      "image/png": "[encoded data removed]",
      "text/plain": [
       "<Figure size 720x720 with 3 Axes>"
      ]
     },
     "metadata": {
      "needs_background": "light"
     },
     "output_type": "display_data"
    }
   ],
   "source": [
    "i = 0\n",
    "plt.figure(figsize=(10,10))\n",
    "plt.subplot(5,3,1)\n",
    "plt.title('TRAIN')\n",
    "plt.xlabel('pChemBL')\n",
    "plt.hist(train['pChemBL'])\n",
    "plt.subplot(5,3,3*i+2)\n",
    "plt.xlabel('pChemBL')\n",
    "plt.title('TEST')\n",
    "plt.hist(test['pChemBL'],color='green')\n",
    "plt.subplot(5,3,3*i+3)\n",
    "plt.title('VALIDATE')\n",
    "plt.xlabel('pChemBL')\n",
    "plt.hist(validate['pChemBL'],color='red')"
   ]
  },
  {
   "cell_type": "code",
   "execution_count": 5,
   "metadata": {},
   "outputs": [],
   "source": [
    "correlation_matrix = result.corr()"
   ]
  },
  {
   "cell_type": "code",
   "execution_count": 17,
   "metadata": {},
   "outputs": [
    {
     "data": {
      "image/png": "[encoded data removed]",
      "text/plain": [
       "<Figure size 1080x1080 with 2 Axes>"
      ]
     },
     "metadata": {
      "needs_background": "light"
     },
     "output_type": "display_data"
    }
   ],
   "source": [
    "plt.figure(figsize=(15,15))\n",
    "plot = sns.heatmap(correlation_matrix,annot=True)\n",
    "plt.savefig('./heatmapwith annot.jpg')\n",
    "plt.show()"
   ]
  },
  {
   "cell_type": "code",
   "execution_count": 43,
   "metadata": {},
   "outputs": [
    {
     "name": "stdout",
     "output_type": "stream",
     "text": [
      "\n",
      "DATASET 2\n"
     ]
    },
    {
     "name": "stderr",
     "output_type": "stream",
     "text": [
      "C:\\Users\\HP\\Anaconda3\\lib\\site-packages\\sklearn\\preprocessing\\data.py:625: DataConversionWarning: Data with input dtype int64, float64 were all converted to float64 by StandardScaler.\n",
      "  return self.partial_fit(X, y)\n",
      "C:\\Users\\HP\\Anaconda3\\lib\\site-packages\\ipykernel_launcher.py:9: DataConversionWarning: Data with input dtype int64, float64 were all converted to float64 by StandardScaler.\n",
      "  if __name__ == '__main__':\n",
      "C:\\Users\\HP\\Anaconda3\\lib\\site-packages\\ipykernel_launcher.py:14: DataConversionWarning: Data with input dtype int64, float64 were all converted to float64 by StandardScaler.\n",
      "  \n",
      "C:\\Users\\HP\\Anaconda3\\lib\\site-packages\\ipykernel_launcher.py:19: DataConversionWarning: Data with input dtype int64, float64 were all converted to float64 by StandardScaler.\n"
     ]
    },
    {
     "name": "stdout",
     "output_type": "stream",
     "text": [
      "Training set results:\n",
      "RMSE = 0.29713388849466377\t R^2 = 0.9359912581861661\n",
      "Test set results\n",
      "RMSE = 0.7283122594900334\t Q^2 = 0.5695769959897943\n",
      "Validation set results\n",
      "RMSE = 0.7653218253109645\t Q^2 = 0.5779795183451446\n"
     ]
    }
   ],
   "source": [
    "models = []\n",
    "i = 1\n",
    "print(\"\\nDATASET {}\".format(i+1))\n",
    "train = pd.read_csv('./data/train'+str(i)+'.csv')\n",
    "X_train = train.drop(columns='pChemBL',inplace=False)\n",
    "y_train = train['pChemBL']\n",
    "scaler = StandardScaler(copy=True)\n",
    "scaler.fit(X_train)\n",
    "X = scaler.transform(X_train)#.drop(columns=['ChemBLID'],inplace=False))\n",
    "X_train = pd.DataFrame(data=X,columns=X_train.columns)\n",
    "test = pd.read_csv('./data/test'+str(i)+'.csv')\n",
    "X_test = test.drop(columns='pChemBL',inplace=False)\n",
    "y_test = test['pChemBL']\n",
    "X = scaler.transform(X_test)\n",
    "X_test = pd.DataFrame(data=X,columns=X_test.columns)\n",
    "validate = pd.read_csv('./data/validation'+str(i)+'.csv')\n",
    "X_validate = validate.drop(columns='pChemBL',inplace=False)\n",
    "y_validate = validate['pChemBL']\n",
    "X = scaler.transform(X_validate)\n",
    "X_validate = pd.DataFrame(data=X,columns=X_test.columns)\n",
    "model = train_RFR(X_train, X_test, X_validate, y_train, y_test, y_validate)"
   ]
  },
  {
   "cell_type": "markdown",
   "metadata": {},
   "source": [
    "<h3>Confusion Matrix</h3>"
   ]
  },
  {
   "cell_type": "code",
   "execution_count": 15,
   "metadata": {},
   "outputs": [],
   "source": [
    "y_pred = model.predict(X_test)\n",
    "tp, tn, fp, fn = 0, 0, 0, 0\n",
    "y = []\n",
    "for val in y_test:\n",
    "    if val<7:\n",
    "        y.append(0)\n",
    "    else:\n",
    "        y.append(1)\n",
    "yp = []\n",
    "for val in y_pred:\n",
    "    if val<7:\n",
    "        yp.append(0)\n",
    "    else:\n",
    "        yp.append(1)"
   ]
  },
  {
   "cell_type": "code",
   "execution_count": null,
   "metadata": {},
   "outputs": [],
   "source": [
    "for i in range(len(y)):\n",
    "    v1,v2 = y[i],yp[i]\n",
    "    if v1 and v2:\n",
    "        tp += 1\n",
    "    elif not(v1 or v2):\n",
    "        tn += 1\n",
    "    elif v1 == 1 and v2 ==0:\n",
    "        fn +=1\n",
    "    else:\n",
    "        fp += 1"
   ]
  },
  {
   "cell_type": "code",
   "execution_count": 18,
   "metadata": {},
   "outputs": [],
   "source": [
    "matrix = np.array([[tp,fp],[fn,tn]],dtype='float64')"
   ]
  },
  {
   "cell_type": "code",
   "execution_count": 19,
   "metadata": {},
   "outputs": [
    {
     "name": "stdout",
     "output_type": "stream",
     "text": [
      "[[188.  38.]\n",
      " [ 46. 186.]]\n"
     ]
    }
   ],
   "source": [
    "print(matrix)"
   ]
  },
  {
   "cell_type": "code",
   "execution_count": 21,
   "metadata": {},
   "outputs": [
    {
     "name": "stdout",
     "output_type": "stream",
     "text": [
      "Precision =  0.831858407079646\n",
      "Recall =  0.8034188034188035\n",
      "F1 score =  0.817391304347826\n"
     ]
    }
   ],
   "source": [
    "p = (tp/(tp+fp))\n",
    "print('Precision = ',p)\n",
    "r = (tp/(tp+fn))\n",
    "print('Recall = ',r)\n",
    "print('F1 score = ',2*(p*r)/(p+r))"
   ]
  },
  {
   "cell_type": "markdown",
   "metadata": {},
   "source": [
    "<h2>Storing the required descriptors</h2>"
   ]
  },
  {
   "cell_type": "code",
   "execution_count": 26,
   "metadata": {},
   "outputs": [
    {
     "data": {
      "text/html": [
       "<div>\n",
       "<style scoped>\n",
       "    .dataframe tbody tr th:only-of-type {\n",
       "        vertical-align: middle;\n",
       "    }\n",
       "\n",
       "    .dataframe tbody tr th {\n",
       "        vertical-align: top;\n",
       "    }\n",
       "\n",
       "    .dataframe thead th {\n",
       "        text-align: right;\n",
       "    }\n",
       "</style>\n",
       "<table border=\"1\" class=\"dataframe\">\n",
       "  <thead>\n",
       "    <tr style=\"text-align: right;\">\n",
       "      <th></th>\n",
       "      <th>Descriptor Java Class</th>\n",
       "      <th>Descriptor</th>\n",
       "      <th>Description</th>\n",
       "      <th>Class</th>\n",
       "    </tr>\n",
       "  </thead>\n",
       "  <tbody>\n",
       "    <tr>\n",
       "      <th>0</th>\n",
       "      <td>AcidicGroupCountDescriptor</td>\n",
       "      <td>nAcid</td>\n",
       "      <td>Number of acidic groups. The list of acidic gr...</td>\n",
       "      <td>2D</td>\n",
       "    </tr>\n",
       "    <tr>\n",
       "      <th>1</th>\n",
       "      <td>ALOGPDescriptor</td>\n",
       "      <td>ALogP</td>\n",
       "      <td>Ghose-Crippen LogKow</td>\n",
       "      <td>2D</td>\n",
       "    </tr>\n",
       "    <tr>\n",
       "      <th>4</th>\n",
       "      <td>APolDescriptor</td>\n",
       "      <td>apol</td>\n",
       "      <td>Sum of the atomic polarizabilities (including ...</td>\n",
       "      <td>2D</td>\n",
       "    </tr>\n",
       "    <tr>\n",
       "      <th>5</th>\n",
       "      <td>AromaticAtomsCountDescriptor</td>\n",
       "      <td>naAromAtom</td>\n",
       "      <td>Number of aromatic atoms</td>\n",
       "      <td>2D</td>\n",
       "    </tr>\n",
       "    <tr>\n",
       "      <th>6</th>\n",
       "      <td>AromaticBondsCountDescriptor</td>\n",
       "      <td>nAromBond</td>\n",
       "      <td>Number of aromatic bonds</td>\n",
       "      <td>2D</td>\n",
       "    </tr>\n",
       "  </tbody>\n",
       "</table>\n",
       "</div>"
      ],
      "text/plain": [
       "          Descriptor Java Class  Descriptor  \\\n",
       "0    AcidicGroupCountDescriptor       nAcid   \n",
       "1               ALOGPDescriptor       ALogP   \n",
       "4                APolDescriptor        apol   \n",
       "5  AromaticAtomsCountDescriptor  naAromAtom   \n",
       "6  AromaticBondsCountDescriptor   nAromBond   \n",
       "\n",
       "                                         Description Class  \n",
       "0  Number of acidic groups. The list of acidic gr...    2D  \n",
       "1                               Ghose-Crippen LogKow    2D  \n",
       "4  Sum of the atomic polarizabilities (including ...    2D  \n",
       "5                           Number of aromatic atoms    2D  \n",
       "6                           Number of aromatic bonds    2D  "
      ]
     },
     "execution_count": 26,
     "metadata": {},
     "output_type": "execute_result"
    }
   ],
   "source": [
    "df = pd.read_excel('Descriptors.xlsx',sheet_name='Detailed')\n",
    "df.dropna(inplace=True)\n",
    "df.head()"
   ]
  },
  {
   "cell_type": "code",
   "execution_count": 28,
   "metadata": {},
   "outputs": [],
   "source": [
    "all_types = np.asarray(df['Descriptor Java Class'])"
   ]
  },
  {
   "cell_type": "code",
   "execution_count": 60,
   "metadata": {},
   "outputs": [],
   "source": [
    "required = [\"RingCount\",\"Autocorrelation\",\"ChiChain\",\"PaDELChiPath\",\"ElectrotopologicalStateAtomType\",\"ExtendedTopochemicalAtom\",\"InformationContent\",\"MDE\",\"RuleOfFive\"]"
   ]
  },
  {
   "cell_type": "code",
   "execution_count": 67,
   "metadata": {},
   "outputs": [],
   "source": [
    "with open('./fd.xml','w') as f:\n",
    "    f.write('<Root>\\n    <Group name=\"2D\">\\n')\n",
    "    for desc in new:\n",
    "        if desc in required:\n",
    "            f.write('        <Descriptor name=\"'+str(desc)+'\" value=\"true\"/>\\n')\n",
    "        else:\n",
    "            f.write('        <Descriptor name=\"'+str(desc)+'\" value=\"false\"/>\\n')\n",
    "    f.write('    </Group>\\n</Root>')"
   ]
  },
  {
   "cell_type": "code",
   "execution_count": 41,
   "metadata": {},
   "outputs": [],
   "source": [
    "import re\n",
    "new = []\n",
    "for s in all_types:\n",
    "    s = re.sub('Descriptor', '', s) \n",
    "    new.append(s)"
   ]
  },
  {
   "cell_type": "code",
   "execution_count": 42,
   "metadata": {
    "scrolled": true
   },
   "outputs": [
    {
     "data": {
      "text/plain": [
       "['AcidicGroupCount',\n",
       " 'ALOGP',\n",
       " 'APol',\n",
       " 'AromaticAtomsCount',\n",
       " 'AromaticBondsCount',\n",
       " 'AtomCount',\n",
       " 'Autocorrelation',\n",
       " 'BaryszMatrix',\n",
       " 'BasicGroupCount',\n",
       " 'BCUT',\n",
       " 'PaDELBondCount',\n",
       " 'BPol',\n",
       " 'BurdenModifiedEigenvalues',\n",
       " 'PaDELCarbonTypes',\n",
       " 'ChiChain',\n",
       " 'ChiCluster',\n",
       " 'ChiPathCluster',\n",
       " 'PaDELChiPath',\n",
       " 'Constitutional',\n",
       " 'Crippen',\n",
       " 'DetourMatrix',\n",
       " 'EccentricConnectivityIndex',\n",
       " 'ElectrotopologicalStateAtomType',\n",
       " 'ExtendedTopochemicalAtom',\n",
       " 'FMF',\n",
       " 'PaDELFragmentComplexity',\n",
       " 'PaDELHBondAcceptorCount',\n",
       " 'PaDELHBondDonorCount',\n",
       " 'HybridizationRatio',\n",
       " 'InformationContent',\n",
       " 'KappaShapeIndices',\n",
       " 'LargestChain',\n",
       " 'LargestPiSystem',\n",
       " 'LongestAliphaticChain',\n",
       " 'MannholdLogP',\n",
       " 'McGowanVolume',\n",
       " 'MDE',\n",
       " 'MLFER',\n",
       " 'PathCount',\n",
       " 'PetitjeanNumber',\n",
       " 'RingCount',\n",
       " 'PaDELRotatableBondsCount',\n",
       " 'RuleOfFive',\n",
       " 'Topological',\n",
       " 'TopologicalCharge',\n",
       " 'TopologicalDistanceMatrix',\n",
       " 'TPSA',\n",
       " 'VABC',\n",
       " 'VAdjMa',\n",
       " 'WalkCount',\n",
       " 'PaDELWeight',\n",
       " 'PaDELWeightedPath',\n",
       " 'WienerNumbers',\n",
       " 'XLogP',\n",
       " 'ZagrebIndex',\n",
       " 'Autocorrelation3D',\n",
       " 'CPSA',\n",
       " 'GravitationalIndex',\n",
       " 'LengthOverBreadth',\n",
       " 'MomentOfInertia',\n",
       " 'PaDELPetitjeanShapeIndex',\n",
       " 'RDF',\n",
       " 'PaDELWHIM']"
      ]
     },
     "execution_count": 42,
     "metadata": {},
     "output_type": "execute_result"
    }
   ],
   "source": [
    "new"
   ]
  },
  {
   "cell_type": "code",
   "execution_count": 11,
   "metadata": {},
   "outputs": [
    {
     "name": "stdout",
     "output_type": "stream",
     "text": [
      "1\n"
     ]
    }
   ],
   "source": [
    "df2 = pd.read_csv('./trial.csv')\n",
    "bad = []\n",
    "if \"SP-7\" in df2.columns:\n",
    "    print(1)\n",
    "else:\n",
    "    print(0)"
   ]
  },
  {
   "cell_type": "code",
   "execution_count": 12,
   "metadata": {
    "scrolled": true
   },
   "outputs": [
    {
     "name": "stdout",
     "output_type": "stream",
     "text": [
      "['Name', 'ATS0m', 'ATS1m', 'ATS2m', 'ATS3m', 'ATS4m', 'ATS5m', 'ATS6m', 'ATS7m', 'ATS8m', 'ATS0v', 'ATS1v', 'ATS2v', 'ATS3v', 'ATS4v', 'ATS5v', 'ATS6v', 'ATS7v', 'ATS8v', 'ATS0e', 'ATS1e', 'ATS2e', 'ATS3e', 'ATS4e', 'ATS5e', 'ATS6e', 'ATS7e', 'ATS8e', 'ATS0p', 'ATS1p', 'ATS2p', 'ATS3p', 'ATS4p', 'ATS5p', 'ATS6p', 'ATS7p', 'ATS8p', 'ATS0i', 'ATS1i', 'ATS2i', 'ATS3i', 'ATS4i', 'ATS5i', 'ATS6i', 'ATS7i', 'ATS8i', 'ATS0s', 'ATS1s', 'ATS2s', 'ATS3s', 'ATS4s', 'ATS5s', 'ATS6s', 'ATS7s', 'ATS8s', 'AATS0m', 'AATS1m', 'AATS2m', 'AATS3m', 'AATS4m', 'AATS5m', 'AATS6m', 'AATS7m', 'AATS8m', 'AATS0v', 'AATS1v', 'AATS2v', 'AATS3v', 'AATS4v', 'AATS5v', 'AATS6v', 'AATS7v', 'AATS8v', 'AATS0e', 'AATS1e', 'AATS2e', 'AATS3e', 'AATS4e', 'AATS5e', 'AATS6e', 'AATS7e', 'AATS8e', 'AATS0p', 'AATS1p', 'AATS2p', 'AATS3p', 'AATS4p', 'AATS5p', 'AATS6p', 'AATS7p', 'AATS8p', 'AATS0i', 'AATS1i', 'AATS2i', 'AATS3i', 'AATS4i', 'AATS5i', 'AATS6i', 'AATS7i', 'AATS8i', 'AATS0s', 'AATS1s', 'AATS2s', 'AATS3s', 'AATS4s', 'AATS5s', 'AATS6s', 'AATS7s', 'AATS8s', 'ATSC0c', 'ATSC1c', 'ATSC2c', 'ATSC3c', 'ATSC5c', 'ATSC6c', 'ATSC7c', 'ATSC8c', 'ATSC0m', 'ATSC1m', 'ATSC2m', 'ATSC3m', 'ATSC4m', 'ATSC5m', 'ATSC6m', 'ATSC7m', 'ATSC8m', 'ATSC0v', 'ATSC1v', 'ATSC3v', 'ATSC4v', 'ATSC5v', 'ATSC6v', 'ATSC7v', 'ATSC8v', 'ATSC0e', 'ATSC1e', 'ATSC2e', 'ATSC3e', 'ATSC4e', 'ATSC5e', 'ATSC6e', 'ATSC7e', 'ATSC8e', 'ATSC0p', 'ATSC1p', 'ATSC2p', 'ATSC3p', 'ATSC4p', 'ATSC5p', 'ATSC6p', 'ATSC7p', 'ATSC8p', 'ATSC0i', 'ATSC1i', 'ATSC2i', 'ATSC3i', 'ATSC4i', 'ATSC5i', 'ATSC6i', 'ATSC7i', 'ATSC8i', 'ATSC0s', 'ATSC1s', 'ATSC2s', 'ATSC3s', 'ATSC4s', 'ATSC5s', 'ATSC6s', 'ATSC7s', 'ATSC8s', 'AATSC0c', 'AATSC1c', 'AATSC2c', 'AATSC3c', 'AATSC4c', 'AATSC5c', 'AATSC6c', 'AATSC7c', 'AATSC8c', 'AATSC0m', 'AATSC1m', 'AATSC2m', 'AATSC3m', 'AATSC4m', 'AATSC5m', 'AATSC6m', 'AATSC7m', 'AATSC8m', 'AATSC0v', 'AATSC1v', 'AATSC2v', 'AATSC3v', 'AATSC4v', 'AATSC5v', 'AATSC6v', 'AATSC7v', 'AATSC8v', 'AATSC0e', 'AATSC1e', 'AATSC2e', 'AATSC3e', 'AATSC4e', 'AATSC5e', 'AATSC6e', 'AATSC7e', 'AATSC8e', 'AATSC0p', 'AATSC1p', 'AATSC2p', 'AATSC3p', 'AATSC4p', 'AATSC5p', 'AATSC6p', 'AATSC7p', 'AATSC8p', 'AATSC0i', 'AATSC1i', 'AATSC2i', 'AATSC3i', 'AATSC4i', 'AATSC5i', 'AATSC6i', 'AATSC7i', 'AATSC8i', 'AATSC0s', 'AATSC1s', 'AATSC2s', 'AATSC3s', 'AATSC4s', 'AATSC5s', 'AATSC6s', 'AATSC7s', 'AATSC8s', 'MATS1c', 'MATS2c', 'MATS3c', 'MATS4c', 'MATS5c', 'MATS6c', 'MATS7c', 'MATS8c', 'MATS1m', 'MATS2m', 'MATS3m', 'MATS4m', 'MATS5m', 'MATS6m', 'MATS7m', 'MATS8m', 'MATS1v', 'MATS2v', 'MATS3v', 'MATS4v', 'MATS5v', 'MATS6v', 'MATS7v', 'MATS8v', 'MATS1e', 'MATS2e', 'MATS3e', 'MATS4e', 'MATS5e', 'MATS6e', 'MATS7e', 'MATS8e', 'MATS1p', 'MATS2p', 'MATS3p', 'MATS4p', 'MATS5p', 'MATS6p', 'MATS7p', 'MATS8p', 'MATS1i', 'MATS2i', 'MATS3i', 'MATS4i', 'MATS5i', 'MATS6i', 'MATS7i', 'MATS8i', 'MATS1s', 'MATS2s', 'MATS3s', 'MATS4s', 'MATS5s', 'MATS6s', 'MATS7s', 'MATS8s', 'GATS1c', 'GATS2c', 'GATS3c', 'GATS4c', 'GATS5c', 'GATS6c', 'GATS7c', 'GATS8c', 'GATS1m', 'GATS2m', 'GATS3m', 'GATS4m', 'GATS5m', 'GATS6m', 'GATS7m', 'GATS8m', 'GATS1v', 'GATS2v', 'GATS3v', 'GATS4v', 'GATS5v', 'GATS6v', 'GATS7v', 'GATS8v', 'GATS1e', 'GATS2e', 'GATS3e', 'GATS4e', 'GATS5e', 'GATS6e', 'GATS7e', 'GATS8e', 'GATS1p', 'GATS2p', 'GATS3p', 'GATS4p', 'GATS5p', 'GATS6p', 'GATS7p', 'GATS8p', 'GATS1i', 'GATS2i', 'GATS3i', 'GATS4i', 'GATS5i', 'GATS6i', 'GATS7i', 'GATS8i', 'GATS1s', 'GATS2s', 'GATS3s', 'GATS4s', 'GATS5s', 'GATS6s', 'GATS7s', 'GATS8s', 'SCH-3', 'SCH-4', 'SCH-5', 'SCH-6', 'VCH-3', 'VCH-4', 'VCH-5', 'VCH-6', 'VCH-7', 'SP-0', 'SP-1', 'SP-2', 'SP-3', 'SP-4', 'SP-5', 'SP-6', 'SP-7', 'ASP-0', 'ASP-1', 'ASP-2', 'ASP-3', 'ASP-4', 'ASP-5', 'ASP-6', 'VP-0', 'VP-1', 'VP-2', 'VP-3', 'VP-4', 'VP-5', 'VP-6', 'VP-7', 'AVP-0', 'AVP-1', 'AVP-2', 'AVP-3', 'AVP-4', 'AVP-5', 'AVP-6', 'AVP-7', 'nHBd', 'nwHBd', 'nHBa', 'nwHBa', 'nHBint2', 'nHBint3', 'nHBint4', 'nHBint5', 'nHBint6', 'nHBint7', 'nHBint8', 'nHBint9', 'nHBint10', 'nHsOH', 'nHdNH', 'nHsSH', 'nHsNH2', 'nHssNH', 'nHaaNH', 'nHsNH3p', 'nHssNH2p', 'nHsssNHp', 'nHtCH', 'nHdCH2', 'nHdsCH', 'nHaaCH', 'nHCHnX', 'nHCsats', 'nHCsatu', 'nHAvin', 'nHother', 'nHmisc', 'nsLi', 'nssBe', 'nssssBem', 'nsBH2', 'nssBH', 'nsssB', 'nssssBm', 'nsCH3', 'ndCH2', 'nssCH2', 'ntCH', 'ndsCH', 'naaCH', 'nsssCH', 'nddC', 'ntsC', 'ndssC', 'naasC', 'naaaC', 'nssssC', 'nsNH3p', 'nsNH2', 'nssNH2p', 'ndNH', 'nssNH', 'naaNH', 'ntN', 'nsssNHp', 'ndsN', 'naaN', 'nsssN', 'nddsN', 'naasN', 'nssssNp', 'nsOH', 'ndO', 'nssO', 'naaO', 'naOm', 'nsOm', 'nsF', 'nsSiH3', 'nssSiH2', 'nsssSiH', 'nssssSi', 'nsPH2', 'nssPH', 'nsssP', 'ndsssP', 'nddsP', 'nsssssP', 'nsSH', 'ndS', 'nssS', 'naaS', 'ndssS', 'nddssS', 'nssssssS', 'nSm', 'nsCl', 'nsGeH3', 'nssGeH2', 'nsssGeH', 'nssssGe', 'nsAsH2', 'nssAsH', 'nsssAs', 'ndsssAs', 'nddsAs', 'nsssssAs', 'nsSeH', 'ndSe', 'nssSe', 'naaSe', 'ndssSe', 'nssssssSe', 'nddssSe', 'nsBr', 'nsSnH3', 'nssSnH2', 'nsssSnH', 'nssssSn', 'nsI', 'nsPbH3', 'nssPbH2', 'nsssPbH', 'nssssPb', 'SHBd', 'SwHBd', 'SHBa', 'SwHBa', 'SHBint2', 'SHBint3', 'SHBint4', 'SHBint5', 'SHBint6', 'SHBint7', 'SHBint8', 'SHBint9', 'SHBint10', 'SHsOH', 'SHdNH', 'SHsSH', 'SHsNH2', 'SHssNH', 'SHaaNH', 'SHsNH3p', 'SHssNH2p', 'SHsssNHp', 'SHtCH', 'SHdCH2', 'SHdsCH', 'SHaaCH', 'SHCHnX', 'SHCsats', 'SHCsatu', 'SHAvin', 'SHother', 'SHmisc', 'SsLi', 'SssBe', 'SssssBem', 'SsBH2', 'SssBH', 'SsssB', 'SssssBm', 'SsCH3', 'SdCH2', 'SssCH2', 'StCH', 'SdsCH', 'SaaCH', 'SsssCH', 'SddC', 'StsC', 'SdssC', 'SaasC', 'SaaaC', 'SssssC', 'SsNH3p', 'SsNH2', 'SssNH2p', 'SdNH', 'SssNH', 'SaaNH', 'StN', 'SsssNHp', 'SdsN', 'SaaN', 'SsssN', 'SddsN', 'SaasN', 'SssssNp', 'SsOH', 'SdO', 'SssO', 'SaaO', 'SaOm', 'SsOm', 'SsF', 'SsSiH3', 'SssSiH2', 'SsssSiH', 'SssssSi', 'SsPH2', 'SssPH', 'SsssP', 'SdsssP', 'SddsP', 'SsssssP', 'SsSH', 'SdS', 'SssS', 'SaaS', 'SdssS', 'SddssS', 'SssssssS', 'SSm', 'SsCl', 'SsGeH3', 'SssGeH2', 'SsssGeH', 'SssssGe', 'SsAsH2', 'SssAsH', 'SsssAs', 'SdsssAs', 'SddsAs', 'SsssssAs', 'SsSeH', 'SdSe', 'SssSe', 'SaaSe', 'SdssSe', 'SssssssSe', 'SddssSe', 'SsBr', 'SsSnH3', 'SssSnH2', 'SsssSnH', 'SssssSn', 'SsI', 'SsPbH3', 'SssPbH2', 'SsssPbH', 'SssssPb', 'minHBd', 'minwHBd', 'minHBa', 'minwHBa', 'minHBint2', 'minHBint3', 'minHBint4', 'minHBint5', 'minHBint6', 'minHBint7', 'minHBint8', 'minHBint9', 'minHBint10', 'minHsOH', 'minHdNH', 'minHsSH', 'minHsNH2', 'minHssNH', 'minHaaNH', 'minHsNH3p', 'minHssNH2p', 'minHsssNHp', 'minHtCH', 'minHdCH2', 'minHdsCH', 'minHaaCH', 'minHCHnX', 'minHCsats', 'minHCsatu', 'minHAvin', 'minHother', 'minHmisc', 'minsLi', 'minssBe', 'minssssBem', 'minsBH2', 'minssBH', 'minsssB', 'minssssBm', 'minsCH3', 'mindCH2', 'minssCH2', 'mintCH', 'mindsCH', 'minaaCH', 'minsssCH', 'minddC', 'mintsC', 'mindssC', 'minaasC', 'minaaaC', 'minssssC', 'minsNH3p', 'minsNH2', 'minssNH2p', 'mindNH', 'minssNH', 'minaaNH', 'mintN', 'minsssNHp', 'mindsN', 'minaaN', 'minsssN', 'minddsN', 'minaasN', 'minssssNp', 'minsOH', 'mindO', 'minssO', 'minaaO', 'minaOm', 'minsOm', 'minsF', 'minsSiH3', 'minssSiH2', 'minsssSiH', 'minssssSi', 'minsPH2', 'minssPH', 'minsssP', 'mindsssP', 'minddsP', 'minsssssP', 'minsSH', 'mindS', 'minssS', 'minaaS', 'mindssS', 'minddssS', 'minssssssS', 'minSm', 'minsCl', 'minsGeH3', 'minssGeH2', 'minsssGeH', 'minssssGe', 'minsAsH2', 'minssAsH', 'minsssAs', 'mindsssAs', 'minddsAs', 'minsssssAs', 'minsSeH', 'mindSe', 'minssSe', 'minaaSe', 'mindssSe', 'minssssssSe', 'minddssSe', 'minsBr', 'minsSnH3', 'minssSnH2', 'minsssSnH', 'minssssSn', 'minsI', 'minsPbH3', 'minssPbH2', 'minsssPbH', 'minssssPb', 'maxHBd', 'maxwHBd', 'maxHBa', 'maxwHBa', 'maxHBint2', 'maxHBint3', 'maxHBint4', 'maxHBint5', 'maxHBint6', 'maxHBint7', 'maxHBint8', 'maxHBint9', 'maxHBint10', 'maxHsOH', 'maxHdNH', 'maxHsSH', 'maxHsNH2', 'maxHssNH', 'maxHaaNH', 'maxHsNH3p', 'maxHssNH2p', 'maxHsssNHp', 'maxHtCH', 'maxHdCH2', 'maxHdsCH', 'maxHaaCH', 'maxHCHnX', 'maxHCsats', 'maxHCsatu', 'maxHAvin', 'maxHother', 'maxHmisc', 'maxsLi', 'maxssBe', 'maxssssBem', 'maxsBH2', 'maxssBH', 'maxsssB', 'maxssssBm', 'maxsCH3', 'maxdCH2', 'maxssCH2', 'maxtCH', 'maxdsCH', 'maxaaCH', 'maxsssCH', 'maxddC', 'maxtsC', 'maxdssC', 'maxaasC', 'maxaaaC', 'maxssssC', 'maxsNH3p', 'maxsNH2', 'maxssNH2p', 'maxdNH', 'maxssNH', 'maxaaNH', 'maxtN', 'maxsssNHp', 'maxdsN', 'maxaaN', 'maxsssN', 'maxddsN', 'maxaasN', 'maxssssNp', 'maxsOH', 'maxdO', 'maxssO', 'maxaaO', 'maxaOm', 'maxsOm', 'maxsF', 'maxsSiH3', 'maxssSiH2', 'maxsssSiH', 'maxssssSi', 'maxsPH2', 'maxssPH', 'maxsssP', 'maxdsssP', 'maxddsP', 'maxsssssP', 'maxsSH', 'maxdS', 'maxssS', 'maxaaS', 'maxdssS', 'maxddssS', 'maxssssssS', 'maxSm', 'maxsCl', 'maxsGeH3', 'maxssGeH2', 'maxsssGeH', 'maxssssGe', 'maxsAsH2', 'maxssAsH', 'maxsssAs', 'maxdsssAs', 'maxddsAs', 'maxsssssAs', 'maxsSeH', 'maxdSe', 'maxssSe', 'maxaaSe', 'maxdssSe', 'maxssssssSe', 'maxddssSe', 'maxsBr', 'maxsSnH3', 'maxssSnH2', 'maxsssSnH', 'maxssssSn', 'maxsI', 'maxsPbH3', 'maxssPbH2', 'maxsssPbH', 'maxssssPb', 'sumI', 'meanI', 'hmax', 'gmax', 'gmin', 'LipoaffinityIndex', 'MAXDN', 'MAXDP', 'DELS', 'MAXDN2', 'MAXDP2', 'DELS2', 'ETA_Alpha', 'ETA_AlphaP', 'ETA_dAlpha_A', 'ETA_dAlpha_B', 'ETA_Epsilon_1', 'ETA_Epsilon_2', 'ETA_Epsilon_3', 'ETA_Epsilon_4', 'ETA_Epsilon_5', 'ETA_dEpsilon_A', 'ETA_dEpsilon_B', 'ETA_dEpsilon_C', 'ETA_dEpsilon_D', 'ETA_Psi_1', 'ETA_dPsi_A', 'ETA_dPsi_B', 'ETA_Shape_P', 'ETA_Shape_Y', 'ETA_Shape_X', 'ETA_Beta', 'ETA_BetaP', 'ETA_Beta_s', 'ETA_Beta_ns', 'ETA_BetaP_ns', 'ETA_dBeta', 'ETA_dBetaP', 'ETA_Beta_ns_d', 'ETA_BetaP_ns_d', 'ETA_Eta', 'ETA_EtaP', 'ETA_Eta_R', 'ETA_Eta_F', 'ETA_EtaP_F', 'ETA_Eta_L', 'ETA_EtaP_L', 'ETA_Eta_R_L', 'ETA_Eta_F_L', 'ETA_EtaP_F_L', 'ETA_Eta_B', 'ETA_EtaP_B', 'ETA_Eta_B_RC', 'ETA_EtaP_B_RC', 'IC0', 'IC3', 'IC4', 'IC5', 'TIC0', 'TIC1', 'TIC2', 'TIC3', 'TIC4', 'TIC5', 'SIC0', 'SIC1', 'SIC3', 'SIC4', 'SIC5', 'CIC0', 'CIC1', 'CIC2', 'CIC3', 'CIC4', 'CIC5', 'BIC0', 'BIC1', 'BIC3', 'BIC4', 'BIC5', 'MIC0', 'MIC1', 'MIC2', 'MIC3', 'MIC4', 'MIC5', 'ZMIC0', 'ZMIC3', 'ZMIC4', 'ZMIC5', 'MDEC-11', 'MDEC-12', 'MDEC-13', 'MDEC-14', 'MDEC-22', 'MDEC-23', 'MDEC-24', 'MDEC-33', 'MDEC-34', 'MDEC-44', 'MDEO-12', 'MDEO-22', 'MDEN-11', 'MDEN-12', 'MDEN-13', 'MDEN-22', 'MDEN-23', 'MDEN-33', 'nRing', 'n3Ring', 'n4Ring', 'n5Ring', 'n6Ring', 'n7Ring', 'n8Ring', 'n9Ring', 'n10Ring', 'n11Ring', 'n12Ring', 'nG12Ring', 'nFRing', 'nF4Ring', 'nF5Ring', 'nF6Ring', 'nF7Ring', 'nF8Ring', 'nF9Ring', 'nF10Ring', 'nF11Ring', 'nF12Ring', 'nFG12Ring', 'nTRing', 'nT4Ring', 'nT5Ring', 'nT6Ring', 'nT7Ring', 'nT8Ring', 'nT9Ring', 'nT10Ring', 'nT11Ring', 'nT12Ring', 'nTG12Ring', 'n3HeteroRing', 'n4HeteroRing', 'n5HeteroRing', 'n7HeteroRing', 'n8HeteroRing', 'n9HeteroRing', 'n10HeteroRing', 'n11HeteroRing', 'n12HeteroRing', 'nG12HeteroRing', 'nFHeteroRing', 'nF4HeteroRing', 'nF5HeteroRing', 'nF6HeteroRing', 'nF7HeteroRing', 'nF8HeteroRing', 'nF9HeteroRing', 'nF10HeteroRing', 'nF11HeteroRing', 'nF12HeteroRing', 'nFG12HeteroRing', 'nTHeteroRing', 'nT4HeteroRing', 'nT5HeteroRing', 'nT7HeteroRing', 'nT8HeteroRing', 'nT9HeteroRing', 'nT10HeteroRing', 'nT11HeteroRing', 'nT12HeteroRing', 'nTG12HeteroRing']\n"
     ]
    }
   ],
   "source": [
    "for col in df2.columns:\n",
    "    if col not in X_train.columns:\n",
    "        bad.append(col)\n",
    "print(bad)\n",
    "df2.drop(columns=bad,inplace=True)"
   ]
  },
  {
   "cell_type": "code",
   "execution_count": 104,
   "metadata": {},
   "outputs": [
    {
     "data": {
      "text/plain": [
       "17"
      ]
     },
     "execution_count": 104,
     "metadata": {},
     "output_type": "execute_result"
    }
   ],
   "source": [
    "len(df2.columns)"
   ]
  },
  {
   "cell_type": "code",
   "execution_count": 103,
   "metadata": {},
   "outputs": [
    {
     "data": {
      "text/plain": [
       "18"
      ]
     },
     "execution_count": 103,
     "metadata": {},
     "output_type": "execute_result"
    }
   ],
   "source": [
    "len(X_try.columns)"
   ]
  },
  {
   "cell_type": "code",
   "execution_count": 110,
   "metadata": {
    "scrolled": true
   },
   "outputs": [],
   "source": [
    "cmd_list = [\"java\", \"-jar\", \"C:\\\\Users\\\\HP\\\\PaDEL-Descriptor\\\\PaDEL-Descriptor.jar\", \"-dir\",\"./mol\", \"-file\",\"./trial.csv\", \"-2d\", \"-descriptortypes\", 'fd.xml','-usefilenameasmolname']"
   ]
  },
  {
   "cell_type": "markdown",
   "metadata": {},
   "source": [
    "<h3>Saving the model</h3>"
   ]
  },
  {
   "cell_type": "code",
   "execution_count": 5,
   "metadata": {},
   "outputs": [
    {
     "name": "stdout",
     "output_type": "stream",
     "text": [
      "\n",
      "DATASET 2\n",
      "Training set results:\n",
      "RMSE = 0.29475911942030314\t R^2 = 0.9370103176157272\n",
      "Test set results\n",
      "RMSE = 0.7300750749763446\t Q^2 = 0.5674908726860093\n",
      "Validation set results\n",
      "RMSE = 0.7644826866055227\t Q^2 = 0.5789044614569528\n"
     ]
    }
   ],
   "source": [
    "i = 1\n",
    "print(\"\\nDATASET {}\".format(i+1))\n",
    "train = pd.read_csv('./data/train'+str(i)+'.csv')\n",
    "X_train = train.drop(columns='pChemBL',inplace=False)\n",
    "y_train = train['pChemBL']\n",
    "scaler = StandardScaler(copy=True)\n",
    "scaler.fit(X_train)\n",
    "X = scaler.transform(X_train)#.drop(columns=['ChemBLID'],inplace=False))\n",
    "X_train = pd.DataFrame(data=X,columns=X_train.columns)\n",
    "test = pd.read_csv('./data/test'+str(i)+'.csv')\n",
    "X_test = test.drop(columns='pChemBL',inplace=False)\n",
    "y_test = test['pChemBL']\n",
    "X = scaler.transform(X_test)\n",
    "X_test = pd.DataFrame(data=X,columns=X_test.columns)\n",
    "validate = pd.read_csv('./data/validation'+str(i)+'.csv')\n",
    "X_validate = validate.drop(columns='pChemBL',inplace=False)\n",
    "y_validate = validate['pChemBL']\n",
    "X = scaler.transform(X_validate)\n",
    "X_validate = pd.DataFrame(data=X,columns=X_test.columns)\n",
    "model = train_RFR(X_train, X_test, X_validate, y_train, y_test, y_validate)"
   ]
  },
  {
   "cell_type": "code",
   "execution_count": 6,
   "metadata": {},
   "outputs": [],
   "source": [
    "with open('./saved_models/new_scaler.pkl','wb') as f:\n",
    "    pkl.dump(scaler,f)\n",
    "with open('./saved_models/new_RFR.pkl','wb') as f:\n",
    "    pkl.dump(model,f)"
   ]
  },
  {
   "cell_type": "code",
   "execution_count": 24,
   "metadata": {},
   "outputs": [
    {
     "name": "stdout",
     "output_type": "stream",
     "text": [
      "1034\n"
     ]
    }
   ],
   "source": [
    "print(len(bad))"
   ]
  },
  {
   "cell_type": "code",
   "execution_count": 32,
   "metadata": {},
   "outputs": [],
   "source": [
    "with open('./saved_models/drop.txt','wb') as f:\n",
    "    pkl.dump(bad,f)"
   ]
  },
  {
   "cell_type": "code",
   "execution_count": 26,
   "metadata": {},
   "outputs": [
    {
     "data": {
      "text/plain": [
       "(1830, 17)"
      ]
     },
     "execution_count": 26,
     "metadata": {},
     "output_type": "execute_result"
    }
   ],
   "source": [
    "X_train.shape"
   ]
  },
  {
   "cell_type": "code",
   "execution_count": 8,
   "metadata": {},
   "outputs": [
    {
     "data": {
      "text/plain": [
       "array([6.76038889, 6.83616833, 6.64931111, 6.72137717, 6.82115556,\n",
       "       7.16074   , 7.39086667, 7.00673333, 7.48421984, 6.92455556,\n",
       "       7.30871111, 7.23157778, 6.64908889, 6.67484444, 7.051     ,\n",
       "       7.56206667, 6.92743333, 6.44477778, 7.11447111, 5.8927897 ,\n",
       "       6.82100927, 6.36094444, 6.32282199, 7.1487    , 7.13258889,\n",
       "       6.81987778, 7.5248    , 7.49273333, 7.2907    , 6.71488333,\n",
       "       6.6837    , 7.06688889, 6.84569206, 7.51524444, 6.20306667,\n",
       "       7.04193333, 6.76966667, 6.4916    , 6.21536667, 7.02874222,\n",
       "       8.0026    , 7.0602    , 7.71516667, 6.64576667, 6.27248866,\n",
       "       7.91226667, 6.82529556, 7.41936985, 7.18194444, 6.6545    ,\n",
       "       7.31846667, 6.95378333, 7.24298262, 5.38987333, 6.64718889,\n",
       "       7.42672222, 6.65246667, 6.96437   , 7.24205333, 7.13051429,\n",
       "       6.1818    , 7.32953889, 6.82994667, 6.85104389, 7.24575556,\n",
       "       6.974     , 6.97323333, 6.32305333, 7.15522222, 7.211     ,\n",
       "       7.30778889, 7.03976667, 6.83856667, 6.92502778, 6.78050667,\n",
       "       6.98108317, 6.53606667, 6.23864444, 6.80906667, 7.0949    ,\n",
       "       7.28053333, 6.67015   , 6.67962111, 7.12102222, 7.48833778,\n",
       "       6.80489722, 7.03122222, 6.42253333, 6.41478889, 6.90203333,\n",
       "       7.22905556, 6.75426889, 6.8864    , 6.1682    , 6.77116667,\n",
       "       7.13653333, 7.42939778, 6.96858333, 7.17543333, 7.39417778,\n",
       "       6.35082606, 6.59113224, 5.6214    , 6.74767222, 7.46604444,\n",
       "       5.81320574, 7.80515   , 7.22606667, 6.82976096, 7.22217111,\n",
       "       7.11158889, 6.38706667, 6.47822889, 7.14214444, 6.5566    ,\n",
       "       7.09754444, 7.01788   , 7.25043333, 7.1267    , 6.74334667,\n",
       "       7.39893333, 6.79171333, 7.24266222, 6.80322222, 5.96687027,\n",
       "       7.72828667, 5.373505  , 6.79748   , 6.38852222, 6.66413333,\n",
       "       5.83054166, 6.64248889, 7.28133333, 7.14804444, 7.04520167,\n",
       "       7.23011667, 6.96993333, 7.52072   , 6.14408333, 6.80551333,\n",
       "       7.50824444, 5.07333889, 6.71001429, 6.1822    , 6.37563333,\n",
       "       6.92611111, 6.66539111, 6.95248889, 5.65265073, 6.67313333,\n",
       "       6.69066667, 7.14461429, 6.58203778, 5.33218018, 6.77191556,\n",
       "       6.83443556, 6.16638333, 6.74958   , 6.87433333, 6.40993333,\n",
       "       6.8248    , 7.72993333, 6.03974038, 6.58953333, 6.43224444,\n",
       "       6.87774444, 8.03137   , 6.1402    , 6.55167222, 7.09073333,\n",
       "       6.55546667, 6.69445778, 6.56375556, 7.1364    , 7.1763    ,\n",
       "       6.77926667, 7.58973778, 6.12272   , 6.71570222, 7.09026222,\n",
       "       6.93366667, 7.53      , 7.8773    , 7.20526667, 6.94637778,\n",
       "       6.56881333, 7.00818   , 5.61067659, 6.81665556, 7.01121111,\n",
       "       7.00673333, 7.02030667, 6.72307222, 7.40351   , 5.31983333,\n",
       "       6.36038667, 7.31006667, 6.9616    , 5.89606667, 7.39782222,\n",
       "       7.01402222, 5.16070208, 6.86302222, 6.86817778, 7.16255   ,\n",
       "       6.44266667, 5.83177371, 6.79199   , 6.79536667, 6.66969151,\n",
       "       6.72352778, 6.38477778, 5.4961375 , 7.01853333, 6.72801667,\n",
       "       6.3558    , 7.10533333, 6.61712222, 5.68940574, 6.41045556,\n",
       "       6.83416667, 6.36526667, 6.4374    , 7.4938    , 6.93966667,\n",
       "       6.77383556, 6.6384    , 7.2048    , 7.36046667, 7.406     ,\n",
       "       7.1346    , 7.06812222, 6.88099667, 6.72296667, 7.03819317,\n",
       "       6.72353333, 7.53044   , 6.96515556, 6.62260317, 7.11543556,\n",
       "       6.23181333, 6.61647222, 7.66546667, 6.87684667, 6.31175111,\n",
       "       6.8984    , 6.51168   , 6.8156    , 5.96088495, 6.81123333,\n",
       "       6.40535   , 5.9966    , 5.45719778, 7.3528    , 6.60013333,\n",
       "       7.21874667, 6.29904667, 6.38392   , 6.62977778, 7.42777778,\n",
       "       6.09618246, 6.91757222, 7.13193889, 6.9894    , 6.75266667,\n",
       "       6.99267222, 6.93006667, 6.94336667, 6.49351556, 6.92242222,\n",
       "       7.1944    , 7.29469778, 6.45566667, 6.51829444, 6.94243889,\n",
       "       6.921     , 6.30848   , 7.1118    , 7.2808    , 7.17456667,\n",
       "       6.56293333, 7.49723333, 6.93006889, 7.20518889, 6.58483333,\n",
       "       5.78573333, 6.80686222, 7.12688889, 6.89876167, 6.46646667,\n",
       "       6.75834889, 6.81952   , 6.58228   , 5.47529849, 7.05766667,\n",
       "       6.65701333, 6.72526667])"
      ]
     },
     "execution_count": 8,
     "metadata": {},
     "output_type": "execute_result"
    }
   ],
   "source": [
    "import pickle\n",
    "X = pd.read_csv('./descriptors.csv')\n",
    "#y = X['pChemBL']\n",
    "#X.drop(columns='pChemBL',inplace=True)\n",
    "#Filling Null Values\n",
    "X.fillna(value=0,inplace=True)\n",
    "#Removing the columns with zero variance in original data\n",
    "with open('./saved_models/drop.txt','rb') as fp:\n",
    "    bad_cols = pickle.load(fp)\n",
    "X_step1 = X.drop(columns=bad_cols,inplace=False)\n",
    "X_step2 = X_step1\n",
    "\n",
    "\n",
    "\n",
    "#Doing StandardScaler() as applied to original data\n",
    "with open('./saved_models/new_scaler.pkl','rb') as fp:\n",
    "    scaler = pickle.load(fp)\n",
    "X2 = scaler.transform(X_step2.astype('float64'))\n",
    "X_step3 = pd.DataFrame(data=X2,columns=X_step2.columns)\n",
    "\n",
    "#X.head()\n",
    "#Dropping columns with low correlation with pIC50\n",
    "\n",
    "# =============================================================================\n",
    "#     X.to_csv('./X.csv',index=False)\n",
    "#     X_step1.to_csv('./X_step1.csv')\n",
    "#     X_step2.to_csv('./X_step2.csv')\n",
    "#     X_step3.to_csv('./X_step3.csv')\n",
    "# =============================================================================\n",
    "\n",
    "\n",
    "\n",
    "#Using the Random forest Predictor\n",
    "with open('./saved_models/new_RFR.pkl','rb') as fp:\n",
    "    pp = pickle.load(fp)\n",
    "pp.predict(X_step3)"
   ]
  },
  {
   "cell_type": "code",
   "execution_count": 7,
   "metadata": {},
   "outputs": [
    {
     "data": {
      "text/html": [
       "<div>\n",
       "<style scoped>\n",
       "    .dataframe tbody tr th:only-of-type {\n",
       "        vertical-align: middle;\n",
       "    }\n",
       "\n",
       "    .dataframe tbody tr th {\n",
       "        vertical-align: top;\n",
       "    }\n",
       "\n",
       "    .dataframe thead th {\n",
       "        text-align: right;\n",
       "    }\n",
       "</style>\n",
       "<table border=\"1\" class=\"dataframe\">\n",
       "  <thead>\n",
       "    <tr style=\"text-align: right;\">\n",
       "      <th></th>\n",
       "      <th>ATSC4c</th>\n",
       "      <th>ATSC2v</th>\n",
       "      <th>SCH-7</th>\n",
       "      <th>ASP-7</th>\n",
       "      <th>hmin</th>\n",
       "      <th>ETA_BetaP_s</th>\n",
       "      <th>IC1</th>\n",
       "      <th>IC2</th>\n",
       "      <th>SIC2</th>\n",
       "      <th>BIC2</th>\n",
       "      <th>ZMIC1</th>\n",
       "      <th>ZMIC2</th>\n",
       "      <th>MDEO-11</th>\n",
       "      <th>nHeteroRing</th>\n",
       "      <th>n6HeteroRing</th>\n",
       "      <th>nT6HeteroRing</th>\n",
       "      <th>LipinskiFailures</th>\n",
       "    </tr>\n",
       "  </thead>\n",
       "  <tbody>\n",
       "    <tr>\n",
       "      <th>0</th>\n",
       "      <td>0.578280</td>\n",
       "      <td>179.753983</td>\n",
       "      <td>0.369801</td>\n",
       "      <td>0.033885</td>\n",
       "      <td>0.072784</td>\n",
       "      <td>0.68750</td>\n",
       "      <td>3.988302</td>\n",
       "      <td>4.841615</td>\n",
       "      <td>0.871642</td>\n",
       "      <td>0.830054</td>\n",
       "      <td>38.680776</td>\n",
       "      <td>28.512776</td>\n",
       "      <td>0.388067</td>\n",
       "      <td>2</td>\n",
       "      <td>2</td>\n",
       "      <td>2</td>\n",
       "      <td>0</td>\n",
       "    </tr>\n",
       "    <tr>\n",
       "      <th>1</th>\n",
       "      <td>-0.115642</td>\n",
       "      <td>252.455141</td>\n",
       "      <td>0.621971</td>\n",
       "      <td>0.028386</td>\n",
       "      <td>0.072471</td>\n",
       "      <td>0.67188</td>\n",
       "      <td>4.396648</td>\n",
       "      <td>5.030633</td>\n",
       "      <td>0.916017</td>\n",
       "      <td>0.848231</td>\n",
       "      <td>42.295311</td>\n",
       "      <td>34.671329</td>\n",
       "      <td>0.512993</td>\n",
       "      <td>3</td>\n",
       "      <td>3</td>\n",
       "      <td>3</td>\n",
       "      <td>0</td>\n",
       "    </tr>\n",
       "    <tr>\n",
       "      <th>2</th>\n",
       "      <td>-0.097349</td>\n",
       "      <td>325.955735</td>\n",
       "      <td>0.578327</td>\n",
       "      <td>0.029740</td>\n",
       "      <td>-0.174475</td>\n",
       "      <td>0.65152</td>\n",
       "      <td>3.897113</td>\n",
       "      <td>4.760294</td>\n",
       "      <td>0.831068</td>\n",
       "      <td>0.772791</td>\n",
       "      <td>56.380963</td>\n",
       "      <td>38.830028</td>\n",
       "      <td>0.650698</td>\n",
       "      <td>2</td>\n",
       "      <td>0</td>\n",
       "      <td>0</td>\n",
       "      <td>0</td>\n",
       "    </tr>\n",
       "    <tr>\n",
       "      <th>3</th>\n",
       "      <td>0.464415</td>\n",
       "      <td>-30.113074</td>\n",
       "      <td>0.700831</td>\n",
       "      <td>0.026403</td>\n",
       "      <td>0.029772</td>\n",
       "      <td>0.68333</td>\n",
       "      <td>4.016156</td>\n",
       "      <td>4.604828</td>\n",
       "      <td>0.838483</td>\n",
       "      <td>0.771873</td>\n",
       "      <td>46.255943</td>\n",
       "      <td>34.935527</td>\n",
       "      <td>0.000000</td>\n",
       "      <td>3</td>\n",
       "      <td>2</td>\n",
       "      <td>2</td>\n",
       "      <td>0</td>\n",
       "    </tr>\n",
       "    <tr>\n",
       "      <th>4</th>\n",
       "      <td>-0.134785</td>\n",
       "      <td>349.032190</td>\n",
       "      <td>0.881447</td>\n",
       "      <td>0.028300</td>\n",
       "      <td>-0.053398</td>\n",
       "      <td>0.68519</td>\n",
       "      <td>3.757635</td>\n",
       "      <td>4.808388</td>\n",
       "      <td>0.856391</td>\n",
       "      <td>0.814030</td>\n",
       "      <td>39.266077</td>\n",
       "      <td>27.847084</td>\n",
       "      <td>0.200000</td>\n",
       "      <td>3</td>\n",
       "      <td>1</td>\n",
       "      <td>1</td>\n",
       "      <td>0</td>\n",
       "    </tr>\n",
       "  </tbody>\n",
       "</table>\n",
       "</div>"
      ],
      "text/plain": [
       "     ATSC4c      ATSC2v     SCH-7     ASP-7      hmin  ETA_BetaP_s       IC1  \\\n",
       "0  0.578280  179.753983  0.369801  0.033885  0.072784      0.68750  3.988302   \n",
       "1 -0.115642  252.455141  0.621971  0.028386  0.072471      0.67188  4.396648   \n",
       "2 -0.097349  325.955735  0.578327  0.029740 -0.174475      0.65152  3.897113   \n",
       "3  0.464415  -30.113074  0.700831  0.026403  0.029772      0.68333  4.016156   \n",
       "4 -0.134785  349.032190  0.881447  0.028300 -0.053398      0.68519  3.757635   \n",
       "\n",
       "        IC2      SIC2      BIC2      ZMIC1      ZMIC2   MDEO-11  nHeteroRing  \\\n",
       "0  4.841615  0.871642  0.830054  38.680776  28.512776  0.388067            2   \n",
       "1  5.030633  0.916017  0.848231  42.295311  34.671329  0.512993            3   \n",
       "2  4.760294  0.831068  0.772791  56.380963  38.830028  0.650698            2   \n",
       "3  4.604828  0.838483  0.771873  46.255943  34.935527  0.000000            3   \n",
       "4  4.808388  0.856391  0.814030  39.266077  27.847084  0.200000            3   \n",
       "\n",
       "   n6HeteroRing  nT6HeteroRing  LipinskiFailures  \n",
       "0             2              2                 0  \n",
       "1             3              3                 0  \n",
       "2             0              0                 0  \n",
       "3             2              2                 0  \n",
       "4             1              1                 0  "
      ]
     },
     "execution_count": 7,
     "metadata": {},
     "output_type": "execute_result"
    }
   ],
   "source": [
    "X_train.head()"
   ]
  },
  {
   "cell_type": "code",
   "execution_count": 41,
   "metadata": {},
   "outputs": [
    {
     "data": {
      "text/plain": [
       "array([7.76408889])"
      ]
     },
     "execution_count": 41,
     "metadata": {},
     "output_type": "execute_result"
    }
   ],
   "source": [
    "model.predict(X_step3)"
   ]
  },
  {
   "cell_type": "markdown",
   "metadata": {},
   "source": [
    "<h1>Explorations</h1>"
   ]
  },
  {
   "cell_type": "code",
   "execution_count": 9,
   "metadata": {},
   "outputs": [],
   "source": [
    "import pickle\n",
    "with open('./saved_models/new_RFR.pkl','rb') as fp:\n",
    "    pp = pickle.load(fp)"
   ]
  },
  {
   "cell_type": "code",
   "execution_count": 7,
   "metadata": {
    "scrolled": true
   },
   "outputs": [
    {
     "data": {
      "text/html": [
       "<div>\n",
       "<style scoped>\n",
       "    .dataframe tbody tr th:only-of-type {\n",
       "        vertical-align: middle;\n",
       "    }\n",
       "\n",
       "    .dataframe tbody tr th {\n",
       "        vertical-align: top;\n",
       "    }\n",
       "\n",
       "    .dataframe thead th {\n",
       "        text-align: right;\n",
       "    }\n",
       "</style>\n",
       "<table border=\"1\" class=\"dataframe\">\n",
       "  <thead>\n",
       "    <tr style=\"text-align: right;\">\n",
       "      <th></th>\n",
       "      <th>nAcid</th>\n",
       "      <th>ALogP</th>\n",
       "      <th>ALogp2</th>\n",
       "      <th>AMR</th>\n",
       "      <th>apol</th>\n",
       "      <th>naAromAtom</th>\n",
       "      <th>nAromBond</th>\n",
       "      <th>nAtom</th>\n",
       "      <th>nHeavyAtom</th>\n",
       "      <th>nH</th>\n",
       "      <th>...</th>\n",
       "      <th>WTPT-1</th>\n",
       "      <th>WTPT-2</th>\n",
       "      <th>WTPT-3</th>\n",
       "      <th>WTPT-4</th>\n",
       "      <th>WTPT-5</th>\n",
       "      <th>WPATH</th>\n",
       "      <th>WPOL</th>\n",
       "      <th>XLogP</th>\n",
       "      <th>Zagreb</th>\n",
       "      <th>pChemBL</th>\n",
       "    </tr>\n",
       "  </thead>\n",
       "  <tbody>\n",
       "    <tr>\n",
       "      <th>0</th>\n",
       "      <td>0</td>\n",
       "      <td>-0.7109</td>\n",
       "      <td>0.505379</td>\n",
       "      <td>70.4932</td>\n",
       "      <td>73.378583</td>\n",
       "      <td>16</td>\n",
       "      <td>18</td>\n",
       "      <td>65</td>\n",
       "      <td>34</td>\n",
       "      <td>31</td>\n",
       "      <td>...</td>\n",
       "      <td>70.514766</td>\n",
       "      <td>2.073964</td>\n",
       "      <td>27.938805</td>\n",
       "      <td>11.267053</td>\n",
       "      <td>16.671753</td>\n",
       "      <td>3404</td>\n",
       "      <td>59</td>\n",
       "      <td>2.188</td>\n",
       "      <td>184</td>\n",
       "      <td>6.82</td>\n",
       "    </tr>\n",
       "    <tr>\n",
       "      <th>1</th>\n",
       "      <td>0</td>\n",
       "      <td>-1.4578</td>\n",
       "      <td>2.125181</td>\n",
       "      <td>44.0418</td>\n",
       "      <td>64.304653</td>\n",
       "      <td>18</td>\n",
       "      <td>20</td>\n",
       "      <td>52</td>\n",
       "      <td>31</td>\n",
       "      <td>21</td>\n",
       "      <td>...</td>\n",
       "      <td>65.167083</td>\n",
       "      <td>2.102164</td>\n",
       "      <td>17.955201</td>\n",
       "      <td>2.565237</td>\n",
       "      <td>15.389964</td>\n",
       "      <td>2593</td>\n",
       "      <td>55</td>\n",
       "      <td>6.575</td>\n",
       "      <td>180</td>\n",
       "      <td>7.64</td>\n",
       "    </tr>\n",
       "    <tr>\n",
       "      <th>2</th>\n",
       "      <td>0</td>\n",
       "      <td>0.0748</td>\n",
       "      <td>0.005595</td>\n",
       "      <td>27.2874</td>\n",
       "      <td>69.268860</td>\n",
       "      <td>27</td>\n",
       "      <td>29</td>\n",
       "      <td>57</td>\n",
       "      <td>37</td>\n",
       "      <td>20</td>\n",
       "      <td>...</td>\n",
       "      <td>76.232497</td>\n",
       "      <td>2.060338</td>\n",
       "      <td>31.795843</td>\n",
       "      <td>2.556014</td>\n",
       "      <td>22.098211</td>\n",
       "      <td>4979</td>\n",
       "      <td>56</td>\n",
       "      <td>5.589</td>\n",
       "      <td>198</td>\n",
       "      <td>4.30</td>\n",
       "    </tr>\n",
       "    <tr>\n",
       "      <th>3</th>\n",
       "      <td>0</td>\n",
       "      <td>-10.0458</td>\n",
       "      <td>100.918098</td>\n",
       "      <td>183.2952</td>\n",
       "      <td>142.418303</td>\n",
       "      <td>6</td>\n",
       "      <td>6</td>\n",
       "      <td>135</td>\n",
       "      <td>64</td>\n",
       "      <td>71</td>\n",
       "      <td>...</td>\n",
       "      <td>125.580825</td>\n",
       "      <td>1.962200</td>\n",
       "      <td>61.611922</td>\n",
       "      <td>20.276064</td>\n",
       "      <td>41.335857</td>\n",
       "      <td>21440</td>\n",
       "      <td>92</td>\n",
       "      <td>-0.194</td>\n",
       "      <td>302</td>\n",
       "      <td>6.03</td>\n",
       "    </tr>\n",
       "    <tr>\n",
       "      <th>4</th>\n",
       "      <td>0</td>\n",
       "      <td>-1.7897</td>\n",
       "      <td>3.203026</td>\n",
       "      <td>32.3564</td>\n",
       "      <td>58.685481</td>\n",
       "      <td>21</td>\n",
       "      <td>23</td>\n",
       "      <td>47</td>\n",
       "      <td>30</td>\n",
       "      <td>17</td>\n",
       "      <td>...</td>\n",
       "      <td>62.402934</td>\n",
       "      <td>2.080098</td>\n",
       "      <td>16.872064</td>\n",
       "      <td>13.655728</td>\n",
       "      <td>3.216336</td>\n",
       "      <td>2319</td>\n",
       "      <td>52</td>\n",
       "      <td>4.844</td>\n",
       "      <td>168</td>\n",
       "      <td>6.42</td>\n",
       "    </tr>\n",
       "  </tbody>\n",
       "</table>\n",
       "<p>5 rows × 1209 columns</p>\n",
       "</div>"
      ],
      "text/plain": [
       "   nAcid    ALogP      ALogp2       AMR        apol  naAromAtom  nAromBond  \\\n",
       "0      0  -0.7109    0.505379   70.4932   73.378583          16         18   \n",
       "1      0  -1.4578    2.125181   44.0418   64.304653          18         20   \n",
       "2      0   0.0748    0.005595   27.2874   69.268860          27         29   \n",
       "3      0 -10.0458  100.918098  183.2952  142.418303           6          6   \n",
       "4      0  -1.7897    3.203026   32.3564   58.685481          21         23   \n",
       "\n",
       "   nAtom  nHeavyAtom  nH  ...      WTPT-1    WTPT-2     WTPT-3     WTPT-4  \\\n",
       "0     65          34  31  ...   70.514766  2.073964  27.938805  11.267053   \n",
       "1     52          31  21  ...   65.167083  2.102164  17.955201   2.565237   \n",
       "2     57          37  20  ...   76.232497  2.060338  31.795843   2.556014   \n",
       "3    135          64  71  ...  125.580825  1.962200  61.611922  20.276064   \n",
       "4     47          30  17  ...   62.402934  2.080098  16.872064  13.655728   \n",
       "\n",
       "      WTPT-5  WPATH  WPOL  XLogP  Zagreb  pChemBL  \n",
       "0  16.671753   3404    59  2.188     184     6.82  \n",
       "1  15.389964   2593    55  6.575     180     7.64  \n",
       "2  22.098211   4979    56  5.589     198     4.30  \n",
       "3  41.335857  21440    92 -0.194     302     6.03  \n",
       "4   3.216336   2319    52  4.844     168     6.42  \n",
       "\n",
       "[5 rows x 1209 columns]"
      ]
     },
     "execution_count": 7,
     "metadata": {},
     "output_type": "execute_result"
    }
   ],
   "source": [
    "X= pd.read_csv('no_zeros_no_chembl.csv')\n",
    "#X.drop(columns=['ChemBLID'],inplace=True)\n",
    "X.head()"
   ]
  },
  {
   "cell_type": "code",
   "execution_count": 8,
   "metadata": {},
   "outputs": [
    {
     "data": {
      "text/plain": [
       "(1209, 1209)"
      ]
     },
     "execution_count": 8,
     "metadata": {},
     "output_type": "execute_result"
    }
   ],
   "source": [
    "correlation_matrix = X.corr()\n",
    "correlation_matrix.shape"
   ]
  },
  {
   "cell_type": "code",
   "execution_count": 9,
   "metadata": {},
   "outputs": [
    {
     "name": "stdout",
     "output_type": "stream",
     "text": [
      "1191\n"
     ]
    },
    {
     "data": {
      "text/plain": [
       "1191"
      ]
     },
     "execution_count": 9,
     "metadata": {},
     "output_type": "execute_result"
    }
   ],
   "source": [
    "rows, cols = correlation_matrix.shape\n",
    "bad_cols_index = []\n",
    "for cols in range(rows-1):\n",
    "    if correlation_matrix.abs().iloc[cols,rows-1] < 0.25:\n",
    "        bad_cols_index.append(cols)\n",
    "print(len(bad_cols_index))\n",
    "\n",
    "bad_cols2 = []\n",
    "cols = X.columns\n",
    "for index in bad_cols_index:\n",
    "    bad_cols2.append(cols[index])\n",
    "len(bad_cols2)"
   ]
  },
  {
   "cell_type": "code",
   "execution_count": 10,
   "metadata": {},
   "outputs": [
    {
     "data": {
      "text/html": [
       "<div>\n",
       "<style scoped>\n",
       "    .dataframe tbody tr th:only-of-type {\n",
       "        vertical-align: middle;\n",
       "    }\n",
       "\n",
       "    .dataframe tbody tr th {\n",
       "        vertical-align: top;\n",
       "    }\n",
       "\n",
       "    .dataframe thead th {\n",
       "        text-align: right;\n",
       "    }\n",
       "</style>\n",
       "<table border=\"1\" class=\"dataframe\">\n",
       "  <thead>\n",
       "    <tr style=\"text-align: right;\">\n",
       "      <th></th>\n",
       "      <th>nAcid</th>\n",
       "      <th>ALogP</th>\n",
       "      <th>ALogp2</th>\n",
       "      <th>AMR</th>\n",
       "      <th>apol</th>\n",
       "      <th>naAromAtom</th>\n",
       "      <th>nAromBond</th>\n",
       "      <th>nAtom</th>\n",
       "      <th>nHeavyAtom</th>\n",
       "      <th>nH</th>\n",
       "      <th>...</th>\n",
       "      <th>WTPT-1</th>\n",
       "      <th>WTPT-2</th>\n",
       "      <th>WTPT-3</th>\n",
       "      <th>WTPT-4</th>\n",
       "      <th>WTPT-5</th>\n",
       "      <th>WPATH</th>\n",
       "      <th>WPOL</th>\n",
       "      <th>XLogP</th>\n",
       "      <th>Zagreb</th>\n",
       "      <th>pChemBL</th>\n",
       "    </tr>\n",
       "  </thead>\n",
       "  <tbody>\n",
       "    <tr>\n",
       "      <th>0</th>\n",
       "      <td>0</td>\n",
       "      <td>-0.7109</td>\n",
       "      <td>0.505379</td>\n",
       "      <td>70.4932</td>\n",
       "      <td>73.378583</td>\n",
       "      <td>16</td>\n",
       "      <td>18</td>\n",
       "      <td>65</td>\n",
       "      <td>34</td>\n",
       "      <td>31</td>\n",
       "      <td>...</td>\n",
       "      <td>70.514766</td>\n",
       "      <td>2.073964</td>\n",
       "      <td>27.938805</td>\n",
       "      <td>11.267053</td>\n",
       "      <td>16.671753</td>\n",
       "      <td>3404</td>\n",
       "      <td>59</td>\n",
       "      <td>2.188</td>\n",
       "      <td>184</td>\n",
       "      <td>6.82</td>\n",
       "    </tr>\n",
       "    <tr>\n",
       "      <th>1</th>\n",
       "      <td>0</td>\n",
       "      <td>-1.4578</td>\n",
       "      <td>2.125181</td>\n",
       "      <td>44.0418</td>\n",
       "      <td>64.304653</td>\n",
       "      <td>18</td>\n",
       "      <td>20</td>\n",
       "      <td>52</td>\n",
       "      <td>31</td>\n",
       "      <td>21</td>\n",
       "      <td>...</td>\n",
       "      <td>65.167083</td>\n",
       "      <td>2.102164</td>\n",
       "      <td>17.955201</td>\n",
       "      <td>2.565237</td>\n",
       "      <td>15.389964</td>\n",
       "      <td>2593</td>\n",
       "      <td>55</td>\n",
       "      <td>6.575</td>\n",
       "      <td>180</td>\n",
       "      <td>7.64</td>\n",
       "    </tr>\n",
       "    <tr>\n",
       "      <th>2</th>\n",
       "      <td>0</td>\n",
       "      <td>0.0748</td>\n",
       "      <td>0.005595</td>\n",
       "      <td>27.2874</td>\n",
       "      <td>69.268860</td>\n",
       "      <td>27</td>\n",
       "      <td>29</td>\n",
       "      <td>57</td>\n",
       "      <td>37</td>\n",
       "      <td>20</td>\n",
       "      <td>...</td>\n",
       "      <td>76.232497</td>\n",
       "      <td>2.060338</td>\n",
       "      <td>31.795843</td>\n",
       "      <td>2.556014</td>\n",
       "      <td>22.098211</td>\n",
       "      <td>4979</td>\n",
       "      <td>56</td>\n",
       "      <td>5.589</td>\n",
       "      <td>198</td>\n",
       "      <td>4.30</td>\n",
       "    </tr>\n",
       "    <tr>\n",
       "      <th>3</th>\n",
       "      <td>0</td>\n",
       "      <td>-10.0458</td>\n",
       "      <td>100.918098</td>\n",
       "      <td>183.2952</td>\n",
       "      <td>142.418303</td>\n",
       "      <td>6</td>\n",
       "      <td>6</td>\n",
       "      <td>135</td>\n",
       "      <td>64</td>\n",
       "      <td>71</td>\n",
       "      <td>...</td>\n",
       "      <td>125.580825</td>\n",
       "      <td>1.962200</td>\n",
       "      <td>61.611922</td>\n",
       "      <td>20.276064</td>\n",
       "      <td>41.335857</td>\n",
       "      <td>21440</td>\n",
       "      <td>92</td>\n",
       "      <td>-0.194</td>\n",
       "      <td>302</td>\n",
       "      <td>6.03</td>\n",
       "    </tr>\n",
       "    <tr>\n",
       "      <th>4</th>\n",
       "      <td>0</td>\n",
       "      <td>-1.7897</td>\n",
       "      <td>3.203026</td>\n",
       "      <td>32.3564</td>\n",
       "      <td>58.685481</td>\n",
       "      <td>21</td>\n",
       "      <td>23</td>\n",
       "      <td>47</td>\n",
       "      <td>30</td>\n",
       "      <td>17</td>\n",
       "      <td>...</td>\n",
       "      <td>62.402934</td>\n",
       "      <td>2.080098</td>\n",
       "      <td>16.872064</td>\n",
       "      <td>13.655728</td>\n",
       "      <td>3.216336</td>\n",
       "      <td>2319</td>\n",
       "      <td>52</td>\n",
       "      <td>4.844</td>\n",
       "      <td>168</td>\n",
       "      <td>6.42</td>\n",
       "    </tr>\n",
       "  </tbody>\n",
       "</table>\n",
       "<p>5 rows × 1209 columns</p>\n",
       "</div>"
      ],
      "text/plain": [
       "   nAcid    ALogP      ALogp2       AMR        apol  naAromAtom  nAromBond  \\\n",
       "0      0  -0.7109    0.505379   70.4932   73.378583          16         18   \n",
       "1      0  -1.4578    2.125181   44.0418   64.304653          18         20   \n",
       "2      0   0.0748    0.005595   27.2874   69.268860          27         29   \n",
       "3      0 -10.0458  100.918098  183.2952  142.418303           6          6   \n",
       "4      0  -1.7897    3.203026   32.3564   58.685481          21         23   \n",
       "\n",
       "   nAtom  nHeavyAtom  nH  ...      WTPT-1    WTPT-2     WTPT-3     WTPT-4  \\\n",
       "0     65          34  31  ...   70.514766  2.073964  27.938805  11.267053   \n",
       "1     52          31  21  ...   65.167083  2.102164  17.955201   2.565237   \n",
       "2     57          37  20  ...   76.232497  2.060338  31.795843   2.556014   \n",
       "3    135          64  71  ...  125.580825  1.962200  61.611922  20.276064   \n",
       "4     47          30  17  ...   62.402934  2.080098  16.872064  13.655728   \n",
       "\n",
       "      WTPT-5  WPATH  WPOL  XLogP  Zagreb  pChemBL  \n",
       "0  16.671753   3404    59  2.188     184     6.82  \n",
       "1  15.389964   2593    55  6.575     180     7.64  \n",
       "2  22.098211   4979    56  5.589     198     4.30  \n",
       "3  41.335857  21440    92 -0.194     302     6.03  \n",
       "4   3.216336   2319    52  4.844     168     6.42  \n",
       "\n",
       "[5 rows x 1209 columns]"
      ]
     },
     "execution_count": 10,
     "metadata": {},
     "output_type": "execute_result"
    }
   ],
   "source": [
    "X.head()"
   ]
  },
  {
   "cell_type": "code",
   "execution_count": 11,
   "metadata": {},
   "outputs": [
    {
     "data": {
      "text/html": [
       "<div>\n",
       "<style scoped>\n",
       "    .dataframe tbody tr th:only-of-type {\n",
       "        vertical-align: middle;\n",
       "    }\n",
       "\n",
       "    .dataframe tbody tr th {\n",
       "        vertical-align: top;\n",
       "    }\n",
       "\n",
       "    .dataframe thead th {\n",
       "        text-align: right;\n",
       "    }\n",
       "</style>\n",
       "<table border=\"1\" class=\"dataframe\">\n",
       "  <thead>\n",
       "    <tr style=\"text-align: right;\">\n",
       "      <th></th>\n",
       "      <th>ATSC4c</th>\n",
       "      <th>ATSC2v</th>\n",
       "      <th>SCH-7</th>\n",
       "      <th>ASP-7</th>\n",
       "      <th>hmin</th>\n",
       "      <th>ETA_BetaP_s</th>\n",
       "      <th>IC1</th>\n",
       "      <th>IC2</th>\n",
       "      <th>SIC2</th>\n",
       "      <th>BIC2</th>\n",
       "      <th>ZMIC1</th>\n",
       "      <th>ZMIC2</th>\n",
       "      <th>MDEO-11</th>\n",
       "      <th>nHeteroRing</th>\n",
       "      <th>n6HeteroRing</th>\n",
       "      <th>nT6HeteroRing</th>\n",
       "      <th>LipinskiFailures</th>\n",
       "      <th>pChemBL</th>\n",
       "    </tr>\n",
       "  </thead>\n",
       "  <tbody>\n",
       "    <tr>\n",
       "      <th>0</th>\n",
       "      <td>0.183691</td>\n",
       "      <td>808.584430</td>\n",
       "      <td>0.639198</td>\n",
       "      <td>0.027205</td>\n",
       "      <td>-0.189456</td>\n",
       "      <td>0.69853</td>\n",
       "      <td>3.498205</td>\n",
       "      <td>4.793532</td>\n",
       "      <td>0.795955</td>\n",
       "      <td>0.762645</td>\n",
       "      <td>51.535290</td>\n",
       "      <td>33.179219</td>\n",
       "      <td>0.000000</td>\n",
       "      <td>4</td>\n",
       "      <td>4</td>\n",
       "      <td>4</td>\n",
       "      <td>0</td>\n",
       "      <td>6.82</td>\n",
       "    </tr>\n",
       "    <tr>\n",
       "      <th>1</th>\n",
       "      <td>0.052198</td>\n",
       "      <td>-125.913748</td>\n",
       "      <td>1.013922</td>\n",
       "      <td>0.025619</td>\n",
       "      <td>-0.114131</td>\n",
       "      <td>0.65323</td>\n",
       "      <td>3.560855</td>\n",
       "      <td>4.402672</td>\n",
       "      <td>0.772339</td>\n",
       "      <td>0.718301</td>\n",
       "      <td>58.106835</td>\n",
       "      <td>36.787814</td>\n",
       "      <td>0.000000</td>\n",
       "      <td>3</td>\n",
       "      <td>2</td>\n",
       "      <td>2</td>\n",
       "      <td>1</td>\n",
       "      <td>7.64</td>\n",
       "    </tr>\n",
       "    <tr>\n",
       "      <th>2</th>\n",
       "      <td>-0.177672</td>\n",
       "      <td>-435.726504</td>\n",
       "      <td>0.622175</td>\n",
       "      <td>0.031451</td>\n",
       "      <td>-0.014566</td>\n",
       "      <td>0.68243</td>\n",
       "      <td>3.677764</td>\n",
       "      <td>4.767468</td>\n",
       "      <td>0.817342</td>\n",
       "      <td>0.761894</td>\n",
       "      <td>65.634530</td>\n",
       "      <td>39.004854</td>\n",
       "      <td>0.000000</td>\n",
       "      <td>3</td>\n",
       "      <td>2</td>\n",
       "      <td>2</td>\n",
       "      <td>1</td>\n",
       "      <td>4.30</td>\n",
       "    </tr>\n",
       "    <tr>\n",
       "      <th>3</th>\n",
       "      <td>-1.568588</td>\n",
       "      <td>-1158.676211</td>\n",
       "      <td>0.405022</td>\n",
       "      <td>0.033239</td>\n",
       "      <td>-0.177539</td>\n",
       "      <td>0.63281</td>\n",
       "      <td>3.492463</td>\n",
       "      <td>4.900736</td>\n",
       "      <td>0.692506</td>\n",
       "      <td>0.679765</td>\n",
       "      <td>108.296299</td>\n",
       "      <td>67.713621</td>\n",
       "      <td>2.886374</td>\n",
       "      <td>1</td>\n",
       "      <td>0</td>\n",
       "      <td>0</td>\n",
       "      <td>3</td>\n",
       "      <td>6.03</td>\n",
       "    </tr>\n",
       "    <tr>\n",
       "      <th>4</th>\n",
       "      <td>0.464528</td>\n",
       "      <td>150.179266</td>\n",
       "      <td>1.160056</td>\n",
       "      <td>0.025954</td>\n",
       "      <td>-0.117708</td>\n",
       "      <td>0.64167</td>\n",
       "      <td>3.468889</td>\n",
       "      <td>4.475247</td>\n",
       "      <td>0.805685</td>\n",
       "      <td>0.744481</td>\n",
       "      <td>61.609585</td>\n",
       "      <td>34.166117</td>\n",
       "      <td>0.655185</td>\n",
       "      <td>2</td>\n",
       "      <td>0</td>\n",
       "      <td>0</td>\n",
       "      <td>0</td>\n",
       "      <td>6.42</td>\n",
       "    </tr>\n",
       "  </tbody>\n",
       "</table>\n",
       "</div>"
      ],
      "text/plain": [
       "     ATSC4c       ATSC2v     SCH-7     ASP-7      hmin  ETA_BetaP_s       IC1  \\\n",
       "0  0.183691   808.584430  0.639198  0.027205 -0.189456      0.69853  3.498205   \n",
       "1  0.052198  -125.913748  1.013922  0.025619 -0.114131      0.65323  3.560855   \n",
       "2 -0.177672  -435.726504  0.622175  0.031451 -0.014566      0.68243  3.677764   \n",
       "3 -1.568588 -1158.676211  0.405022  0.033239 -0.177539      0.63281  3.492463   \n",
       "4  0.464528   150.179266  1.160056  0.025954 -0.117708      0.64167  3.468889   \n",
       "\n",
       "        IC2      SIC2      BIC2       ZMIC1      ZMIC2   MDEO-11  nHeteroRing  \\\n",
       "0  4.793532  0.795955  0.762645   51.535290  33.179219  0.000000            4   \n",
       "1  4.402672  0.772339  0.718301   58.106835  36.787814  0.000000            3   \n",
       "2  4.767468  0.817342  0.761894   65.634530  39.004854  0.000000            3   \n",
       "3  4.900736  0.692506  0.679765  108.296299  67.713621  2.886374            1   \n",
       "4  4.475247  0.805685  0.744481   61.609585  34.166117  0.655185            2   \n",
       "\n",
       "   n6HeteroRing  nT6HeteroRing  LipinskiFailures  pChemBL  \n",
       "0             4              4                 0     6.82  \n",
       "1             2              2                 1     7.64  \n",
       "2             2              2                 1     4.30  \n",
       "3             0              0                 3     6.03  \n",
       "4             0              0                 0     6.42  "
      ]
     },
     "execution_count": 11,
     "metadata": {},
     "output_type": "execute_result"
    }
   ],
   "source": [
    "X_try = X.drop(columns=bad_cols2,inplace=False).copy()\n",
    "X_try.head()"
   ]
  },
  {
   "cell_type": "code",
   "execution_count": 26,
   "metadata": {},
   "outputs": [],
   "source": [
    "X_try.to_csv('./X17.csv')"
   ]
  },
  {
   "cell_type": "code",
   "execution_count": 63,
   "metadata": {},
   "outputs": [
    {
     "data": {
      "text/html": [
       "<div>\n",
       "<style scoped>\n",
       "    .dataframe tbody tr th:only-of-type {\n",
       "        vertical-align: middle;\n",
       "    }\n",
       "\n",
       "    .dataframe tbody tr th {\n",
       "        vertical-align: top;\n",
       "    }\n",
       "\n",
       "    .dataframe thead th {\n",
       "        text-align: right;\n",
       "    }\n",
       "</style>\n",
       "<table border=\"1\" class=\"dataframe\">\n",
       "  <thead>\n",
       "    <tr style=\"text-align: right;\">\n",
       "      <th></th>\n",
       "      <th>ATSC4c</th>\n",
       "      <th>ATSC2v</th>\n",
       "      <th>SCH-7</th>\n",
       "      <th>ASP-7</th>\n",
       "      <th>hmin</th>\n",
       "      <th>ETA_BetaP_s</th>\n",
       "      <th>IC1</th>\n",
       "      <th>IC2</th>\n",
       "      <th>SIC2</th>\n",
       "      <th>BIC2</th>\n",
       "      <th>ZMIC1</th>\n",
       "      <th>ZMIC2</th>\n",
       "      <th>MDEO-11</th>\n",
       "      <th>nHeteroRing</th>\n",
       "      <th>n6HeteroRing</th>\n",
       "      <th>nT6HeteroRing</th>\n",
       "      <th>LipinskiFailures</th>\n",
       "      <th>pChemBL</th>\n",
       "    </tr>\n",
       "  </thead>\n",
       "  <tbody>\n",
       "    <tr>\n",
       "      <th>0</th>\n",
       "      <td>0.183691</td>\n",
       "      <td>808.584430</td>\n",
       "      <td>0.639198</td>\n",
       "      <td>0.027205</td>\n",
       "      <td>-0.189456</td>\n",
       "      <td>0.69853</td>\n",
       "      <td>3.498205</td>\n",
       "      <td>4.793532</td>\n",
       "      <td>0.795955</td>\n",
       "      <td>0.762645</td>\n",
       "      <td>51.535290</td>\n",
       "      <td>33.179219</td>\n",
       "      <td>0.000000</td>\n",
       "      <td>4</td>\n",
       "      <td>4</td>\n",
       "      <td>4</td>\n",
       "      <td>0</td>\n",
       "      <td>6.82</td>\n",
       "    </tr>\n",
       "    <tr>\n",
       "      <th>1</th>\n",
       "      <td>0.052198</td>\n",
       "      <td>-125.913748</td>\n",
       "      <td>1.013922</td>\n",
       "      <td>0.025619</td>\n",
       "      <td>-0.114131</td>\n",
       "      <td>0.65323</td>\n",
       "      <td>3.560855</td>\n",
       "      <td>4.402672</td>\n",
       "      <td>0.772339</td>\n",
       "      <td>0.718301</td>\n",
       "      <td>58.106835</td>\n",
       "      <td>36.787814</td>\n",
       "      <td>0.000000</td>\n",
       "      <td>3</td>\n",
       "      <td>2</td>\n",
       "      <td>2</td>\n",
       "      <td>1</td>\n",
       "      <td>7.64</td>\n",
       "    </tr>\n",
       "    <tr>\n",
       "      <th>2</th>\n",
       "      <td>-0.177672</td>\n",
       "      <td>-435.726504</td>\n",
       "      <td>0.622175</td>\n",
       "      <td>0.031451</td>\n",
       "      <td>-0.014566</td>\n",
       "      <td>0.68243</td>\n",
       "      <td>3.677764</td>\n",
       "      <td>4.767468</td>\n",
       "      <td>0.817342</td>\n",
       "      <td>0.761894</td>\n",
       "      <td>65.634530</td>\n",
       "      <td>39.004854</td>\n",
       "      <td>0.000000</td>\n",
       "      <td>3</td>\n",
       "      <td>2</td>\n",
       "      <td>2</td>\n",
       "      <td>1</td>\n",
       "      <td>4.30</td>\n",
       "    </tr>\n",
       "    <tr>\n",
       "      <th>3</th>\n",
       "      <td>-1.568588</td>\n",
       "      <td>-1158.676211</td>\n",
       "      <td>0.405022</td>\n",
       "      <td>0.033239</td>\n",
       "      <td>-0.177539</td>\n",
       "      <td>0.63281</td>\n",
       "      <td>3.492463</td>\n",
       "      <td>4.900736</td>\n",
       "      <td>0.692506</td>\n",
       "      <td>0.679765</td>\n",
       "      <td>108.296299</td>\n",
       "      <td>67.713621</td>\n",
       "      <td>2.886374</td>\n",
       "      <td>1</td>\n",
       "      <td>0</td>\n",
       "      <td>0</td>\n",
       "      <td>3</td>\n",
       "      <td>6.03</td>\n",
       "    </tr>\n",
       "    <tr>\n",
       "      <th>4</th>\n",
       "      <td>0.464528</td>\n",
       "      <td>150.179266</td>\n",
       "      <td>1.160056</td>\n",
       "      <td>0.025954</td>\n",
       "      <td>-0.117708</td>\n",
       "      <td>0.64167</td>\n",
       "      <td>3.468889</td>\n",
       "      <td>4.475247</td>\n",
       "      <td>0.805685</td>\n",
       "      <td>0.744481</td>\n",
       "      <td>61.609585</td>\n",
       "      <td>34.166117</td>\n",
       "      <td>0.655185</td>\n",
       "      <td>2</td>\n",
       "      <td>0</td>\n",
       "      <td>0</td>\n",
       "      <td>0</td>\n",
       "      <td>6.42</td>\n",
       "    </tr>\n",
       "  </tbody>\n",
       "</table>\n",
       "</div>"
      ],
      "text/plain": [
       "     ATSC4c       ATSC2v     SCH-7     ASP-7      hmin  ETA_BetaP_s       IC1  \\\n",
       "0  0.183691   808.584430  0.639198  0.027205 -0.189456      0.69853  3.498205   \n",
       "1  0.052198  -125.913748  1.013922  0.025619 -0.114131      0.65323  3.560855   \n",
       "2 -0.177672  -435.726504  0.622175  0.031451 -0.014566      0.68243  3.677764   \n",
       "3 -1.568588 -1158.676211  0.405022  0.033239 -0.177539      0.63281  3.492463   \n",
       "4  0.464528   150.179266  1.160056  0.025954 -0.117708      0.64167  3.468889   \n",
       "\n",
       "        IC2      SIC2      BIC2       ZMIC1      ZMIC2   MDEO-11  nHeteroRing  \\\n",
       "0  4.793532  0.795955  0.762645   51.535290  33.179219  0.000000            4   \n",
       "1  4.402672  0.772339  0.718301   58.106835  36.787814  0.000000            3   \n",
       "2  4.767468  0.817342  0.761894   65.634530  39.004854  0.000000            3   \n",
       "3  4.900736  0.692506  0.679765  108.296299  67.713621  2.886374            1   \n",
       "4  4.475247  0.805685  0.744481   61.609585  34.166117  0.655185            2   \n",
       "\n",
       "   n6HeteroRing  nT6HeteroRing  LipinskiFailures  pChemBL  \n",
       "0             4              4                 0     6.82  \n",
       "1             2              2                 1     7.64  \n",
       "2             2              2                 1     4.30  \n",
       "3             0              0                 3     6.03  \n",
       "4             0              0                 0     6.42  "
      ]
     },
     "execution_count": 63,
     "metadata": {},
     "output_type": "execute_result"
    }
   ],
   "source": [
    "X_try = pd.read_csv('./X17.csv')\n",
    "X_try.head()"
   ]
  },
  {
   "cell_type": "code",
   "execution_count": 13,
   "metadata": {
    "scrolled": true
   },
   "outputs": [
    {
     "data": {
      "image/png": "[encoded data removed]",
      "text/plain": [
       "<Figure size 1080x1080 with 2 Axes>"
      ]
     },
     "metadata": {
      "needs_background": "light"
     },
     "output_type": "display_data"
    }
   ],
   "source": [
    "mat = X_try.corr()\n",
    "plt.figure(figsize=(15,15))\n",
    "sns.heatmap(mat,annot=True)\n",
    "plt.show()"
   ]
  },
  {
   "cell_type": "code",
   "execution_count": 10,
   "metadata": {},
   "outputs": [
    {
     "data": {
      "text/plain": [
       "(18, 18)"
      ]
     },
     "execution_count": 10,
     "metadata": {},
     "output_type": "execute_result"
    }
   ],
   "source": [
    "mat.shape"
   ]
  },
  {
   "cell_type": "code",
   "execution_count": 24,
   "metadata": {},
   "outputs": [],
   "source": [
    "X_try2 = X_try.drop(columns=['ZMIC1','SIC2','IC1','nT6HeteroRing','LipinskiFailures'],inplace=False)"
   ]
  },
  {
   "cell_type": "code",
   "execution_count": 25,
   "metadata": {},
   "outputs": [
    {
     "name": "stdout",
     "output_type": "stream",
     "text": [
      "Training set results:\n",
      "RMSE = 0.29163578305840543\t R^2 = 0.9381236824086415\n",
      "Test set results\n",
      "RMSE = 0.7734585110204392\t Q^2 = 0.5242157674858365\n",
      "Validation set results\n",
      "RMSE = 0.826755742497236\t Q^2 = 0.5060865146067871\n"
     ]
    }
   ],
   "source": [
    "X_train, X_test, X_validate, y_train, y_test, y_validate = split_data(X_try2)\n",
    "model=train_RFR(X_train, X_test, X_validate, y_train, y_test, y_validate)"
   ]
  },
  {
   "cell_type": "code",
   "execution_count": null,
   "metadata": {},
   "outputs": [],
   "source": [
    "print(clusters[20])\n",
    "(553, 297, 547)\n",
    "\n",
    "#now display structures from one of the clusters\n",
    "from rdkit.Chem import Draw\n",
    "from rdkit.Chem.Draw import IPythonConsole\n",
    "\n",
    "m1 = ms[553]\n",
    "m2 = ms[297]\n",
    "m3 = ms[547]\n",
    "mols=(m1,m2,m3)\n",
    "Draw.MolsToGridImage(mols)"
   ]
  },
  {
   "cell_type": "code",
   "execution_count": 52,
   "metadata": {},
   "outputs": [
    {
     "ename": "ModuleNotFoundError",
     "evalue": "No module named 'chemfp'",
     "output_type": "error",
     "traceback": [
      "\u001b[1;31m---------------------------------------------------------------------------\u001b[0m",
      "\u001b[1;31mModuleNotFoundError\u001b[0m                       Traceback (most recent call last)",
      "\u001b[1;32m<ipython-input-52-e2cc11aacbf6>\u001b[0m in \u001b[0;36m<module>\u001b[1;34m\u001b[0m\n\u001b[1;32m----> 1\u001b[1;33m \u001b[1;32mfrom\u001b[0m \u001b[0mchemfp\u001b[0m\u001b[1;33m.\u001b[0m\u001b[0mbitops\u001b[0m \u001b[1;32mimport\u001b[0m \u001b[0mbyte_tanimoto\u001b[0m\u001b[1;33m\u001b[0m\u001b[1;33m\u001b[0m\u001b[0m\n\u001b[0m\u001b[0;32m      2\u001b[0m \u001b[0mcluster_generator\u001b[0m \u001b[1;33m=\u001b[0m \u001b[0mJarvisPatrick\u001b[0m\u001b[1;33m(\u001b[0m\u001b[0mfps\u001b[0m\u001b[1;33m,\u001b[0m \u001b[0mbyte_tanimoto\u001b[0m\u001b[1;33m)\u001b[0m\u001b[1;33m\u001b[0m\u001b[1;33m\u001b[0m\u001b[0m\n\u001b[0;32m      3\u001b[0m \u001b[0mcluster\u001b[0m \u001b[1;33m=\u001b[0m \u001b[0mcluster_generator\u001b[0m\u001b[1;33m(\u001b[0m\u001b[1;36m9\u001b[0m\u001b[1;33m,\u001b[0m \u001b[1;36m8\u001b[0m\u001b[1;33m)\u001b[0m\u001b[1;33m\u001b[0m\u001b[1;33m\u001b[0m\u001b[0m\n",
      "\u001b[1;31mModuleNotFoundError\u001b[0m: No module named 'chemfp'"
     ]
    }
   ],
   "source": [
    "from chemfp.bitops import byte_tanimoto\n",
    "cluster_generator = JarvisPatrick(fps, byte_tanimoto)\n",
    "cluster = cluster_generator(9, 8)"
   ]
  },
  {
   "cell_type": "markdown",
   "metadata": {},
   "source": [
    "<h3>K-Means trials</h3>"
   ]
  },
  {
   "cell_type": "code",
   "execution_count": 62,
   "metadata": {},
   "outputs": [
    {
     "ename": "NameError",
     "evalue": "name 'X_try' is not defined",
     "output_type": "error",
     "traceback": [
      "\u001b[1;31m---------------------------------------------------------------------------\u001b[0m",
      "\u001b[1;31mNameError\u001b[0m                                 Traceback (most recent call last)",
      "\u001b[1;32m<ipython-input-62-2468f4ea53b7>\u001b[0m in \u001b[0;36m<module>\u001b[1;34m\u001b[0m\n\u001b[0;32m      7\u001b[0m \u001b[0mmodel\u001b[0m \u001b[1;33m=\u001b[0m \u001b[0mKMeans\u001b[0m\u001b[1;33m(\u001b[0m\u001b[0mn_clusters\u001b[0m\u001b[1;33m=\u001b[0m\u001b[0mnc\u001b[0m\u001b[1;33m)\u001b[0m\u001b[1;33m\u001b[0m\u001b[1;33m\u001b[0m\u001b[0m\n\u001b[0;32m      8\u001b[0m \u001b[1;31m# fit the model\u001b[0m\u001b[1;33m\u001b[0m\u001b[1;33m\u001b[0m\u001b[1;33m\u001b[0m\u001b[0m\n\u001b[1;32m----> 9\u001b[1;33m \u001b[0mmodel\u001b[0m\u001b[1;33m.\u001b[0m\u001b[0mfit\u001b[0m\u001b[1;33m(\u001b[0m\u001b[0mX_try\u001b[0m\u001b[1;33m)\u001b[0m\u001b[1;33m\u001b[0m\u001b[1;33m\u001b[0m\u001b[0m\n\u001b[0m",
      "\u001b[1;31mNameError\u001b[0m: name 'X_try' is not defined"
     ]
    }
   ],
   "source": [
    "from numpy import unique\n",
    "from numpy import where\n",
    "from sklearn.cluster import KMeans\n",
    "# define dataset\n",
    "nc = 5\n",
    "# define the model\n",
    "model = KMeans(n_clusters=nc)\n",
    "# fit the model\n",
    "model.fit(X_try)"
   ]
  },
  {
   "cell_type": "code",
   "execution_count": 93,
   "metadata": {},
   "outputs": [
    {
     "name": "stdout",
     "output_type": "stream",
     "text": [
      "2861\n"
     ]
    }
   ],
   "source": [
    "# assign a cluster to each example\n",
    "yhat = model.predict(X_try)\n",
    "# retrieve unique clusters\n",
    "ylol = pd.Series(data=yhat)\n",
    "print(len(ylol))"
   ]
  },
  {
   "cell_type": "code",
   "execution_count": null,
   "metadata": {},
   "outputs": [],
   "source": []
  },
  {
   "cell_type": "code",
   "execution_count": 94,
   "metadata": {},
   "outputs": [
    {
     "data": {
      "text/plain": [
       "0       1\n",
       "1       4\n",
       "2       4\n",
       "3       2\n",
       "4       0\n",
       "       ..\n",
       "2856    3\n",
       "2857    1\n",
       "2858    4\n",
       "2859    4\n",
       "2860    0\n",
       "Length: 2861, dtype: int32"
      ]
     },
     "execution_count": 94,
     "metadata": {},
     "output_type": "execute_result"
    }
   ],
   "source": [
    "ylol"
   ]
  },
  {
   "cell_type": "code",
   "execution_count": 95,
   "metadata": {},
   "outputs": [
    {
     "data": {
      "text/plain": [
       "<BarContainer object of 5 artists>"
      ]
     },
     "execution_count": 95,
     "metadata": {},
     "output_type": "execute_result"
    },
    {
     "data": {
      "image/png": "[encoded data removed]",
      "text/plain": [
       "<Figure size 432x288 with 1 Axes>"
      ]
     },
     "metadata": {
      "needs_background": "light"
     },
     "output_type": "display_data"
    }
   ],
   "source": [
    "countc = []\n",
    "for i in range(1,(nc)+1):\n",
    "    countc.append(ylol.loc[ylol==i].count())\n",
    "plt.bar(range(1,(nc+1)),countc)"
   ]
  },
  {
   "cell_type": "markdown",
   "metadata": {},
   "source": [
    "<h2>Linear on RFR model</h2>"
   ]
  },
  {
   "cell_type": "code",
   "execution_count": 7,
   "metadata": {},
   "outputs": [],
   "source": [
    "with open('./saved_models/new_scaler.pkl','rb') as fp:\n",
    "    scaler = pkl.load(fp)\n",
    "X2 = scaler.transform(X_try.drop(columns='pChemBL',inplace=False).astype('float64'))\n",
    "X_step3 = pd.DataFrame(data=X2,columns=X_try.drop(columns='pChemBL',inplace=False).columns)\n",
    "#pp.score(X_step3,X_try['pChemBL'])"
   ]
  },
  {
   "cell_type": "code",
   "execution_count": 10,
   "metadata": {},
   "outputs": [
    {
     "data": {
      "text/plain": [
       "[<matplotlib.lines.Line2D at 0x25e88735710>]"
      ]
     },
     "execution_count": 10,
     "metadata": {},
     "output_type": "execute_result"
    },
    {
     "data": {
      "image/png": "[encoded data removed]",
      "text/plain": [
       "<Figure size 432x288 with 1 Axes>"
      ]
     },
     "metadata": {
      "needs_background": "light"
     },
     "output_type": "display_data"
    }
   ],
   "source": [
    "plt.plot(X_try['pChemBL'],pp.predict(X_step3))"
   ]
  },
  {
   "cell_type": "code",
   "execution_count": null,
   "metadata": {},
   "outputs": [],
   "source": [
    "s = StandardScaler()\n",
    "s.fit(X_try.drop(columns='pChemBL',inplace=False).astype('float64'))\n",
    "X2 = scaler.transform(X_try.drop(columns='pChemBL',inplace=False).astype('float64'))\n",
    "X_step3 = pd.DataFrame(data=X2,columns=X_try.drop(columns='pChemBL',inplace=False).columns)\n",
    "X_step3['pChemBL'] = X_try['pChemBL']\n",
    "X_train, X_test, X_validate, y_train, y_test, y_validate = split_data(X_step3)\n",
    "model=train_RFR(X_train, X_test, X_validate, y_train, y_test, y_validate)"
   ]
  },
  {
   "cell_type": "code",
   "execution_count": 14,
   "metadata": {},
   "outputs": [
    {
     "data": {
      "text/plain": [
       "[<matplotlib.lines.Line2D at 0x25e8ac36940>]"
      ]
     },
     "execution_count": 14,
     "metadata": {},
     "output_type": "execute_result"
    },
    {
     "data": {
      "image/png": "[encoded data removed]",
      "text/plain": [
       "<Figure size 432x288 with 1 Axes>"
      ]
     },
     "metadata": {
      "needs_background": "light"
     },
     "output_type": "display_data"
    }
   ],
   "source": [
    "plt.plot(X_try['pChemBL'],pp.predict(X_step3.drop(columns='pChemBL',inplace=False)))"
   ]
  },
  {
   "cell_type": "code",
   "execution_count": 17,
   "metadata": {},
   "outputs": [
    {
     "data": {
      "text/plain": [
       "0.8023075986740092"
      ]
     },
     "execution_count": 17,
     "metadata": {},
     "output_type": "execute_result"
    }
   ],
   "source": [
    "model.score(X_try.drop(columns='pChemBL',inplace=False),X_try['pChemBL'])"
   ]
  },
  {
   "cell_type": "code",
   "execution_count": 17,
   "metadata": {},
   "outputs": [
    {
     "name": "stdout",
     "output_type": "stream",
     "text": [
      "Test set results\n",
      "RMSE = 0.47899595634554365\t R^2 = 0.8298877522272652\n"
     ]
    }
   ],
   "source": [
    "model1 = LinearRegression()\n",
    "pred = pp.predict(X_step3)\n",
    "X_train, X_test, y_train, y_test = train_test_split(pred,X_try['pChemBL'],test_size=0.25)\n",
    "model1.fit(X_train.reshape(-1,1),y_train)\n",
    "r_square = model1.score(X_test.reshape(-1,1),y_test)\n",
    "rmse = np.sqrt(mean_squared_error(model1.predict(X_test.reshape(-1, 1)),y_test))\n",
    "print(\"Test set results\\nRMSE = {}\\t R^2 = {}\".format(rmse,r_square))"
   ]
  },
  {
   "cell_type": "code",
   "execution_count": 18,
   "metadata": {},
   "outputs": [],
   "source": [
    "final_pred = model1.predict(pred.reshape(-1,1))"
   ]
  },
  {
   "cell_type": "code",
   "execution_count": 23,
   "metadata": {},
   "outputs": [
    {
     "name": "stdout",
     "output_type": "stream",
     "text": [
      "RMSE = 0.7465435519535069\n",
      "Q^2 = 0.5806446748804595\n"
     ]
    }
   ],
   "source": [
    "pred = model.predict(X_validate)\n",
    "final_pred = model1.predict(pred.reshape(-1,1))\n",
    "mean = np.full(X_validate.shape[0],y_validate.mean())\n",
    "mse_ = mean_squared_error(y_validate,mean)\n",
    "mse = (mean_squared_error(y_validate,final_pred))\n",
    "r2 =  1 - mse/mse_\n",
    "print(\"RMSE = {}\\nQ^2 = {}\".format(np.sqrt(mse),r2))"
   ]
  },
  {
   "cell_type": "markdown",
   "metadata": {},
   "source": [
    "A slight improvement"
   ]
  },
  {
   "cell_type": "markdown",
   "metadata": {},
   "source": [
    "<h2>Implementing t-SNE</h2>"
   ]
  },
  {
   "cell_type": "markdown",
   "metadata": {},
   "source": [
    "<h3>17 features+pChemBL"
   ]
  },
  {
   "cell_type": "code",
   "execution_count": 28,
   "metadata": {},
   "outputs": [
    {
     "name": "stdout",
     "output_type": "stream",
     "text": [
      "[t-SNE] Computing 91 nearest neighbors...\n",
      "[t-SNE] Indexed 2861 samples in 0.003s...\n",
      "[t-SNE] Computed neighbors for 2861 samples in 0.091s...\n",
      "[t-SNE] Computed conditional probabilities for sample 1000 / 2861\n",
      "[t-SNE] Computed conditional probabilities for sample 2000 / 2861\n",
      "[t-SNE] Computed conditional probabilities for sample 2861 / 2861\n",
      "[t-SNE] Mean sigma: 8.767688\n",
      "[t-SNE] KL divergence after 250 iterations with early exaggeration: 48.824619\n",
      "[t-SNE] KL divergence after 1000 iterations: 0.397429\n",
      "[t-SNE] Computing pairwise distances...\n",
      "[t-SNE] Computed conditional probabilities for sample 1000 / 2861\n",
      "[t-SNE] Computed conditional probabilities for sample 2000 / 2861\n",
      "[t-SNE] Computed conditional probabilities for sample 2861 / 2861\n",
      "[t-SNE] Mean sigma: 8.763419\n",
      "[t-SNE] KL divergence after 250 iterations with early exaggeration: 48.882889\n",
      "[t-SNE] KL divergence after 1000 iterations: 0.396825\n"
     ]
    }
   ],
   "source": [
    "from sklearn.manifold import TSNE\n",
    "tsne = TSNE(n_components=2,init='pca',verbose=1)\n",
    "tsne_exact = TSNE(n_components=2,init='pca',method='exact',verbose=1)\n",
    "\n",
    "x_t = tsne.fit_transform(X_try)\n",
    "x_t2 = tsne_exact.fit_transform(X_try)"
   ]
  },
  {
   "cell_type": "code",
   "execution_count": 29,
   "metadata": {},
   "outputs": [
    {
     "data": {
      "text/plain": [
       "(2861, 2)"
      ]
     },
     "execution_count": 29,
     "metadata": {},
     "output_type": "execute_result"
    }
   ],
   "source": [
    "x_t.shape"
   ]
  },
  {
   "cell_type": "code",
   "execution_count": 40,
   "metadata": {},
   "outputs": [
    {
     "data": {
      "text/plain": [
       "[<matplotlib.lines.Line2D at 0x25e8b21f208>]"
      ]
     },
     "execution_count": 40,
     "metadata": {},
     "output_type": "execute_result"
    },
    {
     "data": {
      "image/png": "[encoded data removed]",
      "text/plain": [
       "<Figure size 432x288 with 1 Axes>"
      ]
     },
     "metadata": {
      "needs_background": "light"
     },
     "output_type": "display_data"
    }
   ],
   "source": [
    "plt.plot(x_t[:,0],x_t[:,1],'.')"
   ]
  },
  {
   "cell_type": "code",
   "execution_count": 45,
   "metadata": {},
   "outputs": [
    {
     "data": {
      "text/plain": [
       "[<matplotlib.lines.Line2D at 0x25e8b3b2908>]"
      ]
     },
     "execution_count": 45,
     "metadata": {},
     "output_type": "execute_result"
    },
    {
     "data": {
      "image/png": "[encoded data removed]",
      "text/plain": [
       "<Figure size 432x288 with 1 Axes>"
      ]
     },
     "metadata": {
      "needs_background": "light"
     },
     "output_type": "display_data"
    }
   ],
   "source": [
    "plt.plot(x_t2[:,0],x_t2[:,1],'.')"
   ]
  },
  {
   "cell_type": "code",
   "execution_count": 46,
   "metadata": {},
   "outputs": [
    {
     "name": "stdout",
     "output_type": "stream",
     "text": [
      "[t-SNE] Computing 31 nearest neighbors...\n",
      "[t-SNE] Indexed 2861 samples in 0.002s...\n",
      "[t-SNE] Computed neighbors for 2861 samples in 0.033s...\n",
      "[t-SNE] Computed conditional probabilities for sample 1000 / 2861\n",
      "[t-SNE] Computed conditional probabilities for sample 2000 / 2861\n",
      "[t-SNE] Computed conditional probabilities for sample 2861 / 2861\n",
      "[t-SNE] Mean sigma: 4.905116\n",
      "[t-SNE] KL divergence after 250 iterations with early exaggeration: 46.470039\n",
      "[t-SNE] KL divergence after 1000 iterations: 0.386734\n"
     ]
    },
    {
     "data": {
      "text/plain": [
       "[<matplotlib.lines.Line2D at 0x25e8b41f898>]"
      ]
     },
     "execution_count": 46,
     "metadata": {},
     "output_type": "execute_result"
    },
    {
     "data": {
      "image/png": "[encoded data removed]",
      "text/plain": [
       "<Figure size 432x288 with 1 Axes>"
      ]
     },
     "metadata": {
      "needs_background": "light"
     },
     "output_type": "display_data"
    }
   ],
   "source": [
    "tsne = TSNE(n_components=2,init='pca',verbose=1,perplexity=10)\n",
    "x_t = tsne.fit_transform(X_try)\n",
    "plt.plot(x_t[:,0],x_t[:,1],'.')"
   ]
  },
  {
   "cell_type": "code",
   "execution_count": null,
   "metadata": {},
   "outputs": [],
   "source": [
    "tsne = TSNE(n_components=3,init='pca',verbose=1)\n",
    "x_t = tsne.fit_transform(X_try)"
   ]
  },
  {
   "cell_type": "code",
   "execution_count": null,
   "metadata": {
    "scrolled": true
   },
   "outputs": [],
   "source": [
    "from mpl_toolkits.mplot3d import Axes3D\n",
    "fig = plt.figure()\n",
    "ax = fig.add_subplot(111, projection='3d')"
   ]
  },
  {
   "cell_type": "code",
   "execution_count": 73,
   "metadata": {},
   "outputs": [],
   "source": [
    "df = pd.DataFrame(data=x_t,columns=['1','2','3'])\n",
    "df.to_csv('tSNE_3D.csv',index=False)"
   ]
  },
  {
   "cell_type": "markdown",
   "metadata": {},
   "source": [
    "<h4>17 features without pChemBL"
   ]
  },
  {
   "cell_type": "code",
   "execution_count": 65,
   "metadata": {},
   "outputs": [
    {
     "name": "stdout",
     "output_type": "stream",
     "text": [
      "[t-SNE] Computing 91 nearest neighbors...\n",
      "[t-SNE] Indexed 2861 samples in 0.009s...\n",
      "[t-SNE] Computed neighbors for 2861 samples in 0.083s...\n",
      "[t-SNE] Computed conditional probabilities for sample 1000 / 2861\n",
      "[t-SNE] Computed conditional probabilities for sample 2000 / 2861\n",
      "[t-SNE] Computed conditional probabilities for sample 2861 / 2861\n",
      "[t-SNE] Mean sigma: 8.755023\n",
      "[t-SNE] KL divergence after 250 iterations with early exaggeration: 48.927467\n",
      "[t-SNE] KL divergence after 1000 iterations: 0.381227\n",
      "Shape of x_t (2861, 2)\n"
     ]
    },
    {
     "data": {
      "text/plain": [
       "[<matplotlib.lines.Line2D at 0x202d277e518>]"
      ]
     },
     "execution_count": 65,
     "metadata": {},
     "output_type": "execute_result"
    },
    {
     "data": {
      "image/png": "[encoded data removed]",
      "text/plain": [
       "<Figure size 432x288 with 1 Axes>"
      ]
     },
     "metadata": {
      "needs_background": "light"
     },
     "output_type": "display_data"
    }
   ],
   "source": [
    "from sklearn.manifold import TSNE\n",
    "tsne = TSNE(n_components=2,init='pca',verbose=1)\n",
    "x_t = tsne.fit_transform(X_try.drop(columns='pChemBL',inplace=False))\n",
    "print('Shape of x_t',x_t.shape)\n",
    "plt.plot(x_t[:,0],x_t[:,1],'.')"
   ]
  },
  {
   "cell_type": "markdown",
   "metadata": {},
   "source": [
    "<h3>With some more features"
   ]
  },
  {
   "cell_type": "code",
   "execution_count": 4,
   "metadata": {},
   "outputs": [
    {
     "name": "stdout",
     "output_type": "stream",
     "text": [
      "757\n"
     ]
    },
    {
     "data": {
      "text/plain": [
       "757"
      ]
     },
     "execution_count": 4,
     "metadata": {},
     "output_type": "execute_result"
    }
   ],
   "source": [
    "X = pd.read_csv('no_zeros_no_chembl.csv')\n",
    "correlation_matrix = X.corr()\n",
    "bad_cols_index = []\n",
    "for cols in range(1208):\n",
    "    if correlation_matrix.abs().iloc[cols,1208] < 0.1:\n",
    "        bad_cols_index.append(cols)\n",
    "print(len(bad_cols_index))\n",
    "\n",
    "bad_cols2 = []\n",
    "cols = X.columns\n",
    "for index in bad_cols_index:\n",
    "    bad_cols2.append(cols[index])\n",
    "len(bad_cols2)"
   ]
  },
  {
   "cell_type": "code",
   "execution_count": 5,
   "metadata": {},
   "outputs": [],
   "source": [
    "X.drop(columns=bad_cols2,inplace=True)"
   ]
  },
  {
   "cell_type": "code",
   "execution_count": 6,
   "metadata": {},
   "outputs": [],
   "source": [
    "y = X['pChemBL']\n",
    "X.drop(columns='pChemBL',inplace=True)"
   ]
  },
  {
   "cell_type": "markdown",
   "metadata": {},
   "source": [
    "<h3>Mutual Info Regression performed on 452 features</h3>(for feature selection)"
   ]
  },
  {
   "cell_type": "code",
   "execution_count": 77,
   "metadata": {},
   "outputs": [],
   "source": [
    "from sklearn.feature_selection import SelectKBest\n",
    "from sklearn.feature_selection import mutual_info_regression\n",
    "X_new = SelectKBest(mutual_info_regression, k=50).fit_transform(X, y)\n",
    "\n",
    "cols = []\n",
    "for i in range(50):\n",
    "    cols.append('comp'+str(i+1))\n",
    "X_red = pd.DataFrame(data=X_new, columns=cols)"
   ]
  },
  {
   "cell_type": "code",
   "execution_count": 80,
   "metadata": {
    "scrolled": true
   },
   "outputs": [
    {
     "data": {
      "text/plain": [
       "(array([17., 11.,  8.,  5.,  2.,  1.,  2.,  3.,  0.,  1.]),\n",
       " array([0.10101353, 0.12449249, 0.14797145, 0.17145042, 0.19492938,\n",
       "        0.21840835, 0.24188731, 0.26536627, 0.28884524, 0.3123242 ,\n",
       "        0.33580316]),\n",
       " <a list of 10 Patch objects>)"
      ]
     },
     "execution_count": 80,
     "metadata": {},
     "output_type": "execute_result"
    },
    {
     "data": {
      "image/png": "[encoded data removed]",
      "text/plain": [
       "<Figure size 432x288 with 1 Axes>"
      ]
     },
     "metadata": {
      "needs_background": "light"
     },
     "output_type": "display_data"
    }
   ],
   "source": [
    "X_red['pChemBL'] = y\n",
    "corr_matrix = X_red.corr()\n",
    "plt.title('Absolute value of Correlation with pChemBL')\n",
    "plt.hist((corr_matrix.iloc[:len(cols),len(cols)]).abs())"
   ]
  },
  {
   "cell_type": "code",
   "execution_count": 81,
   "metadata": {},
   "outputs": [
    {
     "name": "stdout",
     "output_type": "stream",
     "text": [
      "[t-SNE] Computing 91 nearest neighbors...\n",
      "[t-SNE] Indexed 2861 samples in 0.039s...\n",
      "[t-SNE] Computed neighbors for 2861 samples in 0.346s...\n",
      "[t-SNE] Computed conditional probabilities for sample 1000 / 2861\n",
      "[t-SNE] Computed conditional probabilities for sample 2000 / 2861\n",
      "[t-SNE] Computed conditional probabilities for sample 2861 / 2861\n",
      "[t-SNE] Mean sigma: 6.107326\n",
      "[t-SNE] KL divergence after 250 iterations with early exaggeration: 51.743423\n",
      "[t-SNE] KL divergence after 1000 iterations: 0.541202\n",
      "Shape of x_t (2861, 2)\n"
     ]
    },
    {
     "data": {
      "text/plain": [
       "[<matplotlib.lines.Line2D at 0x202d2b50a20>]"
      ]
     },
     "execution_count": 81,
     "metadata": {},
     "output_type": "execute_result"
    },
    {
     "data": {
      "image/png": "[encoded data removed]",
      "text/plain": [
       "<Figure size 432x288 with 1 Axes>"
      ]
     },
     "metadata": {
      "needs_background": "light"
     },
     "output_type": "display_data"
    }
   ],
   "source": [
    "from sklearn.manifold import TSNE\n",
    "tsne = TSNE(n_components=2,init='pca',verbose=1)\n",
    "x_t = tsne.fit_transform(X_red)\n",
    "print('Shape of x_t',x_t.shape)\n",
    "plt.plot(x_t[:,0],x_t[:,1],'.')"
   ]
  },
  {
   "cell_type": "code",
   "execution_count": 92,
   "metadata": {},
   "outputs": [
    {
     "name": "stdout",
     "output_type": "stream",
     "text": [
      "Training set results:\n",
      "RMSE = 0.2640578932983205\t R^2 = 0.9509766910448381\n",
      "Test set results\n",
      "RMSE = 0.6594638081557663\t Q^2 = 0.6714872397300438\n",
      "Validation set results\n",
      "RMSE = 0.6725619696869898\t Q^2 = 0.6157031300553855\n"
     ]
    }
   ],
   "source": [
    "X_train, X_test, X_validate, y_train, y_test, y_validate = split_data(X_red)\n",
    "RFR = train_RFR(X_train, X_test, X_validate, y_train, y_test, y_validate)"
   ]
  },
  {
   "cell_type": "code",
   "execution_count": 89,
   "metadata": {},
   "outputs": [
    {
     "data": {
      "text/html": [
       "<div>\n",
       "<style scoped>\n",
       "    .dataframe tbody tr th:only-of-type {\n",
       "        vertical-align: middle;\n",
       "    }\n",
       "\n",
       "    .dataframe tbody tr th {\n",
       "        vertical-align: top;\n",
       "    }\n",
       "\n",
       "    .dataframe thead th {\n",
       "        text-align: right;\n",
       "    }\n",
       "</style>\n",
       "<table border=\"1\" class=\"dataframe\">\n",
       "  <thead>\n",
       "    <tr style=\"text-align: right;\">\n",
       "      <th></th>\n",
       "      <th>comp1</th>\n",
       "      <th>comp2</th>\n",
       "      <th>comp3</th>\n",
       "      <th>comp4</th>\n",
       "      <th>comp5</th>\n",
       "      <th>comp6</th>\n",
       "      <th>comp7</th>\n",
       "      <th>comp8</th>\n",
       "      <th>comp9</th>\n",
       "      <th>comp10</th>\n",
       "      <th>...</th>\n",
       "      <th>comp42</th>\n",
       "      <th>comp43</th>\n",
       "      <th>comp44</th>\n",
       "      <th>comp45</th>\n",
       "      <th>comp46</th>\n",
       "      <th>comp47</th>\n",
       "      <th>comp48</th>\n",
       "      <th>comp49</th>\n",
       "      <th>comp50</th>\n",
       "      <th>pChemBL</th>\n",
       "    </tr>\n",
       "  </thead>\n",
       "  <tbody>\n",
       "    <tr>\n",
       "      <th>0</th>\n",
       "      <td>-0.351928</td>\n",
       "      <td>0.225817</td>\n",
       "      <td>-1.302195</td>\n",
       "      <td>0.570100</td>\n",
       "      <td>0.382146</td>\n",
       "      <td>0.326812</td>\n",
       "      <td>0.656777</td>\n",
       "      <td>0.522070</td>\n",
       "      <td>0.447225</td>\n",
       "      <td>0.726585</td>\n",
       "      <td>...</td>\n",
       "      <td>-0.378044</td>\n",
       "      <td>1.085501</td>\n",
       "      <td>0.233193</td>\n",
       "      <td>0.653632</td>\n",
       "      <td>0.732004</td>\n",
       "      <td>0.834264</td>\n",
       "      <td>0.824194</td>\n",
       "      <td>1.173686</td>\n",
       "      <td>-0.209875</td>\n",
       "      <td>6.82</td>\n",
       "    </tr>\n",
       "    <tr>\n",
       "      <th>1</th>\n",
       "      <td>-0.351928</td>\n",
       "      <td>-0.138740</td>\n",
       "      <td>1.765971</td>\n",
       "      <td>0.807637</td>\n",
       "      <td>-0.350463</td>\n",
       "      <td>-1.058278</td>\n",
       "      <td>-1.000160</td>\n",
       "      <td>0.548928</td>\n",
       "      <td>-0.212760</td>\n",
       "      <td>-0.579420</td>\n",
       "      <td>...</td>\n",
       "      <td>-0.378044</td>\n",
       "      <td>-0.014287</td>\n",
       "      <td>-0.727830</td>\n",
       "      <td>0.980360</td>\n",
       "      <td>1.031408</td>\n",
       "      <td>1.067285</td>\n",
       "      <td>-0.088705</td>\n",
       "      <td>-0.719429</td>\n",
       "      <td>-0.398305</td>\n",
       "      <td>7.64</td>\n",
       "    </tr>\n",
       "    <tr>\n",
       "      <th>2</th>\n",
       "      <td>0.523607</td>\n",
       "      <td>-0.776044</td>\n",
       "      <td>0.199628</td>\n",
       "      <td>0.703677</td>\n",
       "      <td>-0.238897</td>\n",
       "      <td>-0.210956</td>\n",
       "      <td>0.148180</td>\n",
       "      <td>1.007079</td>\n",
       "      <td>0.585002</td>\n",
       "      <td>0.549196</td>\n",
       "      <td>...</td>\n",
       "      <td>-0.378044</td>\n",
       "      <td>0.203337</td>\n",
       "      <td>-0.727830</td>\n",
       "      <td>0.489264</td>\n",
       "      <td>0.483153</td>\n",
       "      <td>0.507164</td>\n",
       "      <td>-0.088705</td>\n",
       "      <td>-0.721436</td>\n",
       "      <td>0.587844</td>\n",
       "      <td>4.30</td>\n",
       "    </tr>\n",
       "    <tr>\n",
       "      <th>3</th>\n",
       "      <td>4.025748</td>\n",
       "      <td>-4.632288</td>\n",
       "      <td>2.721977</td>\n",
       "      <td>1.278363</td>\n",
       "      <td>1.865578</td>\n",
       "      <td>2.334750</td>\n",
       "      <td>2.646201</td>\n",
       "      <td>1.211694</td>\n",
       "      <td>2.389423</td>\n",
       "      <td>2.791551</td>\n",
       "      <td>...</td>\n",
       "      <td>4.759578</td>\n",
       "      <td>-0.325660</td>\n",
       "      <td>-0.727830</td>\n",
       "      <td>-1.935419</td>\n",
       "      <td>-1.865746</td>\n",
       "      <td>-1.971017</td>\n",
       "      <td>-1.914504</td>\n",
       "      <td>3.133633</td>\n",
       "      <td>3.415884</td>\n",
       "      <td>6.03</td>\n",
       "    </tr>\n",
       "    <tr>\n",
       "      <th>4</th>\n",
       "      <td>-2.102998</td>\n",
       "      <td>1.004422</td>\n",
       "      <td>1.686057</td>\n",
       "      <td>-0.259085</td>\n",
       "      <td>-0.568936</td>\n",
       "      <td>-0.417660</td>\n",
       "      <td>-1.195183</td>\n",
       "      <td>-0.385867</td>\n",
       "      <td>-0.399293</td>\n",
       "      <td>-1.012185</td>\n",
       "      <td>...</td>\n",
       "      <td>0.788157</td>\n",
       "      <td>-1.421030</td>\n",
       "      <td>-0.727830</td>\n",
       "      <td>0.948702</td>\n",
       "      <td>0.917908</td>\n",
       "      <td>0.884662</td>\n",
       "      <td>-1.001605</td>\n",
       "      <td>1.693352</td>\n",
       "      <td>-2.187896</td>\n",
       "      <td>6.42</td>\n",
       "    </tr>\n",
       "  </tbody>\n",
       "</table>\n",
       "<p>5 rows × 51 columns</p>\n",
       "</div>"
      ],
      "text/plain": [
       "      comp1     comp2     comp3     comp4     comp5     comp6     comp7  \\\n",
       "0 -0.351928  0.225817 -1.302195  0.570100  0.382146  0.326812  0.656777   \n",
       "1 -0.351928 -0.138740  1.765971  0.807637 -0.350463 -1.058278 -1.000160   \n",
       "2  0.523607 -0.776044  0.199628  0.703677 -0.238897 -0.210956  0.148180   \n",
       "3  4.025748 -4.632288  2.721977  1.278363  1.865578  2.334750  2.646201   \n",
       "4 -2.102998  1.004422  1.686057 -0.259085 -0.568936 -0.417660 -1.195183   \n",
       "\n",
       "      comp8     comp9    comp10  ...    comp42    comp43    comp44    comp45  \\\n",
       "0  0.522070  0.447225  0.726585  ... -0.378044  1.085501  0.233193  0.653632   \n",
       "1  0.548928 -0.212760 -0.579420  ... -0.378044 -0.014287 -0.727830  0.980360   \n",
       "2  1.007079  0.585002  0.549196  ... -0.378044  0.203337 -0.727830  0.489264   \n",
       "3  1.211694  2.389423  2.791551  ...  4.759578 -0.325660 -0.727830 -1.935419   \n",
       "4 -0.385867 -0.399293 -1.012185  ...  0.788157 -1.421030 -0.727830  0.948702   \n",
       "\n",
       "     comp46    comp47    comp48    comp49    comp50  pChemBL  \n",
       "0  0.732004  0.834264  0.824194  1.173686 -0.209875     6.82  \n",
       "1  1.031408  1.067285 -0.088705 -0.719429 -0.398305     7.64  \n",
       "2  0.483153  0.507164 -0.088705 -0.721436  0.587844     4.30  \n",
       "3 -1.865746 -1.971017 -1.914504  3.133633  3.415884     6.03  \n",
       "4  0.917908  0.884662 -1.001605  1.693352 -2.187896     6.42  \n",
       "\n",
       "[5 rows x 51 columns]"
      ]
     },
     "execution_count": 89,
     "metadata": {},
     "output_type": "execute_result"
    }
   ],
   "source": [
    "scale = StandardScaler()\n",
    "anon = X_red.drop(columns='pChemBL',inplace=False)\n",
    "scale.fit(anon)\n",
    "a = scale.transform(anon)\n",
    "anon = pd.DataFrame(data=a,columns = anon.columns)\n",
    "anon['pChemBL'] = X_red['pChemBL']\n",
    "anon.head()"
   ]
  },
  {
   "cell_type": "code",
   "execution_count": 105,
   "metadata": {},
   "outputs": [
    {
     "name": "stdout",
     "output_type": "stream",
     "text": [
      "Training set results:\n",
      "RMSE = 0.27289866209770247\t R^2 = 0.9441413471318102\n",
      "Test set results\n",
      "RMSE = 0.6698488549617897\t Q^2 = 0.6634389367667869\n",
      "Validation set results\n",
      "RMSE = 0.6735866354140885\t Q^2 = 0.6876581119589311\n"
     ]
    }
   ],
   "source": [
    "scale = StandardScaler()\n",
    "anon = X_red.drop(columns='pChemBL',inplace=False)\n",
    "scale.fit(anon)\n",
    "a = scale.transform(anon)\n",
    "anon = pd.DataFrame(data=a,columns = anon.columns)\n",
    "anon['pChemBL'] = X_try['pChemBL']\n",
    "X_train, X_test, X_validate, y_train, y_test, y_validate = split_data(anon)\n",
    "RFR = train_RFR(X_train, X_test, X_validate, y_train, y_test, y_validate)"
   ]
  },
  {
   "cell_type": "markdown",
   "metadata": {},
   "source": [
    "<h3>Butina Clustering"
   ]
  },
  {
   "cell_type": "code",
   "execution_count": 5,
   "metadata": {},
   "outputs": [],
   "source": [
    "from rdkit import Chem\n",
    "from rdkit.Chem import AllChem\n",
    "from rdkit import DataStructs\n",
    "from rdkit.ML.Cluster import Butina\n",
    "\n",
    "#Define clustering setup\n",
    "def ClusterFps(fps,cutoff=0.2):\n",
    "    # first generate the distance matrix:\n",
    "    dists = []\n",
    "    nfps = len(fps)\n",
    "    for i in range(1,nfps):\n",
    "        sims = DataStructs.BulkTanimotoSimilarity(fps[i],fps[:i])\n",
    "        dists.extend([1-x for x in sims])\n",
    "\n",
    "    # now cluster the data:\n",
    "    cs = Butina.ClusterData(dists,nfps,cutoff,isDistData=True)\n",
    "    return cs"
   ]
  },
  {
   "cell_type": "code",
   "execution_count": 7,
   "metadata": {},
   "outputs": [
    {
     "data": {
      "text/html": [
       "<div>\n",
       "<style scoped>\n",
       "    .dataframe tbody tr th:only-of-type {\n",
       "        vertical-align: middle;\n",
       "    }\n",
       "\n",
       "    .dataframe tbody tr th {\n",
       "        vertical-align: top;\n",
       "    }\n",
       "\n",
       "    .dataframe thead th {\n",
       "        text-align: right;\n",
       "    }\n",
       "</style>\n",
       "<table border=\"1\" class=\"dataframe\">\n",
       "  <thead>\n",
       "    <tr style=\"text-align: right;\">\n",
       "      <th></th>\n",
       "      <th>Sno</th>\n",
       "      <th>ChEMBL_ID</th>\n",
       "      <th>Smiles</th>\n",
       "      <th>Standard_Value</th>\n",
       "      <th>Standard_Units</th>\n",
       "      <th>pChEMBL_Value</th>\n",
       "      <th>Class</th>\n",
       "    </tr>\n",
       "  </thead>\n",
       "  <tbody>\n",
       "    <tr>\n",
       "      <th>0</th>\n",
       "      <td>1</td>\n",
       "      <td>CHEMBL3403664</td>\n",
       "      <td>C[C@H](Nc1ncnc(N)c1C#N)c1nc2ccc(F)cc2c(S(C)(=O...</td>\n",
       "      <td>0.10</td>\n",
       "      <td>nM</td>\n",
       "      <td>10.00</td>\n",
       "      <td>1</td>\n",
       "    </tr>\n",
       "    <tr>\n",
       "      <th>1</th>\n",
       "      <td>2</td>\n",
       "      <td>CHEMBL3899716</td>\n",
       "      <td>Cc1cc(-c2cn(CCN3CCC3)c(C3CCN(c4ncnc(N)c4Br)CC3...</td>\n",
       "      <td>0.10</td>\n",
       "      <td>nM</td>\n",
       "      <td>10.00</td>\n",
       "      <td>1</td>\n",
       "    </tr>\n",
       "    <tr>\n",
       "      <th>2</th>\n",
       "      <td>3</td>\n",
       "      <td>CHEMBL3966806</td>\n",
       "      <td>CC(C)c1cc(-c2cn(CCN3CCC3)c(C3CCN(c4ncnc(N)c4Br...</td>\n",
       "      <td>0.15</td>\n",
       "      <td>nM</td>\n",
       "      <td>9.82</td>\n",
       "      <td>1</td>\n",
       "    </tr>\n",
       "    <tr>\n",
       "      <th>3</th>\n",
       "      <td>4</td>\n",
       "      <td>CHEMBL379300</td>\n",
       "      <td>Cc1n[nH]c2ccc(-c3cncc(OC[C@@H](N)Cc4c[nH]c5ccc...</td>\n",
       "      <td>0.16</td>\n",
       "      <td>nM</td>\n",
       "      <td>9.80</td>\n",
       "      <td>1</td>\n",
       "    </tr>\n",
       "    <tr>\n",
       "      <th>4</th>\n",
       "      <td>5</td>\n",
       "      <td>CHEMBL573326</td>\n",
       "      <td>N[C@H](COc1cncc(-c2ccc3c(c2)C(c2ccco2)C(=O)N3)...</td>\n",
       "      <td>0.17</td>\n",
       "      <td>nM</td>\n",
       "      <td>9.77</td>\n",
       "      <td>1</td>\n",
       "    </tr>\n",
       "  </tbody>\n",
       "</table>\n",
       "</div>"
      ],
      "text/plain": [
       "   Sno      ChEMBL_ID                                             Smiles  \\\n",
       "0    1  CHEMBL3403664  C[C@H](Nc1ncnc(N)c1C#N)c1nc2ccc(F)cc2c(S(C)(=O...   \n",
       "1    2  CHEMBL3899716  Cc1cc(-c2cn(CCN3CCC3)c(C3CCN(c4ncnc(N)c4Br)CC3...   \n",
       "2    3  CHEMBL3966806  CC(C)c1cc(-c2cn(CCN3CCC3)c(C3CCN(c4ncnc(N)c4Br...   \n",
       "3    4   CHEMBL379300  Cc1n[nH]c2ccc(-c3cncc(OC[C@@H](N)Cc4c[nH]c5ccc...   \n",
       "4    5   CHEMBL573326  N[C@H](COc1cncc(-c2ccc3c(c2)C(c2ccco2)C(=O)N3)...   \n",
       "\n",
       "   Standard_Value Standard_Units  pChEMBL_Value  Class  \n",
       "0            0.10             nM          10.00      1  \n",
       "1            0.10             nM          10.00      1  \n",
       "2            0.15             nM           9.82      1  \n",
       "3            0.16             nM           9.80      1  \n",
       "4            0.17             nM           9.77      1  "
      ]
     },
     "execution_count": 7,
     "metadata": {},
     "output_type": "execute_result"
    }
   ],
   "source": [
    "df = pd.read_excel('C:\\\\Users\\\\HP\\\\AZC_Internship\\\\Data\\\\ChemBL\\\\AKT-binding_simplified.xlsx',sheet_name='Step3')\n",
    "df.head()"
   ]
  },
  {
   "cell_type": "code",
   "execution_count": 9,
   "metadata": {},
   "outputs": [
    {
     "data": {
      "text/plain": [
       "2861"
      ]
     },
     "execution_count": 9,
     "metadata": {},
     "output_type": "execute_result"
    }
   ],
   "source": [
    "mol = []\n",
    "for row in df.iterrows():\n",
    "    mol.append(Chem.MolFromSmiles(row[1]['Smiles']))\n",
    "len(mol)"
   ]
  },
  {
   "cell_type": "code",
   "execution_count": null,
   "metadata": {},
   "outputs": [],
   "source": [
    "fps = [AllChem.GetMorganFingerprintAsBitVect(x,2,1024) for x in mol]"
   ]
  },
  {
   "cell_type": "code",
   "execution_count": null,
   "metadata": {},
   "outputs": [],
   "source": [
    "nc = []\n",
    "for i in range(20):\n",
    "    clusters=ClusterFps(fps,cutoff=i/20)\n",
    "    nc.append(len(clusters))"
   ]
  },
  {
   "cell_type": "code",
   "execution_count": 22,
   "metadata": {},
   "outputs": [
    {
     "data": {
      "text/plain": [
       "[<matplotlib.lines.Line2D at 0x202daf9ebe0>]"
      ]
     },
     "execution_count": 22,
     "metadata": {},
     "output_type": "execute_result"
    },
    {
     "data": {
      "image/png": "[encoded data removed]",
      "text/plain": [
       "<Figure size 432x288 with 1 Axes>"
      ]
     },
     "metadata": {
      "needs_background": "light"
     },
     "output_type": "display_data"
    }
   ],
   "source": [
    "plt.xticks(range(1,21))\n",
    "plt.plot(range(1,21),nc)"
   ]
  },
  {
   "cell_type": "code",
   "execution_count": 28,
   "metadata": {},
   "outputs": [
    {
     "data": {
      "text/plain": [
       "<matplotlib.collections.PathCollection at 0x202c44e2ba8>"
      ]
     },
     "execution_count": 28,
     "metadata": {},
     "output_type": "execute_result"
    },
    {
     "data": {
      "image/png": "[encoded data removed]",
      "text/plain": [
       "<Figure size 432x288 with 1 Axes>"
      ]
     },
     "metadata": {
      "needs_background": "light"
     },
     "output_type": "display_data"
    }
   ],
   "source": [
    "plt.xticks(np.asarray(range(10,21))/20)\n",
    "plt.scatter(np.asarray(range(10,21))/20,nc[9:])"
   ]
  },
  {
   "cell_type": "code",
   "execution_count": 59,
   "metadata": {},
   "outputs": [],
   "source": [
    "clusters=ClusterFps(fps,cutoff=0.7)\n",
    "\n",
    "c = np.asarray(clusters)\n",
    "l = []\n",
    "for arr in c:\n",
    "    l.append(len(arr))"
   ]
  },
  {
   "cell_type": "code",
   "execution_count": 61,
   "metadata": {
    "scrolled": true
   },
   "outputs": [
    {
     "data": {
      "text/plain": [
       "<BarContainer object of 120 artists>"
      ]
     },
     "execution_count": 61,
     "metadata": {},
     "output_type": "execute_result"
    },
    {
     "data": {
      "image/png": "[encoded data removed]",
      "text/plain": [
       "<Figure size 1080x1080 with 1 Axes>"
      ]
     },
     "metadata": {
      "needs_background": "light"
     },
     "output_type": "display_data"
    }
   ],
   "source": [
    "plt.figure(figsize=(15,15))\n",
    "plt.xticks(range(1,len(clusters)+1))\n",
    "plt.bar(range(1,len(clusters)+1),l)"
   ]
  },
  {
   "cell_type": "code",
   "execution_count": 14,
   "metadata": {},
   "outputs": [
    {
     "name": "stdout",
     "output_type": "stream",
     "text": [
      "(2321, 261, 392, 579, 680, 712, 732, 762, 818, 835, 889, 1040, 1042, 1119, 1133, 1164, 1348, 1447, 1456, 1529, 1627, 1702, 1716, 1725, 1750, 1778, 1849, 1896, 1991, 2040, 2145, 2146, 2244, 2254, 2386)\n"
     ]
    },
    {
     "data": {
      "image/png": "[encoded data removed]",
      "text/plain": [
       "<PIL.PngImagePlugin.PngImageFile image mode=RGB size=600x200 at 0x202C45601D0>"
      ]
     },
     "execution_count": 14,
     "metadata": {},
     "output_type": "execute_result"
    }
   ],
   "source": [
    "#show one of the clusters\n",
    "print(clusters[20])\n",
    "#(553, 297, 547)\n",
    "\n",
    "#now display structures from one of the clusters\n",
    "from rdkit.Chem import Draw\n",
    "from rdkit.Chem.Draw import IPythonConsole\n",
    "\n",
    "m1 = mol[553]\n",
    "m2 = mol[297]\n",
    "m3 = mol[547]\n",
    "mols=(m1,m2,m3)\n",
    "Draw.MolsToGridImage(mols)"
   ]
  },
  {
   "cell_type": "code",
   "execution_count": 15,
   "metadata": {},
   "outputs": [
    {
     "data": {
      "text/plain": [
       "444"
      ]
     },
     "execution_count": 15,
     "metadata": {},
     "output_type": "execute_result"
    }
   ],
   "source": [
    "len(clusters)"
   ]
  },
  {
   "cell_type": "markdown",
   "metadata": {},
   "source": [
    "<h3>Feature Selection</h3>"
   ]
  },
  {
   "cell_type": "code",
   "execution_count": 111,
   "metadata": {
    "scrolled": true
   },
   "outputs": [
    {
     "name": "stdout",
     "output_type": "stream",
     "text": [
      "Training set results:\n",
      "RMSE = 0.26733787339248866\t R^2 = 0.9479117561270232\n",
      "Test set results\n",
      "RMSE = 0.6896876396250171\t Q^2 = 0.6388231438867185\n",
      "Validation set results\n",
      "RMSE = 0.6950496221708883\t Q^2 = 0.6405874030635628\n",
      "Training set results:\n",
      "RMSE = 0.27277202380565596\t R^2 = 0.9461701525272005\n",
      "Test set results\n",
      "RMSE = 0.6611262258419099\t Q^2 = 0.6611384171900576\n",
      "Validation set results\n",
      "RMSE = 0.6834249212476704\t Q^2 = 0.6499614877160751\n",
      "Training set results:\n",
      "RMSE = 0.2693904069134315\t R^2 = 0.9469766150174291\n",
      "Test set results\n",
      "RMSE = 0.714555936940678\t Q^2 = 0.6252680400859787\n",
      "Validation set results\n",
      "RMSE = 0.7640861594009303\t Q^2 = 0.5548729826769982\n",
      "Training set results:\n",
      "RMSE = 0.2632325822927935\t R^2 = 0.9470783918685622\n",
      "Test set results\n",
      "RMSE = 0.7212686075543397\t Q^2 = 0.6395663955689602\n",
      "Validation set results\n",
      "RMSE = 0.7382844920000958\t Q^2 = 0.6200882485234493\n",
      "Training set results:\n",
      "RMSE = 0.2646183416962703\t R^2 = 0.9488812219515873\n",
      "Test set results\n",
      "RMSE = 0.7150654963193709\t Q^2 = 0.6330476786059596\n",
      "Validation set results\n",
      "RMSE = 0.7339654711260806\t Q^2 = 0.5826095394589661\n",
      "Training set results:\n",
      "RMSE = 0.27234772567002824\t R^2 = 0.9455862492952052\n",
      "Test set results\n",
      "RMSE = 0.7206425703134666\t Q^2 = 0.5934376791346039\n",
      "Validation set results\n",
      "RMSE = 0.7400726400574612\t Q^2 = 0.6104188750533031\n",
      "Training set results:\n",
      "RMSE = 0.2699388207763588\t R^2 = 0.9457078119884829\n",
      "Test set results\n",
      "RMSE = 0.6992834735664069\t Q^2 = 0.6494881375100237\n",
      "Validation set results\n",
      "RMSE = 0.6797932120860687\t Q^2 = 0.6643812962710025\n",
      "Training set results:\n",
      "RMSE = 0.2721320801372518\t R^2 = 0.9433615139987438\n",
      "Test set results\n",
      "RMSE = 0.6740537170963768\t Q^2 = 0.6780730280610678\n",
      "Validation set results\n",
      "RMSE = 0.7765772948313839\t Q^2 = 0.5902968967140734\n",
      "Training set results:\n",
      "RMSE = 0.2676356229781021\t R^2 = 0.9466738008406648\n",
      "Test set results\n",
      "RMSE = 0.711709923279766\t Q^2 = 0.637414137100359\n",
      "Validation set results\n",
      "RMSE = 0.6820635566186773\t Q^2 = 0.6574506673534797\n",
      "Training set results:\n",
      "RMSE = 0.27431546329910295\t R^2 = 0.9450178125672468\n",
      "Test set results\n",
      "RMSE = 0.741434362436034\t Q^2 = 0.577093943039666\n",
      "Validation set results\n",
      "RMSE = 0.694373444501396\t Q^2 = 0.647725581184792\n"
     ]
    }
   ],
   "source": [
    "from sklearn.feature_selection import SelectKBest\n",
    "from sklearn.feature_selection import mutual_info_regression\n",
    "\n",
    "for i in range(10,101,10): \n",
    "    X_new = SelectKBest(mutual_info_regression, k=i).fit_transform(X, y)\n",
    "    cols = []\n",
    "    for j in range(i):\n",
    "        cols.append('comp'+str(j+1))\n",
    "    X_red = pd.DataFrame(data=X_new, columns=cols)\n",
    "    X_red['pChemBL'] = y\n",
    "    X_train, X_test, X_validate, y_train, y_test, y_validate = split_data(X_red)\n",
    "    RFR = train_RFR(X_train, X_test, X_validate, y_train, y_test, y_validate)"
   ]
  },
  {
   "cell_type": "code",
   "execution_count": 109,
   "metadata": {},
   "outputs": [
    {
     "name": "stdout",
     "output_type": "stream",
     "text": [
      "[0, 10, 20, 30, 40, 50]\n"
     ]
    }
   ],
   "source": [
    "print([i for i in range(0,51,10)])"
   ]
  },
  {
   "cell_type": "markdown",
   "metadata": {},
   "source": [
    "25 features(from 452) with SelectFromModel"
   ]
  },
  {
   "cell_type": "code",
   "execution_count": 117,
   "metadata": {},
   "outputs": [
    {
     "data": {
      "text/plain": [
       "(2861, 25)"
      ]
     },
     "execution_count": 117,
     "metadata": {},
     "output_type": "execute_result"
    }
   ],
   "source": [
    "from sklearn.ensemble import ExtraTreesRegressor\n",
    "from sklearn.feature_selection import SelectFromModel\n",
    "reg = ExtraTreesRegressor(n_estimators=150)\n",
    "reg = reg.fit(X, y)\n",
    "model = SelectFromModel(reg, prefit=True,max_features=25)\n",
    "X_new = model.transform(X)\n",
    "X_new.shape               "
   ]
  },
  {
   "cell_type": "code",
   "execution_count": 118,
   "metadata": {},
   "outputs": [
    {
     "name": "stdout",
     "output_type": "stream",
     "text": [
      "Training set results:\n",
      "RMSE = 0.2917748287379361\t R^2 = 0.9353128704432097\n",
      "Test set results\n",
      "RMSE = 0.7231279051647945\t Q^2 = 0.6332444131479319\n",
      "Validation set results\n",
      "RMSE = 0.7141039799257112\t Q^2 = 0.6430208161103215\n"
     ]
    }
   ],
   "source": [
    "cols = []\n",
    "for i in range(X_new.shape[1]):\n",
    "    cols.append('comp'+str(i+1))\n",
    "X_new = pd.DataFrame(data=X_new,columns=cols)\n",
    "X_new['pChemBL'] = y\n",
    "X_train, X_test, X_validate, y_train, y_test, y_validate = split_data(X_new)\n",
    "model = train_RFR(X_train, X_test, X_validate, y_train, y_test, y_validate)"
   ]
  },
  {
   "cell_type": "markdown",
   "metadata": {},
   "source": [
    "<h3>RFECV 452"
   ]
  },
  {
   "cell_type": "code",
   "execution_count": 9,
   "metadata": {},
   "outputs": [
    {
     "name": "stdout",
     "output_type": "stream",
     "text": [
      "Training set results:\n",
      "RMSE = 0.27578056281743857\t R^2 = 0.9427413001587287\n",
      "Test set results\n",
      "RMSE = 0.7044532192594573\t Q^2 = 0.6390706145187659\n",
      "Validation set results\n",
      "RMSE = 0.7003509714774089\t Q^2 = 0.6585269884225984\n"
     ]
    }
   ],
   "source": [
    "from sklearn.feature_selection import RFECV\n",
    "reg = RandomForestRegressor()\n",
    "select = RFECV(reg,step =50,n_jobs=-1,min_features_to_select= 50,verbose=1)\n",
    "select.fit(X,y)\n",
    "X_new = select.transform(X)\n",
    "cols = []\n",
    "for i in range(X_new.shape[1]):\n",
    "    cols.append('comp'+str(i+1))\n",
    "X_red = pd.DataFrame(data=X_new, columns=cols)\n",
    "X_red['pChemBL'] = y\n",
    "X_train, X_test, X_validate, y_train, y_test, y_validate = split_data(X_red)\n",
    "RFR = train_RFR(X_train, X_test, X_validate, y_train, y_test, y_validate)"
   ]
  },
  {
   "cell_type": "code",
   "execution_count": 42,
   "metadata": {},
   "outputs": [
    {
     "data": {
      "text/plain": [
       "(2861, 452)"
      ]
     },
     "execution_count": 42,
     "metadata": {},
     "output_type": "execute_result"
    }
   ],
   "source": [
    "X_red.shape"
   ]
  },
  {
   "cell_type": "markdown",
   "metadata": {},
   "source": [
    "<h3>RFECV452+SKB"
   ]
  },
  {
   "cell_type": "code",
   "execution_count": 44,
   "metadata": {},
   "outputs": [],
   "source": [
    "from sklearn.feature_selection import SelectKBest, mutual_info_regression, RFECV\n",
    "#X_red.drop(columns='pChemBL',inplace=True)\n",
    "selector = SelectKBest(mutual_info_regression, k=50)\n",
    "X_new = selector.fit_transform(X_red, y)\n",
    "cols = model.get_support(indices=True)\n",
    "gc = []\n",
    "all_columns = X.columns\n",
    "cols = selector.get_support(indices=True)\n",
    "for i in range(len(all_columns)):\n",
    "    if i in cols:\n",
    "        gc.append(all_columns[i])\n",
    "X_red1 = pd.DataFrame(data=X_new, columns=gc)\n",
    "X_red1['pChemBL'] = y\n",
    "X_red1.to_csv('./data/RFEandSKB.csv',index=False)"
   ]
  },
  {
   "cell_type": "code",
   "execution_count": 45,
   "metadata": {},
   "outputs": [
    {
     "data": {
      "text/plain": [
       "(2861, 451)"
      ]
     },
     "execution_count": 45,
     "metadata": {},
     "output_type": "execute_result"
    }
   ],
   "source": [
    "X_red.shape"
   ]
  },
  {
   "cell_type": "code",
   "execution_count": null,
   "metadata": {},
   "outputs": [],
   "source": [
    "X_train, X_test, X_validate, y_train, y_test, y_validate = split_data(X_red1)\n",
    "RFR = train_RFR(X_train, X_test, X_validate, y_train, y_test, y_validate)"
   ]
  },
  {
   "cell_type": "markdown",
   "metadata": {},
   "source": [
    "<h3> ExtraTrees + SelectFromModel"
   ]
  },
  {
   "cell_type": "code",
   "execution_count": 20,
   "metadata": {},
   "outputs": [
    {
     "name": "stdout",
     "output_type": "stream",
     "text": [
      "Training set results:\n",
      "RMSE = 0.2735181700236474\t R^2 = 0.9451619774615067\n",
      "Test set results\n",
      "RMSE = 0.7119150691432141\t Q^2 = 0.6507601078202636\n",
      "Validation set results\n",
      "RMSE = 0.6681760434719178\t Q^2 = 0.6439455262898088\n"
     ]
    }
   ],
   "source": [
    "from sklearn.ensemble import ExtraTreesRegressor\n",
    "reg = ExtraTreesRegressor(n_estimators=150)\n",
    "reg = reg.fit(X_red, y)\n",
    "model = SelectFromModel(reg, prefit=True)\n",
    "X_new = model.transform(X_red)\n",
    "X_new.shape               \n",
    "cols = []\n",
    "for i in range(X_new.shape[1]):\n",
    "    cols.append('comp'+str(i+1))\n",
    "X_new = pd.DataFrame(data=X_new,columns=cols)\n",
    "X_new['pChemBL'] = y\n",
    "X_train, X_test, X_validate, y_train, y_test, y_validate = split_data(X_new)\n",
    "model = train_RFR(X_train, X_test, X_validate, y_train, y_test, y_validate)"
   ]
  },
  {
   "cell_type": "code",
   "execution_count": 21,
   "metadata": {},
   "outputs": [
    {
     "data": {
      "text/plain": [
       "(1830, 65)"
      ]
     },
     "execution_count": 21,
     "metadata": {},
     "output_type": "execute_result"
    }
   ],
   "source": [
    "X_train.shape"
   ]
  },
  {
   "cell_type": "code",
   "execution_count": 47,
   "metadata": {},
   "outputs": [
    {
     "data": {
      "text/plain": [
       "Index(['comp1', 'comp2', 'comp3', 'comp4', 'comp5', 'comp6', 'comp7', 'comp8',\n",
       "       'comp9', 'comp10',\n",
       "       ...\n",
       "       'comp442', 'comp443', 'comp444', 'comp445', 'comp446', 'comp447',\n",
       "       'comp448', 'comp449', 'comp450', 'comp451'],\n",
       "      dtype='object', length=451)"
      ]
     },
     "execution_count": 47,
     "metadata": {},
     "output_type": "execute_result"
    }
   ],
   "source": [
    "X_red.columns"
   ]
  },
  {
   "cell_type": "code",
   "execution_count": 46,
   "metadata": {},
   "outputs": [],
   "source": [
    "from sklearn.ensemble import ExtraTreesRegressor\n",
    "reg = ExtraTreesRegressor(n_estimators=150)\n",
    "reg = reg.fit(X_red, y)"
   ]
  },
  {
   "cell_type": "code",
   "execution_count": 48,
   "metadata": {},
   "outputs": [],
   "source": [
    "from sklearn.feature_selection import SelectFromModel\n",
    "model = SelectFromModel(reg, prefit=True)\n",
    "X_new = model.transform(X_red)\n",
    "X_new.shape               \n",
    "cols = X.columns\n",
    "gc = []\n",
    "for i in range(len(X.columns)):\n",
    "    if i in model.get_support(indices=True):\n",
    "        gc.append(X.columns[i])\n",
    "X_new = pd.DataFrame(data=X_new,columns=gc)\n",
    "X_new['pChemBL'] = y"
   ]
  },
  {
   "cell_type": "code",
   "execution_count": 49,
   "metadata": {},
   "outputs": [
    {
     "name": "stdout",
     "output_type": "stream",
     "text": [
      "Training set results:\n",
      "RMSE = 0.26620189658995014\t R^2 = 0.9466377526514312\n",
      "Test set results\n",
      "RMSE = 0.6997386217377103\t Q^2 = 0.6386748895352093\n",
      "Validation set results\n",
      "RMSE = 0.6915037896285295\t Q^2 = 0.6709559035888681\n"
     ]
    }
   ],
   "source": [
    "X_train, X_test, X_validate, y_train, y_test, y_validate = split_data(X_new)\n",
    "RFR = train_RFR(X_train, X_test, X_validate, y_train, y_test, y_validate)"
   ]
  },
  {
   "cell_type": "code",
   "execution_count": 51,
   "metadata": {},
   "outputs": [
    {
     "data": {
      "text/html": [
       "<div>\n",
       "<style scoped>\n",
       "    .dataframe tbody tr th:only-of-type {\n",
       "        vertical-align: middle;\n",
       "    }\n",
       "\n",
       "    .dataframe tbody tr th {\n",
       "        vertical-align: top;\n",
       "    }\n",
       "\n",
       "    .dataframe thead th {\n",
       "        text-align: right;\n",
       "    }\n",
       "</style>\n",
       "<table border=\"1\" class=\"dataframe\">\n",
       "  <thead>\n",
       "    <tr style=\"text-align: right;\">\n",
       "      <th></th>\n",
       "      <th>nN</th>\n",
       "      <th>ATSC3c</th>\n",
       "      <th>AATSC2v</th>\n",
       "      <th>AATSC2p</th>\n",
       "      <th>AATSC3i</th>\n",
       "      <th>AATSC8s</th>\n",
       "      <th>MATS2c</th>\n",
       "      <th>MATS2v</th>\n",
       "      <th>MATS2p</th>\n",
       "      <th>MATS3i</th>\n",
       "      <th>...</th>\n",
       "      <th>topoRadius</th>\n",
       "      <th>topoDiameter</th>\n",
       "      <th>GGI5</th>\n",
       "      <th>VE1_D</th>\n",
       "      <th>VE2_D</th>\n",
       "      <th>MWC8</th>\n",
       "      <th>MWC9</th>\n",
       "      <th>MWC10</th>\n",
       "      <th>XLogP</th>\n",
       "      <th>pChemBL</th>\n",
       "    </tr>\n",
       "  </thead>\n",
       "  <tbody>\n",
       "    <tr>\n",
       "      <th>0</th>\n",
       "      <td>5.0</td>\n",
       "      <td>-0.145569</td>\n",
       "      <td>6.520842</td>\n",
       "      <td>0.033282</td>\n",
       "      <td>-0.192045</td>\n",
       "      <td>0.005802</td>\n",
       "      <td>-0.043265</td>\n",
       "      <td>0.133123</td>\n",
       "      <td>0.151351</td>\n",
       "      <td>-0.129099</td>\n",
       "      <td>...</td>\n",
       "      <td>7.0</td>\n",
       "      <td>14.0</td>\n",
       "      <td>1.298611</td>\n",
       "      <td>0.179965</td>\n",
       "      <td>0.005293</td>\n",
       "      <td>10.570162</td>\n",
       "      <td>11.469569</td>\n",
       "      <td>12.376806</td>\n",
       "      <td>2.188</td>\n",
       "      <td>6.82</td>\n",
       "    </tr>\n",
       "    <tr>\n",
       "      <th>1</th>\n",
       "      <td>5.0</td>\n",
       "      <td>-0.052259</td>\n",
       "      <td>-1.311602</td>\n",
       "      <td>-0.006195</td>\n",
       "      <td>-0.119898</td>\n",
       "      <td>-0.028528</td>\n",
       "      <td>0.117528</td>\n",
       "      <td>-0.026376</td>\n",
       "      <td>-0.027534</td>\n",
       "      <td>-0.072937</td>\n",
       "      <td>...</td>\n",
       "      <td>7.0</td>\n",
       "      <td>14.0</td>\n",
       "      <td>1.350833</td>\n",
       "      <td>0.207667</td>\n",
       "      <td>0.006699</td>\n",
       "      <td>10.698763</td>\n",
       "      <td>11.619904</td>\n",
       "      <td>12.547891</td>\n",
       "      <td>6.575</td>\n",
       "      <td>7.64</td>\n",
       "    </tr>\n",
       "    <tr>\n",
       "      <th>2</th>\n",
       "      <td>7.0</td>\n",
       "      <td>0.078087</td>\n",
       "      <td>-4.401278</td>\n",
       "      <td>-0.004569</td>\n",
       "      <td>-0.280655</td>\n",
       "      <td>-0.112216</td>\n",
       "      <td>0.142885</td>\n",
       "      <td>-0.097913</td>\n",
       "      <td>-0.020252</td>\n",
       "      <td>-0.099931</td>\n",
       "      <td>...</td>\n",
       "      <td>10.0</td>\n",
       "      <td>19.0</td>\n",
       "      <td>1.187500</td>\n",
       "      <td>0.111470</td>\n",
       "      <td>0.003013</td>\n",
       "      <td>10.503450</td>\n",
       "      <td>11.374020</td>\n",
       "      <td>12.259002</td>\n",
       "      <td>5.589</td>\n",
       "      <td>4.30</td>\n",
       "    </tr>\n",
       "    <tr>\n",
       "      <th>3</th>\n",
       "      <td>15.0</td>\n",
       "      <td>0.515464</td>\n",
       "      <td>-4.768215</td>\n",
       "      <td>-0.028557</td>\n",
       "      <td>0.088748</td>\n",
       "      <td>0.336153</td>\n",
       "      <td>0.157322</td>\n",
       "      <td>-0.103900</td>\n",
       "      <td>-0.144668</td>\n",
       "      <td>0.063773</td>\n",
       "      <td>...</td>\n",
       "      <td>14.0</td>\n",
       "      <td>28.0</td>\n",
       "      <td>2.475833</td>\n",
       "      <td>0.107781</td>\n",
       "      <td>0.001684</td>\n",
       "      <td>10.727553</td>\n",
       "      <td>11.575609</td>\n",
       "      <td>12.430979</td>\n",
       "      <td>-0.194</td>\n",
       "      <td>6.03</td>\n",
       "    </tr>\n",
       "    <tr>\n",
       "      <th>4</th>\n",
       "      <td>1.0</td>\n",
       "      <td>-0.234616</td>\n",
       "      <td>1.831454</td>\n",
       "      <td>-0.000231</td>\n",
       "      <td>-0.152061</td>\n",
       "      <td>0.027539</td>\n",
       "      <td>-0.058844</td>\n",
       "      <td>0.038389</td>\n",
       "      <td>-0.000993</td>\n",
       "      <td>-0.105832</td>\n",
       "      <td>...</td>\n",
       "      <td>6.0</td>\n",
       "      <td>12.0</td>\n",
       "      <td>1.174722</td>\n",
       "      <td>0.074599</td>\n",
       "      <td>0.002487</td>\n",
       "      <td>10.612139</td>\n",
       "      <td>11.533502</td>\n",
       "      <td>12.463822</td>\n",
       "      <td>4.844</td>\n",
       "      <td>6.42</td>\n",
       "    </tr>\n",
       "  </tbody>\n",
       "</table>\n",
       "<p>5 rows × 133 columns</p>\n",
       "</div>"
      ],
      "text/plain": [
       "     nN    ATSC3c   AATSC2v   AATSC2p   AATSC3i   AATSC8s    MATS2c    MATS2v  \\\n",
       "0   5.0 -0.145569  6.520842  0.033282 -0.192045  0.005802 -0.043265  0.133123   \n",
       "1   5.0 -0.052259 -1.311602 -0.006195 -0.119898 -0.028528  0.117528 -0.026376   \n",
       "2   7.0  0.078087 -4.401278 -0.004569 -0.280655 -0.112216  0.142885 -0.097913   \n",
       "3  15.0  0.515464 -4.768215 -0.028557  0.088748  0.336153  0.157322 -0.103900   \n",
       "4   1.0 -0.234616  1.831454 -0.000231 -0.152061  0.027539 -0.058844  0.038389   \n",
       "\n",
       "     MATS2p    MATS3i  ...  topoRadius  topoDiameter      GGI5     VE1_D  \\\n",
       "0  0.151351 -0.129099  ...         7.0          14.0  1.298611  0.179965   \n",
       "1 -0.027534 -0.072937  ...         7.0          14.0  1.350833  0.207667   \n",
       "2 -0.020252 -0.099931  ...        10.0          19.0  1.187500  0.111470   \n",
       "3 -0.144668  0.063773  ...        14.0          28.0  2.475833  0.107781   \n",
       "4 -0.000993 -0.105832  ...         6.0          12.0  1.174722  0.074599   \n",
       "\n",
       "      VE2_D       MWC8       MWC9      MWC10  XLogP  pChemBL  \n",
       "0  0.005293  10.570162  11.469569  12.376806  2.188     6.82  \n",
       "1  0.006699  10.698763  11.619904  12.547891  6.575     7.64  \n",
       "2  0.003013  10.503450  11.374020  12.259002  5.589     4.30  \n",
       "3  0.001684  10.727553  11.575609  12.430979 -0.194     6.03  \n",
       "4  0.002487  10.612139  11.533502  12.463822  4.844     6.42  \n",
       "\n",
       "[5 rows x 133 columns]"
      ]
     },
     "execution_count": 51,
     "metadata": {},
     "output_type": "execute_result"
    }
   ],
   "source": [
    "X_new.head()"
   ]
  },
  {
   "cell_type": "code",
   "execution_count": 52,
   "metadata": {},
   "outputs": [],
   "source": [
    "X_new.to_csv('./data/SFM452.csv',index=False)"
   ]
  },
  {
   "cell_type": "code",
   "execution_count": null,
   "metadata": {},
   "outputs": [],
   "source": []
  }
 ],
 "metadata": {
  "kernelspec": {
   "display_name": "Python 3",
   "language": "python",
   "name": "python3"
  },
  "language_info": {
   "codemirror_mode": {
    "name": "ipython",
    "version": 3
   },
   "file_extension": ".py",
   "mimetype": "text/x-python",
   "name": "python",
   "nbconvert_exporter": "python",
   "pygments_lexer": "ipython3",
   "version": "3.7.3"
  }
 },
 "nbformat": 4,
 "nbformat_minor": 2
}
